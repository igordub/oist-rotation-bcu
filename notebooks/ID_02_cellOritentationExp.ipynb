{
 "cells": [
  {
   "cell_type": "markdown",
   "metadata": {},
   "source": [
    "# Analysis of experimental bacterial cell oritetation in microchannels\n",
    "Analyse cell oritentation distribution in microchannels from the experiment [1].\n",
    "\n",
    "## Purpose\n",
    "Compare simualtion and experimental cell oritentation data to calibrate simulation parameters.\n",
    "\n",
    "## Methodology\n",
    "1. Read experimental data from `data/Ecoli_in_microchannels_EXPER_DATA/*_wid_len_orient_EXP.txt` as a string.\n",
    "2. Strip string characters and convert the string array into a numerical array.\n",
    "3. Save `orient` data from files into dictionary.\n",
    "4. Plot cell oritentation histogram for each file.\n",
    "\n",
    "### Filename explanation\n",
    "Example: `4X9_20200609_15_01ch_wid_len_orient_EXP.txt`\n",
    "- `4X9` ... average number of cells in a channel (height and width)\n",
    "- `20200609` ... date of recording\n",
    "- `15` ... ???\n",
    "- `01ch` ... channel number\n",
    "- `wid_len_orient` ... calculated variable(s)\n",
    "- `EXP` ... experimantal\n",
    "\n",
    "### File structure\n",
    "Each `wid_len_orient` file contains three lines: width, length and orientation.\n",
    "``` \n",
    "width = [5.60917, 5.787379, 4.9629235, ...]\n",
    "length = [13.823369, 33.754707, 17.643686, ...]\n",
    "orient = [75.4713, 102.6692, 94.99006, ...]   \n",
    "```\n",
    "All arrays have the same length that equals number of all cells tracked in the course of the experiment/imaging.  \n",
    "\n",
    "To find total time of imaging use `uniq_numb` file for the same experiment. Firstly, find the length of the `num_uniq` 1D array. Then, multiply the lenght by 3 mins, rate of imaging.\n",
    "\n",
    "## WIP - improvements\n",
    "Use this section only if the notebook is not final.\n",
    "\n",
    "## Notable TODOs:\n",
    "\n",
    "- Plot oritentation histogram for each simulation step.\n",
    "- Use `plotly` to visualize multiple steps in one figure.\n",
    "\n",
    "## Results\n",
    "A single files that has been analyzed has a normal distribution of angles.\n",
    "\n",
    "## Suggested next steps\n",
    "- Compare experimetal and simualtion data plots"
   ]
  },
  {
   "cell_type": "markdown",
   "metadata": {},
   "source": [
    "# Setup\n",
    "## Library import"
   ]
  },
  {
   "cell_type": "code",
   "execution_count": 24,
   "metadata": {},
   "outputs": [],
   "source": [
    "import os\n",
    "from os.path import join as join_paths, basename as get_basename\n",
    "import glob\n",
    "\n",
    "import numpy as np\n",
    "from scipy.stats import gaussian_kde\n",
    "\n",
    "from matplotlib import pyplot as plt\n",
    "%matplotlib inline\n",
    "import plotly.express as px"
   ]
  },
  {
   "cell_type": "code",
   "execution_count": 2,
   "metadata": {},
   "outputs": [
    {
     "data": {
      "text/plain": [
       "'/home/i/igors-dubanevics/projects/bacteria-microchannel'"
      ]
     },
     "execution_count": 2,
     "metadata": {},
     "output_type": "execute_result"
    }
   ],
   "source": [
    "os.chdir(\"/home/i/igors-dubanevics/projects/bacteria-microchannel\")\n",
    "os.getcwd()"
   ]
  },
  {
   "cell_type": "markdown",
   "metadata": {},
   "source": [
    "## Parameter definition"
   ]
  },
  {
   "cell_type": "code",
   "execution_count": 3,
   "metadata": {},
   "outputs": [],
   "source": [
    "data_dir_path = \"data/Ecoli_in_microchannels_EXPER_DATA\"\n",
    "\n",
    "out_dir_path = join_paths(\"scratch\", get_basename(data_dir_path))\n",
    "\n",
    "dt = 3.0 # [min]"
   ]
  },
  {
   "cell_type": "markdown",
   "metadata": {},
   "source": [
    "## Pre-data import"
   ]
  },
  {
   "cell_type": "code",
   "execution_count": 4,
   "metadata": {},
   "outputs": [],
   "source": [
    "# Create output dir\n",
    "os.makedirs(out_dir_path, exist_ok=True)"
   ]
  },
  {
   "cell_type": "markdown",
   "metadata": {},
   "source": [
    "## Data import"
   ]
  },
  {
   "cell_type": "code",
   "execution_count": 5,
   "metadata": {},
   "outputs": [],
   "source": [
    "# Store data in a dictionary of form {step_number: cell_state}\n",
    "orients = {}\n",
    "\n",
    "# Get data from saved pickle files\n",
    "# filenames = sorted(glob.glob(join_paths(data_dir_path, '*_wid_len_orient_EXP.txt')))\n",
    "filenames = sorted(glob.glob(join_paths(data_dir_path, '4X9_20200609_9_01ch_wid_len_orient_EXP.txt')))\n",
    "\n",
    "for filename in filenames:\n",
    "    name_vars = get_basename(filename).replace(\"_wid_len_orient_EXP.txt\",\"\").split(\"_\")\n",
    "    # Extract height and width in cells\n",
    "    (height, width) = [int(x) for x in name_vars[0].split('X')]\n",
    "    # Date\n",
    "    date = name_vars[1]\n",
    "    # Channel name\n",
    "    if len(name_vars[2:]) > 1:\n",
    "        channel_name = '_'.join(name_vars[2:])\n",
    "    else:\n",
    "        channel_name = name_vars[2]\n",
    "\n",
    "    data = np.loadtxt(filename, skiprows=2, dtype=str)"
   ]
  },
  {
   "cell_type": "code",
   "execution_count": 6,
   "metadata": {},
   "outputs": [],
   "source": [
    "angles = ''.join(data)\n",
    "for string in [\"orient=[\",\"]\"]:\n",
    "    angles = ''.join(angles).replace(string,'')\n",
    "angles = np.fromstring(angles, dtype=float, sep=',')\n",
    "# Align orientation parallely to channel length (shift by -90 deg)\n",
    "angles = angles - 90 "
   ]
  },
  {
   "cell_type": "code",
   "execution_count": 7,
   "metadata": {},
   "outputs": [],
   "source": [
    "filenames = sorted(glob.glob(join_paths(data_dir_path, '4X9_20200609_9_01ch_numb_uniq_EXP.txt')))\n",
    "\n",
    "for filename in filenames:\n",
    "    name_vars = get_basename(filename).replace(\"_numb_uniq_EXP.txt\",\"\").split(\"_\")\n",
    "    # Extract height and width in cells\n",
    "    (height, width) = [int(x) for x in name_vars[0].split('X')]\n",
    "    # Date\n",
    "    date = name_vars[1]\n",
    "    # Channel name\n",
    "    if len(name_vars[2:]) > 1:\n",
    "        channel_name = '_'.join(name_vars[2:])\n",
    "    else:\n",
    "        channel_name = name_vars[2]\n",
    "\n",
    "    data = np.loadtxt(filename, skiprows=0, dtype=str)"
   ]
  },
  {
   "cell_type": "code",
   "execution_count": 8,
   "metadata": {},
   "outputs": [
    {
     "name": "stdout",
     "output_type": "stream",
     "text": [
      "Overall time: 465.0 min\n"
     ]
    }
   ],
   "source": [
    "frames = ''.join(data)\n",
    "for string in [\"num_uniq=[\",\"]\"]:\n",
    "    frames = ''.join(frames).replace(string,'')\n",
    "frames = np.fromstring(frames, dtype=float, sep=',')\n",
    "# Calculate total imaging time\n",
    "time = len(frames) * dt\n",
    "print(\"Overall time: {} min\".format(time))"
   ]
  },
  {
   "cell_type": "markdown",
   "metadata": {},
   "source": [
    "## Data processing"
   ]
  },
  {
   "cell_type": "code",
   "execution_count": 25,
   "metadata": {},
   "outputs": [],
   "source": [
    "# Perform Kernel Desity Estimation (KDE)\n",
    "kde = gaussian_kde(angles, bw_method='scott', weights=None)"
   ]
  },
  {
   "cell_type": "code",
   "execution_count": 31,
   "metadata": {},
   "outputs": [
    {
     "data": {
      "text/plain": [
       "array([1.21853613e-04, 1.73901140e-04, 2.10962782e-04, 2.15066121e-04,\n",
       "       1.83032567e-04, 1.41305459e-04, 1.21174716e-04, 1.31358926e-04,\n",
       "       1.63668203e-04, 2.07494957e-04, 2.55465512e-04, 3.02596039e-04,\n",
       "       3.44998513e-04, 3.84154113e-04, 4.25229078e-04, 4.68564503e-04,\n",
       "       5.09688702e-04, 5.36844855e-04, 5.43075457e-04, 5.51665471e-04,\n",
       "       5.90203848e-04, 6.51760481e-04, 7.24671466e-04, 8.28062094e-04,\n",
       "       9.74586922e-04, 1.13051920e-03, 1.24785586e-03, 1.32077031e-03,\n",
       "       1.42381249e-03, 1.68134791e-03, 2.13944418e-03, 2.70443894e-03,\n",
       "       3.23647104e-03, 3.68545969e-03, 4.17588151e-03, 4.86742278e-03,\n",
       "       5.64200678e-03, 6.21800218e-03, 6.63525539e-03, 7.18772391e-03,\n",
       "       7.96945340e-03, 8.96285228e-03, 1.03783155e-02, 1.25601143e-02,\n",
       "       1.58489191e-02, 2.07166653e-02, 2.75942104e-02, 3.61567443e-02,\n",
       "       4.46432548e-02, 5.00234522e-02, 4.96850492e-02, 4.36518611e-02,\n",
       "       3.46407646e-02, 2.57361732e-02, 1.85994759e-02, 1.35306622e-02,\n",
       "       1.01677813e-02, 7.95240174e-03, 6.40984514e-03, 5.29919049e-03,\n",
       "       4.56762858e-03, 4.14486760e-03, 3.81886322e-03, 3.39029864e-03,\n",
       "       2.88356352e-03, 2.46266535e-03, 2.19133382e-03, 1.99371725e-03,\n",
       "       1.79530089e-03, 1.59248527e-03, 1.40180970e-03, 1.22281879e-03,\n",
       "       1.04348480e-03, 8.41632026e-04, 6.07637382e-04, 3.81925024e-04,\n",
       "       2.23298983e-04, 1.39695687e-04, 9.36814498e-05, 5.77556184e-05,\n",
       "       3.29549489e-05, 2.84104760e-05, 4.06748988e-05, 5.13167221e-05,\n",
       "       4.49181874e-05, 2.63028413e-05, 1.02671784e-05, 2.79308455e-06,\n",
       "       1.39205188e-06, 4.46788398e-06, 1.41857355e-05, 3.11882188e-05,\n",
       "       4.79307884e-05, 5.55229237e-05, 6.22867614e-05, 9.27850216e-05,\n",
       "       1.55818625e-04, 2.17983488e-04, 2.26522845e-04, 1.68854572e-04])"
      ]
     },
     "execution_count": 31,
     "metadata": {},
     "output_type": "execute_result"
    }
   ],
   "source": [
    "x_grid = np.linspace(-90,90,100)\n",
    "kde.evaluate(x_grid)"
   ]
  },
  {
   "cell_type": "code",
   "execution_count": 37,
   "metadata": {},
   "outputs": [
    {
     "data": {
      "image/png": "[encoded data removed]",
      "image/svg+xml": "<?xml version=\"1.0\" encoding=\"utf-8\" standalone=\"no\"?>\n<!DOCTYPE svg PUBLIC \"-//W3C//DTD SVG 1.1//EN\"\n  \"http://www.w3.org/Graphics/SVG/1.1/DTD/svg11.dtd\">\n<svg xmlns:xlink=\"http://www.w3.org/1999/xlink\" width=\"333.165625pt\" height=\"255.63625pt\" viewBox=\"0 0 333.165625 255.63625\" xmlns=\"http://www.w3.org/2000/svg\" version=\"1.1\">\n <metadata>\n  <rdf:RDF xmlns:dc=\"http://purl.org/dc/elements/1.1/\" xmlns:cc=\"http://creativecommons.org/ns#\" xmlns:rdf=\"http://www.w3.org/1999/02/22-rdf-syntax-ns#\">\n   <cc:Work>\n    <dc:type rdf:resource=\"http://purl.org/dc/dcmitype/StillImage\"/>\n    <dc:date>2022-11-28T16:24:18.542717</dc:date>\n    <dc:format>image/svg+xml</dc:format>\n    <dc:creator>\n     <cc:Agent>\n      <dc:title>Matplotlib v3.6.1, https://matplotlib.org/</dc:title>\n     </cc:Agent>\n    </dc:creator>\n   </cc:Work>\n  </rdf:RDF>\n </metadata>\n <defs>\n  <style type=\"text/css\">*{stroke-linejoin: round; stroke-linecap: butt}</style>\n </defs>\n <g id=\"figure_1\">\n  <g id=\"patch_1\">\n   <path d=\"M 0 255.63625 \nL 333.165625 255.63625 \nL 333.165625 0 \nL 0 0 \nz\n\" style=\"fill: #ffffff\"/>\n  </g>\n  <g id=\"axes_1\">\n   <g id=\"patch_2\">\n    <path d=\"M 46.965625 216.358125 \nL 325.965625 216.358125 \nL 325.965625 22.318125 \nL 46.965625 22.318125 \nz\n\" style=\"fill: #ffffff\"/>\n   </g>\n   <g id=\"patch_3\">\n    <path d=\"M 59.647443 216.358125 \nL 62.465625 216.358125 \nL 62.465625 215.562716 \nL 59.647443 215.562716 \nz\n\" clip-path=\"url(#pacb90869ef)\" style=\"fill: #808080; stroke: #000000; stroke-linejoin: miter\"/>\n   </g>\n   <g id=\"patch_4\">\n    <path d=\"M 62.465625 216.358125 \nL 65.283807 216.358125 \nL 65.283807 215.827852 \nL 62.465625 215.827852 \nz\n\" clip-path=\"url(#pacb90869ef)\" style=\"fill: #808080; stroke: #000000; stroke-linejoin: miter\"/>\n   </g>\n   <g id=\"patch_5\">\n    <path d=\"M 65.283807 216.358125 \nL 68.101989 216.358125 \nL 68.101989 215.29758 \nL 65.283807 215.29758 \nz\n\" clip-path=\"url(#pacb90869ef)\" style=\"fill: #808080; stroke: #000000; stroke-linejoin: miter\"/>\n   </g>\n   <g id=\"patch_6\">\n    <path d=\"M 68.101989 216.358125 \nL 70.92017 216.358125 \nL 70.92017 215.827852 \nL 68.101989 215.827852 \nz\n\" clip-path=\"url(#pacb90869ef)\" style=\"fill: #808080; stroke: #000000; stroke-linejoin: miter\"/>\n   </g>\n   <g id=\"patch_7\">\n    <path d=\"M 70.92017 216.358125 \nL 73.738352 216.358125 \nL 73.738352 216.092989 \nL 70.92017 216.092989 \nz\n\" clip-path=\"url(#pacb90869ef)\" style=\"fill: #808080; stroke: #000000; stroke-linejoin: miter\"/>\n   </g>\n   <g id=\"patch_8\">\n    <path d=\"M 73.738352 216.358125 \nL 76.556534 216.358125 \nL 76.556534 216.092989 \nL 73.738352 216.092989 \nz\n\" clip-path=\"url(#pacb90869ef)\" style=\"fill: #808080; stroke: #000000; stroke-linejoin: miter\"/>\n   </g>\n   <g id=\"patch_9\">\n    <path d=\"M 76.556534 216.358125 \nL 79.374716 216.358125 \nL 79.374716 216.092989 \nL 76.556534 216.092989 \nz\n\" clip-path=\"url(#pacb90869ef)\" style=\"fill: #808080; stroke: #000000; stroke-linejoin: miter\"/>\n   </g>\n   <g id=\"patch_10\">\n    <path d=\"M 79.374716 216.358125 \nL 82.192898 216.358125 \nL 82.192898 215.827852 \nL 79.374716 215.827852 \nz\n\" clip-path=\"url(#pacb90869ef)\" style=\"fill: #808080; stroke: #000000; stroke-linejoin: miter\"/>\n   </g>\n   <g id=\"patch_11\">\n    <path d=\"M 82.192898 216.358125 \nL 85.01108 216.358125 \nL 85.01108 216.092989 \nL 82.192898 216.092989 \nz\n\" clip-path=\"url(#pacb90869ef)\" style=\"fill: #808080; stroke: #000000; stroke-linejoin: miter\"/>\n   </g>\n   <g id=\"patch_12\">\n    <path d=\"M 85.01108 216.358125 \nL 87.829261 216.358125 \nL 87.829261 215.29758 \nL 85.01108 215.29758 \nz\n\" clip-path=\"url(#pacb90869ef)\" style=\"fill: #808080; stroke: #000000; stroke-linejoin: miter\"/>\n   </g>\n   <g id=\"patch_13\">\n    <path d=\"M 87.829261 216.358125 \nL 90.647443 216.358125 \nL 90.647443 215.29758 \nL 87.829261 215.29758 \nz\n\" clip-path=\"url(#pacb90869ef)\" style=\"fill: #808080; stroke: #000000; stroke-linejoin: miter\"/>\n   </g>\n   <g id=\"patch_14\">\n    <path d=\"M 90.647443 216.358125 \nL 93.465625 216.358125 \nL 93.465625 215.29758 \nL 90.647443 215.29758 \nz\n\" clip-path=\"url(#pacb90869ef)\" style=\"fill: #808080; stroke: #000000; stroke-linejoin: miter\"/>\n   </g>\n   <g id=\"patch_15\">\n    <path d=\"M 93.465625 216.358125 \nL 96.283807 216.358125 \nL 96.283807 215.827852 \nL 93.465625 215.827852 \nz\n\" clip-path=\"url(#pacb90869ef)\" style=\"fill: #808080; stroke: #000000; stroke-linejoin: miter\"/>\n   </g>\n   <g id=\"patch_16\">\n    <path d=\"M 96.283807 216.358125 \nL 99.101989 216.358125 \nL 99.101989 214.237035 \nL 96.283807 214.237035 \nz\n\" clip-path=\"url(#pacb90869ef)\" style=\"fill: #808080; stroke: #000000; stroke-linejoin: miter\"/>\n   </g>\n   <g id=\"patch_17\">\n    <path d=\"M 99.101989 216.358125 \nL 101.92017 216.358125 \nL 101.92017 215.562716 \nL 99.101989 215.562716 \nz\n\" clip-path=\"url(#pacb90869ef)\" style=\"fill: #808080; stroke: #000000; stroke-linejoin: miter\"/>\n   </g>\n   <g id=\"patch_18\">\n    <path d=\"M 101.92017 216.358125 \nL 104.738352 216.358125 \nL 104.738352 213.971898 \nL 101.92017 213.971898 \nz\n\" clip-path=\"url(#pacb90869ef)\" style=\"fill: #808080; stroke: #000000; stroke-linejoin: miter\"/>\n   </g>\n   <g id=\"patch_19\">\n    <path d=\"M 104.738352 216.358125 \nL 107.556534 216.358125 \nL 107.556534 215.032444 \nL 104.738352 215.032444 \nz\n\" clip-path=\"url(#pacb90869ef)\" style=\"fill: #808080; stroke: #000000; stroke-linejoin: miter\"/>\n   </g>\n   <g id=\"patch_20\">\n    <path d=\"M 107.556534 216.358125 \nL 110.374716 216.358125 \nL 110.374716 215.032444 \nL 107.556534 215.032444 \nz\n\" clip-path=\"url(#pacb90869ef)\" style=\"fill: #808080; stroke: #000000; stroke-linejoin: miter\"/>\n   </g>\n   <g id=\"patch_21\">\n    <path d=\"M 110.374716 216.358125 \nL 113.192898 216.358125 \nL 113.192898 214.502171 \nL 110.374716 214.502171 \nz\n\" clip-path=\"url(#pacb90869ef)\" style=\"fill: #808080; stroke: #000000; stroke-linejoin: miter\"/>\n   </g>\n   <g id=\"patch_22\">\n    <path d=\"M 113.192898 216.358125 \nL 116.01108 216.358125 \nL 116.01108 214.502171 \nL 113.192898 214.502171 \nz\n\" clip-path=\"url(#pacb90869ef)\" style=\"fill: #808080; stroke: #000000; stroke-linejoin: miter\"/>\n   </g>\n   <g id=\"patch_23\">\n    <path d=\"M 116.01108 216.358125 \nL 118.829261 216.358125 \nL 118.829261 214.502171 \nL 116.01108 214.502171 \nz\n\" clip-path=\"url(#pacb90869ef)\" style=\"fill: #808080; stroke: #000000; stroke-linejoin: miter\"/>\n   </g>\n   <g id=\"patch_24\">\n    <path d=\"M 118.829261 216.358125 \nL 121.647443 216.358125 \nL 121.647443 214.237035 \nL 118.829261 214.237035 \nz\n\" clip-path=\"url(#pacb90869ef)\" style=\"fill: #808080; stroke: #000000; stroke-linejoin: miter\"/>\n   </g>\n   <g id=\"patch_25\">\n    <path d=\"M 121.647443 216.358125 \nL 124.465625 216.358125 \nL 124.465625 211.850808 \nL 121.647443 211.850808 \nz\n\" clip-path=\"url(#pacb90869ef)\" style=\"fill: #808080; stroke: #000000; stroke-linejoin: miter\"/>\n   </g>\n   <g id=\"patch_26\">\n    <path d=\"M 124.465625 216.358125 \nL 127.283807 216.358125 \nL 127.283807 213.706762 \nL 124.465625 213.706762 \nz\n\" clip-path=\"url(#pacb90869ef)\" style=\"fill: #808080; stroke: #000000; stroke-linejoin: miter\"/>\n   </g>\n   <g id=\"patch_27\">\n    <path d=\"M 127.283807 216.358125 \nL 130.101989 216.358125 \nL 130.101989 211.850808 \nL 127.283807 211.850808 \nz\n\" clip-path=\"url(#pacb90869ef)\" style=\"fill: #808080; stroke: #000000; stroke-linejoin: miter\"/>\n   </g>\n   <g id=\"patch_28\">\n    <path d=\"M 130.101989 216.358125 \nL 132.92017 216.358125 \nL 132.92017 213.176489 \nL 130.101989 213.176489 \nz\n\" clip-path=\"url(#pacb90869ef)\" style=\"fill: #808080; stroke: #000000; stroke-linejoin: miter\"/>\n   </g>\n   <g id=\"patch_29\">\n    <path d=\"M 132.92017 216.358125 \nL 135.738352 216.358125 \nL 135.738352 213.441626 \nL 132.92017 213.441626 \nz\n\" clip-path=\"url(#pacb90869ef)\" style=\"fill: #808080; stroke: #000000; stroke-linejoin: miter\"/>\n   </g>\n   <g id=\"patch_30\">\n    <path d=\"M 135.738352 216.358125 \nL 138.556534 216.358125 \nL 138.556534 209.729718 \nL 135.738352 209.729718 \nz\n\" clip-path=\"url(#pacb90869ef)\" style=\"fill: #808080; stroke: #000000; stroke-linejoin: miter\"/>\n   </g>\n   <g id=\"patch_31\">\n    <path d=\"M 138.556534 216.358125 \nL 141.374716 216.358125 \nL 141.374716 207.608627 \nL 138.556534 207.608627 \nz\n\" clip-path=\"url(#pacb90869ef)\" style=\"fill: #808080; stroke: #000000; stroke-linejoin: miter\"/>\n   </g>\n   <g id=\"patch_32\">\n    <path d=\"M 141.374716 216.358125 \nL 144.192898 216.358125 \nL 144.192898 206.017809 \nL 141.374716 206.017809 \nz\n\" clip-path=\"url(#pacb90869ef)\" style=\"fill: #808080; stroke: #000000; stroke-linejoin: miter\"/>\n   </g>\n   <g id=\"patch_33\">\n    <path d=\"M 144.192898 216.358125 \nL 147.01108 216.358125 \nL 147.01108 203.896719 \nL 144.192898 203.896719 \nz\n\" clip-path=\"url(#pacb90869ef)\" style=\"fill: #808080; stroke: #000000; stroke-linejoin: miter\"/>\n   </g>\n   <g id=\"patch_34\">\n    <path d=\"M 147.01108 216.358125 \nL 149.829261 216.358125 \nL 149.829261 208.669172 \nL 147.01108 208.669172 \nz\n\" clip-path=\"url(#pacb90869ef)\" style=\"fill: #808080; stroke: #000000; stroke-linejoin: miter\"/>\n   </g>\n   <g id=\"patch_35\">\n    <path d=\"M 149.829261 216.358125 \nL 152.647443 216.358125 \nL 152.647443 199.124266 \nL 149.829261 199.124266 \nz\n\" clip-path=\"url(#pacb90869ef)\" style=\"fill: #808080; stroke: #000000; stroke-linejoin: miter\"/>\n   </g>\n   <g id=\"patch_36\">\n    <path d=\"M 152.647443 216.358125 \nL 155.465625 216.358125 \nL 155.465625 193.82154 \nL 152.647443 193.82154 \nz\n\" clip-path=\"url(#pacb90869ef)\" style=\"fill: #808080; stroke: #000000; stroke-linejoin: miter\"/>\n   </g>\n   <g id=\"patch_37\">\n    <path d=\"M 155.465625 216.358125 \nL 158.283807 216.358125 \nL 158.283807 202.305901 \nL 155.465625 202.305901 \nz\n\" clip-path=\"url(#pacb90869ef)\" style=\"fill: #808080; stroke: #000000; stroke-linejoin: miter\"/>\n   </g>\n   <g id=\"patch_38\">\n    <path d=\"M 158.283807 216.358125 \nL 161.101989 216.358125 \nL 161.101989 197.268312 \nL 158.283807 197.268312 \nz\n\" clip-path=\"url(#pacb90869ef)\" style=\"fill: #808080; stroke: #000000; stroke-linejoin: miter\"/>\n   </g>\n   <g id=\"patch_39\">\n    <path d=\"M 161.101989 216.358125 \nL 163.92017 216.358125 \nL 163.92017 190.374768 \nL 161.101989 190.374768 \nz\n\" clip-path=\"url(#pacb90869ef)\" style=\"fill: #808080; stroke: #000000; stroke-linejoin: miter\"/>\n   </g>\n   <g id=\"patch_40\">\n    <path d=\"M 163.92017 216.358125 \nL 166.738352 216.358125 \nL 166.738352 194.616949 \nL 163.92017 194.616949 \nz\n\" clip-path=\"url(#pacb90869ef)\" style=\"fill: #808080; stroke: #000000; stroke-linejoin: miter\"/>\n   </g>\n   <g id=\"patch_41\">\n    <path d=\"M 166.738352 216.358125 \nL 169.556534 216.358125 \nL 169.556534 188.253677 \nL 166.738352 188.253677 \nz\n\" clip-path=\"url(#pacb90869ef)\" style=\"fill: #808080; stroke: #000000; stroke-linejoin: miter\"/>\n   </g>\n   <g id=\"patch_42\">\n    <path d=\"M 169.556534 216.358125 \nL 172.374716 216.358125 \nL 172.374716 180.829861 \nL 169.556534 180.829861 \nz\n\" clip-path=\"url(#pacb90869ef)\" style=\"fill: #808080; stroke: #000000; stroke-linejoin: miter\"/>\n   </g>\n   <g id=\"patch_43\">\n    <path d=\"M 172.374716 216.358125 \nL 175.192898 216.358125 \nL 175.192898 170.224409 \nL 172.374716 170.224409 \nz\n\" clip-path=\"url(#pacb90869ef)\" style=\"fill: #808080; stroke: #000000; stroke-linejoin: miter\"/>\n   </g>\n   <g id=\"patch_44\">\n    <path d=\"M 175.192898 216.358125 \nL 178.01108 216.358125 \nL 178.01108 160.414366 \nL 175.192898 160.414366 \nz\n\" clip-path=\"url(#pacb90869ef)\" style=\"fill: #808080; stroke: #000000; stroke-linejoin: miter\"/>\n   </g>\n   <g id=\"patch_45\">\n    <path d=\"M 178.01108 216.358125 \nL 180.829261 216.358125 \nL 180.829261 134.431009 \nL 178.01108 134.431009 \nz\n\" clip-path=\"url(#pacb90869ef)\" style=\"fill: #808080; stroke: #000000; stroke-linejoin: miter\"/>\n   </g>\n   <g id=\"patch_46\">\n    <path d=\"M 180.829261 216.358125 \nL 183.647443 216.358125 \nL 183.647443 94.395428 \nL 180.829261 94.395428 \nz\n\" clip-path=\"url(#pacb90869ef)\" style=\"fill: #808080; stroke: #000000; stroke-linejoin: miter\"/>\n   </g>\n   <g id=\"patch_47\">\n    <path d=\"M 183.647443 216.358125 \nL 186.465625 216.358125 \nL 186.465625 56.480937 \nL 183.647443 56.480937 \nz\n\" clip-path=\"url(#pacb90869ef)\" style=\"fill: #808080; stroke: #000000; stroke-linejoin: miter\"/>\n   </g>\n   <g id=\"patch_48\">\n    <path d=\"M 186.465625 216.358125 \nL 189.283807 216.358125 \nL 189.283807 31.558125 \nL 186.465625 31.558125 \nz\n\" clip-path=\"url(#pacb90869ef)\" style=\"fill: #808080; stroke: #000000; stroke-linejoin: miter\"/>\n   </g>\n   <g id=\"patch_49\">\n    <path d=\"M 189.283807 216.358125 \nL 192.101989 216.358125 \nL 192.101989 80.873477 \nL 189.283807 80.873477 \nz\n\" clip-path=\"url(#pacb90869ef)\" style=\"fill: #808080; stroke: #000000; stroke-linejoin: miter\"/>\n   </g>\n   <g id=\"patch_50\">\n    <path d=\"M 192.101989 216.358125 \nL 194.92017 216.358125 \nL 194.92017 120.378785 \nL 192.101989 120.378785 \nz\n\" clip-path=\"url(#pacb90869ef)\" style=\"fill: #808080; stroke: #000000; stroke-linejoin: miter\"/>\n   </g>\n   <g id=\"patch_51\">\n    <path d=\"M 194.92017 216.358125 \nL 197.738352 216.358125 \nL 197.738352 150.869459 \nL 194.92017 150.869459 \nz\n\" clip-path=\"url(#pacb90869ef)\" style=\"fill: #808080; stroke: #000000; stroke-linejoin: miter\"/>\n   </g>\n   <g id=\"patch_52\">\n    <path d=\"M 197.738352 216.358125 \nL 200.556534 216.358125 \nL 200.556534 175.527135 \nL 197.738352 175.527135 \nz\n\" clip-path=\"url(#pacb90869ef)\" style=\"fill: #808080; stroke: #000000; stroke-linejoin: miter\"/>\n   </g>\n   <g id=\"patch_53\">\n    <path d=\"M 200.556534 216.358125 \nL 203.374716 216.358125 \nL 203.374716 185.867451 \nL 200.556534 185.867451 \nz\n\" clip-path=\"url(#pacb90869ef)\" style=\"fill: #808080; stroke: #000000; stroke-linejoin: miter\"/>\n   </g>\n   <g id=\"patch_54\">\n    <path d=\"M 203.374716 216.358125 \nL 206.192898 216.358125 \nL 206.192898 193.82154 \nL 203.374716 193.82154 \nz\n\" clip-path=\"url(#pacb90869ef)\" style=\"fill: #808080; stroke: #000000; stroke-linejoin: miter\"/>\n   </g>\n   <g id=\"patch_55\">\n    <path d=\"M 206.192898 216.358125 \nL 209.01108 216.358125 \nL 209.01108 195.147221 \nL 206.192898 195.147221 \nz\n\" clip-path=\"url(#pacb90869ef)\" style=\"fill: #808080; stroke: #000000; stroke-linejoin: miter\"/>\n   </g>\n   <g id=\"patch_56\">\n    <path d=\"M 209.01108 216.358125 \nL 211.829261 216.358125 \nL 211.829261 202.571037 \nL 209.01108 202.571037 \nz\n\" clip-path=\"url(#pacb90869ef)\" style=\"fill: #808080; stroke: #000000; stroke-linejoin: miter\"/>\n   </g>\n   <g id=\"patch_57\">\n    <path d=\"M 211.829261 216.358125 \nL 214.647443 216.358125 \nL 214.647443 203.366446 \nL 211.829261 203.366446 \nz\n\" clip-path=\"url(#pacb90869ef)\" style=\"fill: #808080; stroke: #000000; stroke-linejoin: miter\"/>\n   </g>\n   <g id=\"patch_58\">\n    <path d=\"M 214.647443 216.358125 \nL 217.465625 216.358125 \nL 217.465625 206.282946 \nL 214.647443 206.282946 \nz\n\" clip-path=\"url(#pacb90869ef)\" style=\"fill: #808080; stroke: #000000; stroke-linejoin: miter\"/>\n   </g>\n   <g id=\"patch_59\">\n    <path d=\"M 217.465625 216.358125 \nL 220.283807 216.358125 \nL 220.283807 202.571037 \nL 217.465625 202.571037 \nz\n\" clip-path=\"url(#pacb90869ef)\" style=\"fill: #808080; stroke: #000000; stroke-linejoin: miter\"/>\n   </g>\n   <g id=\"patch_60\">\n    <path d=\"M 220.283807 216.358125 \nL 223.101989 216.358125 \nL 223.101989 206.282946 \nL 220.283807 206.282946 \nz\n\" clip-path=\"url(#pacb90869ef)\" style=\"fill: #808080; stroke: #000000; stroke-linejoin: miter\"/>\n   </g>\n   <g id=\"patch_61\">\n    <path d=\"M 223.101989 216.358125 \nL 225.92017 216.358125 \nL 225.92017 208.1389 \nL 223.101989 208.1389 \nz\n\" clip-path=\"url(#pacb90869ef)\" style=\"fill: #808080; stroke: #000000; stroke-linejoin: miter\"/>\n   </g>\n   <g id=\"patch_62\">\n    <path d=\"M 225.92017 216.358125 \nL 228.738352 216.358125 \nL 228.738352 209.994854 \nL 225.92017 209.994854 \nz\n\" clip-path=\"url(#pacb90869ef)\" style=\"fill: #808080; stroke: #000000; stroke-linejoin: miter\"/>\n   </g>\n   <g id=\"patch_63\">\n    <path d=\"M 228.738352 216.358125 \nL 231.556534 216.358125 \nL 231.556534 211.850808 \nL 228.738352 211.850808 \nz\n\" clip-path=\"url(#pacb90869ef)\" style=\"fill: #808080; stroke: #000000; stroke-linejoin: miter\"/>\n   </g>\n   <g id=\"patch_64\">\n    <path d=\"M 231.556534 216.358125 \nL 234.374716 216.358125 \nL 234.374716 208.934309 \nL 231.556534 208.934309 \nz\n\" clip-path=\"url(#pacb90869ef)\" style=\"fill: #808080; stroke: #000000; stroke-linejoin: miter\"/>\n   </g>\n   <g id=\"patch_65\">\n    <path d=\"M 234.374716 216.358125 \nL 237.192898 216.358125 \nL 237.192898 212.381081 \nL 234.374716 212.381081 \nz\n\" clip-path=\"url(#pacb90869ef)\" style=\"fill: #808080; stroke: #000000; stroke-linejoin: miter\"/>\n   </g>\n   <g id=\"patch_66\">\n    <path d=\"M 237.192898 216.358125 \nL 240.01108 216.358125 \nL 240.01108 212.381081 \nL 237.192898 212.381081 \nz\n\" clip-path=\"url(#pacb90869ef)\" style=\"fill: #808080; stroke: #000000; stroke-linejoin: miter\"/>\n   </g>\n   <g id=\"patch_67\">\n    <path d=\"M 240.01108 216.358125 \nL 242.829261 216.358125 \nL 242.829261 212.381081 \nL 240.01108 212.381081 \nz\n\" clip-path=\"url(#pacb90869ef)\" style=\"fill: #808080; stroke: #000000; stroke-linejoin: miter\"/>\n   </g>\n   <g id=\"patch_68\">\n    <path d=\"M 242.829261 216.358125 \nL 245.647443 216.358125 \nL 245.647443 213.441626 \nL 242.829261 213.441626 \nz\n\" clip-path=\"url(#pacb90869ef)\" style=\"fill: #808080; stroke: #000000; stroke-linejoin: miter\"/>\n   </g>\n   <g id=\"patch_69\">\n    <path d=\"M 245.647443 216.358125 \nL 248.465625 216.358125 \nL 248.465625 213.441626 \nL 245.647443 213.441626 \nz\n\" clip-path=\"url(#pacb90869ef)\" style=\"fill: #808080; stroke: #000000; stroke-linejoin: miter\"/>\n   </g>\n   <g id=\"patch_70\">\n    <path d=\"M 248.465625 216.358125 \nL 251.283807 216.358125 \nL 251.283807 214.237035 \nL 248.465625 214.237035 \nz\n\" clip-path=\"url(#pacb90869ef)\" style=\"fill: #808080; stroke: #000000; stroke-linejoin: miter\"/>\n   </g>\n   <g id=\"patch_71\">\n    <path d=\"M 251.283807 216.358125 \nL 254.101989 216.358125 \nL 254.101989 215.827852 \nL 251.283807 215.827852 \nz\n\" clip-path=\"url(#pacb90869ef)\" style=\"fill: #808080; stroke: #000000; stroke-linejoin: miter\"/>\n   </g>\n   <g id=\"patch_72\">\n    <path d=\"M 254.101989 216.358125 \nL 256.92017 216.358125 \nL 256.92017 216.092989 \nL 254.101989 216.092989 \nz\n\" clip-path=\"url(#pacb90869ef)\" style=\"fill: #808080; stroke: #000000; stroke-linejoin: miter\"/>\n   </g>\n   <g id=\"patch_73\">\n    <path d=\"M 256.92017 216.358125 \nL 259.738352 216.358125 \nL 259.738352 215.827852 \nL 256.92017 215.827852 \nz\n\" clip-path=\"url(#pacb90869ef)\" style=\"fill: #808080; stroke: #000000; stroke-linejoin: miter\"/>\n   </g>\n   <g id=\"patch_74\">\n    <path d=\"M 259.738352 216.358125 \nL 262.556534 216.358125 \nL 262.556534 216.092989 \nL 259.738352 216.092989 \nz\n\" clip-path=\"url(#pacb90869ef)\" style=\"fill: #808080; stroke: #000000; stroke-linejoin: miter\"/>\n   </g>\n   <g id=\"patch_75\">\n    <path d=\"M 262.556534 216.358125 \nL 265.374716 216.358125 \nL 265.374716 216.358125 \nL 262.556534 216.358125 \nz\n\" clip-path=\"url(#pacb90869ef)\" style=\"fill: #808080; stroke: #000000; stroke-linejoin: miter\"/>\n   </g>\n   <g id=\"patch_76\">\n    <path d=\"M 265.374716 216.358125 \nL 268.192898 216.358125 \nL 268.192898 216.358125 \nL 265.374716 216.358125 \nz\n\" clip-path=\"url(#pacb90869ef)\" style=\"fill: #808080; stroke: #000000; stroke-linejoin: miter\"/>\n   </g>\n   <g id=\"patch_77\">\n    <path d=\"M 268.192898 216.358125 \nL 271.01108 216.358125 \nL 271.01108 216.358125 \nL 268.192898 216.358125 \nz\n\" clip-path=\"url(#pacb90869ef)\" style=\"fill: #808080; stroke: #000000; stroke-linejoin: miter\"/>\n   </g>\n   <g id=\"patch_78\">\n    <path d=\"M 271.01108 216.358125 \nL 273.829261 216.358125 \nL 273.829261 216.092989 \nL 271.01108 216.092989 \nz\n\" clip-path=\"url(#pacb90869ef)\" style=\"fill: #808080; stroke: #000000; stroke-linejoin: miter\"/>\n   </g>\n   <g id=\"patch_79\">\n    <path d=\"M 273.829261 216.358125 \nL 276.647443 216.358125 \nL 276.647443 216.092989 \nL 273.829261 216.092989 \nz\n\" clip-path=\"url(#pacb90869ef)\" style=\"fill: #808080; stroke: #000000; stroke-linejoin: miter\"/>\n   </g>\n   <g id=\"patch_80\">\n    <path d=\"M 276.647443 216.358125 \nL 279.465625 216.358125 \nL 279.465625 216.358125 \nL 276.647443 216.358125 \nz\n\" clip-path=\"url(#pacb90869ef)\" style=\"fill: #808080; stroke: #000000; stroke-linejoin: miter\"/>\n   </g>\n   <g id=\"patch_81\">\n    <path d=\"M 279.465625 216.358125 \nL 282.283807 216.358125 \nL 282.283807 216.358125 \nL 279.465625 216.358125 \nz\n\" clip-path=\"url(#pacb90869ef)\" style=\"fill: #808080; stroke: #000000; stroke-linejoin: miter\"/>\n   </g>\n   <g id=\"patch_82\">\n    <path d=\"M 282.283807 216.358125 \nL 285.101989 216.358125 \nL 285.101989 216.358125 \nL 282.283807 216.358125 \nz\n\" clip-path=\"url(#pacb90869ef)\" style=\"fill: #808080; stroke: #000000; stroke-linejoin: miter\"/>\n   </g>\n   <g id=\"patch_83\">\n    <path d=\"M 285.101989 216.358125 \nL 287.92017 216.358125 \nL 287.92017 216.358125 \nL 285.101989 216.358125 \nz\n\" clip-path=\"url(#pacb90869ef)\" style=\"fill: #808080; stroke: #000000; stroke-linejoin: miter\"/>\n   </g>\n   <g id=\"patch_84\">\n    <path d=\"M 287.92017 216.358125 \nL 290.738352 216.358125 \nL 290.738352 216.358125 \nL 287.92017 216.358125 \nz\n\" clip-path=\"url(#pacb90869ef)\" style=\"fill: #808080; stroke: #000000; stroke-linejoin: miter\"/>\n   </g>\n   <g id=\"patch_85\">\n    <path d=\"M 290.738352 216.358125 \nL 293.556534 216.358125 \nL 293.556534 216.358125 \nL 290.738352 216.358125 \nz\n\" clip-path=\"url(#pacb90869ef)\" style=\"fill: #808080; stroke: #000000; stroke-linejoin: miter\"/>\n   </g>\n   <g id=\"patch_86\">\n    <path d=\"M 293.556534 216.358125 \nL 296.374716 216.358125 \nL 296.374716 216.358125 \nL 293.556534 216.358125 \nz\n\" clip-path=\"url(#pacb90869ef)\" style=\"fill: #808080; stroke: #000000; stroke-linejoin: miter\"/>\n   </g>\n   <g id=\"patch_87\">\n    <path d=\"M 296.374716 216.358125 \nL 299.192898 216.358125 \nL 299.192898 215.827852 \nL 296.374716 215.827852 \nz\n\" clip-path=\"url(#pacb90869ef)\" style=\"fill: #808080; stroke: #000000; stroke-linejoin: miter\"/>\n   </g>\n   <g id=\"patch_88\">\n    <path d=\"M 299.192898 216.358125 \nL 302.01108 216.358125 \nL 302.01108 216.358125 \nL 299.192898 216.358125 \nz\n\" clip-path=\"url(#pacb90869ef)\" style=\"fill: #808080; stroke: #000000; stroke-linejoin: miter\"/>\n   </g>\n   <g id=\"patch_89\">\n    <path d=\"M 302.01108 216.358125 \nL 304.829261 216.358125 \nL 304.829261 216.358125 \nL 302.01108 216.358125 \nz\n\" clip-path=\"url(#pacb90869ef)\" style=\"fill: #808080; stroke: #000000; stroke-linejoin: miter\"/>\n   </g>\n   <g id=\"patch_90\">\n    <path d=\"M 304.829261 216.358125 \nL 307.647443 216.358125 \nL 307.647443 216.092989 \nL 304.829261 216.092989 \nz\n\" clip-path=\"url(#pacb90869ef)\" style=\"fill: #808080; stroke: #000000; stroke-linejoin: miter\"/>\n   </g>\n   <g id=\"patch_91\">\n    <path d=\"M 307.647443 216.358125 \nL 310.465625 216.358125 \nL 310.465625 215.562716 \nL 307.647443 215.562716 \nz\n\" clip-path=\"url(#pacb90869ef)\" style=\"fill: #808080; stroke: #000000; stroke-linejoin: miter\"/>\n   </g>\n   <g id=\"patch_92\">\n    <path d=\"M 310.465625 216.358125 \nL 313.283807 216.358125 \nL 313.283807 214.767307 \nL 310.465625 214.767307 \nz\n\" clip-path=\"url(#pacb90869ef)\" style=\"fill: #808080; stroke: #000000; stroke-linejoin: miter\"/>\n   </g>\n   <g id=\"matplotlib.axis_1\">\n    <g id=\"xtick_1\">\n     <g id=\"line2d_1\">\n      <defs>\n       <path id=\"ma4e8bb6dd7\" d=\"M 0 0 \nL 0 3.5 \n\" style=\"stroke: #000000; stroke-width: 0.8\"/>\n      </defs>\n      <g>\n       <use xlink:href=\"#ma4e8bb6dd7\" x=\"80.882959\" y=\"216.358125\" style=\"stroke: #000000; stroke-width: 0.8\"/>\n      </g>\n     </g>\n     <g id=\"text_1\">\n      <!-- −75 -->\n      <g transform=\"translate(70.330615 230.956562) scale(0.1 -0.1)\">\n       <defs>\n        <path id=\"DejaVuSans-2212\" d=\"M 678 2272 \nL 4684 2272 \nL 4684 1741 \nL 678 1741 \nL 678 2272 \nz\n\" transform=\"scale(0.015625)\"/>\n        <path id=\"DejaVuSans-37\" d=\"M 525 4666 \nL 3525 4666 \nL 3525 4397 \nL 1831 0 \nL 1172 0 \nL 2766 4134 \nL 525 4134 \nL 525 4666 \nz\n\" transform=\"scale(0.015625)\"/>\n        <path id=\"DejaVuSans-35\" d=\"M 691 4666 \nL 3169 4666 \nL 3169 4134 \nL 1269 4134 \nL 1269 2991 \nQ 1406 3038 1543 3061 \nQ 1681 3084 1819 3084 \nQ 2600 3084 3056 2656 \nQ 3513 2228 3513 1497 \nQ 3513 744 3044 326 \nQ 2575 -91 1722 -91 \nQ 1428 -91 1123 -41 \nQ 819 9 494 109 \nL 494 744 \nQ 775 591 1075 516 \nQ 1375 441 1709 441 \nQ 2250 441 2565 725 \nQ 2881 1009 2881 1497 \nQ 2881 1984 2565 2268 \nQ 2250 2553 1709 2553 \nQ 1456 2553 1204 2497 \nQ 953 2441 691 2322 \nL 691 4666 \nz\n\" transform=\"scale(0.015625)\"/>\n       </defs>\n       <use xlink:href=\"#DejaVuSans-2212\"/>\n       <use xlink:href=\"#DejaVuSans-37\" x=\"83.789062\"/>\n       <use xlink:href=\"#DejaVuSans-35\" x=\"147.412109\"/>\n      </g>\n     </g>\n    </g>\n    <g id=\"xtick_2\">\n     <g id=\"line2d_2\">\n      <g>\n       <use xlink:href=\"#ma4e8bb6dd7\" x=\"116.275485\" y=\"216.358125\" style=\"stroke: #000000; stroke-width: 0.8\"/>\n      </g>\n     </g>\n     <g id=\"text_2\">\n      <!-- −50 -->\n      <g transform=\"translate(105.723142 230.956562) scale(0.1 -0.1)\">\n       <defs>\n        <path id=\"DejaVuSans-30\" d=\"M 2034 4250 \nQ 1547 4250 1301 3770 \nQ 1056 3291 1056 2328 \nQ 1056 1369 1301 889 \nQ 1547 409 2034 409 \nQ 2525 409 2770 889 \nQ 3016 1369 3016 2328 \nQ 3016 3291 2770 3770 \nQ 2525 4250 2034 4250 \nz\nM 2034 4750 \nQ 2819 4750 3233 4129 \nQ 3647 3509 3647 2328 \nQ 3647 1150 3233 529 \nQ 2819 -91 2034 -91 \nQ 1250 -91 836 529 \nQ 422 1150 422 2328 \nQ 422 3509 836 4129 \nQ 1250 4750 2034 4750 \nz\n\" transform=\"scale(0.015625)\"/>\n       </defs>\n       <use xlink:href=\"#DejaVuSans-2212\"/>\n       <use xlink:href=\"#DejaVuSans-35\" x=\"83.789062\"/>\n       <use xlink:href=\"#DejaVuSans-30\" x=\"147.412109\"/>\n      </g>\n     </g>\n    </g>\n    <g id=\"xtick_3\">\n     <g id=\"line2d_3\">\n      <g>\n       <use xlink:href=\"#ma4e8bb6dd7\" x=\"151.668012\" y=\"216.358125\" style=\"stroke: #000000; stroke-width: 0.8\"/>\n      </g>\n     </g>\n     <g id=\"text_3\">\n      <!-- −25 -->\n      <g transform=\"translate(141.115668 230.956562) scale(0.1 -0.1)\">\n       <defs>\n        <path id=\"DejaVuSans-32\" d=\"M 1228 531 \nL 3431 531 \nL 3431 0 \nL 469 0 \nL 469 531 \nQ 828 903 1448 1529 \nQ 2069 2156 2228 2338 \nQ 2531 2678 2651 2914 \nQ 2772 3150 2772 3378 \nQ 2772 3750 2511 3984 \nQ 2250 4219 1831 4219 \nQ 1534 4219 1204 4116 \nQ 875 4013 500 3803 \nL 500 4441 \nQ 881 4594 1212 4672 \nQ 1544 4750 1819 4750 \nQ 2544 4750 2975 4387 \nQ 3406 4025 3406 3419 \nQ 3406 3131 3298 2873 \nQ 3191 2616 2906 2266 \nQ 2828 2175 2409 1742 \nQ 1991 1309 1228 531 \nz\n\" transform=\"scale(0.015625)\"/>\n       </defs>\n       <use xlink:href=\"#DejaVuSans-2212\"/>\n       <use xlink:href=\"#DejaVuSans-32\" x=\"83.789062\"/>\n       <use xlink:href=\"#DejaVuSans-35\" x=\"147.412109\"/>\n      </g>\n     </g>\n    </g>\n    <g id=\"xtick_4\">\n     <g id=\"line2d_4\">\n      <g>\n       <use xlink:href=\"#ma4e8bb6dd7\" x=\"187.060538\" y=\"216.358125\" style=\"stroke: #000000; stroke-width: 0.8\"/>\n      </g>\n     </g>\n     <g id=\"text_4\">\n      <!-- 0 -->\n      <g transform=\"translate(183.879288 230.956562) scale(0.1 -0.1)\">\n       <use xlink:href=\"#DejaVuSans-30\"/>\n      </g>\n     </g>\n    </g>\n    <g id=\"xtick_5\">\n     <g id=\"line2d_5\">\n      <g>\n       <use xlink:href=\"#ma4e8bb6dd7\" x=\"222.453064\" y=\"216.358125\" style=\"stroke: #000000; stroke-width: 0.8\"/>\n      </g>\n     </g>\n     <g id=\"text_5\">\n      <!-- 25 -->\n      <g transform=\"translate(216.090564 230.956562) scale(0.1 -0.1)\">\n       <use xlink:href=\"#DejaVuSans-32\"/>\n       <use xlink:href=\"#DejaVuSans-35\" x=\"63.623047\"/>\n      </g>\n     </g>\n    </g>\n    <g id=\"xtick_6\">\n     <g id=\"line2d_6\">\n      <g>\n       <use xlink:href=\"#ma4e8bb6dd7\" x=\"257.845591\" y=\"216.358125\" style=\"stroke: #000000; stroke-width: 0.8\"/>\n      </g>\n     </g>\n     <g id=\"text_6\">\n      <!-- 50 -->\n      <g transform=\"translate(251.483091 230.956562) scale(0.1 -0.1)\">\n       <use xlink:href=\"#DejaVuSans-35\"/>\n       <use xlink:href=\"#DejaVuSans-30\" x=\"63.623047\"/>\n      </g>\n     </g>\n    </g>\n    <g id=\"xtick_7\">\n     <g id=\"line2d_7\">\n      <g>\n       <use xlink:href=\"#ma4e8bb6dd7\" x=\"293.238117\" y=\"216.358125\" style=\"stroke: #000000; stroke-width: 0.8\"/>\n      </g>\n     </g>\n     <g id=\"text_7\">\n      <!-- 75 -->\n      <g transform=\"translate(286.875617 230.956562) scale(0.1 -0.1)\">\n       <use xlink:href=\"#DejaVuSans-37\"/>\n       <use xlink:href=\"#DejaVuSans-35\" x=\"63.623047\"/>\n      </g>\n     </g>\n    </g>\n    <g id=\"text_8\">\n     <!-- $\\arccos{\\hat{r}\\cdot\\hat{x}}$ [deg] -->\n     <g transform=\"translate(145.865625 246.33625) scale(0.1 -0.1)\">\n      <defs>\n       <path id=\"DejaVuSans-61\" d=\"M 2194 1759 \nQ 1497 1759 1228 1600 \nQ 959 1441 959 1056 \nQ 959 750 1161 570 \nQ 1363 391 1709 391 \nQ 2188 391 2477 730 \nQ 2766 1069 2766 1631 \nL 2766 1759 \nL 2194 1759 \nz\nM 3341 1997 \nL 3341 0 \nL 2766 0 \nL 2766 531 \nQ 2569 213 2275 61 \nQ 1981 -91 1556 -91 \nQ 1019 -91 701 211 \nQ 384 513 384 1019 \nQ 384 1609 779 1909 \nQ 1175 2209 1959 2209 \nL 2766 2209 \nL 2766 2266 \nQ 2766 2663 2505 2880 \nQ 2244 3097 1772 3097 \nQ 1472 3097 1187 3025 \nQ 903 2953 641 2809 \nL 641 3341 \nQ 956 3463 1253 3523 \nQ 1550 3584 1831 3584 \nQ 2591 3584 2966 3190 \nQ 3341 2797 3341 1997 \nz\n\" transform=\"scale(0.015625)\"/>\n       <path id=\"DejaVuSans-72\" d=\"M 2631 2963 \nQ 2534 3019 2420 3045 \nQ 2306 3072 2169 3072 \nQ 1681 3072 1420 2755 \nQ 1159 2438 1159 1844 \nL 1159 0 \nL 581 0 \nL 581 3500 \nL 1159 3500 \nL 1159 2956 \nQ 1341 3275 1631 3429 \nQ 1922 3584 2338 3584 \nQ 2397 3584 2469 3576 \nQ 2541 3569 2628 3553 \nL 2631 2963 \nz\n\" transform=\"scale(0.015625)\"/>\n       <path id=\"DejaVuSans-63\" d=\"M 3122 3366 \nL 3122 2828 \nQ 2878 2963 2633 3030 \nQ 2388 3097 2138 3097 \nQ 1578 3097 1268 2742 \nQ 959 2388 959 1747 \nQ 959 1106 1268 751 \nQ 1578 397 2138 397 \nQ 2388 397 2633 464 \nQ 2878 531 3122 666 \nL 3122 134 \nQ 2881 22 2623 -34 \nQ 2366 -91 2075 -91 \nQ 1284 -91 818 406 \nQ 353 903 353 1747 \nQ 353 2603 823 3093 \nQ 1294 3584 2113 3584 \nQ 2378 3584 2631 3529 \nQ 2884 3475 3122 3366 \nz\n\" transform=\"scale(0.015625)\"/>\n       <path id=\"DejaVuSans-6f\" d=\"M 1959 3097 \nQ 1497 3097 1228 2736 \nQ 959 2375 959 1747 \nQ 959 1119 1226 758 \nQ 1494 397 1959 397 \nQ 2419 397 2687 759 \nQ 2956 1122 2956 1747 \nQ 2956 2369 2687 2733 \nQ 2419 3097 1959 3097 \nz\nM 1959 3584 \nQ 2709 3584 3137 3096 \nQ 3566 2609 3566 1747 \nQ 3566 888 3137 398 \nQ 2709 -91 1959 -91 \nQ 1206 -91 779 398 \nQ 353 888 353 1747 \nQ 353 2609 779 3096 \nQ 1206 3584 1959 3584 \nz\n\" transform=\"scale(0.015625)\"/>\n       <path id=\"DejaVuSans-73\" d=\"M 2834 3397 \nL 2834 2853 \nQ 2591 2978 2328 3040 \nQ 2066 3103 1784 3103 \nQ 1356 3103 1142 2972 \nQ 928 2841 928 2578 \nQ 928 2378 1081 2264 \nQ 1234 2150 1697 2047 \nL 1894 2003 \nQ 2506 1872 2764 1633 \nQ 3022 1394 3022 966 \nQ 3022 478 2636 193 \nQ 2250 -91 1575 -91 \nQ 1294 -91 989 -36 \nQ 684 19 347 128 \nL 347 722 \nQ 666 556 975 473 \nQ 1284 391 1588 391 \nQ 1994 391 2212 530 \nQ 2431 669 2431 922 \nQ 2431 1156 2273 1281 \nQ 2116 1406 1581 1522 \nL 1381 1569 \nQ 847 1681 609 1914 \nQ 372 2147 372 2553 \nQ 372 3047 722 3315 \nQ 1072 3584 1716 3584 \nQ 2034 3584 2315 3537 \nQ 2597 3491 2834 3397 \nz\n\" transform=\"scale(0.015625)\"/>\n       <path id=\"DejaVuSans-302\" d=\"M -1831 5119 \nL -1369 5119 \nL -603 3944 \nL -1038 3944 \nL -1600 4709 \nL -2163 3944 \nL -2597 3944 \nL -1831 5119 \nz\nM -1600 3584 \nL -1600 3584 \nz\n\" transform=\"scale(0.015625)\"/>\n       <path id=\"DejaVuSans-Oblique-72\" d=\"M 2853 2969 \nQ 2766 3016 2653 3041 \nQ 2541 3066 2413 3066 \nQ 1953 3066 1609 2717 \nQ 1266 2369 1153 1784 \nL 800 0 \nL 225 0 \nL 909 3500 \nL 1484 3500 \nL 1375 2956 \nQ 1603 3259 1920 3421 \nQ 2238 3584 2597 3584 \nQ 2691 3584 2781 3573 \nQ 2872 3563 2963 3538 \nL 2853 2969 \nz\n\" transform=\"scale(0.015625)\"/>\n       <path id=\"DejaVuSans-22c5\" d=\"M 684 2619 \nL 1344 2619 \nL 1344 1825 \nL 684 1825 \nL 684 2619 \nz\n\" transform=\"scale(0.015625)\"/>\n       <path id=\"DejaVuSans-Oblique-78\" d=\"M 3841 3500 \nL 2234 1784 \nL 3219 0 \nL 2559 0 \nL 1819 1388 \nL 531 0 \nL -166 0 \nL 1556 1844 \nL 641 3500 \nL 1300 3500 \nL 1972 2234 \nL 3144 3500 \nL 3841 3500 \nz\n\" transform=\"scale(0.015625)\"/>\n       <path id=\"DejaVuSans-20\" transform=\"scale(0.015625)\"/>\n       <path id=\"DejaVuSans-5b\" d=\"M 550 4863 \nL 1875 4863 \nL 1875 4416 \nL 1125 4416 \nL 1125 -397 \nL 1875 -397 \nL 1875 -844 \nL 550 -844 \nL 550 4863 \nz\n\" transform=\"scale(0.015625)\"/>\n       <path id=\"DejaVuSans-64\" d=\"M 2906 2969 \nL 2906 4863 \nL 3481 4863 \nL 3481 0 \nL 2906 0 \nL 2906 525 \nQ 2725 213 2448 61 \nQ 2172 -91 1784 -91 \nQ 1150 -91 751 415 \nQ 353 922 353 1747 \nQ 353 2572 751 3078 \nQ 1150 3584 1784 3584 \nQ 2172 3584 2448 3432 \nQ 2725 3281 2906 2969 \nz\nM 947 1747 \nQ 947 1113 1208 752 \nQ 1469 391 1925 391 \nQ 2381 391 2643 752 \nQ 2906 1113 2906 1747 \nQ 2906 2381 2643 2742 \nQ 2381 3103 1925 3103 \nQ 1469 3103 1208 2742 \nQ 947 2381 947 1747 \nz\n\" transform=\"scale(0.015625)\"/>\n       <path id=\"DejaVuSans-65\" d=\"M 3597 1894 \nL 3597 1613 \nL 953 1613 \nQ 991 1019 1311 708 \nQ 1631 397 2203 397 \nQ 2534 397 2845 478 \nQ 3156 559 3463 722 \nL 3463 178 \nQ 3153 47 2828 -22 \nQ 2503 -91 2169 -91 \nQ 1331 -91 842 396 \nQ 353 884 353 1716 \nQ 353 2575 817 3079 \nQ 1281 3584 2069 3584 \nQ 2775 3584 3186 3129 \nQ 3597 2675 3597 1894 \nz\nM 3022 2063 \nQ 3016 2534 2758 2815 \nQ 2500 3097 2075 3097 \nQ 1594 3097 1305 2825 \nQ 1016 2553 972 2059 \nL 3022 2063 \nz\n\" transform=\"scale(0.015625)\"/>\n       <path id=\"DejaVuSans-67\" d=\"M 2906 1791 \nQ 2906 2416 2648 2759 \nQ 2391 3103 1925 3103 \nQ 1463 3103 1205 2759 \nQ 947 2416 947 1791 \nQ 947 1169 1205 825 \nQ 1463 481 1925 481 \nQ 2391 481 2648 825 \nQ 2906 1169 2906 1791 \nz\nM 3481 434 \nQ 3481 -459 3084 -895 \nQ 2688 -1331 1869 -1331 \nQ 1566 -1331 1297 -1286 \nQ 1028 -1241 775 -1147 \nL 775 -588 \nQ 1028 -725 1275 -790 \nQ 1522 -856 1778 -856 \nQ 2344 -856 2625 -561 \nQ 2906 -266 2906 331 \nL 2906 616 \nQ 2728 306 2450 153 \nQ 2172 0 1784 0 \nQ 1141 0 747 490 \nQ 353 981 353 1791 \nQ 353 2603 747 3093 \nQ 1141 3584 1784 3584 \nQ 2172 3584 2450 3431 \nQ 2728 3278 2906 2969 \nL 2906 3500 \nL 3481 3500 \nL 3481 434 \nz\n\" transform=\"scale(0.015625)\"/>\n       <path id=\"DejaVuSans-5d\" d=\"M 1947 4863 \nL 1947 -844 \nL 622 -844 \nL 622 -397 \nL 1369 -397 \nL 1369 4416 \nL 622 4416 \nL 622 4863 \nL 1947 4863 \nz\n\" transform=\"scale(0.015625)\"/>\n      </defs>\n      <use xlink:href=\"#DejaVuSans-61\" transform=\"translate(0 0.515625)\"/>\n      <use xlink:href=\"#DejaVuSans-72\" transform=\"translate(61.279297 0.515625)\"/>\n      <use xlink:href=\"#DejaVuSans-63\" transform=\"translate(102.392578 0.515625)\"/>\n      <use xlink:href=\"#DejaVuSans-63\" transform=\"translate(157.373047 0.515625)\"/>\n      <use xlink:href=\"#DejaVuSans-6f\" transform=\"translate(212.353516 0.515625)\"/>\n      <use xlink:href=\"#DejaVuSans-73\" transform=\"translate(273.535156 0.515625)\"/>\n      <use xlink:href=\"#DejaVuSans-302\" transform=\"translate(392.726887 13.015625)\"/>\n      <use xlink:href=\"#DejaVuSans-Oblique-72\" transform=\"translate(341.870442 0.515625)\"/>\n      <use xlink:href=\"#DejaVuSans-22c5\" transform=\"translate(402.466145 0.515625)\"/>\n      <use xlink:href=\"#DejaVuSans-302\" transform=\"translate(516.108723 11.703125)\"/>\n      <use xlink:href=\"#DejaVuSans-Oblique-78\" transform=\"translate(453.735676 0.515625)\"/>\n      <use xlink:href=\"#DejaVuSans-20\" transform=\"translate(512.915364 0.515625)\"/>\n      <use xlink:href=\"#DejaVuSans-5b\" transform=\"translate(544.702473 0.515625)\"/>\n      <use xlink:href=\"#DejaVuSans-64\" transform=\"translate(583.716145 0.515625)\"/>\n      <use xlink:href=\"#DejaVuSans-65\" transform=\"translate(647.192708 0.515625)\"/>\n      <use xlink:href=\"#DejaVuSans-67\" transform=\"translate(708.716145 0.515625)\"/>\n      <use xlink:href=\"#DejaVuSans-5d\" transform=\"translate(772.192708 0.515625)\"/>\n     </g>\n    </g>\n   </g>\n   <g id=\"matplotlib.axis_2\">\n    <g id=\"ytick_1\">\n     <g id=\"line2d_8\">\n      <defs>\n       <path id=\"m87a2dcb156\" d=\"M 0 0 \nL -3.5 0 \n\" style=\"stroke: #000000; stroke-width: 0.8\"/>\n      </defs>\n      <g>\n       <use xlink:href=\"#m87a2dcb156\" x=\"46.965625\" y=\"216.358125\" style=\"stroke: #000000; stroke-width: 0.8\"/>\n      </g>\n     </g>\n     <g id=\"text_9\">\n      <!-- 0 -->\n      <g transform=\"translate(33.603125 220.157344) scale(0.1 -0.1)\">\n       <use xlink:href=\"#DejaVuSans-30\"/>\n      </g>\n     </g>\n    </g>\n    <g id=\"ytick_2\">\n     <g id=\"line2d_9\">\n      <g>\n       <use xlink:href=\"#m87a2dcb156\" x=\"46.965625\" y=\"189.844495\" style=\"stroke: #000000; stroke-width: 0.8\"/>\n      </g>\n     </g>\n     <g id=\"text_10\">\n      <!-- 100 -->\n      <g transform=\"translate(20.878125 193.643714) scale(0.1 -0.1)\">\n       <defs>\n        <path id=\"DejaVuSans-31\" d=\"M 794 531 \nL 1825 531 \nL 1825 4091 \nL 703 3866 \nL 703 4441 \nL 1819 4666 \nL 2450 4666 \nL 2450 531 \nL 3481 531 \nL 3481 0 \nL 794 0 \nL 794 531 \nz\n\" transform=\"scale(0.015625)\"/>\n       </defs>\n       <use xlink:href=\"#DejaVuSans-31\"/>\n       <use xlink:href=\"#DejaVuSans-30\" x=\"63.623047\"/>\n       <use xlink:href=\"#DejaVuSans-30\" x=\"127.246094\"/>\n      </g>\n     </g>\n    </g>\n    <g id=\"ytick_3\">\n     <g id=\"line2d_10\">\n      <g>\n       <use xlink:href=\"#m87a2dcb156\" x=\"46.965625\" y=\"163.330865\" style=\"stroke: #000000; stroke-width: 0.8\"/>\n      </g>\n     </g>\n     <g id=\"text_11\">\n      <!-- 200 -->\n      <g transform=\"translate(20.878125 167.130084) scale(0.1 -0.1)\">\n       <use xlink:href=\"#DejaVuSans-32\"/>\n       <use xlink:href=\"#DejaVuSans-30\" x=\"63.623047\"/>\n       <use xlink:href=\"#DejaVuSans-30\" x=\"127.246094\"/>\n      </g>\n     </g>\n    </g>\n    <g id=\"ytick_4\">\n     <g id=\"line2d_11\">\n      <g>\n       <use xlink:href=\"#m87a2dcb156\" x=\"46.965625\" y=\"136.817235\" style=\"stroke: #000000; stroke-width: 0.8\"/>\n      </g>\n     </g>\n     <g id=\"text_12\">\n      <!-- 300 -->\n      <g transform=\"translate(20.878125 140.616454) scale(0.1 -0.1)\">\n       <defs>\n        <path id=\"DejaVuSans-33\" d=\"M 2597 2516 \nQ 3050 2419 3304 2112 \nQ 3559 1806 3559 1356 \nQ 3559 666 3084 287 \nQ 2609 -91 1734 -91 \nQ 1441 -91 1130 -33 \nQ 819 25 488 141 \nL 488 750 \nQ 750 597 1062 519 \nQ 1375 441 1716 441 \nQ 2309 441 2620 675 \nQ 2931 909 2931 1356 \nQ 2931 1769 2642 2001 \nQ 2353 2234 1838 2234 \nL 1294 2234 \nL 1294 2753 \nL 1863 2753 \nQ 2328 2753 2575 2939 \nQ 2822 3125 2822 3475 \nQ 2822 3834 2567 4026 \nQ 2313 4219 1838 4219 \nQ 1578 4219 1281 4162 \nQ 984 4106 628 3988 \nL 628 4550 \nQ 988 4650 1302 4700 \nQ 1616 4750 1894 4750 \nQ 2613 4750 3031 4423 \nQ 3450 4097 3450 3541 \nQ 3450 3153 3228 2886 \nQ 3006 2619 2597 2516 \nz\n\" transform=\"scale(0.015625)\"/>\n       </defs>\n       <use xlink:href=\"#DejaVuSans-33\"/>\n       <use xlink:href=\"#DejaVuSans-30\" x=\"63.623047\"/>\n       <use xlink:href=\"#DejaVuSans-30\" x=\"127.246094\"/>\n      </g>\n     </g>\n    </g>\n    <g id=\"ytick_5\">\n     <g id=\"line2d_12\">\n      <g>\n       <use xlink:href=\"#m87a2dcb156\" x=\"46.965625\" y=\"110.303606\" style=\"stroke: #000000; stroke-width: 0.8\"/>\n      </g>\n     </g>\n     <g id=\"text_13\">\n      <!-- 400 -->\n      <g transform=\"translate(20.878125 114.102824) scale(0.1 -0.1)\">\n       <defs>\n        <path id=\"DejaVuSans-34\" d=\"M 2419 4116 \nL 825 1625 \nL 2419 1625 \nL 2419 4116 \nz\nM 2253 4666 \nL 3047 4666 \nL 3047 1625 \nL 3713 1625 \nL 3713 1100 \nL 3047 1100 \nL 3047 0 \nL 2419 0 \nL 2419 1100 \nL 313 1100 \nL 313 1709 \nL 2253 4666 \nz\n\" transform=\"scale(0.015625)\"/>\n       </defs>\n       <use xlink:href=\"#DejaVuSans-34\"/>\n       <use xlink:href=\"#DejaVuSans-30\" x=\"63.623047\"/>\n       <use xlink:href=\"#DejaVuSans-30\" x=\"127.246094\"/>\n      </g>\n     </g>\n    </g>\n    <g id=\"ytick_6\">\n     <g id=\"line2d_13\">\n      <g>\n       <use xlink:href=\"#m87a2dcb156\" x=\"46.965625\" y=\"83.789976\" style=\"stroke: #000000; stroke-width: 0.8\"/>\n      </g>\n     </g>\n     <g id=\"text_14\">\n      <!-- 500 -->\n      <g transform=\"translate(20.878125 87.589195) scale(0.1 -0.1)\">\n       <use xlink:href=\"#DejaVuSans-35\"/>\n       <use xlink:href=\"#DejaVuSans-30\" x=\"63.623047\"/>\n       <use xlink:href=\"#DejaVuSans-30\" x=\"127.246094\"/>\n      </g>\n     </g>\n    </g>\n    <g id=\"ytick_7\">\n     <g id=\"line2d_14\">\n      <g>\n       <use xlink:href=\"#m87a2dcb156\" x=\"46.965625\" y=\"57.276346\" style=\"stroke: #000000; stroke-width: 0.8\"/>\n      </g>\n     </g>\n     <g id=\"text_15\">\n      <!-- 600 -->\n      <g transform=\"translate(20.878125 61.075565) scale(0.1 -0.1)\">\n       <defs>\n        <path id=\"DejaVuSans-36\" d=\"M 2113 2584 \nQ 1688 2584 1439 2293 \nQ 1191 2003 1191 1497 \nQ 1191 994 1439 701 \nQ 1688 409 2113 409 \nQ 2538 409 2786 701 \nQ 3034 994 3034 1497 \nQ 3034 2003 2786 2293 \nQ 2538 2584 2113 2584 \nz\nM 3366 4563 \nL 3366 3988 \nQ 3128 4100 2886 4159 \nQ 2644 4219 2406 4219 \nQ 1781 4219 1451 3797 \nQ 1122 3375 1075 2522 \nQ 1259 2794 1537 2939 \nQ 1816 3084 2150 3084 \nQ 2853 3084 3261 2657 \nQ 3669 2231 3669 1497 \nQ 3669 778 3244 343 \nQ 2819 -91 2113 -91 \nQ 1303 -91 875 529 \nQ 447 1150 447 2328 \nQ 447 3434 972 4092 \nQ 1497 4750 2381 4750 \nQ 2619 4750 2861 4703 \nQ 3103 4656 3366 4563 \nz\n\" transform=\"scale(0.015625)\"/>\n       </defs>\n       <use xlink:href=\"#DejaVuSans-36\"/>\n       <use xlink:href=\"#DejaVuSans-30\" x=\"63.623047\"/>\n       <use xlink:href=\"#DejaVuSans-30\" x=\"127.246094\"/>\n      </g>\n     </g>\n    </g>\n    <g id=\"ytick_8\">\n     <g id=\"line2d_15\">\n      <g>\n       <use xlink:href=\"#m87a2dcb156\" x=\"46.965625\" y=\"30.762716\" style=\"stroke: #000000; stroke-width: 0.8\"/>\n      </g>\n     </g>\n     <g id=\"text_16\">\n      <!-- 700 -->\n      <g transform=\"translate(20.878125 34.561935) scale(0.1 -0.1)\">\n       <use xlink:href=\"#DejaVuSans-37\"/>\n       <use xlink:href=\"#DejaVuSans-30\" x=\"63.623047\"/>\n       <use xlink:href=\"#DejaVuSans-30\" x=\"127.246094\"/>\n      </g>\n     </g>\n    </g>\n    <g id=\"text_17\">\n     <!-- Count (N=5457) -->\n     <g transform=\"translate(14.798437 160.332656) rotate(-90) scale(0.1 -0.1)\">\n      <defs>\n       <path id=\"DejaVuSans-43\" d=\"M 4122 4306 \nL 4122 3641 \nQ 3803 3938 3442 4084 \nQ 3081 4231 2675 4231 \nQ 1875 4231 1450 3742 \nQ 1025 3253 1025 2328 \nQ 1025 1406 1450 917 \nQ 1875 428 2675 428 \nQ 3081 428 3442 575 \nQ 3803 722 4122 1019 \nL 4122 359 \nQ 3791 134 3420 21 \nQ 3050 -91 2638 -91 \nQ 1578 -91 968 557 \nQ 359 1206 359 2328 \nQ 359 3453 968 4101 \nQ 1578 4750 2638 4750 \nQ 3056 4750 3426 4639 \nQ 3797 4528 4122 4306 \nz\n\" transform=\"scale(0.015625)\"/>\n       <path id=\"DejaVuSans-75\" d=\"M 544 1381 \nL 544 3500 \nL 1119 3500 \nL 1119 1403 \nQ 1119 906 1312 657 \nQ 1506 409 1894 409 \nQ 2359 409 2629 706 \nQ 2900 1003 2900 1516 \nL 2900 3500 \nL 3475 3500 \nL 3475 0 \nL 2900 0 \nL 2900 538 \nQ 2691 219 2414 64 \nQ 2138 -91 1772 -91 \nQ 1169 -91 856 284 \nQ 544 659 544 1381 \nz\nM 1991 3584 \nL 1991 3584 \nz\n\" transform=\"scale(0.015625)\"/>\n       <path id=\"DejaVuSans-6e\" d=\"M 3513 2113 \nL 3513 0 \nL 2938 0 \nL 2938 2094 \nQ 2938 2591 2744 2837 \nQ 2550 3084 2163 3084 \nQ 1697 3084 1428 2787 \nQ 1159 2491 1159 1978 \nL 1159 0 \nL 581 0 \nL 581 3500 \nL 1159 3500 \nL 1159 2956 \nQ 1366 3272 1645 3428 \nQ 1925 3584 2291 3584 \nQ 2894 3584 3203 3211 \nQ 3513 2838 3513 2113 \nz\n\" transform=\"scale(0.015625)\"/>\n       <path id=\"DejaVuSans-74\" d=\"M 1172 4494 \nL 1172 3500 \nL 2356 3500 \nL 2356 3053 \nL 1172 3053 \nL 1172 1153 \nQ 1172 725 1289 603 \nQ 1406 481 1766 481 \nL 2356 481 \nL 2356 0 \nL 1766 0 \nQ 1100 0 847 248 \nQ 594 497 594 1153 \nL 594 3053 \nL 172 3053 \nL 172 3500 \nL 594 3500 \nL 594 4494 \nL 1172 4494 \nz\n\" transform=\"scale(0.015625)\"/>\n       <path id=\"DejaVuSans-28\" d=\"M 1984 4856 \nQ 1566 4138 1362 3434 \nQ 1159 2731 1159 2009 \nQ 1159 1288 1364 580 \nQ 1569 -128 1984 -844 \nL 1484 -844 \nQ 1016 -109 783 600 \nQ 550 1309 550 2009 \nQ 550 2706 781 3412 \nQ 1013 4119 1484 4856 \nL 1984 4856 \nz\n\" transform=\"scale(0.015625)\"/>\n       <path id=\"DejaVuSans-4e\" d=\"M 628 4666 \nL 1478 4666 \nL 3547 763 \nL 3547 4666 \nL 4159 4666 \nL 4159 0 \nL 3309 0 \nL 1241 3903 \nL 1241 0 \nL 628 0 \nL 628 4666 \nz\n\" transform=\"scale(0.015625)\"/>\n       <path id=\"DejaVuSans-3d\" d=\"M 678 2906 \nL 4684 2906 \nL 4684 2381 \nL 678 2381 \nL 678 2906 \nz\nM 678 1631 \nL 4684 1631 \nL 4684 1100 \nL 678 1100 \nL 678 1631 \nz\n\" transform=\"scale(0.015625)\"/>\n       <path id=\"DejaVuSans-29\" d=\"M 513 4856 \nL 1013 4856 \nQ 1481 4119 1714 3412 \nQ 1947 2706 1947 2009 \nQ 1947 1309 1714 600 \nQ 1481 -109 1013 -844 \nL 513 -844 \nQ 928 -128 1133 580 \nQ 1338 1288 1338 2009 \nQ 1338 2731 1133 3434 \nQ 928 4138 513 4856 \nz\n\" transform=\"scale(0.015625)\"/>\n      </defs>\n      <use xlink:href=\"#DejaVuSans-43\"/>\n      <use xlink:href=\"#DejaVuSans-6f\" x=\"69.824219\"/>\n      <use xlink:href=\"#DejaVuSans-75\" x=\"131.005859\"/>\n      <use xlink:href=\"#DejaVuSans-6e\" x=\"194.384766\"/>\n      <use xlink:href=\"#DejaVuSans-74\" x=\"257.763672\"/>\n      <use xlink:href=\"#DejaVuSans-20\" x=\"296.972656\"/>\n      <use xlink:href=\"#DejaVuSans-28\" x=\"328.759766\"/>\n      <use xlink:href=\"#DejaVuSans-4e\" x=\"367.773438\"/>\n      <use xlink:href=\"#DejaVuSans-3d\" x=\"442.578125\"/>\n      <use xlink:href=\"#DejaVuSans-35\" x=\"526.367188\"/>\n      <use xlink:href=\"#DejaVuSans-34\" x=\"589.990234\"/>\n      <use xlink:href=\"#DejaVuSans-35\" x=\"653.613281\"/>\n      <use xlink:href=\"#DejaVuSans-37\" x=\"717.236328\"/>\n      <use xlink:href=\"#DejaVuSans-29\" x=\"780.859375\"/>\n     </g>\n    </g>\n   </g>\n   <g id=\"patch_93\">\n    <path d=\"M 46.965625 216.358125 \nL 46.965625 22.318125 \n\" style=\"fill: none; stroke: #000000; stroke-width: 0.8; stroke-linejoin: miter; stroke-linecap: square\"/>\n   </g>\n   <g id=\"patch_94\">\n    <path d=\"M 325.965625 216.358125 \nL 325.965625 22.318125 \n\" style=\"fill: none; stroke: #000000; stroke-width: 0.8; stroke-linejoin: miter; stroke-linecap: square\"/>\n   </g>\n   <g id=\"patch_95\">\n    <path d=\"M 46.965625 216.358125 \nL 325.965625 216.358125 \n\" style=\"fill: none; stroke: #000000; stroke-width: 0.8; stroke-linejoin: miter; stroke-linecap: square\"/>\n   </g>\n   <g id=\"patch_96\">\n    <path d=\"M 46.965625 22.318125 \nL 325.965625 22.318125 \n\" style=\"fill: none; stroke: #000000; stroke-width: 0.8; stroke-linejoin: miter; stroke-linecap: square\"/>\n   </g>\n   <g id=\"text_18\">\n    <!-- Cell orientation along channel -->\n    <g transform=\"translate(96.34 16.318125) scale(0.12 -0.12)\">\n     <defs>\n      <path id=\"DejaVuSans-6c\" d=\"M 603 4863 \nL 1178 4863 \nL 1178 0 \nL 603 0 \nL 603 4863 \nz\n\" transform=\"scale(0.015625)\"/>\n      <path id=\"DejaVuSans-69\" d=\"M 603 3500 \nL 1178 3500 \nL 1178 0 \nL 603 0 \nL 603 3500 \nz\nM 603 4863 \nL 1178 4863 \nL 1178 4134 \nL 603 4134 \nL 603 4863 \nz\n\" transform=\"scale(0.015625)\"/>\n      <path id=\"DejaVuSans-68\" d=\"M 3513 2113 \nL 3513 0 \nL 2938 0 \nL 2938 2094 \nQ 2938 2591 2744 2837 \nQ 2550 3084 2163 3084 \nQ 1697 3084 1428 2787 \nQ 1159 2491 1159 1978 \nL 1159 0 \nL 581 0 \nL 581 4863 \nL 1159 4863 \nL 1159 2956 \nQ 1366 3272 1645 3428 \nQ 1925 3584 2291 3584 \nQ 2894 3584 3203 3211 \nQ 3513 2838 3513 2113 \nz\n\" transform=\"scale(0.015625)\"/>\n     </defs>\n     <use xlink:href=\"#DejaVuSans-43\"/>\n     <use xlink:href=\"#DejaVuSans-65\" x=\"69.824219\"/>\n     <use xlink:href=\"#DejaVuSans-6c\" x=\"131.347656\"/>\n     <use xlink:href=\"#DejaVuSans-6c\" x=\"159.130859\"/>\n     <use xlink:href=\"#DejaVuSans-20\" x=\"186.914062\"/>\n     <use xlink:href=\"#DejaVuSans-6f\" x=\"218.701172\"/>\n     <use xlink:href=\"#DejaVuSans-72\" x=\"279.882812\"/>\n     <use xlink:href=\"#DejaVuSans-69\" x=\"320.996094\"/>\n     <use xlink:href=\"#DejaVuSans-65\" x=\"348.779297\"/>\n     <use xlink:href=\"#DejaVuSans-6e\" x=\"410.302734\"/>\n     <use xlink:href=\"#DejaVuSans-74\" x=\"473.681641\"/>\n     <use xlink:href=\"#DejaVuSans-61\" x=\"512.890625\"/>\n     <use xlink:href=\"#DejaVuSans-74\" x=\"574.169922\"/>\n     <use xlink:href=\"#DejaVuSans-69\" x=\"613.378906\"/>\n     <use xlink:href=\"#DejaVuSans-6f\" x=\"641.162109\"/>\n     <use xlink:href=\"#DejaVuSans-6e\" x=\"702.34375\"/>\n     <use xlink:href=\"#DejaVuSans-20\" x=\"765.722656\"/>\n     <use xlink:href=\"#DejaVuSans-61\" x=\"797.509766\"/>\n     <use xlink:href=\"#DejaVuSans-6c\" x=\"858.789062\"/>\n     <use xlink:href=\"#DejaVuSans-6f\" x=\"886.572266\"/>\n     <use xlink:href=\"#DejaVuSans-6e\" x=\"947.753906\"/>\n     <use xlink:href=\"#DejaVuSans-67\" x=\"1011.132812\"/>\n     <use xlink:href=\"#DejaVuSans-20\" x=\"1074.609375\"/>\n     <use xlink:href=\"#DejaVuSans-63\" x=\"1106.396484\"/>\n     <use xlink:href=\"#DejaVuSans-68\" x=\"1161.376953\"/>\n     <use xlink:href=\"#DejaVuSans-61\" x=\"1224.755859\"/>\n     <use xlink:href=\"#DejaVuSans-6e\" x=\"1286.035156\"/>\n     <use xlink:href=\"#DejaVuSans-6e\" x=\"1349.414062\"/>\n     <use xlink:href=\"#DejaVuSans-65\" x=\"1412.792969\"/>\n     <use xlink:href=\"#DejaVuSans-6c\" x=\"1474.316406\"/>\n    </g>\n   </g>\n  </g>\n </g>\n <defs>\n  <clipPath id=\"pacb90869ef\">\n   <rect x=\"46.965625\" y=\"22.318125\" width=\"279\" height=\"194.04\"/>\n  </clipPath>\n </defs>\n</svg>\n",
      "text/plain": [
       "<Figure size 500x350 with 1 Axes>"
      ]
     },
     "metadata": {},
     "output_type": "display_data"
    }
   ],
   "source": [
    "# Plot histograms of some cell properties\n",
    "\n",
    "# Orientation\n",
    "plt.figure(figsize=(5,3.5))\n",
    "plt.title(\"Cell orientation along channel\")\n",
    "plt.hist(angles, edgecolor='black', color='gray', bins=90)\n",
    "plt.xlabel(r\"$\\arccos{\\hat{r}\\cdot\\hat{x}}$ [deg]\")\n",
    "plt.ylabel(\"Count (N={:d})\".format(len(angles)))\n",
    "plt.savefig(join_paths(out_dir_path,'oritent_hist.pdf'), dpi=300)\n",
    "# plt.close()"
   ]
  },
  {
   "cell_type": "code",
   "execution_count": 33,
   "metadata": {},
   "outputs": [
    {
     "data": {
      "image/png": "[encoded data removed]",
      "image/svg+xml": "<?xml version=\"1.0\" encoding=\"utf-8\" standalone=\"no\"?>\n<!DOCTYPE svg PUBLIC \"-//W3C//DTD SVG 1.1//EN\"\n  \"http://www.w3.org/Graphics/SVG/1.1/DTD/svg11.dtd\">\n<svg xmlns:xlink=\"http://www.w3.org/1999/xlink\" width=\"336.34375pt\" height=\"255.63625pt\" viewBox=\"0 0 336.34375 255.63625\" xmlns=\"http://www.w3.org/2000/svg\" version=\"1.1\">\n <metadata>\n  <rdf:RDF xmlns:dc=\"http://purl.org/dc/elements/1.1/\" xmlns:cc=\"http://creativecommons.org/ns#\" xmlns:rdf=\"http://www.w3.org/1999/02/22-rdf-syntax-ns#\">\n   <cc:Work>\n    <dc:type rdf:resource=\"http://purl.org/dc/dcmitype/StillImage\"/>\n    <dc:date>2022-11-28T16:22:19.243402</dc:date>\n    <dc:format>image/svg+xml</dc:format>\n    <dc:creator>\n     <cc:Agent>\n      <dc:title>Matplotlib v3.6.1, https://matplotlib.org/</dc:title>\n     </cc:Agent>\n    </dc:creator>\n   </cc:Work>\n  </rdf:RDF>\n </metadata>\n <defs>\n  <style type=\"text/css\">*{stroke-linejoin: round; stroke-linecap: butt}</style>\n </defs>\n <g id=\"figure_1\">\n  <g id=\"patch_1\">\n   <path d=\"M 0 255.63625 \nL 336.34375 255.63625 \nL 336.34375 0 \nL 0 0 \nz\n\" style=\"fill: #ffffff\"/>\n  </g>\n  <g id=\"axes_1\">\n   <g id=\"patch_2\">\n    <path d=\"M 50.14375 216.358125 \nL 329.14375 216.358125 \nL 329.14375 22.318125 \nL 50.14375 22.318125 \nz\n\" style=\"fill: #ffffff\"/>\n   </g>\n   <g id=\"matplotlib.axis_1\">\n    <g id=\"xtick_1\">\n     <g id=\"line2d_1\">\n      <defs>\n       <path id=\"mc65fe9dc30\" d=\"M 0 0 \nL 0 3.5 \n\" style=\"stroke: #000000; stroke-width: 0.8\"/>\n      </defs>\n      <g>\n       <use xlink:href=\"#mc65fe9dc30\" x=\"83.961932\" y=\"216.358125\" style=\"stroke: #000000; stroke-width: 0.8\"/>\n      </g>\n     </g>\n     <g id=\"text_1\">\n      <!-- −75 -->\n      <g transform=\"translate(73.409588 230.956562) scale(0.1 -0.1)\">\n       <defs>\n        <path id=\"DejaVuSans-2212\" d=\"M 678 2272 \nL 4684 2272 \nL 4684 1741 \nL 678 1741 \nL 678 2272 \nz\n\" transform=\"scale(0.015625)\"/>\n        <path id=\"DejaVuSans-37\" d=\"M 525 4666 \nL 3525 4666 \nL 3525 4397 \nL 1831 0 \nL 1172 0 \nL 2766 4134 \nL 525 4134 \nL 525 4666 \nz\n\" transform=\"scale(0.015625)\"/>\n        <path id=\"DejaVuSans-35\" d=\"M 691 4666 \nL 3169 4666 \nL 3169 4134 \nL 1269 4134 \nL 1269 2991 \nQ 1406 3038 1543 3061 \nQ 1681 3084 1819 3084 \nQ 2600 3084 3056 2656 \nQ 3513 2228 3513 1497 \nQ 3513 744 3044 326 \nQ 2575 -91 1722 -91 \nQ 1428 -91 1123 -41 \nQ 819 9 494 109 \nL 494 744 \nQ 775 591 1075 516 \nQ 1375 441 1709 441 \nQ 2250 441 2565 725 \nQ 2881 1009 2881 1497 \nQ 2881 1984 2565 2268 \nQ 2250 2553 1709 2553 \nQ 1456 2553 1204 2497 \nQ 953 2441 691 2322 \nL 691 4666 \nz\n\" transform=\"scale(0.015625)\"/>\n       </defs>\n       <use xlink:href=\"#DejaVuSans-2212\"/>\n       <use xlink:href=\"#DejaVuSans-37\" x=\"83.789062\"/>\n       <use xlink:href=\"#DejaVuSans-35\" x=\"147.412109\"/>\n      </g>\n     </g>\n    </g>\n    <g id=\"xtick_2\">\n     <g id=\"line2d_2\">\n      <g>\n       <use xlink:href=\"#mc65fe9dc30\" x=\"119.189205\" y=\"216.358125\" style=\"stroke: #000000; stroke-width: 0.8\"/>\n      </g>\n     </g>\n     <g id=\"text_2\">\n      <!-- −50 -->\n      <g transform=\"translate(108.636861 230.956562) scale(0.1 -0.1)\">\n       <defs>\n        <path id=\"DejaVuSans-30\" d=\"M 2034 4250 \nQ 1547 4250 1301 3770 \nQ 1056 3291 1056 2328 \nQ 1056 1369 1301 889 \nQ 1547 409 2034 409 \nQ 2525 409 2770 889 \nQ 3016 1369 3016 2328 \nQ 3016 3291 2770 3770 \nQ 2525 4250 2034 4250 \nz\nM 2034 4750 \nQ 2819 4750 3233 4129 \nQ 3647 3509 3647 2328 \nQ 3647 1150 3233 529 \nQ 2819 -91 2034 -91 \nQ 1250 -91 836 529 \nQ 422 1150 422 2328 \nQ 422 3509 836 4129 \nQ 1250 4750 2034 4750 \nz\n\" transform=\"scale(0.015625)\"/>\n       </defs>\n       <use xlink:href=\"#DejaVuSans-2212\"/>\n       <use xlink:href=\"#DejaVuSans-35\" x=\"83.789062\"/>\n       <use xlink:href=\"#DejaVuSans-30\" x=\"147.412109\"/>\n      </g>\n     </g>\n    </g>\n    <g id=\"xtick_3\">\n     <g id=\"line2d_3\">\n      <g>\n       <use xlink:href=\"#mc65fe9dc30\" x=\"154.416477\" y=\"216.358125\" style=\"stroke: #000000; stroke-width: 0.8\"/>\n      </g>\n     </g>\n     <g id=\"text_3\">\n      <!-- −25 -->\n      <g transform=\"translate(143.864134 230.956562) scale(0.1 -0.1)\">\n       <defs>\n        <path id=\"DejaVuSans-32\" d=\"M 1228 531 \nL 3431 531 \nL 3431 0 \nL 469 0 \nL 469 531 \nQ 828 903 1448 1529 \nQ 2069 2156 2228 2338 \nQ 2531 2678 2651 2914 \nQ 2772 3150 2772 3378 \nQ 2772 3750 2511 3984 \nQ 2250 4219 1831 4219 \nQ 1534 4219 1204 4116 \nQ 875 4013 500 3803 \nL 500 4441 \nQ 881 4594 1212 4672 \nQ 1544 4750 1819 4750 \nQ 2544 4750 2975 4387 \nQ 3406 4025 3406 3419 \nQ 3406 3131 3298 2873 \nQ 3191 2616 2906 2266 \nQ 2828 2175 2409 1742 \nQ 1991 1309 1228 531 \nz\n\" transform=\"scale(0.015625)\"/>\n       </defs>\n       <use xlink:href=\"#DejaVuSans-2212\"/>\n       <use xlink:href=\"#DejaVuSans-32\" x=\"83.789062\"/>\n       <use xlink:href=\"#DejaVuSans-35\" x=\"147.412109\"/>\n      </g>\n     </g>\n    </g>\n    <g id=\"xtick_4\">\n     <g id=\"line2d_4\">\n      <g>\n       <use xlink:href=\"#mc65fe9dc30\" x=\"189.64375\" y=\"216.358125\" style=\"stroke: #000000; stroke-width: 0.8\"/>\n      </g>\n     </g>\n     <g id=\"text_4\">\n      <!-- 0 -->\n      <g transform=\"translate(186.4625 230.956562) scale(0.1 -0.1)\">\n       <use xlink:href=\"#DejaVuSans-30\"/>\n      </g>\n     </g>\n    </g>\n    <g id=\"xtick_5\">\n     <g id=\"line2d_5\">\n      <g>\n       <use xlink:href=\"#mc65fe9dc30\" x=\"224.871023\" y=\"216.358125\" style=\"stroke: #000000; stroke-width: 0.8\"/>\n      </g>\n     </g>\n     <g id=\"text_5\">\n      <!-- 25 -->\n      <g transform=\"translate(218.508523 230.956562) scale(0.1 -0.1)\">\n       <use xlink:href=\"#DejaVuSans-32\"/>\n       <use xlink:href=\"#DejaVuSans-35\" x=\"63.623047\"/>\n      </g>\n     </g>\n    </g>\n    <g id=\"xtick_6\">\n     <g id=\"line2d_6\">\n      <g>\n       <use xlink:href=\"#mc65fe9dc30\" x=\"260.098295\" y=\"216.358125\" style=\"stroke: #000000; stroke-width: 0.8\"/>\n      </g>\n     </g>\n     <g id=\"text_6\">\n      <!-- 50 -->\n      <g transform=\"translate(253.735795 230.956562) scale(0.1 -0.1)\">\n       <use xlink:href=\"#DejaVuSans-35\"/>\n       <use xlink:href=\"#DejaVuSans-30\" x=\"63.623047\"/>\n      </g>\n     </g>\n    </g>\n    <g id=\"xtick_7\">\n     <g id=\"line2d_7\">\n      <g>\n       <use xlink:href=\"#mc65fe9dc30\" x=\"295.325568\" y=\"216.358125\" style=\"stroke: #000000; stroke-width: 0.8\"/>\n      </g>\n     </g>\n     <g id=\"text_7\">\n      <!-- 75 -->\n      <g transform=\"translate(288.963068 230.956562) scale(0.1 -0.1)\">\n       <use xlink:href=\"#DejaVuSans-37\"/>\n       <use xlink:href=\"#DejaVuSans-35\" x=\"63.623047\"/>\n      </g>\n     </g>\n    </g>\n    <g id=\"text_8\">\n     <!-- $\\arccos{\\hat{r}\\cdot\\hat{x}}$ [deg] -->\n     <g transform=\"translate(149.04375 246.33625) scale(0.1 -0.1)\">\n      <defs>\n       <path id=\"DejaVuSans-61\" d=\"M 2194 1759 \nQ 1497 1759 1228 1600 \nQ 959 1441 959 1056 \nQ 959 750 1161 570 \nQ 1363 391 1709 391 \nQ 2188 391 2477 730 \nQ 2766 1069 2766 1631 \nL 2766 1759 \nL 2194 1759 \nz\nM 3341 1997 \nL 3341 0 \nL 2766 0 \nL 2766 531 \nQ 2569 213 2275 61 \nQ 1981 -91 1556 -91 \nQ 1019 -91 701 211 \nQ 384 513 384 1019 \nQ 384 1609 779 1909 \nQ 1175 2209 1959 2209 \nL 2766 2209 \nL 2766 2266 \nQ 2766 2663 2505 2880 \nQ 2244 3097 1772 3097 \nQ 1472 3097 1187 3025 \nQ 903 2953 641 2809 \nL 641 3341 \nQ 956 3463 1253 3523 \nQ 1550 3584 1831 3584 \nQ 2591 3584 2966 3190 \nQ 3341 2797 3341 1997 \nz\n\" transform=\"scale(0.015625)\"/>\n       <path id=\"DejaVuSans-72\" d=\"M 2631 2963 \nQ 2534 3019 2420 3045 \nQ 2306 3072 2169 3072 \nQ 1681 3072 1420 2755 \nQ 1159 2438 1159 1844 \nL 1159 0 \nL 581 0 \nL 581 3500 \nL 1159 3500 \nL 1159 2956 \nQ 1341 3275 1631 3429 \nQ 1922 3584 2338 3584 \nQ 2397 3584 2469 3576 \nQ 2541 3569 2628 3553 \nL 2631 2963 \nz\n\" transform=\"scale(0.015625)\"/>\n       <path id=\"DejaVuSans-63\" d=\"M 3122 3366 \nL 3122 2828 \nQ 2878 2963 2633 3030 \nQ 2388 3097 2138 3097 \nQ 1578 3097 1268 2742 \nQ 959 2388 959 1747 \nQ 959 1106 1268 751 \nQ 1578 397 2138 397 \nQ 2388 397 2633 464 \nQ 2878 531 3122 666 \nL 3122 134 \nQ 2881 22 2623 -34 \nQ 2366 -91 2075 -91 \nQ 1284 -91 818 406 \nQ 353 903 353 1747 \nQ 353 2603 823 3093 \nQ 1294 3584 2113 3584 \nQ 2378 3584 2631 3529 \nQ 2884 3475 3122 3366 \nz\n\" transform=\"scale(0.015625)\"/>\n       <path id=\"DejaVuSans-6f\" d=\"M 1959 3097 \nQ 1497 3097 1228 2736 \nQ 959 2375 959 1747 \nQ 959 1119 1226 758 \nQ 1494 397 1959 397 \nQ 2419 397 2687 759 \nQ 2956 1122 2956 1747 \nQ 2956 2369 2687 2733 \nQ 2419 3097 1959 3097 \nz\nM 1959 3584 \nQ 2709 3584 3137 3096 \nQ 3566 2609 3566 1747 \nQ 3566 888 3137 398 \nQ 2709 -91 1959 -91 \nQ 1206 -91 779 398 \nQ 353 888 353 1747 \nQ 353 2609 779 3096 \nQ 1206 3584 1959 3584 \nz\n\" transform=\"scale(0.015625)\"/>\n       <path id=\"DejaVuSans-73\" d=\"M 2834 3397 \nL 2834 2853 \nQ 2591 2978 2328 3040 \nQ 2066 3103 1784 3103 \nQ 1356 3103 1142 2972 \nQ 928 2841 928 2578 \nQ 928 2378 1081 2264 \nQ 1234 2150 1697 2047 \nL 1894 2003 \nQ 2506 1872 2764 1633 \nQ 3022 1394 3022 966 \nQ 3022 478 2636 193 \nQ 2250 -91 1575 -91 \nQ 1294 -91 989 -36 \nQ 684 19 347 128 \nL 347 722 \nQ 666 556 975 473 \nQ 1284 391 1588 391 \nQ 1994 391 2212 530 \nQ 2431 669 2431 922 \nQ 2431 1156 2273 1281 \nQ 2116 1406 1581 1522 \nL 1381 1569 \nQ 847 1681 609 1914 \nQ 372 2147 372 2553 \nQ 372 3047 722 3315 \nQ 1072 3584 1716 3584 \nQ 2034 3584 2315 3537 \nQ 2597 3491 2834 3397 \nz\n\" transform=\"scale(0.015625)\"/>\n       <path id=\"DejaVuSans-302\" d=\"M -1831 5119 \nL -1369 5119 \nL -603 3944 \nL -1038 3944 \nL -1600 4709 \nL -2163 3944 \nL -2597 3944 \nL -1831 5119 \nz\nM -1600 3584 \nL -1600 3584 \nz\n\" transform=\"scale(0.015625)\"/>\n       <path id=\"DejaVuSans-Oblique-72\" d=\"M 2853 2969 \nQ 2766 3016 2653 3041 \nQ 2541 3066 2413 3066 \nQ 1953 3066 1609 2717 \nQ 1266 2369 1153 1784 \nL 800 0 \nL 225 0 \nL 909 3500 \nL 1484 3500 \nL 1375 2956 \nQ 1603 3259 1920 3421 \nQ 2238 3584 2597 3584 \nQ 2691 3584 2781 3573 \nQ 2872 3563 2963 3538 \nL 2853 2969 \nz\n\" transform=\"scale(0.015625)\"/>\n       <path id=\"DejaVuSans-22c5\" d=\"M 684 2619 \nL 1344 2619 \nL 1344 1825 \nL 684 1825 \nL 684 2619 \nz\n\" transform=\"scale(0.015625)\"/>\n       <path id=\"DejaVuSans-Oblique-78\" d=\"M 3841 3500 \nL 2234 1784 \nL 3219 0 \nL 2559 0 \nL 1819 1388 \nL 531 0 \nL -166 0 \nL 1556 1844 \nL 641 3500 \nL 1300 3500 \nL 1972 2234 \nL 3144 3500 \nL 3841 3500 \nz\n\" transform=\"scale(0.015625)\"/>\n       <path id=\"DejaVuSans-20\" transform=\"scale(0.015625)\"/>\n       <path id=\"DejaVuSans-5b\" d=\"M 550 4863 \nL 1875 4863 \nL 1875 4416 \nL 1125 4416 \nL 1125 -397 \nL 1875 -397 \nL 1875 -844 \nL 550 -844 \nL 550 4863 \nz\n\" transform=\"scale(0.015625)\"/>\n       <path id=\"DejaVuSans-64\" d=\"M 2906 2969 \nL 2906 4863 \nL 3481 4863 \nL 3481 0 \nL 2906 0 \nL 2906 525 \nQ 2725 213 2448 61 \nQ 2172 -91 1784 -91 \nQ 1150 -91 751 415 \nQ 353 922 353 1747 \nQ 353 2572 751 3078 \nQ 1150 3584 1784 3584 \nQ 2172 3584 2448 3432 \nQ 2725 3281 2906 2969 \nz\nM 947 1747 \nQ 947 1113 1208 752 \nQ 1469 391 1925 391 \nQ 2381 391 2643 752 \nQ 2906 1113 2906 1747 \nQ 2906 2381 2643 2742 \nQ 2381 3103 1925 3103 \nQ 1469 3103 1208 2742 \nQ 947 2381 947 1747 \nz\n\" transform=\"scale(0.015625)\"/>\n       <path id=\"DejaVuSans-65\" d=\"M 3597 1894 \nL 3597 1613 \nL 953 1613 \nQ 991 1019 1311 708 \nQ 1631 397 2203 397 \nQ 2534 397 2845 478 \nQ 3156 559 3463 722 \nL 3463 178 \nQ 3153 47 2828 -22 \nQ 2503 -91 2169 -91 \nQ 1331 -91 842 396 \nQ 353 884 353 1716 \nQ 353 2575 817 3079 \nQ 1281 3584 2069 3584 \nQ 2775 3584 3186 3129 \nQ 3597 2675 3597 1894 \nz\nM 3022 2063 \nQ 3016 2534 2758 2815 \nQ 2500 3097 2075 3097 \nQ 1594 3097 1305 2825 \nQ 1016 2553 972 2059 \nL 3022 2063 \nz\n\" transform=\"scale(0.015625)\"/>\n       <path id=\"DejaVuSans-67\" d=\"M 2906 1791 \nQ 2906 2416 2648 2759 \nQ 2391 3103 1925 3103 \nQ 1463 3103 1205 2759 \nQ 947 2416 947 1791 \nQ 947 1169 1205 825 \nQ 1463 481 1925 481 \nQ 2391 481 2648 825 \nQ 2906 1169 2906 1791 \nz\nM 3481 434 \nQ 3481 -459 3084 -895 \nQ 2688 -1331 1869 -1331 \nQ 1566 -1331 1297 -1286 \nQ 1028 -1241 775 -1147 \nL 775 -588 \nQ 1028 -725 1275 -790 \nQ 1522 -856 1778 -856 \nQ 2344 -856 2625 -561 \nQ 2906 -266 2906 331 \nL 2906 616 \nQ 2728 306 2450 153 \nQ 2172 0 1784 0 \nQ 1141 0 747 490 \nQ 353 981 353 1791 \nQ 353 2603 747 3093 \nQ 1141 3584 1784 3584 \nQ 2172 3584 2450 3431 \nQ 2728 3278 2906 2969 \nL 2906 3500 \nL 3481 3500 \nL 3481 434 \nz\n\" transform=\"scale(0.015625)\"/>\n       <path id=\"DejaVuSans-5d\" d=\"M 1947 4863 \nL 1947 -844 \nL 622 -844 \nL 622 -397 \nL 1369 -397 \nL 1369 4416 \nL 622 4416 \nL 622 4863 \nL 1947 4863 \nz\n\" transform=\"scale(0.015625)\"/>\n      </defs>\n      <use xlink:href=\"#DejaVuSans-61\" transform=\"translate(0 0.515625)\"/>\n      <use xlink:href=\"#DejaVuSans-72\" transform=\"translate(61.279297 0.515625)\"/>\n      <use xlink:href=\"#DejaVuSans-63\" transform=\"translate(102.392578 0.515625)\"/>\n      <use xlink:href=\"#DejaVuSans-63\" transform=\"translate(157.373047 0.515625)\"/>\n      <use xlink:href=\"#DejaVuSans-6f\" transform=\"translate(212.353516 0.515625)\"/>\n      <use xlink:href=\"#DejaVuSans-73\" transform=\"translate(273.535156 0.515625)\"/>\n      <use xlink:href=\"#DejaVuSans-302\" transform=\"translate(392.726887 13.015625)\"/>\n      <use xlink:href=\"#DejaVuSans-Oblique-72\" transform=\"translate(341.870442 0.515625)\"/>\n      <use xlink:href=\"#DejaVuSans-22c5\" transform=\"translate(402.466145 0.515625)\"/>\n      <use xlink:href=\"#DejaVuSans-302\" transform=\"translate(516.108723 11.703125)\"/>\n      <use xlink:href=\"#DejaVuSans-Oblique-78\" transform=\"translate(453.735676 0.515625)\"/>\n      <use xlink:href=\"#DejaVuSans-20\" transform=\"translate(512.915364 0.515625)\"/>\n      <use xlink:href=\"#DejaVuSans-5b\" transform=\"translate(544.702473 0.515625)\"/>\n      <use xlink:href=\"#DejaVuSans-64\" transform=\"translate(583.716145 0.515625)\"/>\n      <use xlink:href=\"#DejaVuSans-65\" transform=\"translate(647.192708 0.515625)\"/>\n      <use xlink:href=\"#DejaVuSans-67\" transform=\"translate(708.716145 0.515625)\"/>\n      <use xlink:href=\"#DejaVuSans-5d\" transform=\"translate(772.192708 0.515625)\"/>\n     </g>\n    </g>\n   </g>\n   <g id=\"matplotlib.axis_2\">\n    <g id=\"ytick_1\">\n     <g id=\"line2d_8\">\n      <defs>\n       <path id=\"m3319d3ee8d\" d=\"M 0 0 \nL -3.5 0 \n\" style=\"stroke: #000000; stroke-width: 0.8\"/>\n      </defs>\n      <g>\n       <use xlink:href=\"#m3319d3ee8d\" x=\"50.14375\" y=\"207.543034\" style=\"stroke: #000000; stroke-width: 0.8\"/>\n      </g>\n     </g>\n     <g id=\"text_9\">\n      <!-- 0.00 -->\n      <g transform=\"translate(20.878125 211.342253) scale(0.1 -0.1)\">\n       <defs>\n        <path id=\"DejaVuSans-2e\" d=\"M 684 794 \nL 1344 794 \nL 1344 0 \nL 684 0 \nL 684 794 \nz\n\" transform=\"scale(0.015625)\"/>\n       </defs>\n       <use xlink:href=\"#DejaVuSans-30\"/>\n       <use xlink:href=\"#DejaVuSans-2e\" x=\"63.623047\"/>\n       <use xlink:href=\"#DejaVuSans-30\" x=\"95.410156\"/>\n       <use xlink:href=\"#DejaVuSans-30\" x=\"159.033203\"/>\n      </g>\n     </g>\n    </g>\n    <g id=\"ytick_2\">\n     <g id=\"line2d_9\">\n      <g>\n       <use xlink:href=\"#m3319d3ee8d\" x=\"50.14375\" y=\"172.278593\" style=\"stroke: #000000; stroke-width: 0.8\"/>\n      </g>\n     </g>\n     <g id=\"text_10\">\n      <!-- 0.01 -->\n      <g transform=\"translate(20.878125 176.077812) scale(0.1 -0.1)\">\n       <defs>\n        <path id=\"DejaVuSans-31\" d=\"M 794 531 \nL 1825 531 \nL 1825 4091 \nL 703 3866 \nL 703 4441 \nL 1819 4666 \nL 2450 4666 \nL 2450 531 \nL 3481 531 \nL 3481 0 \nL 794 0 \nL 794 531 \nz\n\" transform=\"scale(0.015625)\"/>\n       </defs>\n       <use xlink:href=\"#DejaVuSans-30\"/>\n       <use xlink:href=\"#DejaVuSans-2e\" x=\"63.623047\"/>\n       <use xlink:href=\"#DejaVuSans-30\" x=\"95.410156\"/>\n       <use xlink:href=\"#DejaVuSans-31\" x=\"159.033203\"/>\n      </g>\n     </g>\n    </g>\n    <g id=\"ytick_3\">\n     <g id=\"line2d_10\">\n      <g>\n       <use xlink:href=\"#m3319d3ee8d\" x=\"50.14375\" y=\"137.014152\" style=\"stroke: #000000; stroke-width: 0.8\"/>\n      </g>\n     </g>\n     <g id=\"text_11\">\n      <!-- 0.02 -->\n      <g transform=\"translate(20.878125 140.81337) scale(0.1 -0.1)\">\n       <use xlink:href=\"#DejaVuSans-30\"/>\n       <use xlink:href=\"#DejaVuSans-2e\" x=\"63.623047\"/>\n       <use xlink:href=\"#DejaVuSans-30\" x=\"95.410156\"/>\n       <use xlink:href=\"#DejaVuSans-32\" x=\"159.033203\"/>\n      </g>\n     </g>\n    </g>\n    <g id=\"ytick_4\">\n     <g id=\"line2d_11\">\n      <g>\n       <use xlink:href=\"#m3319d3ee8d\" x=\"50.14375\" y=\"101.74971\" style=\"stroke: #000000; stroke-width: 0.8\"/>\n      </g>\n     </g>\n     <g id=\"text_12\">\n      <!-- 0.03 -->\n      <g transform=\"translate(20.878125 105.548929) scale(0.1 -0.1)\">\n       <defs>\n        <path id=\"DejaVuSans-33\" d=\"M 2597 2516 \nQ 3050 2419 3304 2112 \nQ 3559 1806 3559 1356 \nQ 3559 666 3084 287 \nQ 2609 -91 1734 -91 \nQ 1441 -91 1130 -33 \nQ 819 25 488 141 \nL 488 750 \nQ 750 597 1062 519 \nQ 1375 441 1716 441 \nQ 2309 441 2620 675 \nQ 2931 909 2931 1356 \nQ 2931 1769 2642 2001 \nQ 2353 2234 1838 2234 \nL 1294 2234 \nL 1294 2753 \nL 1863 2753 \nQ 2328 2753 2575 2939 \nQ 2822 3125 2822 3475 \nQ 2822 3834 2567 4026 \nQ 2313 4219 1838 4219 \nQ 1578 4219 1281 4162 \nQ 984 4106 628 3988 \nL 628 4550 \nQ 988 4650 1302 4700 \nQ 1616 4750 1894 4750 \nQ 2613 4750 3031 4423 \nQ 3450 4097 3450 3541 \nQ 3450 3153 3228 2886 \nQ 3006 2619 2597 2516 \nz\n\" transform=\"scale(0.015625)\"/>\n       </defs>\n       <use xlink:href=\"#DejaVuSans-30\"/>\n       <use xlink:href=\"#DejaVuSans-2e\" x=\"63.623047\"/>\n       <use xlink:href=\"#DejaVuSans-30\" x=\"95.410156\"/>\n       <use xlink:href=\"#DejaVuSans-33\" x=\"159.033203\"/>\n      </g>\n     </g>\n    </g>\n    <g id=\"ytick_5\">\n     <g id=\"line2d_12\">\n      <g>\n       <use xlink:href=\"#m3319d3ee8d\" x=\"50.14375\" y=\"66.485269\" style=\"stroke: #000000; stroke-width: 0.8\"/>\n      </g>\n     </g>\n     <g id=\"text_13\">\n      <!-- 0.04 -->\n      <g transform=\"translate(20.878125 70.284488) scale(0.1 -0.1)\">\n       <defs>\n        <path id=\"DejaVuSans-34\" d=\"M 2419 4116 \nL 825 1625 \nL 2419 1625 \nL 2419 4116 \nz\nM 2253 4666 \nL 3047 4666 \nL 3047 1625 \nL 3713 1625 \nL 3713 1100 \nL 3047 1100 \nL 3047 0 \nL 2419 0 \nL 2419 1100 \nL 313 1100 \nL 313 1709 \nL 2253 4666 \nz\n\" transform=\"scale(0.015625)\"/>\n       </defs>\n       <use xlink:href=\"#DejaVuSans-30\"/>\n       <use xlink:href=\"#DejaVuSans-2e\" x=\"63.623047\"/>\n       <use xlink:href=\"#DejaVuSans-30\" x=\"95.410156\"/>\n       <use xlink:href=\"#DejaVuSans-34\" x=\"159.033203\"/>\n      </g>\n     </g>\n    </g>\n    <g id=\"ytick_6\">\n     <g id=\"line2d_13\">\n      <g>\n       <use xlink:href=\"#m3319d3ee8d\" x=\"50.14375\" y=\"31.220828\" style=\"stroke: #000000; stroke-width: 0.8\"/>\n      </g>\n     </g>\n     <g id=\"text_14\">\n      <!-- 0.05 -->\n      <g transform=\"translate(20.878125 35.020047) scale(0.1 -0.1)\">\n       <use xlink:href=\"#DejaVuSans-30\"/>\n       <use xlink:href=\"#DejaVuSans-2e\" x=\"63.623047\"/>\n       <use xlink:href=\"#DejaVuSans-30\" x=\"95.410156\"/>\n       <use xlink:href=\"#DejaVuSans-35\" x=\"159.033203\"/>\n      </g>\n     </g>\n    </g>\n    <g id=\"text_15\">\n     <!-- Count (N=5457) -->\n     <g transform=\"translate(14.798438 160.332656) rotate(-90) scale(0.1 -0.1)\">\n      <defs>\n       <path id=\"DejaVuSans-43\" d=\"M 4122 4306 \nL 4122 3641 \nQ 3803 3938 3442 4084 \nQ 3081 4231 2675 4231 \nQ 1875 4231 1450 3742 \nQ 1025 3253 1025 2328 \nQ 1025 1406 1450 917 \nQ 1875 428 2675 428 \nQ 3081 428 3442 575 \nQ 3803 722 4122 1019 \nL 4122 359 \nQ 3791 134 3420 21 \nQ 3050 -91 2638 -91 \nQ 1578 -91 968 557 \nQ 359 1206 359 2328 \nQ 359 3453 968 4101 \nQ 1578 4750 2638 4750 \nQ 3056 4750 3426 4639 \nQ 3797 4528 4122 4306 \nz\n\" transform=\"scale(0.015625)\"/>\n       <path id=\"DejaVuSans-75\" d=\"M 544 1381 \nL 544 3500 \nL 1119 3500 \nL 1119 1403 \nQ 1119 906 1312 657 \nQ 1506 409 1894 409 \nQ 2359 409 2629 706 \nQ 2900 1003 2900 1516 \nL 2900 3500 \nL 3475 3500 \nL 3475 0 \nL 2900 0 \nL 2900 538 \nQ 2691 219 2414 64 \nQ 2138 -91 1772 -91 \nQ 1169 -91 856 284 \nQ 544 659 544 1381 \nz\nM 1991 3584 \nL 1991 3584 \nz\n\" transform=\"scale(0.015625)\"/>\n       <path id=\"DejaVuSans-6e\" d=\"M 3513 2113 \nL 3513 0 \nL 2938 0 \nL 2938 2094 \nQ 2938 2591 2744 2837 \nQ 2550 3084 2163 3084 \nQ 1697 3084 1428 2787 \nQ 1159 2491 1159 1978 \nL 1159 0 \nL 581 0 \nL 581 3500 \nL 1159 3500 \nL 1159 2956 \nQ 1366 3272 1645 3428 \nQ 1925 3584 2291 3584 \nQ 2894 3584 3203 3211 \nQ 3513 2838 3513 2113 \nz\n\" transform=\"scale(0.015625)\"/>\n       <path id=\"DejaVuSans-74\" d=\"M 1172 4494 \nL 1172 3500 \nL 2356 3500 \nL 2356 3053 \nL 1172 3053 \nL 1172 1153 \nQ 1172 725 1289 603 \nQ 1406 481 1766 481 \nL 2356 481 \nL 2356 0 \nL 1766 0 \nQ 1100 0 847 248 \nQ 594 497 594 1153 \nL 594 3053 \nL 172 3053 \nL 172 3500 \nL 594 3500 \nL 594 4494 \nL 1172 4494 \nz\n\" transform=\"scale(0.015625)\"/>\n       <path id=\"DejaVuSans-28\" d=\"M 1984 4856 \nQ 1566 4138 1362 3434 \nQ 1159 2731 1159 2009 \nQ 1159 1288 1364 580 \nQ 1569 -128 1984 -844 \nL 1484 -844 \nQ 1016 -109 783 600 \nQ 550 1309 550 2009 \nQ 550 2706 781 3412 \nQ 1013 4119 1484 4856 \nL 1984 4856 \nz\n\" transform=\"scale(0.015625)\"/>\n       <path id=\"DejaVuSans-4e\" d=\"M 628 4666 \nL 1478 4666 \nL 3547 763 \nL 3547 4666 \nL 4159 4666 \nL 4159 0 \nL 3309 0 \nL 1241 3903 \nL 1241 0 \nL 628 0 \nL 628 4666 \nz\n\" transform=\"scale(0.015625)\"/>\n       <path id=\"DejaVuSans-3d\" d=\"M 678 2906 \nL 4684 2906 \nL 4684 2381 \nL 678 2381 \nL 678 2906 \nz\nM 678 1631 \nL 4684 1631 \nL 4684 1100 \nL 678 1100 \nL 678 1631 \nz\n\" transform=\"scale(0.015625)\"/>\n       <path id=\"DejaVuSans-29\" d=\"M 513 4856 \nL 1013 4856 \nQ 1481 4119 1714 3412 \nQ 1947 2706 1947 2009 \nQ 1947 1309 1714 600 \nQ 1481 -109 1013 -844 \nL 513 -844 \nQ 928 -128 1133 580 \nQ 1338 1288 1338 2009 \nQ 1338 2731 1133 3434 \nQ 928 4138 513 4856 \nz\n\" transform=\"scale(0.015625)\"/>\n      </defs>\n      <use xlink:href=\"#DejaVuSans-43\"/>\n      <use xlink:href=\"#DejaVuSans-6f\" x=\"69.824219\"/>\n      <use xlink:href=\"#DejaVuSans-75\" x=\"131.005859\"/>\n      <use xlink:href=\"#DejaVuSans-6e\" x=\"194.384766\"/>\n      <use xlink:href=\"#DejaVuSans-74\" x=\"257.763672\"/>\n      <use xlink:href=\"#DejaVuSans-20\" x=\"296.972656\"/>\n      <use xlink:href=\"#DejaVuSans-28\" x=\"328.759766\"/>\n      <use xlink:href=\"#DejaVuSans-4e\" x=\"367.773438\"/>\n      <use xlink:href=\"#DejaVuSans-3d\" x=\"442.578125\"/>\n      <use xlink:href=\"#DejaVuSans-35\" x=\"526.367188\"/>\n      <use xlink:href=\"#DejaVuSans-34\" x=\"589.990234\"/>\n      <use xlink:href=\"#DejaVuSans-35\" x=\"653.613281\"/>\n      <use xlink:href=\"#DejaVuSans-37\" x=\"717.236328\"/>\n      <use xlink:href=\"#DejaVuSans-29\" x=\"780.859375\"/>\n     </g>\n    </g>\n   </g>\n   <g id=\"line2d_14\">\n    <path d=\"M 62.825568 207.113324 \nL 65.387552 206.929781 \nL 67.949535 206.799086 \nL 70.511519 206.784615 \nL 73.073502 206.89758 \nL 75.635486 207.044728 \nL 78.197469 207.115718 \nL 80.759452 207.079804 \nL 83.321436 206.965867 \nL 85.883419 206.811315 \nL 88.445403 206.642149 \nL 91.007386 206.475946 \nL 93.56937 206.326416 \nL 96.131353 206.188336 \nL 98.693337 206.043487 \nL 101.25532 205.890667 \nL 103.817304 205.745645 \nL 106.379287 205.649881 \nL 108.941271 205.627909 \nL 111.503254 205.597617 \nL 114.065238 205.461713 \nL 116.627221 205.244637 \nL 119.189205 204.987521 \nL 121.751188 204.622919 \nL 124.313171 204.106208 \nL 126.875155 203.556321 \nL 129.437138 203.14254 \nL 131.999122 202.885411 \nL 134.561105 202.522039 \nL 137.123089 201.613855 \nL 139.685072 199.998404 \nL 142.247056 198.005981 \nL 144.809039 196.1298 \nL 147.371023 194.546466 \nL 149.933006 192.817021 \nL 152.49499 190.37834 \nL 155.056973 187.646812 \nL 157.618957 185.615597 \nL 160.18094 184.144177 \nL 162.742924 182.195927 \nL 165.304907 179.439202 \nL 167.86689 175.936036 \nL 170.428874 170.944484 \nL 172.990857 163.250493 \nL 175.552841 151.652706 \nL 178.114824 134.486871 \nL 180.676808 110.233593 \nL 183.238791 80.038296 \nL 185.800775 50.111091 \nL 188.362758 31.138125 \nL 190.924742 32.331485 \nL 193.486725 53.607185 \nL 196.048709 85.384313 \nL 198.610692 116.785857 \nL 201.172676 141.953021 \nL 203.734659 159.82791 \nL 206.296643 171.686921 \nL 208.858626 179.499334 \nL 211.42061 184.939073 \nL 213.982593 188.855735 \nL 216.544576 191.435547 \nL 219.10656 192.92639 \nL 221.668543 194.076026 \nL 224.230527 195.587335 \nL 226.79251 197.374308 \nL 229.354494 198.858582 \nL 231.916477 199.815418 \nL 234.478461 200.512302 \nL 237.040444 201.212006 \nL 239.602428 201.927224 \nL 242.164411 202.59963 \nL 244.726395 203.230832 \nL 247.288378 203.863243 \nL 249.850362 204.575066 \nL 252.412345 205.400235 \nL 254.974329 206.196197 \nL 257.536312 206.755583 \nL 260.098295 207.050405 \nL 262.660279 207.212672 \nL 265.222262 207.339362 \nL 267.784246 207.42682 \nL 270.346229 207.442846 \nL 272.908213 207.399596 \nL 275.470196 207.362068 \nL 278.03218 207.384633 \nL 280.594163 207.450278 \nL 283.156147 207.506827 \nL 285.71813 207.533184 \nL 288.280114 207.538125 \nL 290.842097 207.527278 \nL 293.404081 207.493009 \nL 295.966064 207.43305 \nL 298.528048 207.374009 \nL 301.090031 207.347236 \nL 303.652014 207.323383 \nL 306.213998 207.215833 \nL 308.775981 206.993548 \nL 311.337965 206.774327 \nL 313.899948 206.744214 \nL 316.461932 206.947578 \n\" clip-path=\"url(#p677e3a9f49)\" style=\"fill: none; stroke: #1f77b4; stroke-width: 1.5; stroke-linecap: square\"/>\n   </g>\n   <g id=\"patch_3\">\n    <path d=\"M 50.14375 216.358125 \nL 50.14375 22.318125 \n\" style=\"fill: none; stroke: #000000; stroke-width: 0.8; stroke-linejoin: miter; stroke-linecap: square\"/>\n   </g>\n   <g id=\"patch_4\">\n    <path d=\"M 329.14375 216.358125 \nL 329.14375 22.318125 \n\" style=\"fill: none; stroke: #000000; stroke-width: 0.8; stroke-linejoin: miter; stroke-linecap: square\"/>\n   </g>\n   <g id=\"patch_5\">\n    <path d=\"M 50.14375 216.358125 \nL 329.14375 216.358125 \n\" style=\"fill: none; stroke: #000000; stroke-width: 0.8; stroke-linejoin: miter; stroke-linecap: square\"/>\n   </g>\n   <g id=\"patch_6\">\n    <path d=\"M 50.14375 22.318125 \nL 329.14375 22.318125 \n\" style=\"fill: none; stroke: #000000; stroke-width: 0.8; stroke-linejoin: miter; stroke-linecap: square\"/>\n   </g>\n   <g id=\"text_16\">\n    <!-- Cell orientation along channel -->\n    <g transform=\"translate(99.518125 16.318125) scale(0.12 -0.12)\">\n     <defs>\n      <path id=\"DejaVuSans-6c\" d=\"M 603 4863 \nL 1178 4863 \nL 1178 0 \nL 603 0 \nL 603 4863 \nz\n\" transform=\"scale(0.015625)\"/>\n      <path id=\"DejaVuSans-69\" d=\"M 603 3500 \nL 1178 3500 \nL 1178 0 \nL 603 0 \nL 603 3500 \nz\nM 603 4863 \nL 1178 4863 \nL 1178 4134 \nL 603 4134 \nL 603 4863 \nz\n\" transform=\"scale(0.015625)\"/>\n      <path id=\"DejaVuSans-68\" d=\"M 3513 2113 \nL 3513 0 \nL 2938 0 \nL 2938 2094 \nQ 2938 2591 2744 2837 \nQ 2550 3084 2163 3084 \nQ 1697 3084 1428 2787 \nQ 1159 2491 1159 1978 \nL 1159 0 \nL 581 0 \nL 581 4863 \nL 1159 4863 \nL 1159 2956 \nQ 1366 3272 1645 3428 \nQ 1925 3584 2291 3584 \nQ 2894 3584 3203 3211 \nQ 3513 2838 3513 2113 \nz\n\" transform=\"scale(0.015625)\"/>\n     </defs>\n     <use xlink:href=\"#DejaVuSans-43\"/>\n     <use xlink:href=\"#DejaVuSans-65\" x=\"69.824219\"/>\n     <use xlink:href=\"#DejaVuSans-6c\" x=\"131.347656\"/>\n     <use xlink:href=\"#DejaVuSans-6c\" x=\"159.130859\"/>\n     <use xlink:href=\"#DejaVuSans-20\" x=\"186.914062\"/>\n     <use xlink:href=\"#DejaVuSans-6f\" x=\"218.701172\"/>\n     <use xlink:href=\"#DejaVuSans-72\" x=\"279.882812\"/>\n     <use xlink:href=\"#DejaVuSans-69\" x=\"320.996094\"/>\n     <use xlink:href=\"#DejaVuSans-65\" x=\"348.779297\"/>\n     <use xlink:href=\"#DejaVuSans-6e\" x=\"410.302734\"/>\n     <use xlink:href=\"#DejaVuSans-74\" x=\"473.681641\"/>\n     <use xlink:href=\"#DejaVuSans-61\" x=\"512.890625\"/>\n     <use xlink:href=\"#DejaVuSans-74\" x=\"574.169922\"/>\n     <use xlink:href=\"#DejaVuSans-69\" x=\"613.378906\"/>\n     <use xlink:href=\"#DejaVuSans-6f\" x=\"641.162109\"/>\n     <use xlink:href=\"#DejaVuSans-6e\" x=\"702.34375\"/>\n     <use xlink:href=\"#DejaVuSans-20\" x=\"765.722656\"/>\n     <use xlink:href=\"#DejaVuSans-61\" x=\"797.509766\"/>\n     <use xlink:href=\"#DejaVuSans-6c\" x=\"858.789062\"/>\n     <use xlink:href=\"#DejaVuSans-6f\" x=\"886.572266\"/>\n     <use xlink:href=\"#DejaVuSans-6e\" x=\"947.753906\"/>\n     <use xlink:href=\"#DejaVuSans-67\" x=\"1011.132812\"/>\n     <use xlink:href=\"#DejaVuSans-20\" x=\"1074.609375\"/>\n     <use xlink:href=\"#DejaVuSans-63\" x=\"1106.396484\"/>\n     <use xlink:href=\"#DejaVuSans-68\" x=\"1161.376953\"/>\n     <use xlink:href=\"#DejaVuSans-61\" x=\"1224.755859\"/>\n     <use xlink:href=\"#DejaVuSans-6e\" x=\"1286.035156\"/>\n     <use xlink:href=\"#DejaVuSans-6e\" x=\"1349.414062\"/>\n     <use xlink:href=\"#DejaVuSans-65\" x=\"1412.792969\"/>\n     <use xlink:href=\"#DejaVuSans-6c\" x=\"1474.316406\"/>\n    </g>\n   </g>\n  </g>\n </g>\n <defs>\n  <clipPath id=\"p677e3a9f49\">\n   <rect x=\"50.14375\" y=\"22.318125\" width=\"279\" height=\"194.04\"/>\n  </clipPath>\n </defs>\n</svg>\n",
      "text/plain": [
       "<Figure size 500x350 with 1 Axes>"
      ]
     },
     "metadata": {},
     "output_type": "display_data"
    }
   ],
   "source": [
    "plt.figure(figsize=(5,3.5))\n",
    "plt.title(\"Cell orientation along channel\")\n",
    "plt.plot(x_grid, kde(x_grid))\n",
    "plt.xlabel(r\"$\\arccos{\\hat{r}\\cdot\\hat{x}}$ [deg]\")\n",
    "plt.ylabel(\"Count (N={:d})\".format(len(angles)))\n",
    "plt.savefig(join_paths(out_dir_path,'oritent_hist.pdf'), dpi=300)\n",
    "# plt.close()"
   ]
  },
  {
   "cell_type": "code",
   "execution_count": 50,
   "metadata": {},
   "outputs": [
    {
     "data": {
      "image/png": "[encoded data removed]",
      "image/svg+xml": "<?xml version=\"1.0\" encoding=\"utf-8\" standalone=\"no\"?>\n<!DOCTYPE svg PUBLIC \"-//W3C//DTD SVG 1.1//EN\"\n  \"http://www.w3.org/Graphics/SVG/1.1/DTD/svg11.dtd\">\n<svg xmlns:xlink=\"http://www.w3.org/1999/xlink\" width=\"336.34375pt\" height=\"255.63625pt\" viewBox=\"0 0 336.34375 255.63625\" xmlns=\"http://www.w3.org/2000/svg\" version=\"1.1\">\n <metadata>\n  <rdf:RDF xmlns:dc=\"http://purl.org/dc/elements/1.1/\" xmlns:cc=\"http://creativecommons.org/ns#\" xmlns:rdf=\"http://www.w3.org/1999/02/22-rdf-syntax-ns#\">\n   <cc:Work>\n    <dc:type rdf:resource=\"http://purl.org/dc/dcmitype/StillImage\"/>\n    <dc:date>2022-11-28T16:31:58.865063</dc:date>\n    <dc:format>image/svg+xml</dc:format>\n    <dc:creator>\n     <cc:Agent>\n      <dc:title>Matplotlib v3.6.1, https://matplotlib.org/</dc:title>\n     </cc:Agent>\n    </dc:creator>\n   </cc:Work>\n  </rdf:RDF>\n </metadata>\n <defs>\n  <style type=\"text/css\">*{stroke-linejoin: round; stroke-linecap: butt}</style>\n </defs>\n <g id=\"figure_1\">\n  <g id=\"patch_1\">\n   <path d=\"M 0 255.63625 \nL 336.34375 255.63625 \nL 336.34375 0 \nL 0 0 \nz\n\" style=\"fill: #ffffff\"/>\n  </g>\n  <g id=\"axes_1\">\n   <g id=\"patch_2\">\n    <path d=\"M 50.14375 216.358125 \nL 329.14375 216.358125 \nL 329.14375 22.318125 \nL 50.14375 22.318125 \nz\n\" style=\"fill: #ffffff\"/>\n   </g>\n   <g id=\"patch_3\">\n    <path d=\"M 62.825568 216.358125 \nL 62.825568 215.562716 \nL 65.630591 215.562716 \nL 65.630591 215.827852 \nL 68.435615 215.827852 \nL 68.435615 215.29758 \nL 71.240638 215.29758 \nL 71.240638 215.827852 \nL 74.045661 215.827852 \nL 74.045661 216.092989 \nL 76.850684 216.092989 \nL 76.850684 216.092989 \nL 79.655708 216.092989 \nL 79.655708 216.092989 \nL 82.460731 216.092989 \nL 82.460731 215.827852 \nL 85.265754 215.827852 \nL 85.265754 216.092989 \nL 88.070778 216.092989 \nL 88.070778 215.29758 \nL 90.875801 215.29758 \nL 90.875801 215.29758 \nL 93.680824 215.29758 \nL 93.680824 215.29758 \nL 96.485847 215.29758 \nL 96.485847 215.827852 \nL 99.290871 215.827852 \nL 99.290871 214.237035 \nL 102.095894 214.237035 \nL 102.095894 215.562716 \nL 104.900917 215.562716 \nL 104.900917 213.971898 \nL 107.70594 213.971898 \nL 107.70594 215.032444 \nL 110.510964 215.032444 \nL 110.510964 215.032444 \nL 113.315987 215.032444 \nL 113.315987 214.502171 \nL 116.12101 214.502171 \nL 116.12101 214.502171 \nL 118.926033 214.502171 \nL 118.926033 214.502171 \nL 121.731057 214.502171 \nL 121.731057 214.237035 \nL 124.53608 214.237035 \nL 124.53608 211.850808 \nL 127.341103 211.850808 \nL 127.341103 213.706762 \nL 130.146126 213.706762 \nL 130.146126 211.850808 \nL 132.95115 211.850808 \nL 132.95115 213.176489 \nL 135.756173 213.176489 \nL 135.756173 213.441626 \nL 138.561196 213.441626 \nL 138.561196 209.729718 \nL 141.366219 209.729718 \nL 141.366219 207.608627 \nL 144.171243 207.608627 \nL 144.171243 206.017809 \nL 146.976266 206.017809 \nL 146.976266 203.896719 \nL 149.781289 203.896719 \nL 149.781289 208.669172 \nL 152.586312 208.669172 \nL 152.586312 199.124266 \nL 155.391336 199.124266 \nL 155.391336 193.82154 \nL 158.196359 193.82154 \nL 158.196359 202.305901 \nL 161.001382 202.305901 \nL 161.001382 197.268312 \nL 163.806405 197.268312 \nL 163.806405 190.374768 \nL 166.611429 190.374768 \nL 166.611429 194.616949 \nL 169.416452 194.616949 \nL 169.416452 188.253677 \nL 172.221475 188.253677 \nL 172.221475 180.829861 \nL 175.026498 180.829861 \nL 175.026498 170.224409 \nL 177.831522 170.224409 \nL 177.831522 160.414366 \nL 180.636545 160.414366 \nL 180.636545 134.431009 \nL 183.441568 134.431009 \nL 183.441568 94.395428 \nL 186.246592 94.395428 \nL 186.246592 56.480937 \nL 189.051615 56.480937 \nL 189.051615 31.558125 \nL 191.856638 31.558125 \nL 191.856638 80.873477 \nL 194.661661 80.873477 \nL 194.661661 120.378785 \nL 197.466685 120.378785 \nL 197.466685 150.869459 \nL 200.271708 150.869459 \nL 200.271708 175.527135 \nL 203.076731 175.527135 \nL 203.076731 185.867451 \nL 205.881754 185.867451 \nL 205.881754 193.82154 \nL 208.686778 193.82154 \nL 208.686778 195.147221 \nL 211.491801 195.147221 \nL 211.491801 202.571037 \nL 214.296824 202.571037 \nL 214.296824 203.366446 \nL 217.101847 203.366446 \nL 217.101847 206.282946 \nL 219.906871 206.282946 \nL 219.906871 202.571037 \nL 222.711894 202.571037 \nL 222.711894 206.282946 \nL 225.516917 206.282946 \nL 225.516917 208.1389 \nL 228.32194 208.1389 \nL 228.32194 209.994854 \nL 231.126964 209.994854 \nL 231.126964 211.850808 \nL 233.931987 211.850808 \nL 233.931987 208.934309 \nL 236.73701 208.934309 \nL 236.73701 212.381081 \nL 239.542033 212.381081 \nL 239.542033 212.381081 \nL 242.347057 212.381081 \nL 242.347057 212.381081 \nL 245.15208 212.381081 \nL 245.15208 213.441626 \nL 247.957103 213.441626 \nL 247.957103 213.441626 \nL 250.762126 213.441626 \nL 250.762126 214.237035 \nL 253.56715 214.237035 \nL 253.56715 215.827852 \nL 256.372173 215.827852 \nL 256.372173 216.092989 \nL 259.177196 216.092989 \nL 259.177196 215.827852 \nL 261.982219 215.827852 \nL 261.982219 216.092989 \nL 264.787243 216.092989 \nL 264.787243 216.358125 \nL 267.592266 216.358125 \nL 267.592266 216.358125 \nL 270.397289 216.358125 \nL 270.397289 216.358125 \nL 273.202313 216.358125 \nL 273.202313 216.092989 \nL 276.007336 216.092989 \nL 276.007336 216.092989 \nL 278.812359 216.092989 \nL 278.812359 216.358125 \nL 281.617382 216.358125 \nL 281.617382 216.358125 \nL 284.422406 216.358125 \nL 284.422406 216.358125 \nL 287.227429 216.358125 \nL 287.227429 216.358125 \nL 290.032452 216.358125 \nL 290.032452 216.358125 \nL 292.837475 216.358125 \nL 292.837475 216.358125 \nL 295.642499 216.358125 \nL 295.642499 216.358125 \nL 298.447522 216.358125 \nL 298.447522 215.827852 \nL 301.252545 215.827852 \nL 301.252545 216.358125 \nL 304.057568 216.358125 \nL 304.057568 216.358125 \nL 306.862592 216.358125 \nL 306.862592 216.092989 \nL 309.667615 216.092989 \nL 309.667615 215.562716 \nL 312.472638 215.562716 \nL 312.472638 214.767307 \nL 315.277661 214.767307 \nL 315.277661 216.358125 \nL 312.472638 216.358125 \nL 312.472638 216.358125 \nL 309.667615 216.358125 \nL 309.667615 216.358125 \nL 306.862592 216.358125 \nL 306.862592 216.358125 \nL 304.057568 216.358125 \nL 304.057568 216.358125 \nL 301.252545 216.358125 \nL 301.252545 216.358125 \nL 298.447522 216.358125 \nL 298.447522 216.358125 \nL 295.642499 216.358125 \nL 295.642499 216.358125 \nL 292.837475 216.358125 \nL 292.837475 216.358125 \nL 290.032452 216.358125 \nL 290.032452 216.358125 \nL 287.227429 216.358125 \nL 287.227429 216.358125 \nL 284.422406 216.358125 \nL 284.422406 216.358125 \nL 281.617382 216.358125 \nL 281.617382 216.358125 \nL 278.812359 216.358125 \nL 278.812359 216.358125 \nL 276.007336 216.358125 \nL 276.007336 216.358125 \nL 273.202313 216.358125 \nL 273.202313 216.358125 \nL 270.397289 216.358125 \nL 270.397289 216.358125 \nL 267.592266 216.358125 \nL 267.592266 216.358125 \nL 264.787243 216.358125 \nL 264.787243 216.358125 \nL 261.982219 216.358125 \nL 261.982219 216.358125 \nL 259.177196 216.358125 \nL 259.177196 216.358125 \nL 256.372173 216.358125 \nL 256.372173 216.358125 \nL 253.56715 216.358125 \nL 253.56715 216.358125 \nL 250.762126 216.358125 \nL 250.762126 216.358125 \nL 247.957103 216.358125 \nL 247.957103 216.358125 \nL 245.15208 216.358125 \nL 245.15208 216.358125 \nL 242.347057 216.358125 \nL 242.347057 216.358125 \nL 239.542033 216.358125 \nL 239.542033 216.358125 \nL 236.73701 216.358125 \nL 236.73701 216.358125 \nL 233.931987 216.358125 \nL 233.931987 216.358125 \nL 231.126964 216.358125 \nL 231.126964 216.358125 \nL 228.32194 216.358125 \nL 228.32194 216.358125 \nL 225.516917 216.358125 \nL 225.516917 216.358125 \nL 222.711894 216.358125 \nL 222.711894 216.358125 \nL 219.906871 216.358125 \nL 219.906871 216.358125 \nL 217.101847 216.358125 \nL 217.101847 216.358125 \nL 214.296824 216.358125 \nL 214.296824 216.358125 \nL 211.491801 216.358125 \nL 211.491801 216.358125 \nL 208.686778 216.358125 \nL 208.686778 216.358125 \nL 205.881754 216.358125 \nL 205.881754 216.358125 \nL 203.076731 216.358125 \nL 203.076731 216.358125 \nL 200.271708 216.358125 \nL 200.271708 216.358125 \nL 197.466685 216.358125 \nL 197.466685 216.358125 \nL 194.661661 216.358125 \nL 194.661661 216.358125 \nL 191.856638 216.358125 \nL 191.856638 216.358125 \nL 189.051615 216.358125 \nL 189.051615 216.358125 \nL 186.246592 216.358125 \nL 186.246592 216.358125 \nL 183.441568 216.358125 \nL 183.441568 216.358125 \nL 180.636545 216.358125 \nL 180.636545 216.358125 \nL 177.831522 216.358125 \nL 177.831522 216.358125 \nL 175.026498 216.358125 \nL 175.026498 216.358125 \nL 172.221475 216.358125 \nL 172.221475 216.358125 \nL 169.416452 216.358125 \nL 169.416452 216.358125 \nL 166.611429 216.358125 \nL 166.611429 216.358125 \nL 163.806405 216.358125 \nL 163.806405 216.358125 \nL 161.001382 216.358125 \nL 161.001382 216.358125 \nL 158.196359 216.358125 \nL 158.196359 216.358125 \nL 155.391336 216.358125 \nL 155.391336 216.358125 \nL 152.586312 216.358125 \nL 152.586312 216.358125 \nL 149.781289 216.358125 \nL 149.781289 216.358125 \nL 146.976266 216.358125 \nL 146.976266 216.358125 \nL 144.171243 216.358125 \nL 144.171243 216.358125 \nL 141.366219 216.358125 \nL 141.366219 216.358125 \nL 138.561196 216.358125 \nL 138.561196 216.358125 \nL 135.756173 216.358125 \nL 135.756173 216.358125 \nL 132.95115 216.358125 \nL 132.95115 216.358125 \nL 130.146126 216.358125 \nL 130.146126 216.358125 \nL 127.341103 216.358125 \nL 127.341103 216.358125 \nL 124.53608 216.358125 \nL 124.53608 216.358125 \nL 121.731057 216.358125 \nL 121.731057 216.358125 \nL 118.926033 216.358125 \nL 118.926033 216.358125 \nL 116.12101 216.358125 \nL 116.12101 216.358125 \nL 113.315987 216.358125 \nL 113.315987 216.358125 \nL 110.510964 216.358125 \nL 110.510964 216.358125 \nL 107.70594 216.358125 \nL 107.70594 216.358125 \nL 104.900917 216.358125 \nL 104.900917 216.358125 \nL 102.095894 216.358125 \nL 102.095894 216.358125 \nL 99.290871 216.358125 \nL 99.290871 216.358125 \nL 96.485847 216.358125 \nL 96.485847 216.358125 \nL 93.680824 216.358125 \nL 93.680824 216.358125 \nL 90.875801 216.358125 \nL 90.875801 216.358125 \nL 88.070778 216.358125 \nL 88.070778 216.358125 \nL 85.265754 216.358125 \nL 85.265754 216.358125 \nL 82.460731 216.358125 \nL 82.460731 216.358125 \nL 79.655708 216.358125 \nL 79.655708 216.358125 \nL 76.850684 216.358125 \nL 76.850684 216.358125 \nL 74.045661 216.358125 \nL 74.045661 216.358125 \nL 71.240638 216.358125 \nL 71.240638 216.358125 \nL 68.435615 216.358125 \nL 68.435615 216.358125 \nL 65.630591 216.358125 \nL 65.630591 216.358125 \nz\n\" clip-path=\"url(#pd3e3cec06e)\" style=\"fill: #808080; opacity: 0.3\"/>\n   </g>\n   <g id=\"matplotlib.axis_1\">\n    <g id=\"xtick_1\">\n     <g id=\"line2d_1\">\n      <defs>\n       <path id=\"m0ed8f85fe3\" d=\"M 0 0 \nL 0 3.5 \n\" style=\"stroke: #000000; stroke-width: 0.8\"/>\n      </defs>\n      <g>\n       <use xlink:href=\"#m0ed8f85fe3\" x=\"83.961932\" y=\"216.358125\" style=\"stroke: #000000; stroke-width: 0.8\"/>\n      </g>\n     </g>\n     <g id=\"text_1\">\n      <!-- −75 -->\n      <g transform=\"translate(73.409588 230.956562) scale(0.1 -0.1)\">\n       <defs>\n        <path id=\"DejaVuSans-2212\" d=\"M 678 2272 \nL 4684 2272 \nL 4684 1741 \nL 678 1741 \nL 678 2272 \nz\n\" transform=\"scale(0.015625)\"/>\n        <path id=\"DejaVuSans-37\" d=\"M 525 4666 \nL 3525 4666 \nL 3525 4397 \nL 1831 0 \nL 1172 0 \nL 2766 4134 \nL 525 4134 \nL 525 4666 \nz\n\" transform=\"scale(0.015625)\"/>\n        <path id=\"DejaVuSans-35\" d=\"M 691 4666 \nL 3169 4666 \nL 3169 4134 \nL 1269 4134 \nL 1269 2991 \nQ 1406 3038 1543 3061 \nQ 1681 3084 1819 3084 \nQ 2600 3084 3056 2656 \nQ 3513 2228 3513 1497 \nQ 3513 744 3044 326 \nQ 2575 -91 1722 -91 \nQ 1428 -91 1123 -41 \nQ 819 9 494 109 \nL 494 744 \nQ 775 591 1075 516 \nQ 1375 441 1709 441 \nQ 2250 441 2565 725 \nQ 2881 1009 2881 1497 \nQ 2881 1984 2565 2268 \nQ 2250 2553 1709 2553 \nQ 1456 2553 1204 2497 \nQ 953 2441 691 2322 \nL 691 4666 \nz\n\" transform=\"scale(0.015625)\"/>\n       </defs>\n       <use xlink:href=\"#DejaVuSans-2212\"/>\n       <use xlink:href=\"#DejaVuSans-37\" x=\"83.789062\"/>\n       <use xlink:href=\"#DejaVuSans-35\" x=\"147.412109\"/>\n      </g>\n     </g>\n    </g>\n    <g id=\"xtick_2\">\n     <g id=\"line2d_2\">\n      <g>\n       <use xlink:href=\"#m0ed8f85fe3\" x=\"119.189205\" y=\"216.358125\" style=\"stroke: #000000; stroke-width: 0.8\"/>\n      </g>\n     </g>\n     <g id=\"text_2\">\n      <!-- −50 -->\n      <g transform=\"translate(108.636861 230.956562) scale(0.1 -0.1)\">\n       <defs>\n        <path id=\"DejaVuSans-30\" d=\"M 2034 4250 \nQ 1547 4250 1301 3770 \nQ 1056 3291 1056 2328 \nQ 1056 1369 1301 889 \nQ 1547 409 2034 409 \nQ 2525 409 2770 889 \nQ 3016 1369 3016 2328 \nQ 3016 3291 2770 3770 \nQ 2525 4250 2034 4250 \nz\nM 2034 4750 \nQ 2819 4750 3233 4129 \nQ 3647 3509 3647 2328 \nQ 3647 1150 3233 529 \nQ 2819 -91 2034 -91 \nQ 1250 -91 836 529 \nQ 422 1150 422 2328 \nQ 422 3509 836 4129 \nQ 1250 4750 2034 4750 \nz\n\" transform=\"scale(0.015625)\"/>\n       </defs>\n       <use xlink:href=\"#DejaVuSans-2212\"/>\n       <use xlink:href=\"#DejaVuSans-35\" x=\"83.789062\"/>\n       <use xlink:href=\"#DejaVuSans-30\" x=\"147.412109\"/>\n      </g>\n     </g>\n    </g>\n    <g id=\"xtick_3\">\n     <g id=\"line2d_3\">\n      <g>\n       <use xlink:href=\"#m0ed8f85fe3\" x=\"154.416477\" y=\"216.358125\" style=\"stroke: #000000; stroke-width: 0.8\"/>\n      </g>\n     </g>\n     <g id=\"text_3\">\n      <!-- −25 -->\n      <g transform=\"translate(143.864134 230.956562) scale(0.1 -0.1)\">\n       <defs>\n        <path id=\"DejaVuSans-32\" d=\"M 1228 531 \nL 3431 531 \nL 3431 0 \nL 469 0 \nL 469 531 \nQ 828 903 1448 1529 \nQ 2069 2156 2228 2338 \nQ 2531 2678 2651 2914 \nQ 2772 3150 2772 3378 \nQ 2772 3750 2511 3984 \nQ 2250 4219 1831 4219 \nQ 1534 4219 1204 4116 \nQ 875 4013 500 3803 \nL 500 4441 \nQ 881 4594 1212 4672 \nQ 1544 4750 1819 4750 \nQ 2544 4750 2975 4387 \nQ 3406 4025 3406 3419 \nQ 3406 3131 3298 2873 \nQ 3191 2616 2906 2266 \nQ 2828 2175 2409 1742 \nQ 1991 1309 1228 531 \nz\n\" transform=\"scale(0.015625)\"/>\n       </defs>\n       <use xlink:href=\"#DejaVuSans-2212\"/>\n       <use xlink:href=\"#DejaVuSans-32\" x=\"83.789062\"/>\n       <use xlink:href=\"#DejaVuSans-35\" x=\"147.412109\"/>\n      </g>\n     </g>\n    </g>\n    <g id=\"xtick_4\">\n     <g id=\"line2d_4\">\n      <g>\n       <use xlink:href=\"#m0ed8f85fe3\" x=\"189.64375\" y=\"216.358125\" style=\"stroke: #000000; stroke-width: 0.8\"/>\n      </g>\n     </g>\n     <g id=\"text_4\">\n      <!-- 0 -->\n      <g transform=\"translate(186.4625 230.956562) scale(0.1 -0.1)\">\n       <use xlink:href=\"#DejaVuSans-30\"/>\n      </g>\n     </g>\n    </g>\n    <g id=\"xtick_5\">\n     <g id=\"line2d_5\">\n      <g>\n       <use xlink:href=\"#m0ed8f85fe3\" x=\"224.871023\" y=\"216.358125\" style=\"stroke: #000000; stroke-width: 0.8\"/>\n      </g>\n     </g>\n     <g id=\"text_5\">\n      <!-- 25 -->\n      <g transform=\"translate(218.508523 230.956562) scale(0.1 -0.1)\">\n       <use xlink:href=\"#DejaVuSans-32\"/>\n       <use xlink:href=\"#DejaVuSans-35\" x=\"63.623047\"/>\n      </g>\n     </g>\n    </g>\n    <g id=\"xtick_6\">\n     <g id=\"line2d_6\">\n      <g>\n       <use xlink:href=\"#m0ed8f85fe3\" x=\"260.098295\" y=\"216.358125\" style=\"stroke: #000000; stroke-width: 0.8\"/>\n      </g>\n     </g>\n     <g id=\"text_6\">\n      <!-- 50 -->\n      <g transform=\"translate(253.735795 230.956562) scale(0.1 -0.1)\">\n       <use xlink:href=\"#DejaVuSans-35\"/>\n       <use xlink:href=\"#DejaVuSans-30\" x=\"63.623047\"/>\n      </g>\n     </g>\n    </g>\n    <g id=\"xtick_7\">\n     <g id=\"line2d_7\">\n      <g>\n       <use xlink:href=\"#m0ed8f85fe3\" x=\"295.325568\" y=\"216.358125\" style=\"stroke: #000000; stroke-width: 0.8\"/>\n      </g>\n     </g>\n     <g id=\"text_7\">\n      <!-- 75 -->\n      <g transform=\"translate(288.963068 230.956562) scale(0.1 -0.1)\">\n       <use xlink:href=\"#DejaVuSans-37\"/>\n       <use xlink:href=\"#DejaVuSans-35\" x=\"63.623047\"/>\n      </g>\n     </g>\n    </g>\n    <g id=\"text_8\">\n     <!-- $\\arccos{\\hat{r}\\cdot\\hat{x}}$ [deg] -->\n     <g transform=\"translate(149.04375 246.33625) scale(0.1 -0.1)\">\n      <defs>\n       <path id=\"DejaVuSans-61\" d=\"M 2194 1759 \nQ 1497 1759 1228 1600 \nQ 959 1441 959 1056 \nQ 959 750 1161 570 \nQ 1363 391 1709 391 \nQ 2188 391 2477 730 \nQ 2766 1069 2766 1631 \nL 2766 1759 \nL 2194 1759 \nz\nM 3341 1997 \nL 3341 0 \nL 2766 0 \nL 2766 531 \nQ 2569 213 2275 61 \nQ 1981 -91 1556 -91 \nQ 1019 -91 701 211 \nQ 384 513 384 1019 \nQ 384 1609 779 1909 \nQ 1175 2209 1959 2209 \nL 2766 2209 \nL 2766 2266 \nQ 2766 2663 2505 2880 \nQ 2244 3097 1772 3097 \nQ 1472 3097 1187 3025 \nQ 903 2953 641 2809 \nL 641 3341 \nQ 956 3463 1253 3523 \nQ 1550 3584 1831 3584 \nQ 2591 3584 2966 3190 \nQ 3341 2797 3341 1997 \nz\n\" transform=\"scale(0.015625)\"/>\n       <path id=\"DejaVuSans-72\" d=\"M 2631 2963 \nQ 2534 3019 2420 3045 \nQ 2306 3072 2169 3072 \nQ 1681 3072 1420 2755 \nQ 1159 2438 1159 1844 \nL 1159 0 \nL 581 0 \nL 581 3500 \nL 1159 3500 \nL 1159 2956 \nQ 1341 3275 1631 3429 \nQ 1922 3584 2338 3584 \nQ 2397 3584 2469 3576 \nQ 2541 3569 2628 3553 \nL 2631 2963 \nz\n\" transform=\"scale(0.015625)\"/>\n       <path id=\"DejaVuSans-63\" d=\"M 3122 3366 \nL 3122 2828 \nQ 2878 2963 2633 3030 \nQ 2388 3097 2138 3097 \nQ 1578 3097 1268 2742 \nQ 959 2388 959 1747 \nQ 959 1106 1268 751 \nQ 1578 397 2138 397 \nQ 2388 397 2633 464 \nQ 2878 531 3122 666 \nL 3122 134 \nQ 2881 22 2623 -34 \nQ 2366 -91 2075 -91 \nQ 1284 -91 818 406 \nQ 353 903 353 1747 \nQ 353 2603 823 3093 \nQ 1294 3584 2113 3584 \nQ 2378 3584 2631 3529 \nQ 2884 3475 3122 3366 \nz\n\" transform=\"scale(0.015625)\"/>\n       <path id=\"DejaVuSans-6f\" d=\"M 1959 3097 \nQ 1497 3097 1228 2736 \nQ 959 2375 959 1747 \nQ 959 1119 1226 758 \nQ 1494 397 1959 397 \nQ 2419 397 2687 759 \nQ 2956 1122 2956 1747 \nQ 2956 2369 2687 2733 \nQ 2419 3097 1959 3097 \nz\nM 1959 3584 \nQ 2709 3584 3137 3096 \nQ 3566 2609 3566 1747 \nQ 3566 888 3137 398 \nQ 2709 -91 1959 -91 \nQ 1206 -91 779 398 \nQ 353 888 353 1747 \nQ 353 2609 779 3096 \nQ 1206 3584 1959 3584 \nz\n\" transform=\"scale(0.015625)\"/>\n       <path id=\"DejaVuSans-73\" d=\"M 2834 3397 \nL 2834 2853 \nQ 2591 2978 2328 3040 \nQ 2066 3103 1784 3103 \nQ 1356 3103 1142 2972 \nQ 928 2841 928 2578 \nQ 928 2378 1081 2264 \nQ 1234 2150 1697 2047 \nL 1894 2003 \nQ 2506 1872 2764 1633 \nQ 3022 1394 3022 966 \nQ 3022 478 2636 193 \nQ 2250 -91 1575 -91 \nQ 1294 -91 989 -36 \nQ 684 19 347 128 \nL 347 722 \nQ 666 556 975 473 \nQ 1284 391 1588 391 \nQ 1994 391 2212 530 \nQ 2431 669 2431 922 \nQ 2431 1156 2273 1281 \nQ 2116 1406 1581 1522 \nL 1381 1569 \nQ 847 1681 609 1914 \nQ 372 2147 372 2553 \nQ 372 3047 722 3315 \nQ 1072 3584 1716 3584 \nQ 2034 3584 2315 3537 \nQ 2597 3491 2834 3397 \nz\n\" transform=\"scale(0.015625)\"/>\n       <path id=\"DejaVuSans-302\" d=\"M -1831 5119 \nL -1369 5119 \nL -603 3944 \nL -1038 3944 \nL -1600 4709 \nL -2163 3944 \nL -2597 3944 \nL -1831 5119 \nz\nM -1600 3584 \nL -1600 3584 \nz\n\" transform=\"scale(0.015625)\"/>\n       <path id=\"DejaVuSans-Oblique-72\" d=\"M 2853 2969 \nQ 2766 3016 2653 3041 \nQ 2541 3066 2413 3066 \nQ 1953 3066 1609 2717 \nQ 1266 2369 1153 1784 \nL 800 0 \nL 225 0 \nL 909 3500 \nL 1484 3500 \nL 1375 2956 \nQ 1603 3259 1920 3421 \nQ 2238 3584 2597 3584 \nQ 2691 3584 2781 3573 \nQ 2872 3563 2963 3538 \nL 2853 2969 \nz\n\" transform=\"scale(0.015625)\"/>\n       <path id=\"DejaVuSans-22c5\" d=\"M 684 2619 \nL 1344 2619 \nL 1344 1825 \nL 684 1825 \nL 684 2619 \nz\n\" transform=\"scale(0.015625)\"/>\n       <path id=\"DejaVuSans-Oblique-78\" d=\"M 3841 3500 \nL 2234 1784 \nL 3219 0 \nL 2559 0 \nL 1819 1388 \nL 531 0 \nL -166 0 \nL 1556 1844 \nL 641 3500 \nL 1300 3500 \nL 1972 2234 \nL 3144 3500 \nL 3841 3500 \nz\n\" transform=\"scale(0.015625)\"/>\n       <path id=\"DejaVuSans-20\" transform=\"scale(0.015625)\"/>\n       <path id=\"DejaVuSans-5b\" d=\"M 550 4863 \nL 1875 4863 \nL 1875 4416 \nL 1125 4416 \nL 1125 -397 \nL 1875 -397 \nL 1875 -844 \nL 550 -844 \nL 550 4863 \nz\n\" transform=\"scale(0.015625)\"/>\n       <path id=\"DejaVuSans-64\" d=\"M 2906 2969 \nL 2906 4863 \nL 3481 4863 \nL 3481 0 \nL 2906 0 \nL 2906 525 \nQ 2725 213 2448 61 \nQ 2172 -91 1784 -91 \nQ 1150 -91 751 415 \nQ 353 922 353 1747 \nQ 353 2572 751 3078 \nQ 1150 3584 1784 3584 \nQ 2172 3584 2448 3432 \nQ 2725 3281 2906 2969 \nz\nM 947 1747 \nQ 947 1113 1208 752 \nQ 1469 391 1925 391 \nQ 2381 391 2643 752 \nQ 2906 1113 2906 1747 \nQ 2906 2381 2643 2742 \nQ 2381 3103 1925 3103 \nQ 1469 3103 1208 2742 \nQ 947 2381 947 1747 \nz\n\" transform=\"scale(0.015625)\"/>\n       <path id=\"DejaVuSans-65\" d=\"M 3597 1894 \nL 3597 1613 \nL 953 1613 \nQ 991 1019 1311 708 \nQ 1631 397 2203 397 \nQ 2534 397 2845 478 \nQ 3156 559 3463 722 \nL 3463 178 \nQ 3153 47 2828 -22 \nQ 2503 -91 2169 -91 \nQ 1331 -91 842 396 \nQ 353 884 353 1716 \nQ 353 2575 817 3079 \nQ 1281 3584 2069 3584 \nQ 2775 3584 3186 3129 \nQ 3597 2675 3597 1894 \nz\nM 3022 2063 \nQ 3016 2534 2758 2815 \nQ 2500 3097 2075 3097 \nQ 1594 3097 1305 2825 \nQ 1016 2553 972 2059 \nL 3022 2063 \nz\n\" transform=\"scale(0.015625)\"/>\n       <path id=\"DejaVuSans-67\" d=\"M 2906 1791 \nQ 2906 2416 2648 2759 \nQ 2391 3103 1925 3103 \nQ 1463 3103 1205 2759 \nQ 947 2416 947 1791 \nQ 947 1169 1205 825 \nQ 1463 481 1925 481 \nQ 2391 481 2648 825 \nQ 2906 1169 2906 1791 \nz\nM 3481 434 \nQ 3481 -459 3084 -895 \nQ 2688 -1331 1869 -1331 \nQ 1566 -1331 1297 -1286 \nQ 1028 -1241 775 -1147 \nL 775 -588 \nQ 1028 -725 1275 -790 \nQ 1522 -856 1778 -856 \nQ 2344 -856 2625 -561 \nQ 2906 -266 2906 331 \nL 2906 616 \nQ 2728 306 2450 153 \nQ 2172 0 1784 0 \nQ 1141 0 747 490 \nQ 353 981 353 1791 \nQ 353 2603 747 3093 \nQ 1141 3584 1784 3584 \nQ 2172 3584 2450 3431 \nQ 2728 3278 2906 2969 \nL 2906 3500 \nL 3481 3500 \nL 3481 434 \nz\n\" transform=\"scale(0.015625)\"/>\n       <path id=\"DejaVuSans-5d\" d=\"M 1947 4863 \nL 1947 -844 \nL 622 -844 \nL 622 -397 \nL 1369 -397 \nL 1369 4416 \nL 622 4416 \nL 622 4863 \nL 1947 4863 \nz\n\" transform=\"scale(0.015625)\"/>\n      </defs>\n      <use xlink:href=\"#DejaVuSans-61\" transform=\"translate(0 0.515625)\"/>\n      <use xlink:href=\"#DejaVuSans-72\" transform=\"translate(61.279297 0.515625)\"/>\n      <use xlink:href=\"#DejaVuSans-63\" transform=\"translate(102.392578 0.515625)\"/>\n      <use xlink:href=\"#DejaVuSans-63\" transform=\"translate(157.373047 0.515625)\"/>\n      <use xlink:href=\"#DejaVuSans-6f\" transform=\"translate(212.353516 0.515625)\"/>\n      <use xlink:href=\"#DejaVuSans-73\" transform=\"translate(273.535156 0.515625)\"/>\n      <use xlink:href=\"#DejaVuSans-302\" transform=\"translate(392.726887 13.015625)\"/>\n      <use xlink:href=\"#DejaVuSans-Oblique-72\" transform=\"translate(341.870442 0.515625)\"/>\n      <use xlink:href=\"#DejaVuSans-22c5\" transform=\"translate(402.466145 0.515625)\"/>\n      <use xlink:href=\"#DejaVuSans-302\" transform=\"translate(516.108723 11.703125)\"/>\n      <use xlink:href=\"#DejaVuSans-Oblique-78\" transform=\"translate(453.735676 0.515625)\"/>\n      <use xlink:href=\"#DejaVuSans-20\" transform=\"translate(512.915364 0.515625)\"/>\n      <use xlink:href=\"#DejaVuSans-5b\" transform=\"translate(544.702473 0.515625)\"/>\n      <use xlink:href=\"#DejaVuSans-64\" transform=\"translate(583.716145 0.515625)\"/>\n      <use xlink:href=\"#DejaVuSans-65\" transform=\"translate(647.192708 0.515625)\"/>\n      <use xlink:href=\"#DejaVuSans-67\" transform=\"translate(708.716145 0.515625)\"/>\n      <use xlink:href=\"#DejaVuSans-5d\" transform=\"translate(772.192708 0.515625)\"/>\n     </g>\n    </g>\n   </g>\n   <g id=\"matplotlib.axis_2\">\n    <g id=\"ytick_1\">\n     <g id=\"line2d_8\">\n      <defs>\n       <path id=\"m46670fd685\" d=\"M 0 0 \nL -3.5 0 \n\" style=\"stroke: #000000; stroke-width: 0.8\"/>\n      </defs>\n      <g>\n       <use xlink:href=\"#m46670fd685\" x=\"50.14375\" y=\"216.358125\" style=\"stroke: #000000; stroke-width: 0.8\"/>\n      </g>\n     </g>\n     <g id=\"text_9\">\n      <!-- 0.00 -->\n      <g transform=\"translate(20.878125 220.157344) scale(0.1 -0.1)\">\n       <defs>\n        <path id=\"DejaVuSans-2e\" d=\"M 684 794 \nL 1344 794 \nL 1344 0 \nL 684 0 \nL 684 794 \nz\n\" transform=\"scale(0.015625)\"/>\n       </defs>\n       <use xlink:href=\"#DejaVuSans-30\"/>\n       <use xlink:href=\"#DejaVuSans-2e\" x=\"63.623047\"/>\n       <use xlink:href=\"#DejaVuSans-30\" x=\"95.410156\"/>\n       <use xlink:href=\"#DejaVuSans-30\" x=\"159.033203\"/>\n      </g>\n     </g>\n    </g>\n    <g id=\"ytick_2\">\n     <g id=\"line2d_9\">\n      <g>\n       <use xlink:href=\"#m46670fd685\" x=\"50.14375\" y=\"187.556261\" style=\"stroke: #000000; stroke-width: 0.8\"/>\n      </g>\n     </g>\n     <g id=\"text_10\">\n      <!-- 0.01 -->\n      <g transform=\"translate(20.878125 191.35548) scale(0.1 -0.1)\">\n       <defs>\n        <path id=\"DejaVuSans-31\" d=\"M 794 531 \nL 1825 531 \nL 1825 4091 \nL 703 3866 \nL 703 4441 \nL 1819 4666 \nL 2450 4666 \nL 2450 531 \nL 3481 531 \nL 3481 0 \nL 794 0 \nL 794 531 \nz\n\" transform=\"scale(0.015625)\"/>\n       </defs>\n       <use xlink:href=\"#DejaVuSans-30\"/>\n       <use xlink:href=\"#DejaVuSans-2e\" x=\"63.623047\"/>\n       <use xlink:href=\"#DejaVuSans-30\" x=\"95.410156\"/>\n       <use xlink:href=\"#DejaVuSans-31\" x=\"159.033203\"/>\n      </g>\n     </g>\n    </g>\n    <g id=\"ytick_3\">\n     <g id=\"line2d_10\">\n      <g>\n       <use xlink:href=\"#m46670fd685\" x=\"50.14375\" y=\"158.754397\" style=\"stroke: #000000; stroke-width: 0.8\"/>\n      </g>\n     </g>\n     <g id=\"text_11\">\n      <!-- 0.02 -->\n      <g transform=\"translate(20.878125 162.553616) scale(0.1 -0.1)\">\n       <use xlink:href=\"#DejaVuSans-30\"/>\n       <use xlink:href=\"#DejaVuSans-2e\" x=\"63.623047\"/>\n       <use xlink:href=\"#DejaVuSans-30\" x=\"95.410156\"/>\n       <use xlink:href=\"#DejaVuSans-32\" x=\"159.033203\"/>\n      </g>\n     </g>\n    </g>\n    <g id=\"ytick_4\">\n     <g id=\"line2d_11\">\n      <g>\n       <use xlink:href=\"#m46670fd685\" x=\"50.14375\" y=\"129.952533\" style=\"stroke: #000000; stroke-width: 0.8\"/>\n      </g>\n     </g>\n     <g id=\"text_12\">\n      <!-- 0.03 -->\n      <g transform=\"translate(20.878125 133.751752) scale(0.1 -0.1)\">\n       <defs>\n        <path id=\"DejaVuSans-33\" d=\"M 2597 2516 \nQ 3050 2419 3304 2112 \nQ 3559 1806 3559 1356 \nQ 3559 666 3084 287 \nQ 2609 -91 1734 -91 \nQ 1441 -91 1130 -33 \nQ 819 25 488 141 \nL 488 750 \nQ 750 597 1062 519 \nQ 1375 441 1716 441 \nQ 2309 441 2620 675 \nQ 2931 909 2931 1356 \nQ 2931 1769 2642 2001 \nQ 2353 2234 1838 2234 \nL 1294 2234 \nL 1294 2753 \nL 1863 2753 \nQ 2328 2753 2575 2939 \nQ 2822 3125 2822 3475 \nQ 2822 3834 2567 4026 \nQ 2313 4219 1838 4219 \nQ 1578 4219 1281 4162 \nQ 984 4106 628 3988 \nL 628 4550 \nQ 988 4650 1302 4700 \nQ 1616 4750 1894 4750 \nQ 2613 4750 3031 4423 \nQ 3450 4097 3450 3541 \nQ 3450 3153 3228 2886 \nQ 3006 2619 2597 2516 \nz\n\" transform=\"scale(0.015625)\"/>\n       </defs>\n       <use xlink:href=\"#DejaVuSans-30\"/>\n       <use xlink:href=\"#DejaVuSans-2e\" x=\"63.623047\"/>\n       <use xlink:href=\"#DejaVuSans-30\" x=\"95.410156\"/>\n       <use xlink:href=\"#DejaVuSans-33\" x=\"159.033203\"/>\n      </g>\n     </g>\n    </g>\n    <g id=\"ytick_5\">\n     <g id=\"line2d_12\">\n      <g>\n       <use xlink:href=\"#m46670fd685\" x=\"50.14375\" y=\"101.150669\" style=\"stroke: #000000; stroke-width: 0.8\"/>\n      </g>\n     </g>\n     <g id=\"text_13\">\n      <!-- 0.04 -->\n      <g transform=\"translate(20.878125 104.949888) scale(0.1 -0.1)\">\n       <defs>\n        <path id=\"DejaVuSans-34\" d=\"M 2419 4116 \nL 825 1625 \nL 2419 1625 \nL 2419 4116 \nz\nM 2253 4666 \nL 3047 4666 \nL 3047 1625 \nL 3713 1625 \nL 3713 1100 \nL 3047 1100 \nL 3047 0 \nL 2419 0 \nL 2419 1100 \nL 313 1100 \nL 313 1709 \nL 2253 4666 \nz\n\" transform=\"scale(0.015625)\"/>\n       </defs>\n       <use xlink:href=\"#DejaVuSans-30\"/>\n       <use xlink:href=\"#DejaVuSans-2e\" x=\"63.623047\"/>\n       <use xlink:href=\"#DejaVuSans-30\" x=\"95.410156\"/>\n       <use xlink:href=\"#DejaVuSans-34\" x=\"159.033203\"/>\n      </g>\n     </g>\n    </g>\n    <g id=\"ytick_6\">\n     <g id=\"line2d_13\">\n      <g>\n       <use xlink:href=\"#m46670fd685\" x=\"50.14375\" y=\"72.348805\" style=\"stroke: #000000; stroke-width: 0.8\"/>\n      </g>\n     </g>\n     <g id=\"text_14\">\n      <!-- 0.05 -->\n      <g transform=\"translate(20.878125 76.148024) scale(0.1 -0.1)\">\n       <use xlink:href=\"#DejaVuSans-30\"/>\n       <use xlink:href=\"#DejaVuSans-2e\" x=\"63.623047\"/>\n       <use xlink:href=\"#DejaVuSans-30\" x=\"95.410156\"/>\n       <use xlink:href=\"#DejaVuSans-35\" x=\"159.033203\"/>\n      </g>\n     </g>\n    </g>\n    <g id=\"ytick_7\">\n     <g id=\"line2d_14\">\n      <g>\n       <use xlink:href=\"#m46670fd685\" x=\"50.14375\" y=\"43.546941\" style=\"stroke: #000000; stroke-width: 0.8\"/>\n      </g>\n     </g>\n     <g id=\"text_15\">\n      <!-- 0.06 -->\n      <g transform=\"translate(20.878125 47.346159) scale(0.1 -0.1)\">\n       <defs>\n        <path id=\"DejaVuSans-36\" d=\"M 2113 2584 \nQ 1688 2584 1439 2293 \nQ 1191 2003 1191 1497 \nQ 1191 994 1439 701 \nQ 1688 409 2113 409 \nQ 2538 409 2786 701 \nQ 3034 994 3034 1497 \nQ 3034 2003 2786 2293 \nQ 2538 2584 2113 2584 \nz\nM 3366 4563 \nL 3366 3988 \nQ 3128 4100 2886 4159 \nQ 2644 4219 2406 4219 \nQ 1781 4219 1451 3797 \nQ 1122 3375 1075 2522 \nQ 1259 2794 1537 2939 \nQ 1816 3084 2150 3084 \nQ 2853 3084 3261 2657 \nQ 3669 2231 3669 1497 \nQ 3669 778 3244 343 \nQ 2819 -91 2113 -91 \nQ 1303 -91 875 529 \nQ 447 1150 447 2328 \nQ 447 3434 972 4092 \nQ 1497 4750 2381 4750 \nQ 2619 4750 2861 4703 \nQ 3103 4656 3366 4563 \nz\n\" transform=\"scale(0.015625)\"/>\n       </defs>\n       <use xlink:href=\"#DejaVuSans-30\"/>\n       <use xlink:href=\"#DejaVuSans-2e\" x=\"63.623047\"/>\n       <use xlink:href=\"#DejaVuSans-30\" x=\"95.410156\"/>\n       <use xlink:href=\"#DejaVuSans-36\" x=\"159.033203\"/>\n      </g>\n     </g>\n    </g>\n    <g id=\"text_16\">\n     <!-- Density (N=5457) -->\n     <g transform=\"translate(14.798438 164.492812) rotate(-90) scale(0.1 -0.1)\">\n      <defs>\n       <path id=\"DejaVuSans-44\" d=\"M 1259 4147 \nL 1259 519 \nL 2022 519 \nQ 2988 519 3436 956 \nQ 3884 1394 3884 2338 \nQ 3884 3275 3436 3711 \nQ 2988 4147 2022 4147 \nL 1259 4147 \nz\nM 628 4666 \nL 1925 4666 \nQ 3281 4666 3915 4102 \nQ 4550 3538 4550 2338 \nQ 4550 1131 3912 565 \nQ 3275 0 1925 0 \nL 628 0 \nL 628 4666 \nz\n\" transform=\"scale(0.015625)\"/>\n       <path id=\"DejaVuSans-6e\" d=\"M 3513 2113 \nL 3513 0 \nL 2938 0 \nL 2938 2094 \nQ 2938 2591 2744 2837 \nQ 2550 3084 2163 3084 \nQ 1697 3084 1428 2787 \nQ 1159 2491 1159 1978 \nL 1159 0 \nL 581 0 \nL 581 3500 \nL 1159 3500 \nL 1159 2956 \nQ 1366 3272 1645 3428 \nQ 1925 3584 2291 3584 \nQ 2894 3584 3203 3211 \nQ 3513 2838 3513 2113 \nz\n\" transform=\"scale(0.015625)\"/>\n       <path id=\"DejaVuSans-69\" d=\"M 603 3500 \nL 1178 3500 \nL 1178 0 \nL 603 0 \nL 603 3500 \nz\nM 603 4863 \nL 1178 4863 \nL 1178 4134 \nL 603 4134 \nL 603 4863 \nz\n\" transform=\"scale(0.015625)\"/>\n       <path id=\"DejaVuSans-74\" d=\"M 1172 4494 \nL 1172 3500 \nL 2356 3500 \nL 2356 3053 \nL 1172 3053 \nL 1172 1153 \nQ 1172 725 1289 603 \nQ 1406 481 1766 481 \nL 2356 481 \nL 2356 0 \nL 1766 0 \nQ 1100 0 847 248 \nQ 594 497 594 1153 \nL 594 3053 \nL 172 3053 \nL 172 3500 \nL 594 3500 \nL 594 4494 \nL 1172 4494 \nz\n\" transform=\"scale(0.015625)\"/>\n       <path id=\"DejaVuSans-79\" d=\"M 2059 -325 \nQ 1816 -950 1584 -1140 \nQ 1353 -1331 966 -1331 \nL 506 -1331 \nL 506 -850 \nL 844 -850 \nQ 1081 -850 1212 -737 \nQ 1344 -625 1503 -206 \nL 1606 56 \nL 191 3500 \nL 800 3500 \nL 1894 763 \nL 2988 3500 \nL 3597 3500 \nL 2059 -325 \nz\n\" transform=\"scale(0.015625)\"/>\n       <path id=\"DejaVuSans-28\" d=\"M 1984 4856 \nQ 1566 4138 1362 3434 \nQ 1159 2731 1159 2009 \nQ 1159 1288 1364 580 \nQ 1569 -128 1984 -844 \nL 1484 -844 \nQ 1016 -109 783 600 \nQ 550 1309 550 2009 \nQ 550 2706 781 3412 \nQ 1013 4119 1484 4856 \nL 1984 4856 \nz\n\" transform=\"scale(0.015625)\"/>\n       <path id=\"DejaVuSans-4e\" d=\"M 628 4666 \nL 1478 4666 \nL 3547 763 \nL 3547 4666 \nL 4159 4666 \nL 4159 0 \nL 3309 0 \nL 1241 3903 \nL 1241 0 \nL 628 0 \nL 628 4666 \nz\n\" transform=\"scale(0.015625)\"/>\n       <path id=\"DejaVuSans-3d\" d=\"M 678 2906 \nL 4684 2906 \nL 4684 2381 \nL 678 2381 \nL 678 2906 \nz\nM 678 1631 \nL 4684 1631 \nL 4684 1100 \nL 678 1100 \nL 678 1631 \nz\n\" transform=\"scale(0.015625)\"/>\n       <path id=\"DejaVuSans-29\" d=\"M 513 4856 \nL 1013 4856 \nQ 1481 4119 1714 3412 \nQ 1947 2706 1947 2009 \nQ 1947 1309 1714 600 \nQ 1481 -109 1013 -844 \nL 513 -844 \nQ 928 -128 1133 580 \nQ 1338 1288 1338 2009 \nQ 1338 2731 1133 3434 \nQ 928 4138 513 4856 \nz\n\" transform=\"scale(0.015625)\"/>\n      </defs>\n      <use xlink:href=\"#DejaVuSans-44\"/>\n      <use xlink:href=\"#DejaVuSans-65\" x=\"77.001953\"/>\n      <use xlink:href=\"#DejaVuSans-6e\" x=\"138.525391\"/>\n      <use xlink:href=\"#DejaVuSans-73\" x=\"201.904297\"/>\n      <use xlink:href=\"#DejaVuSans-69\" x=\"254.003906\"/>\n      <use xlink:href=\"#DejaVuSans-74\" x=\"281.787109\"/>\n      <use xlink:href=\"#DejaVuSans-79\" x=\"320.996094\"/>\n      <use xlink:href=\"#DejaVuSans-20\" x=\"380.175781\"/>\n      <use xlink:href=\"#DejaVuSans-28\" x=\"411.962891\"/>\n      <use xlink:href=\"#DejaVuSans-4e\" x=\"450.976562\"/>\n      <use xlink:href=\"#DejaVuSans-3d\" x=\"525.78125\"/>\n      <use xlink:href=\"#DejaVuSans-35\" x=\"609.570312\"/>\n      <use xlink:href=\"#DejaVuSans-34\" x=\"673.193359\"/>\n      <use xlink:href=\"#DejaVuSans-35\" x=\"736.816406\"/>\n      <use xlink:href=\"#DejaVuSans-37\" x=\"800.439453\"/>\n      <use xlink:href=\"#DejaVuSans-29\" x=\"864.0625\"/>\n     </g>\n    </g>\n   </g>\n   <g id=\"line2d_15\">\n    <path d=\"M 62.825568 216.007164 \nL 65.387552 215.857257 \nL 67.949535 215.750513 \nL 70.511519 215.738694 \nL 73.073502 215.830957 \nL 75.635486 215.951139 \nL 78.197469 216.009119 \nL 80.759452 215.979787 \nL 83.321436 215.88673 \nL 85.883419 215.760501 \nL 88.445403 215.622337 \nL 91.007386 215.486592 \nL 93.56937 215.364465 \nL 96.131353 215.25169 \nL 98.693337 215.133386 \nL 101.25532 215.008572 \nL 103.817304 214.890127 \nL 106.379287 214.811912 \nL 108.941271 214.793966 \nL 111.503254 214.769226 \nL 114.065238 214.658228 \nL 116.627221 214.480933 \nL 119.189205 214.270936 \nL 121.751188 213.973152 \nL 124.313171 213.551133 \nL 126.875155 213.102019 \nL 129.437138 212.764068 \nL 131.999122 212.55406 \nL 134.561105 212.25728 \nL 137.123089 211.51553 \nL 139.685072 210.196127 \nL 142.247056 208.568837 \nL 144.809039 207.036485 \nL 147.371023 205.743314 \nL 149.933006 204.330808 \nL 152.49499 202.33904 \nL 155.056973 200.108094 \nL 157.618957 198.44912 \nL 160.18094 197.247353 \nL 162.742924 195.65614 \nL 165.304907 193.404614 \nL 167.86689 190.54344 \nL 170.428874 186.466642 \nL 172.990857 180.182655 \nL 175.552841 170.710284 \nL 178.114824 156.690267 \nL 180.676808 136.881655 \nL 183.238791 112.219962 \nL 185.800775 87.77723 \nL 188.362758 72.281258 \nL 190.924742 73.255922 \nL 193.486725 90.632628 \nL 196.048709 116.586266 \nL 198.610692 142.233149 \nL 201.172676 162.788167 \nL 203.734659 177.387296 \nL 206.296643 187.07302 \nL 208.858626 193.453726 \nL 211.42061 197.896576 \nL 213.982593 201.095469 \nL 216.544576 203.202503 \nL 219.10656 204.420134 \nL 221.668543 205.359087 \nL 224.230527 206.593433 \nL 226.79251 208.052925 \nL 229.354494 209.26519 \nL 231.916477 210.046675 \nL 234.478461 210.615848 \nL 237.040444 211.187324 \nL 239.602428 211.771471 \nL 242.164411 212.320652 \nL 244.726395 212.836179 \nL 247.288378 213.352694 \nL 249.850362 213.934068 \nL 252.412345 214.608016 \nL 254.974329 215.25811 \nL 257.536312 215.714982 \nL 260.098295 215.955775 \nL 262.660279 216.088305 \nL 265.222262 216.191778 \nL 267.784246 216.263209 \nL 270.346229 216.276298 \nL 272.908213 216.240974 \nL 275.470196 216.210323 \nL 278.03218 216.228752 \nL 280.594163 216.282368 \nL 283.156147 216.328554 \nL 285.71813 216.35008 \nL 288.280114 216.354116 \nL 290.842097 216.345257 \nL 293.404081 216.317267 \nL 295.966064 216.268297 \nL 298.528048 216.220075 \nL 301.090031 216.198209 \nL 303.652014 216.178728 \nL 306.213998 216.090887 \nL 308.775981 215.909338 \nL 311.337965 215.730292 \nL 313.899948 215.705697 \nL 316.461932 215.871792 \n\" clip-path=\"url(#pd3e3cec06e)\" style=\"fill: none; stroke: #ff7f0e; stroke-width: 2; stroke-linecap: square\"/>\n   </g>\n   <g id=\"patch_4\">\n    <path d=\"M 50.14375 216.358125 \nL 50.14375 22.318125 \n\" style=\"fill: none; stroke: #000000; stroke-width: 0.8; stroke-linejoin: miter; stroke-linecap: square\"/>\n   </g>\n   <g id=\"patch_5\">\n    <path d=\"M 329.14375 216.358125 \nL 329.14375 22.318125 \n\" style=\"fill: none; stroke: #000000; stroke-width: 0.8; stroke-linejoin: miter; stroke-linecap: square\"/>\n   </g>\n   <g id=\"patch_6\">\n    <path d=\"M 50.14375 216.358125 \nL 329.14375 216.358125 \n\" style=\"fill: none; stroke: #000000; stroke-width: 0.8; stroke-linejoin: miter; stroke-linecap: square\"/>\n   </g>\n   <g id=\"patch_7\">\n    <path d=\"M 50.14375 22.318125 \nL 329.14375 22.318125 \n\" style=\"fill: none; stroke: #000000; stroke-width: 0.8; stroke-linejoin: miter; stroke-linecap: square\"/>\n   </g>\n   <g id=\"text_17\">\n    <!-- Cell orientation along channel (KDE) -->\n    <g transform=\"translate(80.583438 16.318125) scale(0.12 -0.12)\">\n     <defs>\n      <path id=\"DejaVuSans-43\" d=\"M 4122 4306 \nL 4122 3641 \nQ 3803 3938 3442 4084 \nQ 3081 4231 2675 4231 \nQ 1875 4231 1450 3742 \nQ 1025 3253 1025 2328 \nQ 1025 1406 1450 917 \nQ 1875 428 2675 428 \nQ 3081 428 3442 575 \nQ 3803 722 4122 1019 \nL 4122 359 \nQ 3791 134 3420 21 \nQ 3050 -91 2638 -91 \nQ 1578 -91 968 557 \nQ 359 1206 359 2328 \nQ 359 3453 968 4101 \nQ 1578 4750 2638 4750 \nQ 3056 4750 3426 4639 \nQ 3797 4528 4122 4306 \nz\n\" transform=\"scale(0.015625)\"/>\n      <path id=\"DejaVuSans-6c\" d=\"M 603 4863 \nL 1178 4863 \nL 1178 0 \nL 603 0 \nL 603 4863 \nz\n\" transform=\"scale(0.015625)\"/>\n      <path id=\"DejaVuSans-68\" d=\"M 3513 2113 \nL 3513 0 \nL 2938 0 \nL 2938 2094 \nQ 2938 2591 2744 2837 \nQ 2550 3084 2163 3084 \nQ 1697 3084 1428 2787 \nQ 1159 2491 1159 1978 \nL 1159 0 \nL 581 0 \nL 581 4863 \nL 1159 4863 \nL 1159 2956 \nQ 1366 3272 1645 3428 \nQ 1925 3584 2291 3584 \nQ 2894 3584 3203 3211 \nQ 3513 2838 3513 2113 \nz\n\" transform=\"scale(0.015625)\"/>\n      <path id=\"DejaVuSans-4b\" d=\"M 628 4666 \nL 1259 4666 \nL 1259 2694 \nL 3353 4666 \nL 4166 4666 \nL 1850 2491 \nL 4331 0 \nL 3500 0 \nL 1259 2247 \nL 1259 0 \nL 628 0 \nL 628 4666 \nz\n\" transform=\"scale(0.015625)\"/>\n      <path id=\"DejaVuSans-45\" d=\"M 628 4666 \nL 3578 4666 \nL 3578 4134 \nL 1259 4134 \nL 1259 2753 \nL 3481 2753 \nL 3481 2222 \nL 1259 2222 \nL 1259 531 \nL 3634 531 \nL 3634 0 \nL 628 0 \nL 628 4666 \nz\n\" transform=\"scale(0.015625)\"/>\n     </defs>\n     <use xlink:href=\"#DejaVuSans-43\"/>\n     <use xlink:href=\"#DejaVuSans-65\" x=\"69.824219\"/>\n     <use xlink:href=\"#DejaVuSans-6c\" x=\"131.347656\"/>\n     <use xlink:href=\"#DejaVuSans-6c\" x=\"159.130859\"/>\n     <use xlink:href=\"#DejaVuSans-20\" x=\"186.914062\"/>\n     <use xlink:href=\"#DejaVuSans-6f\" x=\"218.701172\"/>\n     <use xlink:href=\"#DejaVuSans-72\" x=\"279.882812\"/>\n     <use xlink:href=\"#DejaVuSans-69\" x=\"320.996094\"/>\n     <use xlink:href=\"#DejaVuSans-65\" x=\"348.779297\"/>\n     <use xlink:href=\"#DejaVuSans-6e\" x=\"410.302734\"/>\n     <use xlink:href=\"#DejaVuSans-74\" x=\"473.681641\"/>\n     <use xlink:href=\"#DejaVuSans-61\" x=\"512.890625\"/>\n     <use xlink:href=\"#DejaVuSans-74\" x=\"574.169922\"/>\n     <use xlink:href=\"#DejaVuSans-69\" x=\"613.378906\"/>\n     <use xlink:href=\"#DejaVuSans-6f\" x=\"641.162109\"/>\n     <use xlink:href=\"#DejaVuSans-6e\" x=\"702.34375\"/>\n     <use xlink:href=\"#DejaVuSans-20\" x=\"765.722656\"/>\n     <use xlink:href=\"#DejaVuSans-61\" x=\"797.509766\"/>\n     <use xlink:href=\"#DejaVuSans-6c\" x=\"858.789062\"/>\n     <use xlink:href=\"#DejaVuSans-6f\" x=\"886.572266\"/>\n     <use xlink:href=\"#DejaVuSans-6e\" x=\"947.753906\"/>\n     <use xlink:href=\"#DejaVuSans-67\" x=\"1011.132812\"/>\n     <use xlink:href=\"#DejaVuSans-20\" x=\"1074.609375\"/>\n     <use xlink:href=\"#DejaVuSans-63\" x=\"1106.396484\"/>\n     <use xlink:href=\"#DejaVuSans-68\" x=\"1161.376953\"/>\n     <use xlink:href=\"#DejaVuSans-61\" x=\"1224.755859\"/>\n     <use xlink:href=\"#DejaVuSans-6e\" x=\"1286.035156\"/>\n     <use xlink:href=\"#DejaVuSans-6e\" x=\"1349.414062\"/>\n     <use xlink:href=\"#DejaVuSans-65\" x=\"1412.792969\"/>\n     <use xlink:href=\"#DejaVuSans-6c\" x=\"1474.316406\"/>\n     <use xlink:href=\"#DejaVuSans-20\" x=\"1502.099609\"/>\n     <use xlink:href=\"#DejaVuSans-28\" x=\"1533.886719\"/>\n     <use xlink:href=\"#DejaVuSans-4b\" x=\"1572.900391\"/>\n     <use xlink:href=\"#DejaVuSans-44\" x=\"1638.476562\"/>\n     <use xlink:href=\"#DejaVuSans-45\" x=\"1715.478516\"/>\n     <use xlink:href=\"#DejaVuSans-29\" x=\"1778.662109\"/>\n    </g>\n   </g>\n  </g>\n </g>\n <defs>\n  <clipPath id=\"pd3e3cec06e\">\n   <rect x=\"50.14375\" y=\"22.318125\" width=\"279\" height=\"194.04\"/>\n  </clipPath>\n </defs>\n</svg>\n",
      "text/plain": [
       "<Figure size 500x350 with 1 Axes>"
      ]
     },
     "metadata": {},
     "output_type": "display_data"
    }
   ],
   "source": [
    "fig, ax = plt.subplots(figsize=(5,3.5))\n",
    "plt.title(\"Cell orientation along channel (KDE)\")\n",
    "ax.hist(angles, 90, fc='gray', histtype='stepfilled', alpha=0.3, density=True)\n",
    "ax.plot(x_grid, kde(x_grid), linewidth=2)\n",
    "\n",
    "plt.xlabel(r\"$\\arccos{\\hat{r}\\cdot\\hat{x}}$ [deg]\")\n",
    "plt.ylabel(\"Density (N={:d})\".format(len(angles)))\n",
    "fig.savefig(join_paths(out_dir_path,'oritent_hist.pdf'), dpi=300)\n",
    "# plt.close()"
   ]
  },
  {
   "cell_type": "code",
   "execution_count": 6,
   "metadata": {},
   "outputs": [],
   "source": [
    "lengths = {}\n",
    "postions = {}\n",
    "orients = {}\n",
    "\n",
    "for step_num, cell_state in cell_states.items():\n",
    "    # Make some convenient data arrays from cell properties\n",
    "    length = np.array([cell.length for (id,cell) in cell_state.items()]) # [um]\n",
    "    # Postion in respect to the center of simulation\n",
    "    # Assume it's center of the channel (0,0)\n",
    "    pos = np.array([cell.pos for (id,cell) in cell_state.items()])\n",
    "    # Normalized orientation vector\n",
    "    orient = np.array([cell.dir for (id,cell) in cell_state.items()])\n",
    "\n",
    "    lengths[step_num] = length\n",
    "    postions[step_num] = pos\n",
    "    orients[step_num] = orient"
   ]
  },
  {
   "cell_type": "code",
   "execution_count": 7,
   "metadata": {},
   "outputs": [],
   "source": [
    "# Calculate angle in respect to a channel\n",
    "angles = {}\n",
    "# Unit-vector parallel to the channel (pointing left-to-right)\n",
    "x_norm = np.array((1,0,0), dtype=float)\n",
    "for step_num, orient in orients.items():\n",
    "    # Dot product with a unit-vector parallel to channel\n",
    "    inner_prods = np.inner(x_norm,orient)\n",
    "    # Dot product to radians\n",
    "    angles[step_num] = np.arccos(inner_prods)"
   ]
  },
  {
   "cell_type": "code",
   "execution_count": null,
   "metadata": {},
   "outputs": [],
   "source": [
    "# Plot histograms of some cell properties\n",
    "\n",
    "# Orientation\n",
    "plt.figure(figsize=(5,3.5))\n",
    "plt.title(\"Cell orientation\")\n",
    "plt.hist(angles[990], edgecolor='black', color='gray')\n",
    "plt.xlabel(r\"$\\arccos{\\hat{r}\\cdot\\hat{x}}$ [rad]\")\n",
    "plt.ylabel('Count (N=%d)'%(len(angles[990])))\n",
    "plt.savefig(join_paths(out_dir_path,'oritent_hist.pdf'), dpi=300)\n",
    "plt.close()"
   ]
  },
  {
   "cell_type": "code",
   "execution_count": 20,
   "metadata": {},
   "outputs": [
    {
     "data": {
      "application/vnd.plotly.v1+json": {
       "config": {
        "plotlyServerURL": "https://plot.ly"
       },
       "data": [
        {
         "alignmentgroup": "True",
         "bingroup": "x",
         "hovertemplate": "variable=0<br>value=%{x}<br>count=%{y}<extra></extra>",
         "legendgroup": "0",
         "marker": {
          "color": "#636efa",
          "pattern": {
           "shape": ""
          }
         },
         "name": "0",
         "offsetgroup": "0",
         "orientation": "v",
         "showlegend": true,
         "type": "histogram",
         "x": [
          0.08311283342423637,
          0.002290242570759818,
          0.02626375065869065,
          0.07690503156255402,
          0.03459396180076645,
          0.07989143152768892,
          0.032540902682914395,
          0.0836581491108016,
          0.01266248936060975,
          0.00142357236015881,
          0,
          0.044536429731033306,
          0.07631939948629862,
          0.004070640505899468,
          0.05408360193955583,
          0.0019531253104409915,
          0.020458700219498648,
          0.12271287669398101,
          0.19954516163881036,
          0.15444027174527172,
          0.03364873621651615,
          0.1545611180680815,
          0.040150284555620204,
          0.1618245275554459,
          0.03952470978382859,
          0.1562968477798425,
          0.18314439463996113,
          0.1371610901540055,
          0.19831004747140865,
          0.14168679118467056,
          0.2599908192894983,
          0.03236639424904097,
          0.2875493799663019,
          0.269618845236125,
          0.2689808078643554,
          0.2711180748738897,
          0.28882822741533387,
          0.282578484875989,
          0.011980388196640006,
          0,
          0.13943746605832982,
          0.03963316784768404,
          0.14036884731743823,
          0.0010358009953076478,
          0.144547317199784,
          0.0044484575639624985
         ],
         "xaxis": "x",
         "yaxis": "y"
        }
       ],
       "layout": {
        "bargap": 0.2,
        "barmode": "relative",
        "legend": {
         "title": {
          "text": "variable"
         },
         "tracegroupgap": 0
        },
        "template": {
         "data": {
          "bar": [
           {
            "error_x": {
             "color": "#2a3f5f"
            },
            "error_y": {
             "color": "#2a3f5f"
            },
            "marker": {
             "line": {
              "color": "#E5ECF6",
              "width": 0.5
             },
             "pattern": {
              "fillmode": "overlay",
              "size": 10,
              "solidity": 0.2
             }
            },
            "type": "bar"
           }
          ],
          "barpolar": [
           {
            "marker": {
             "line": {
              "color": "#E5ECF6",
              "width": 0.5
             },
             "pattern": {
              "fillmode": "overlay",
              "size": 10,
              "solidity": 0.2
             }
            },
            "type": "barpolar"
           }
          ],
          "carpet": [
           {
            "aaxis": {
             "endlinecolor": "#2a3f5f",
             "gridcolor": "white",
             "linecolor": "white",
             "minorgridcolor": "white",
             "startlinecolor": "#2a3f5f"
            },
            "baxis": {
             "endlinecolor": "#2a3f5f",
             "gridcolor": "white",
             "linecolor": "white",
             "minorgridcolor": "white",
             "startlinecolor": "#2a3f5f"
            },
            "type": "carpet"
           }
          ],
          "choropleth": [
           {
            "colorbar": {
             "outlinewidth": 0,
             "ticks": ""
            },
            "type": "choropleth"
           }
          ],
          "contour": [
           {
            "colorbar": {
             "outlinewidth": 0,
             "ticks": ""
            },
            "colorscale": [
             [
              0,
              "#0d0887"
             ],
             [
              0.1111111111111111,
              "#46039f"
             ],
             [
              0.2222222222222222,
              "#7201a8"
             ],
             [
              0.3333333333333333,
              "#9c179e"
             ],
             [
              0.4444444444444444,
              "#bd3786"
             ],
             [
              0.5555555555555556,
              "#d8576b"
             ],
             [
              0.6666666666666666,
              "#ed7953"
             ],
             [
              0.7777777777777778,
              "#fb9f3a"
             ],
             [
              0.8888888888888888,
              "#fdca26"
             ],
             [
              1,
              "#f0f921"
             ]
            ],
            "type": "contour"
           }
          ],
          "contourcarpet": [
           {
            "colorbar": {
             "outlinewidth": 0,
             "ticks": ""
            },
            "type": "contourcarpet"
           }
          ],
          "heatmap": [
           {
            "colorbar": {
             "outlinewidth": 0,
             "ticks": ""
            },
            "colorscale": [
             [
              0,
              "#0d0887"
             ],
             [
              0.1111111111111111,
              "#46039f"
             ],
             [
              0.2222222222222222,
              "#7201a8"
             ],
             [
              0.3333333333333333,
              "#9c179e"
             ],
             [
              0.4444444444444444,
              "#bd3786"
             ],
             [
              0.5555555555555556,
              "#d8576b"
             ],
             [
              0.6666666666666666,
              "#ed7953"
             ],
             [
              0.7777777777777778,
              "#fb9f3a"
             ],
             [
              0.8888888888888888,
              "#fdca26"
             ],
             [
              1,
              "#f0f921"
             ]
            ],
            "type": "heatmap"
           }
          ],
          "heatmapgl": [
           {
            "colorbar": {
             "outlinewidth": 0,
             "ticks": ""
            },
            "colorscale": [
             [
              0,
              "#0d0887"
             ],
             [
              0.1111111111111111,
              "#46039f"
             ],
             [
              0.2222222222222222,
              "#7201a8"
             ],
             [
              0.3333333333333333,
              "#9c179e"
             ],
             [
              0.4444444444444444,
              "#bd3786"
             ],
             [
              0.5555555555555556,
              "#d8576b"
             ],
             [
              0.6666666666666666,
              "#ed7953"
             ],
             [
              0.7777777777777778,
              "#fb9f3a"
             ],
             [
              0.8888888888888888,
              "#fdca26"
             ],
             [
              1,
              "#f0f921"
             ]
            ],
            "type": "heatmapgl"
           }
          ],
          "histogram": [
           {
            "marker": {
             "pattern": {
              "fillmode": "overlay",
              "size": 10,
              "solidity": 0.2
             }
            },
            "type": "histogram"
           }
          ],
          "histogram2d": [
           {
            "colorbar": {
             "outlinewidth": 0,
             "ticks": ""
            },
            "colorscale": [
             [
              0,
              "#0d0887"
             ],
             [
              0.1111111111111111,
              "#46039f"
             ],
             [
              0.2222222222222222,
              "#7201a8"
             ],
             [
              0.3333333333333333,
              "#9c179e"
             ],
             [
              0.4444444444444444,
              "#bd3786"
             ],
             [
              0.5555555555555556,
              "#d8576b"
             ],
             [
              0.6666666666666666,
              "#ed7953"
             ],
             [
              0.7777777777777778,
              "#fb9f3a"
             ],
             [
              0.8888888888888888,
              "#fdca26"
             ],
             [
              1,
              "#f0f921"
             ]
            ],
            "type": "histogram2d"
           }
          ],
          "histogram2dcontour": [
           {
            "colorbar": {
             "outlinewidth": 0,
             "ticks": ""
            },
            "colorscale": [
             [
              0,
              "#0d0887"
             ],
             [
              0.1111111111111111,
              "#46039f"
             ],
             [
              0.2222222222222222,
              "#7201a8"
             ],
             [
              0.3333333333333333,
              "#9c179e"
             ],
             [
              0.4444444444444444,
              "#bd3786"
             ],
             [
              0.5555555555555556,
              "#d8576b"
             ],
             [
              0.6666666666666666,
              "#ed7953"
             ],
             [
              0.7777777777777778,
              "#fb9f3a"
             ],
             [
              0.8888888888888888,
              "#fdca26"
             ],
             [
              1,
              "#f0f921"
             ]
            ],
            "type": "histogram2dcontour"
           }
          ],
          "mesh3d": [
           {
            "colorbar": {
             "outlinewidth": 0,
             "ticks": ""
            },
            "type": "mesh3d"
           }
          ],
          "parcoords": [
           {
            "line": {
             "colorbar": {
              "outlinewidth": 0,
              "ticks": ""
             }
            },
            "type": "parcoords"
           }
          ],
          "pie": [
           {
            "automargin": true,
            "type": "pie"
           }
          ],
          "scatter": [
           {
            "fillpattern": {
             "fillmode": "overlay",
             "size": 10,
             "solidity": 0.2
            },
            "type": "scatter"
           }
          ],
          "scatter3d": [
           {
            "line": {
             "colorbar": {
              "outlinewidth": 0,
              "ticks": ""
             }
            },
            "marker": {
             "colorbar": {
              "outlinewidth": 0,
              "ticks": ""
             }
            },
            "type": "scatter3d"
           }
          ],
          "scattercarpet": [
           {
            "marker": {
             "colorbar": {
              "outlinewidth": 0,
              "ticks": ""
             }
            },
            "type": "scattercarpet"
           }
          ],
          "scattergeo": [
           {
            "marker": {
             "colorbar": {
              "outlinewidth": 0,
              "ticks": ""
             }
            },
            "type": "scattergeo"
           }
          ],
          "scattergl": [
           {
            "marker": {
             "colorbar": {
              "outlinewidth": 0,
              "ticks": ""
             }
            },
            "type": "scattergl"
           }
          ],
          "scattermapbox": [
           {
            "marker": {
             "colorbar": {
              "outlinewidth": 0,
              "ticks": ""
             }
            },
            "type": "scattermapbox"
           }
          ],
          "scatterpolar": [
           {
            "marker": {
             "colorbar": {
              "outlinewidth": 0,
              "ticks": ""
             }
            },
            "type": "scatterpolar"
           }
          ],
          "scatterpolargl": [
           {
            "marker": {
             "colorbar": {
              "outlinewidth": 0,
              "ticks": ""
             }
            },
            "type": "scatterpolargl"
           }
          ],
          "scatterternary": [
           {
            "marker": {
             "colorbar": {
              "outlinewidth": 0,
              "ticks": ""
             }
            },
            "type": "scatterternary"
           }
          ],
          "surface": [
           {
            "colorbar": {
             "outlinewidth": 0,
             "ticks": ""
            },
            "colorscale": [
             [
              0,
              "#0d0887"
             ],
             [
              0.1111111111111111,
              "#46039f"
             ],
             [
              0.2222222222222222,
              "#7201a8"
             ],
             [
              0.3333333333333333,
              "#9c179e"
             ],
             [
              0.4444444444444444,
              "#bd3786"
             ],
             [
              0.5555555555555556,
              "#d8576b"
             ],
             [
              0.6666666666666666,
              "#ed7953"
             ],
             [
              0.7777777777777778,
              "#fb9f3a"
             ],
             [
              0.8888888888888888,
              "#fdca26"
             ],
             [
              1,
              "#f0f921"
             ]
            ],
            "type": "surface"
           }
          ],
          "table": [
           {
            "cells": {
             "fill": {
              "color": "#EBF0F8"
             },
             "line": {
              "color": "white"
             }
            },
            "header": {
             "fill": {
              "color": "#C8D4E3"
             },
             "line": {
              "color": "white"
             }
            },
            "type": "table"
           }
          ]
         },
         "layout": {
          "annotationdefaults": {
           "arrowcolor": "#2a3f5f",
           "arrowhead": 0,
           "arrowwidth": 1
          },
          "autotypenumbers": "strict",
          "coloraxis": {
           "colorbar": {
            "outlinewidth": 0,
            "ticks": ""
           }
          },
          "colorscale": {
           "diverging": [
            [
             0,
             "#8e0152"
            ],
            [
             0.1,
             "#c51b7d"
            ],
            [
             0.2,
             "#de77ae"
            ],
            [
             0.3,
             "#f1b6da"
            ],
            [
             0.4,
             "#fde0ef"
            ],
            [
             0.5,
             "#f7f7f7"
            ],
            [
             0.6,
             "#e6f5d0"
            ],
            [
             0.7,
             "#b8e186"
            ],
            [
             0.8,
             "#7fbc41"
            ],
            [
             0.9,
             "#4d9221"
            ],
            [
             1,
             "#276419"
            ]
           ],
           "sequential": [
            [
             0,
             "#0d0887"
            ],
            [
             0.1111111111111111,
             "#46039f"
            ],
            [
             0.2222222222222222,
             "#7201a8"
            ],
            [
             0.3333333333333333,
             "#9c179e"
            ],
            [
             0.4444444444444444,
             "#bd3786"
            ],
            [
             0.5555555555555556,
             "#d8576b"
            ],
            [
             0.6666666666666666,
             "#ed7953"
            ],
            [
             0.7777777777777778,
             "#fb9f3a"
            ],
            [
             0.8888888888888888,
             "#fdca26"
            ],
            [
             1,
             "#f0f921"
            ]
           ],
           "sequentialminus": [
            [
             0,
             "#0d0887"
            ],
            [
             0.1111111111111111,
             "#46039f"
            ],
            [
             0.2222222222222222,
             "#7201a8"
            ],
            [
             0.3333333333333333,
             "#9c179e"
            ],
            [
             0.4444444444444444,
             "#bd3786"
            ],
            [
             0.5555555555555556,
             "#d8576b"
            ],
            [
             0.6666666666666666,
             "#ed7953"
            ],
            [
             0.7777777777777778,
             "#fb9f3a"
            ],
            [
             0.8888888888888888,
             "#fdca26"
            ],
            [
             1,
             "#f0f921"
            ]
           ]
          },
          "colorway": [
           "#636efa",
           "#EF553B",
           "#00cc96",
           "#ab63fa",
           "#FFA15A",
           "#19d3f3",
           "#FF6692",
           "#B6E880",
           "#FF97FF",
           "#FECB52"
          ],
          "font": {
           "color": "#2a3f5f"
          },
          "geo": {
           "bgcolor": "white",
           "lakecolor": "white",
           "landcolor": "#E5ECF6",
           "showlakes": true,
           "showland": true,
           "subunitcolor": "white"
          },
          "hoverlabel": {
           "align": "left"
          },
          "hovermode": "closest",
          "mapbox": {
           "style": "light"
          },
          "paper_bgcolor": "white",
          "plot_bgcolor": "#E5ECF6",
          "polar": {
           "angularaxis": {
            "gridcolor": "white",
            "linecolor": "white",
            "ticks": ""
           },
           "bgcolor": "#E5ECF6",
           "radialaxis": {
            "gridcolor": "white",
            "linecolor": "white",
            "ticks": ""
           }
          },
          "scene": {
           "xaxis": {
            "backgroundcolor": "#E5ECF6",
            "gridcolor": "white",
            "gridwidth": 2,
            "linecolor": "white",
            "showbackground": true,
            "ticks": "",
            "zerolinecolor": "white"
           },
           "yaxis": {
            "backgroundcolor": "#E5ECF6",
            "gridcolor": "white",
            "gridwidth": 2,
            "linecolor": "white",
            "showbackground": true,
            "ticks": "",
            "zerolinecolor": "white"
           },
           "zaxis": {
            "backgroundcolor": "#E5ECF6",
            "gridcolor": "white",
            "gridwidth": 2,
            "linecolor": "white",
            "showbackground": true,
            "ticks": "",
            "zerolinecolor": "white"
           }
          },
          "shapedefaults": {
           "line": {
            "color": "#2a3f5f"
           }
          },
          "ternary": {
           "aaxis": {
            "gridcolor": "white",
            "linecolor": "white",
            "ticks": ""
           },
           "baxis": {
            "gridcolor": "white",
            "linecolor": "white",
            "ticks": ""
           },
           "bgcolor": "#E5ECF6",
           "caxis": {
            "gridcolor": "white",
            "linecolor": "white",
            "ticks": ""
           }
          },
          "title": {
           "x": 0.05
          },
          "xaxis": {
           "automargin": true,
           "gridcolor": "white",
           "linecolor": "white",
           "ticks": "",
           "title": {
            "standoff": 15
           },
           "zerolinecolor": "white",
           "zerolinewidth": 2
          },
          "yaxis": {
           "automargin": true,
           "gridcolor": "white",
           "linecolor": "white",
           "ticks": "",
           "title": {
            "standoff": 15
           },
           "zerolinecolor": "white",
           "zerolinewidth": 2
          }
         }
        },
        "title": {
         "text": "Cell orientation along x-axis"
        },
        "xaxis": {
         "anchor": "y",
         "domain": [
          0,
          1
         ],
         "title": {
          "text": "Orientation [rad]"
         }
        },
        "yaxis": {
         "anchor": "x",
         "domain": [
          0,
          1
         ],
         "title": {
          "text": "Count (N=46)"
         }
        }
       }
      },
      "text/html": [
       "<div>                            <div id=\"d13c7b85-e320-4d38-a613-65e94f835cbb\" class=\"plotly-graph-div\" style=\"height:525px; width:100%;\"></div>            <script type=\"text/javascript\">                require([\"plotly\"], function(Plotly) {                    window.PLOTLYENV=window.PLOTLYENV || {};                                    if (document.getElementById(\"d13c7b85-e320-4d38-a613-65e94f835cbb\")) {                    Plotly.newPlot(                        \"d13c7b85-e320-4d38-a613-65e94f835cbb\",                        [{\"alignmentgroup\":\"True\",\"bingroup\":\"x\",\"hovertemplate\":\"variable=0<br>value=%{x}<br>count=%{y}<extra></extra>\",\"legendgroup\":\"0\",\"marker\":{\"color\":\"#636efa\",\"pattern\":{\"shape\":\"\"}},\"name\":\"0\",\"offsetgroup\":\"0\",\"orientation\":\"v\",\"showlegend\":true,\"x\":[0.08311283342423637,0.002290242570759818,0.02626375065869065,0.07690503156255402,0.03459396180076645,0.07989143152768892,0.032540902682914395,0.0836581491108016,0.01266248936060975,0.00142357236015881,0.0,0.044536429731033306,0.07631939948629862,0.004070640505899468,0.05408360193955583,0.0019531253104409915,0.020458700219498648,0.12271287669398101,0.19954516163881036,0.15444027174527172,0.03364873621651615,0.1545611180680815,0.040150284555620204,0.1618245275554459,0.03952470978382859,0.1562968477798425,0.18314439463996113,0.1371610901540055,0.19831004747140865,0.14168679118467056,0.2599908192894983,0.03236639424904097,0.2875493799663019,0.269618845236125,0.2689808078643554,0.2711180748738897,0.28882822741533387,0.282578484875989,0.011980388196640006,0.0,0.13943746605832982,0.03963316784768404,0.14036884731743823,0.0010358009953076478,0.144547317199784,0.0044484575639624985],\"xaxis\":\"x\",\"yaxis\":\"y\",\"type\":\"histogram\"}],                        {\"template\":{\"data\":{\"histogram2dcontour\":[{\"type\":\"histogram2dcontour\",\"colorbar\":{\"outlinewidth\":0,\"ticks\":\"\"},\"colorscale\":[[0.0,\"#0d0887\"],[0.1111111111111111,\"#46039f\"],[0.2222222222222222,\"#7201a8\"],[0.3333333333333333,\"#9c179e\"],[0.4444444444444444,\"#bd3786\"],[0.5555555555555556,\"#d8576b\"],[0.6666666666666666,\"#ed7953\"],[0.7777777777777778,\"#fb9f3a\"],[0.8888888888888888,\"#fdca26\"],[1.0,\"#f0f921\"]]}],\"choropleth\":[{\"type\":\"choropleth\",\"colorbar\":{\"outlinewidth\":0,\"ticks\":\"\"}}],\"histogram2d\":[{\"type\":\"histogram2d\",\"colorbar\":{\"outlinewidth\":0,\"ticks\":\"\"},\"colorscale\":[[0.0,\"#0d0887\"],[0.1111111111111111,\"#46039f\"],[0.2222222222222222,\"#7201a8\"],[0.3333333333333333,\"#9c179e\"],[0.4444444444444444,\"#bd3786\"],[0.5555555555555556,\"#d8576b\"],[0.6666666666666666,\"#ed7953\"],[0.7777777777777778,\"#fb9f3a\"],[0.8888888888888888,\"#fdca26\"],[1.0,\"#f0f921\"]]}],\"heatmap\":[{\"type\":\"heatmap\",\"colorbar\":{\"outlinewidth\":0,\"ticks\":\"\"},\"colorscale\":[[0.0,\"#0d0887\"],[0.1111111111111111,\"#46039f\"],[0.2222222222222222,\"#7201a8\"],[0.3333333333333333,\"#9c179e\"],[0.4444444444444444,\"#bd3786\"],[0.5555555555555556,\"#d8576b\"],[0.6666666666666666,\"#ed7953\"],[0.7777777777777778,\"#fb9f3a\"],[0.8888888888888888,\"#fdca26\"],[1.0,\"#f0f921\"]]}],\"heatmapgl\":[{\"type\":\"heatmapgl\",\"colorbar\":{\"outlinewidth\":0,\"ticks\":\"\"},\"colorscale\":[[0.0,\"#0d0887\"],[0.1111111111111111,\"#46039f\"],[0.2222222222222222,\"#7201a8\"],[0.3333333333333333,\"#9c179e\"],[0.4444444444444444,\"#bd3786\"],[0.5555555555555556,\"#d8576b\"],[0.6666666666666666,\"#ed7953\"],[0.7777777777777778,\"#fb9f3a\"],[0.8888888888888888,\"#fdca26\"],[1.0,\"#f0f921\"]]}],\"contourcarpet\":[{\"type\":\"contourcarpet\",\"colorbar\":{\"outlinewidth\":0,\"ticks\":\"\"}}],\"contour\":[{\"type\":\"contour\",\"colorbar\":{\"outlinewidth\":0,\"ticks\":\"\"},\"colorscale\":[[0.0,\"#0d0887\"],[0.1111111111111111,\"#46039f\"],[0.2222222222222222,\"#7201a8\"],[0.3333333333333333,\"#9c179e\"],[0.4444444444444444,\"#bd3786\"],[0.5555555555555556,\"#d8576b\"],[0.6666666666666666,\"#ed7953\"],[0.7777777777777778,\"#fb9f3a\"],[0.8888888888888888,\"#fdca26\"],[1.0,\"#f0f921\"]]}],\"surface\":[{\"type\":\"surface\",\"colorbar\":{\"outlinewidth\":0,\"ticks\":\"\"},\"colorscale\":[[0.0,\"#0d0887\"],[0.1111111111111111,\"#46039f\"],[0.2222222222222222,\"#7201a8\"],[0.3333333333333333,\"#9c179e\"],[0.4444444444444444,\"#bd3786\"],[0.5555555555555556,\"#d8576b\"],[0.6666666666666666,\"#ed7953\"],[0.7777777777777778,\"#fb9f3a\"],[0.8888888888888888,\"#fdca26\"],[1.0,\"#f0f921\"]]}],\"mesh3d\":[{\"type\":\"mesh3d\",\"colorbar\":{\"outlinewidth\":0,\"ticks\":\"\"}}],\"scatter\":[{\"fillpattern\":{\"fillmode\":\"overlay\",\"size\":10,\"solidity\":0.2},\"type\":\"scatter\"}],\"parcoords\":[{\"type\":\"parcoords\",\"line\":{\"colorbar\":{\"outlinewidth\":0,\"ticks\":\"\"}}}],\"scatterpolargl\":[{\"type\":\"scatterpolargl\",\"marker\":{\"colorbar\":{\"outlinewidth\":0,\"ticks\":\"\"}}}],\"bar\":[{\"error_x\":{\"color\":\"#2a3f5f\"},\"error_y\":{\"color\":\"#2a3f5f\"},\"marker\":{\"line\":{\"color\":\"#E5ECF6\",\"width\":0.5},\"pattern\":{\"fillmode\":\"overlay\",\"size\":10,\"solidity\":0.2}},\"type\":\"bar\"}],\"scattergeo\":[{\"type\":\"scattergeo\",\"marker\":{\"colorbar\":{\"outlinewidth\":0,\"ticks\":\"\"}}}],\"scatterpolar\":[{\"type\":\"scatterpolar\",\"marker\":{\"colorbar\":{\"outlinewidth\":0,\"ticks\":\"\"}}}],\"histogram\":[{\"marker\":{\"pattern\":{\"fillmode\":\"overlay\",\"size\":10,\"solidity\":0.2}},\"type\":\"histogram\"}],\"scattergl\":[{\"type\":\"scattergl\",\"marker\":{\"colorbar\":{\"outlinewidth\":0,\"ticks\":\"\"}}}],\"scatter3d\":[{\"type\":\"scatter3d\",\"line\":{\"colorbar\":{\"outlinewidth\":0,\"ticks\":\"\"}},\"marker\":{\"colorbar\":{\"outlinewidth\":0,\"ticks\":\"\"}}}],\"scattermapbox\":[{\"type\":\"scattermapbox\",\"marker\":{\"colorbar\":{\"outlinewidth\":0,\"ticks\":\"\"}}}],\"scatterternary\":[{\"type\":\"scatterternary\",\"marker\":{\"colorbar\":{\"outlinewidth\":0,\"ticks\":\"\"}}}],\"scattercarpet\":[{\"type\":\"scattercarpet\",\"marker\":{\"colorbar\":{\"outlinewidth\":0,\"ticks\":\"\"}}}],\"carpet\":[{\"aaxis\":{\"endlinecolor\":\"#2a3f5f\",\"gridcolor\":\"white\",\"linecolor\":\"white\",\"minorgridcolor\":\"white\",\"startlinecolor\":\"#2a3f5f\"},\"baxis\":{\"endlinecolor\":\"#2a3f5f\",\"gridcolor\":\"white\",\"linecolor\":\"white\",\"minorgridcolor\":\"white\",\"startlinecolor\":\"#2a3f5f\"},\"type\":\"carpet\"}],\"table\":[{\"cells\":{\"fill\":{\"color\":\"#EBF0F8\"},\"line\":{\"color\":\"white\"}},\"header\":{\"fill\":{\"color\":\"#C8D4E3\"},\"line\":{\"color\":\"white\"}},\"type\":\"table\"}],\"barpolar\":[{\"marker\":{\"line\":{\"color\":\"#E5ECF6\",\"width\":0.5},\"pattern\":{\"fillmode\":\"overlay\",\"size\":10,\"solidity\":0.2}},\"type\":\"barpolar\"}],\"pie\":[{\"automargin\":true,\"type\":\"pie\"}]},\"layout\":{\"autotypenumbers\":\"strict\",\"colorway\":[\"#636efa\",\"#EF553B\",\"#00cc96\",\"#ab63fa\",\"#FFA15A\",\"#19d3f3\",\"#FF6692\",\"#B6E880\",\"#FF97FF\",\"#FECB52\"],\"font\":{\"color\":\"#2a3f5f\"},\"hovermode\":\"closest\",\"hoverlabel\":{\"align\":\"left\"},\"paper_bgcolor\":\"white\",\"plot_bgcolor\":\"#E5ECF6\",\"polar\":{\"bgcolor\":\"#E5ECF6\",\"angularaxis\":{\"gridcolor\":\"white\",\"linecolor\":\"white\",\"ticks\":\"\"},\"radialaxis\":{\"gridcolor\":\"white\",\"linecolor\":\"white\",\"ticks\":\"\"}},\"ternary\":{\"bgcolor\":\"#E5ECF6\",\"aaxis\":{\"gridcolor\":\"white\",\"linecolor\":\"white\",\"ticks\":\"\"},\"baxis\":{\"gridcolor\":\"white\",\"linecolor\":\"white\",\"ticks\":\"\"},\"caxis\":{\"gridcolor\":\"white\",\"linecolor\":\"white\",\"ticks\":\"\"}},\"coloraxis\":{\"colorbar\":{\"outlinewidth\":0,\"ticks\":\"\"}},\"colorscale\":{\"sequential\":[[0.0,\"#0d0887\"],[0.1111111111111111,\"#46039f\"],[0.2222222222222222,\"#7201a8\"],[0.3333333333333333,\"#9c179e\"],[0.4444444444444444,\"#bd3786\"],[0.5555555555555556,\"#d8576b\"],[0.6666666666666666,\"#ed7953\"],[0.7777777777777778,\"#fb9f3a\"],[0.8888888888888888,\"#fdca26\"],[1.0,\"#f0f921\"]],\"sequentialminus\":[[0.0,\"#0d0887\"],[0.1111111111111111,\"#46039f\"],[0.2222222222222222,\"#7201a8\"],[0.3333333333333333,\"#9c179e\"],[0.4444444444444444,\"#bd3786\"],[0.5555555555555556,\"#d8576b\"],[0.6666666666666666,\"#ed7953\"],[0.7777777777777778,\"#fb9f3a\"],[0.8888888888888888,\"#fdca26\"],[1.0,\"#f0f921\"]],\"diverging\":[[0,\"#8e0152\"],[0.1,\"#c51b7d\"],[0.2,\"#de77ae\"],[0.3,\"#f1b6da\"],[0.4,\"#fde0ef\"],[0.5,\"#f7f7f7\"],[0.6,\"#e6f5d0\"],[0.7,\"#b8e186\"],[0.8,\"#7fbc41\"],[0.9,\"#4d9221\"],[1,\"#276419\"]]},\"xaxis\":{\"gridcolor\":\"white\",\"linecolor\":\"white\",\"ticks\":\"\",\"title\":{\"standoff\":15},\"zerolinecolor\":\"white\",\"automargin\":true,\"zerolinewidth\":2},\"yaxis\":{\"gridcolor\":\"white\",\"linecolor\":\"white\",\"ticks\":\"\",\"title\":{\"standoff\":15},\"zerolinecolor\":\"white\",\"automargin\":true,\"zerolinewidth\":2},\"scene\":{\"xaxis\":{\"backgroundcolor\":\"#E5ECF6\",\"gridcolor\":\"white\",\"linecolor\":\"white\",\"showbackground\":true,\"ticks\":\"\",\"zerolinecolor\":\"white\",\"gridwidth\":2},\"yaxis\":{\"backgroundcolor\":\"#E5ECF6\",\"gridcolor\":\"white\",\"linecolor\":\"white\",\"showbackground\":true,\"ticks\":\"\",\"zerolinecolor\":\"white\",\"gridwidth\":2},\"zaxis\":{\"backgroundcolor\":\"#E5ECF6\",\"gridcolor\":\"white\",\"linecolor\":\"white\",\"showbackground\":true,\"ticks\":\"\",\"zerolinecolor\":\"white\",\"gridwidth\":2}},\"shapedefaults\":{\"line\":{\"color\":\"#2a3f5f\"}},\"annotationdefaults\":{\"arrowcolor\":\"#2a3f5f\",\"arrowhead\":0,\"arrowwidth\":1},\"geo\":{\"bgcolor\":\"white\",\"landcolor\":\"#E5ECF6\",\"subunitcolor\":\"white\",\"showland\":true,\"showlakes\":true,\"lakecolor\":\"white\"},\"title\":{\"x\":0.05},\"mapbox\":{\"style\":\"light\"}}},\"xaxis\":{\"anchor\":\"y\",\"domain\":[0.0,1.0],\"title\":{\"text\":\"Orientation [rad]\"}},\"yaxis\":{\"anchor\":\"x\",\"domain\":[0.0,1.0],\"title\":{\"text\":\"Count (N=46)\"}},\"legend\":{\"title\":{\"text\":\"variable\"},\"tracegroupgap\":0},\"title\":{\"text\":\"Cell orientation along x-axis\"},\"barmode\":\"relative\",\"bargap\":0.2},                        {\"responsive\": true}                    ).then(function(){\n",
       "                            \n",
       "var gd = document.getElementById('d13c7b85-e320-4d38-a613-65e94f835cbb');\n",
       "var x = new MutationObserver(function (mutations, observer) {{\n",
       "        var display = window.getComputedStyle(gd).display;\n",
       "        if (!display || display === 'none') {{\n",
       "            console.log([gd, 'removed!']);\n",
       "            Plotly.purge(gd);\n",
       "            observer.disconnect();\n",
       "        }}\n",
       "}});\n",
       "\n",
       "// Listen for the removal of the full notebook cells\n",
       "var notebookContainer = gd.closest('#notebook-container');\n",
       "if (notebookContainer) {{\n",
       "    x.observe(notebookContainer, {childList: true});\n",
       "}}\n",
       "\n",
       "// Listen for the clearing of the current output cell\n",
       "var outputEl = gd.closest('.output');\n",
       "if (outputEl) {{\n",
       "    x.observe(outputEl, {childList: true});\n",
       "}}\n",
       "\n",
       "                        })                };                });            </script>        </div>"
      ]
     },
     "metadata": {},
     "output_type": "display_data"
    }
   ],
   "source": [
    "# Plot histograms of some cell properties\n",
    "fig = px.histogram(angles[990], \n",
    "    title=\"Cell orientation along x-axis\")\n",
    "fig.update_layout(bargap=0.2,\n",
    "    xaxis={\"title\":  \"Orientation [rad]\"},\n",
    "    yaxis={\"title\":  \"Count (N=%d)\"%(len(angles[990]))})\n",
    "fig.show()"
   ]
  },
  {
   "cell_type": "code",
   "execution_count": null,
   "metadata": {},
   "outputs": [],
   "source": [
    "# Plot histograms of some cell properties\n",
    "\n",
    "# Length\n",
    "plt.figure(figsize=(5,3.5))\n",
    "plt.title('Cell length')\n",
    "plt.hist(lengths, edgecolor='black', color='gray')\n",
    "plt.xlabel('$\\mu m$')\n",
    "plt.ylabel('Count (N=%d)'%(len(cs)))\n",
    "plt.savefig(join_paths(out_dir_path, 'length_hist.pdf'), dpi=300)\n",
    "\n",
    "# Distance from origin\n",
    "plt.figure(figsize=(5,3.5))\n",
    "plt.title('Distance from origin')\n",
    "plt.hist(np.sqrt(pos[:,0]**2+pos[:,1]**2), edgecolor='black', color='gray')\n",
    "plt.xlabel('$\\mu m$')\n",
    "plt.ylabel('Count (N=%d)'%(len(cs)))\n",
    "plt.savefig(join_paths(out_dir_path, 'pos_hist.pdf'), dpi=300)"
   ]
  },
  {
   "cell_type": "markdown",
   "metadata": {},
   "source": [
    "## References\n",
    "1. Koldaeva, Anzhelika, et al. \"Population genetics in microchannels.\" Proceedings of the National Academy of Sciences 119.12 (2022): e2120821119.\n",
    "2. "
   ]
  }
 ],
 "metadata": {
  "kernelspec": {
   "display_name": "Python 3.10.6 ('cellmodeller': conda)",
   "language": "python",
   "name": "python3"
  },
  "language_info": {
   "codemirror_mode": {
    "name": "ipython",
    "version": 3
   },
   "file_extension": ".py",
   "mimetype": "text/x-python",
   "name": "python",
   "nbconvert_exporter": "python",
   "pygments_lexer": "ipython3",
   "version": "3.10.6"
  },
  "vscode": {
   "interpreter": {
    "hash": "0a70ad87fbfe2d5edb3b77ada29a78667d32ffdf01d6d3ad8a40b9cb449f924a"
   }
  }
 },
 "nbformat": 4,
 "nbformat_minor": 2
}
