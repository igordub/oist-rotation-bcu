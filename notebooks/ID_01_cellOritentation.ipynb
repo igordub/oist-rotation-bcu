{
 "cells": [
  {
   "cell_type": "markdown",
   "metadata": {},
   "source": [
    "# Analysis of bacterial cell oritetation in microchannels\n",
    "Analyse cell oritentation distribution in microchannels simulated with `CellModeller` [1].\n",
    "\n",
    "## Purpose\n",
    "Compare simualtion and experimental cell oritentation data to calibrate simulation parameters.\n",
    "\n",
    "## Methodology\n",
    "1. Read `.pickle` file into dictionary with `pickle` module.\n",
    "2. Plot cell oritentation histogram for each simulation step.\n",
    "3. Coallete all histograms into one interactive figure.\n",
    "\n",
    "## WIP - improvements\n",
    "Use this section only if the notebook is not final.\n",
    "\n",
    "## Notable TODOs:\n",
    "\n",
    "- Load multiple `.pickle` files. Store in a dictionary `{simulation_step: cell_state}`\n",
    "- Plot oritentation histogram for each simulation step.\n",
    "- Use `plotly` to visualize multiple steps in one figure.\n",
    "- Copy model file to output directory.\n",
    "\n",
    "## Results\n",
    "`norm` - cell orientation vector. **Note** Already normalized. \n",
    "\n",
    "## Suggested next steps\n",
    "- Load, process and analyse experimetal data\n",
    "- Compare experimetal and simualtion data plots"
   ]
  },
  {
   "cell_type": "markdown",
   "metadata": {},
   "source": [
    "# Setup\n",
    "## Library import"
   ]
  },
  {
   "cell_type": "code",
   "execution_count": 1,
   "metadata": {},
   "outputs": [],
   "source": [
    "import os\n",
    "from os.path import join as join_paths, basename as get_basename\n",
    "import glob\n",
    "\n",
    "import pickle\n",
    "import numpy as np\n",
    "from scipy.stats import gaussian_kde\n",
    "\n",
    "from matplotlib import pyplot as plt\n",
    "%matplotlib inline\n",
    "import plotly.express as px"
   ]
  },
  {
   "cell_type": "code",
   "execution_count": 2,
   "metadata": {},
   "outputs": [
    {
     "data": {
      "text/plain": [
       "'/home/i/igors-dubanevics/projects/bacteria-microchannel'"
      ]
     },
     "execution_count": 2,
     "metadata": {},
     "output_type": "execute_result"
    }
   ],
   "source": [
    "os.chdir(\"/home/i/igors-dubanevics/projects/bacteria-microchannel\")\n",
    "os.getcwd()"
   ]
  },
  {
   "cell_type": "markdown",
   "metadata": {},
   "source": [
    "## Parameter definition"
   ]
  },
  {
   "cell_type": "code",
   "execution_count": 3,
   "metadata": {},
   "outputs": [],
   "source": [
    "data_dir_path = \"data/microch_30x4-22-11-29-09-57\"\n",
    "\n",
    "out_dir_path = join_paths(\"scratch\", get_basename(data_dir_path))\n",
    "\n",
    "# Time-step\n",
    "dt = 0.005 # [min]"
   ]
  },
  {
   "cell_type": "markdown",
   "metadata": {},
   "source": [
    "## Pre-data import"
   ]
  },
  {
   "cell_type": "code",
   "execution_count": 4,
   "metadata": {},
   "outputs": [],
   "source": [
    "# Create output dir\n",
    "os.makedirs(out_dir_path, exist_ok=True)"
   ]
  },
  {
   "cell_type": "markdown",
   "metadata": {},
   "source": [
    "## Data import"
   ]
  },
  {
   "cell_type": "code",
   "execution_count": 5,
   "metadata": {},
   "outputs": [],
   "source": [
    "# Store data in a dictionary of form {step_number: cell_state}\n",
    "cell_states = {}\n",
    "\n",
    "# Get data from saved pickle files\n",
    "filenames = sorted(glob.glob(join_paths(data_dir_path, 'step-*.pickle')))\n",
    "for filename in filenames:\n",
    "    # Extract simualtion step number from a filename\n",
    "    step_num = int(get_basename(filename).replace(\".pickle\",\"\").replace(\"step-\",\"\"))\n",
    "    data = pickle.load(open(filename,'rb'))\n",
    "    cs = data['cellStates']\n",
    "    cell_states[step_num] = cs"
   ]
  },
  {
   "cell_type": "markdown",
   "metadata": {},
   "source": [
    "## Data processing"
   ]
  },
  {
   "cell_type": "code",
   "execution_count": 6,
   "metadata": {},
   "outputs": [],
   "source": [
    "lengths = {}\n",
    "postions = {}\n",
    "orients = {}\n",
    "\n",
    "orient_per_cell = {}\n",
    "\n",
    "for step_num, cell_state in cell_states.items():\n",
    "    # Make some convenient data arrays from cell properties\n",
    "    length = np.array([cell.length for (id,cell) in cell_state.items()]) # [um]\n",
    "    # Postion in respect to the center of simulation\n",
    "    # Assume it's center of the channel (0,0)\n",
    "    pos = np.array([cell.pos for (id,cell) in cell_state.items()])\n",
    "    # Normalized orientation vector\n",
    "    orient = np.array([cell.dir for (id,cell) in cell_state.items()])\n",
    "\n",
    "    # Orientation per cell\n",
    "    for (id,cell) in cell_state.items():\n",
    "        if id in orient_per_cell.keys():\n",
    "            orient_per_cell[id] = np.append(orient_per_cell[id], [cell.dir], axis=0)\n",
    "        else:\n",
    "            orient_per_cell[id] = np.array([cell.dir])\n",
    "\n",
    "    lengths[step_num] = length\n",
    "    postions[step_num] = pos\n",
    "    orients[step_num] = orient"
   ]
  },
  {
   "cell_type": "code",
   "execution_count": 7,
   "metadata": {},
   "outputs": [],
   "source": [
    "# Calculate angle in respect to a channel\n",
    "angles_per_step = {}\n",
    "# Unit-vector parallel to the channel (pointing left-to-right)\n",
    "x_norm = np.array((1,0,0), dtype=float)\n",
    "for step_num, orient in orients.items():\n",
    "    # Dot product with a unit-vector parallel to channel\n",
    "    inner_prods = np.inner(x_norm,orient)\n",
    "    # Dot product to radians\n",
    "    rads = np.arccos(inner_prods)\n",
    "    # Convert radians to degrees\n",
    "    angles_per_step[step_num] = np.rad2deg(rads)"
   ]
  },
  {
   "cell_type": "code",
   "execution_count": 8,
   "metadata": {},
   "outputs": [
    {
     "data": {
      "text/plain": [
       "array([ 0.        ,  0.        ,  0.        , ..., 85.71279357,\n",
       "       85.76372411, 85.76810312])"
      ]
     },
     "execution_count": 8,
     "metadata": {},
     "output_type": "execute_result"
    }
   ],
   "source": [
    "angles = np.array([angles for (step_num, angles) in angles_per_step.items()], dtype=object)\n",
    "angles = np.concatenate(angles).reshape(-1)\n",
    "np.sort(angles)"
   ]
  },
  {
   "cell_type": "code",
   "execution_count": 9,
   "metadata": {},
   "outputs": [],
   "source": [
    "# Calculate angle in respect to a channel\n",
    "angles_per_cell = {}\n",
    "\n",
    "# Unit-vector parallel to the channel (pointing left-to-right)\n",
    "x_norm = np.array((1,0,0), dtype=float)\n",
    "\n",
    "for id, orient in orient_per_cell.items():\n",
    "    # Dot product with a unit-vector parallel to channel\n",
    "    inner_prods = np.inner(x_norm,orient)\n",
    "    # Dot product to radians\n",
    "    rads = np.arccos(inner_prods)\n",
    "    # Convert radians to degrees\n",
    "    angles_per_cell[id] = np.rad2deg(rads)"
   ]
  },
  {
   "cell_type": "code",
   "execution_count": 10,
   "metadata": {},
   "outputs": [],
   "source": [
    "# Average angle per cell for whole simulation time\n",
    "avg_angles = np.array([np.average(angles) for (id, angles) in angles_per_cell.items()])"
   ]
  },
  {
   "cell_type": "code",
   "execution_count": 11,
   "metadata": {},
   "outputs": [
    {
     "data": {
      "text/plain": [
       "array([-0.65235955, -0.94467359, -2.1456062 , ...,  0.00424628,\n",
       "        0.        ,  0.0119397 ])"
      ]
     },
     "execution_count": 11,
     "metadata": {},
     "output_type": "execute_result"
    }
   ],
   "source": [
    "if len(np.where(avg_angles == 0.0)) == 0:\n",
    "    avg_angles_double = np.concatenate([-avg_angles,avg_angles])\n",
    "else:\n",
    "    x = np.delete(avg_angles, np.where(avg_angles == 0.0)[0])\n",
    "    avg_angles_double = np.concatenate([-x,avg_angles])\n",
    "avg_angles_double"
   ]
  },
  {
   "cell_type": "code",
   "execution_count": 14,
   "metadata": {},
   "outputs": [
    {
     "data": {
      "text/plain": [
       "634"
      ]
     },
     "execution_count": 14,
     "metadata": {},
     "output_type": "execute_result"
    }
   ],
   "source": [
    "len(avg_angles)"
   ]
  },
  {
   "cell_type": "code",
   "execution_count": 17,
   "metadata": {},
   "outputs": [
    {
     "data": {
      "image/png": "[encoded data removed]",
      "image/svg+xml": "<?xml version=\"1.0\" encoding=\"utf-8\" standalone=\"no\"?>\n<!DOCTYPE svg PUBLIC \"-//W3C//DTD SVG 1.1//EN\"\n  \"http://www.w3.org/Graphics/SVG/1.1/DTD/svg11.dtd\">\n<svg xmlns:xlink=\"http://www.w3.org/1999/xlink\" width=\"346.16125pt\" height=\"239.54625pt\" viewBox=\"0 0 346.16125 239.54625\" xmlns=\"http://www.w3.org/2000/svg\" version=\"1.1\">\n <metadata>\n  <rdf:RDF xmlns:dc=\"http://purl.org/dc/elements/1.1/\" xmlns:cc=\"http://creativecommons.org/ns#\" xmlns:rdf=\"http://www.w3.org/1999/02/22-rdf-syntax-ns#\">\n   <cc:Work>\n    <dc:type rdf:resource=\"http://purl.org/dc/dcmitype/StillImage\"/>\n    <dc:date>2022-12-08T13:36:41.799927</dc:date>\n    <dc:format>image/svg+xml</dc:format>\n    <dc:creator>\n     <cc:Agent>\n      <dc:title>Matplotlib v3.6.1, https://matplotlib.org/</dc:title>\n     </cc:Agent>\n    </dc:creator>\n   </cc:Work>\n  </rdf:RDF>\n </metadata>\n <defs>\n  <style type=\"text/css\">*{stroke-linejoin: round; stroke-linecap: butt}</style>\n </defs>\n <g id=\"figure_1\">\n  <g id=\"patch_1\">\n   <path d=\"M 0 239.54625 \nL 346.16125 239.54625 \nL 346.16125 0 \nL 0 0 \nz\n\" style=\"fill: #ffffff\"/>\n  </g>\n  <g id=\"axes_1\">\n   <g id=\"patch_2\">\n    <path d=\"M 43.78125 200.268125 \nL 338.96125 200.268125 \nL 338.96125 22.318125 \nL 43.78125 22.318125 \nz\n\" style=\"fill: #ffffff\"/>\n   </g>\n   <g id=\"patch_3\">\n    <path d=\"M 57.198523 200.268125 \nL 57.198523 30.791935 \nL 60.180139 30.791935 \nL 60.180139 127.781321 \nL 63.161755 127.781321 \nL 63.161755 141.053552 \nL 66.143371 141.053552 \nL 66.143371 148.200139 \nL 69.124987 148.200139 \nL 69.124987 166.577075 \nL 72.106604 166.577075 \nL 72.106604 172.702721 \nL 75.08822 172.702721 \nL 75.08822 169.639898 \nL 78.069836 169.639898 \nL 78.069836 175.765543 \nL 81.051452 175.765543 \nL 81.051452 182.91213 \nL 84.033068 182.91213 \nL 84.033068 183.93307 \nL 87.014684 183.93307 \nL 87.014684 186.995893 \nL 89.996301 186.995893 \nL 89.996301 193.121539 \nL 92.977917 193.121539 \nL 92.977917 189.037775 \nL 95.959533 189.037775 \nL 95.959533 192.100598 \nL 98.941149 192.100598 \nL 98.941149 192.100598 \nL 101.922765 192.100598 \nL 101.922765 190.058716 \nL 104.904381 190.058716 \nL 104.904381 190.058716 \nL 107.885997 190.058716 \nL 107.885997 197.205302 \nL 110.867614 197.205302 \nL 110.867614 190.058716 \nL 113.84923 190.058716 \nL 113.84923 191.079657 \nL 116.830846 191.079657 \nL 116.830846 191.079657 \nL 119.812462 191.079657 \nL 119.812462 197.205302 \nL 122.794078 197.205302 \nL 122.794078 197.205302 \nL 125.775694 197.205302 \nL 125.775694 200.268125 \nL 128.757311 200.268125 \nL 128.757311 198.226243 \nL 131.738927 198.226243 \nL 131.738927 198.226243 \nL 134.720543 198.226243 \nL 134.720543 198.226243 \nL 137.702159 198.226243 \nL 137.702159 194.14248 \nL 140.683775 194.14248 \nL 140.683775 200.268125 \nL 143.665391 200.268125 \nL 143.665391 200.268125 \nL 146.647008 200.268125 \nL 146.647008 197.205302 \nL 149.628624 197.205302 \nL 149.628624 198.226243 \nL 152.61024 198.226243 \nL 152.61024 200.268125 \nL 155.591856 200.268125 \nL 155.591856 198.226243 \nL 158.573472 198.226243 \nL 158.573472 200.268125 \nL 161.555088 200.268125 \nL 161.555088 198.226243 \nL 164.536705 198.226243 \nL 164.536705 199.247184 \nL 167.518321 199.247184 \nL 167.518321 199.247184 \nL 170.499937 199.247184 \nL 170.499937 200.268125 \nL 173.481553 200.268125 \nL 173.481553 199.247184 \nL 176.463169 199.247184 \nL 176.463169 200.268125 \nL 179.444785 200.268125 \nL 179.444785 200.268125 \nL 182.426402 200.268125 \nL 182.426402 200.268125 \nL 185.408018 200.268125 \nL 185.408018 200.268125 \nL 188.389634 200.268125 \nL 188.389634 200.268125 \nL 191.37125 200.268125 \nL 191.37125 200.268125 \nL 194.352866 200.268125 \nL 194.352866 200.268125 \nL 197.334482 200.268125 \nL 197.334482 200.268125 \nL 200.316098 200.268125 \nL 200.316098 200.268125 \nL 203.297715 200.268125 \nL 203.297715 200.268125 \nL 206.279331 200.268125 \nL 206.279331 200.268125 \nL 209.260947 200.268125 \nL 209.260947 199.247184 \nL 212.242563 199.247184 \nL 212.242563 200.268125 \nL 215.224179 200.268125 \nL 215.224179 199.247184 \nL 218.205795 199.247184 \nL 218.205795 199.247184 \nL 221.187412 199.247184 \nL 221.187412 199.247184 \nL 224.169028 199.247184 \nL 224.169028 200.268125 \nL 227.150644 200.268125 \nL 227.150644 200.268125 \nL 230.13226 200.268125 \nL 230.13226 199.247184 \nL 233.113876 199.247184 \nL 233.113876 200.268125 \nL 236.095492 200.268125 \nL 236.095492 200.268125 \nL 239.077109 200.268125 \nL 239.077109 199.247184 \nL 242.058725 199.247184 \nL 242.058725 200.268125 \nL 245.040341 200.268125 \nL 245.040341 200.268125 \nL 248.021957 200.268125 \nL 248.021957 200.268125 \nL 251.003573 200.268125 \nL 251.003573 199.247184 \nL 253.985189 199.247184 \nL 253.985189 200.268125 \nL 256.966806 200.268125 \nL 256.966806 200.268125 \nL 259.948422 200.268125 \nL 259.948422 200.268125 \nL 262.930038 200.268125 \nL 262.930038 199.247184 \nL 265.911654 199.247184 \nL 265.911654 199.247184 \nL 268.89327 199.247184 \nL 268.89327 200.268125 \nL 271.874886 200.268125 \nL 271.874886 200.268125 \nL 274.856503 200.268125 \nL 274.856503 200.268125 \nL 277.838119 200.268125 \nL 277.838119 200.268125 \nL 280.819735 200.268125 \nL 280.819735 198.226243 \nL 283.801351 198.226243 \nL 283.801351 199.247184 \nL 286.782967 199.247184 \nL 286.782967 200.268125 \nL 289.764583 200.268125 \nL 289.764583 200.268125 \nL 292.746199 200.268125 \nL 292.746199 200.268125 \nL 295.727816 200.268125 \nL 295.727816 200.268125 \nL 298.709432 200.268125 \nL 298.709432 200.268125 \nL 301.691048 200.268125 \nL 301.691048 200.268125 \nL 304.672664 200.268125 \nL 304.672664 200.268125 \nL 307.65428 200.268125 \nL 307.65428 200.268125 \nL 310.635896 200.268125 \nL 310.635896 200.268125 \nL 313.617513 200.268125 \nL 313.617513 200.268125 \nL 316.599129 200.268125 \nL 316.599129 200.268125 \nL 319.580745 200.268125 \nL 319.580745 200.268125 \nL 322.562361 200.268125 \nL 322.562361 199.247184 \nL 325.543977 199.247184 \nL 325.543977 200.268125 \nL 322.562361 200.268125 \nL 322.562361 200.268125 \nL 319.580745 200.268125 \nL 319.580745 200.268125 \nL 316.599129 200.268125 \nL 316.599129 200.268125 \nL 313.617513 200.268125 \nL 313.617513 200.268125 \nL 310.635896 200.268125 \nL 310.635896 200.268125 \nL 307.65428 200.268125 \nL 307.65428 200.268125 \nL 304.672664 200.268125 \nL 304.672664 200.268125 \nL 301.691048 200.268125 \nL 301.691048 200.268125 \nL 298.709432 200.268125 \nL 298.709432 200.268125 \nL 295.727816 200.268125 \nL 295.727816 200.268125 \nL 292.746199 200.268125 \nL 292.746199 200.268125 \nL 289.764583 200.268125 \nL 289.764583 200.268125 \nL 286.782967 200.268125 \nL 286.782967 200.268125 \nL 283.801351 200.268125 \nL 283.801351 200.268125 \nL 280.819735 200.268125 \nL 280.819735 200.268125 \nL 277.838119 200.268125 \nL 277.838119 200.268125 \nL 274.856503 200.268125 \nL 274.856503 200.268125 \nL 271.874886 200.268125 \nL 271.874886 200.268125 \nL 268.89327 200.268125 \nL 268.89327 200.268125 \nL 265.911654 200.268125 \nL 265.911654 200.268125 \nL 262.930038 200.268125 \nL 262.930038 200.268125 \nL 259.948422 200.268125 \nL 259.948422 200.268125 \nL 256.966806 200.268125 \nL 256.966806 200.268125 \nL 253.985189 200.268125 \nL 253.985189 200.268125 \nL 251.003573 200.268125 \nL 251.003573 200.268125 \nL 248.021957 200.268125 \nL 248.021957 200.268125 \nL 245.040341 200.268125 \nL 245.040341 200.268125 \nL 242.058725 200.268125 \nL 242.058725 200.268125 \nL 239.077109 200.268125 \nL 239.077109 200.268125 \nL 236.095492 200.268125 \nL 236.095492 200.268125 \nL 233.113876 200.268125 \nL 233.113876 200.268125 \nL 230.13226 200.268125 \nL 230.13226 200.268125 \nL 227.150644 200.268125 \nL 227.150644 200.268125 \nL 224.169028 200.268125 \nL 224.169028 200.268125 \nL 221.187412 200.268125 \nL 221.187412 200.268125 \nL 218.205795 200.268125 \nL 218.205795 200.268125 \nL 215.224179 200.268125 \nL 215.224179 200.268125 \nL 212.242563 200.268125 \nL 212.242563 200.268125 \nL 209.260947 200.268125 \nL 209.260947 200.268125 \nL 206.279331 200.268125 \nL 206.279331 200.268125 \nL 203.297715 200.268125 \nL 203.297715 200.268125 \nL 200.316098 200.268125 \nL 200.316098 200.268125 \nL 197.334482 200.268125 \nL 197.334482 200.268125 \nL 194.352866 200.268125 \nL 194.352866 200.268125 \nL 191.37125 200.268125 \nL 191.37125 200.268125 \nL 188.389634 200.268125 \nL 188.389634 200.268125 \nL 185.408018 200.268125 \nL 185.408018 200.268125 \nL 182.426402 200.268125 \nL 182.426402 200.268125 \nL 179.444785 200.268125 \nL 179.444785 200.268125 \nL 176.463169 200.268125 \nL 176.463169 200.268125 \nL 173.481553 200.268125 \nL 173.481553 200.268125 \nL 170.499937 200.268125 \nL 170.499937 200.268125 \nL 167.518321 200.268125 \nL 167.518321 200.268125 \nL 164.536705 200.268125 \nL 164.536705 200.268125 \nL 161.555088 200.268125 \nL 161.555088 200.268125 \nL 158.573472 200.268125 \nL 158.573472 200.268125 \nL 155.591856 200.268125 \nL 155.591856 200.268125 \nL 152.61024 200.268125 \nL 152.61024 200.268125 \nL 149.628624 200.268125 \nL 149.628624 200.268125 \nL 146.647008 200.268125 \nL 146.647008 200.268125 \nL 143.665391 200.268125 \nL 143.665391 200.268125 \nL 140.683775 200.268125 \nL 140.683775 200.268125 \nL 137.702159 200.268125 \nL 137.702159 200.268125 \nL 134.720543 200.268125 \nL 134.720543 200.268125 \nL 131.738927 200.268125 \nL 131.738927 200.268125 \nL 128.757311 200.268125 \nL 128.757311 200.268125 \nL 125.775694 200.268125 \nL 125.775694 200.268125 \nL 122.794078 200.268125 \nL 122.794078 200.268125 \nL 119.812462 200.268125 \nL 119.812462 200.268125 \nL 116.830846 200.268125 \nL 116.830846 200.268125 \nL 113.84923 200.268125 \nL 113.84923 200.268125 \nL 110.867614 200.268125 \nL 110.867614 200.268125 \nL 107.885997 200.268125 \nL 107.885997 200.268125 \nL 104.904381 200.268125 \nL 104.904381 200.268125 \nL 101.922765 200.268125 \nL 101.922765 200.268125 \nL 98.941149 200.268125 \nL 98.941149 200.268125 \nL 95.959533 200.268125 \nL 95.959533 200.268125 \nL 92.977917 200.268125 \nL 92.977917 200.268125 \nL 89.996301 200.268125 \nL 89.996301 200.268125 \nL 87.014684 200.268125 \nL 87.014684 200.268125 \nL 84.033068 200.268125 \nL 84.033068 200.268125 \nL 81.051452 200.268125 \nL 81.051452 200.268125 \nL 78.069836 200.268125 \nL 78.069836 200.268125 \nL 75.08822 200.268125 \nL 75.08822 200.268125 \nL 72.106604 200.268125 \nL 72.106604 200.268125 \nL 69.124987 200.268125 \nL 69.124987 200.268125 \nL 66.143371 200.268125 \nL 66.143371 200.268125 \nL 63.161755 200.268125 \nL 63.161755 200.268125 \nL 60.180139 200.268125 \nL 60.180139 200.268125 \nz\n\" clip-path=\"url(#p474802b01e)\" style=\"fill: #808080; opacity: 0.3\"/>\n   </g>\n   <g id=\"matplotlib.axis_1\">\n    <g id=\"xtick_1\">\n     <g id=\"line2d_1\">\n      <defs>\n       <path id=\"mc32e7db8b8\" d=\"M 0 0 \nL 0 3.5 \n\" style=\"stroke: #000000; stroke-width: 0.8\"/>\n      </defs>\n      <g>\n       <use xlink:href=\"#mc32e7db8b8\" x=\"57.198523\" y=\"200.268125\" style=\"stroke: #000000; stroke-width: 0.8\"/>\n      </g>\n     </g>\n     <g id=\"text_1\">\n      <!-- 0 -->\n      <g transform=\"translate(54.017273 214.866562) scale(0.1 -0.1)\">\n       <defs>\n        <path id=\"DejaVuSans-30\" d=\"M 2034 4250 \nQ 1547 4250 1301 3770 \nQ 1056 3291 1056 2328 \nQ 1056 1369 1301 889 \nQ 1547 409 2034 409 \nQ 2525 409 2770 889 \nQ 3016 1369 3016 2328 \nQ 3016 3291 2770 3770 \nQ 2525 4250 2034 4250 \nz\nM 2034 4750 \nQ 2819 4750 3233 4129 \nQ 3647 3509 3647 2328 \nQ 3647 1150 3233 529 \nQ 2819 -91 2034 -91 \nQ 1250 -91 836 529 \nQ 422 1150 422 2328 \nQ 422 3509 836 4129 \nQ 1250 4750 2034 4750 \nz\n\" transform=\"scale(0.015625)\"/>\n       </defs>\n       <use xlink:href=\"#DejaVuSans-30\"/>\n      </g>\n     </g>\n    </g>\n    <g id=\"xtick_2\">\n     <g id=\"line2d_2\">\n      <g>\n       <use xlink:href=\"#mc32e7db8b8\" x=\"105.038751\" y=\"200.268125\" style=\"stroke: #000000; stroke-width: 0.8\"/>\n      </g>\n     </g>\n     <g id=\"text_2\">\n      <!-- 10 -->\n      <g transform=\"translate(98.676251 214.866562) scale(0.1 -0.1)\">\n       <defs>\n        <path id=\"DejaVuSans-31\" d=\"M 794 531 \nL 1825 531 \nL 1825 4091 \nL 703 3866 \nL 703 4441 \nL 1819 4666 \nL 2450 4666 \nL 2450 531 \nL 3481 531 \nL 3481 0 \nL 794 0 \nL 794 531 \nz\n\" transform=\"scale(0.015625)\"/>\n       </defs>\n       <use xlink:href=\"#DejaVuSans-31\"/>\n       <use xlink:href=\"#DejaVuSans-30\" x=\"63.623047\"/>\n      </g>\n     </g>\n    </g>\n    <g id=\"xtick_3\">\n     <g id=\"line2d_3\">\n      <g>\n       <use xlink:href=\"#mc32e7db8b8\" x=\"152.878979\" y=\"200.268125\" style=\"stroke: #000000; stroke-width: 0.8\"/>\n      </g>\n     </g>\n     <g id=\"text_3\">\n      <!-- 20 -->\n      <g transform=\"translate(146.516479 214.866562) scale(0.1 -0.1)\">\n       <defs>\n        <path id=\"DejaVuSans-32\" d=\"M 1228 531 \nL 3431 531 \nL 3431 0 \nL 469 0 \nL 469 531 \nQ 828 903 1448 1529 \nQ 2069 2156 2228 2338 \nQ 2531 2678 2651 2914 \nQ 2772 3150 2772 3378 \nQ 2772 3750 2511 3984 \nQ 2250 4219 1831 4219 \nQ 1534 4219 1204 4116 \nQ 875 4013 500 3803 \nL 500 4441 \nQ 881 4594 1212 4672 \nQ 1544 4750 1819 4750 \nQ 2544 4750 2975 4387 \nQ 3406 4025 3406 3419 \nQ 3406 3131 3298 2873 \nQ 3191 2616 2906 2266 \nQ 2828 2175 2409 1742 \nQ 1991 1309 1228 531 \nz\n\" transform=\"scale(0.015625)\"/>\n       </defs>\n       <use xlink:href=\"#DejaVuSans-32\"/>\n       <use xlink:href=\"#DejaVuSans-30\" x=\"63.623047\"/>\n      </g>\n     </g>\n    </g>\n    <g id=\"xtick_4\">\n     <g id=\"line2d_4\">\n      <g>\n       <use xlink:href=\"#mc32e7db8b8\" x=\"200.719207\" y=\"200.268125\" style=\"stroke: #000000; stroke-width: 0.8\"/>\n      </g>\n     </g>\n     <g id=\"text_4\">\n      <!-- 30 -->\n      <g transform=\"translate(194.356707 214.866562) scale(0.1 -0.1)\">\n       <defs>\n        <path id=\"DejaVuSans-33\" d=\"M 2597 2516 \nQ 3050 2419 3304 2112 \nQ 3559 1806 3559 1356 \nQ 3559 666 3084 287 \nQ 2609 -91 1734 -91 \nQ 1441 -91 1130 -33 \nQ 819 25 488 141 \nL 488 750 \nQ 750 597 1062 519 \nQ 1375 441 1716 441 \nQ 2309 441 2620 675 \nQ 2931 909 2931 1356 \nQ 2931 1769 2642 2001 \nQ 2353 2234 1838 2234 \nL 1294 2234 \nL 1294 2753 \nL 1863 2753 \nQ 2328 2753 2575 2939 \nQ 2822 3125 2822 3475 \nQ 2822 3834 2567 4026 \nQ 2313 4219 1838 4219 \nQ 1578 4219 1281 4162 \nQ 984 4106 628 3988 \nL 628 4550 \nQ 988 4650 1302 4700 \nQ 1616 4750 1894 4750 \nQ 2613 4750 3031 4423 \nQ 3450 4097 3450 3541 \nQ 3450 3153 3228 2886 \nQ 3006 2619 2597 2516 \nz\n\" transform=\"scale(0.015625)\"/>\n       </defs>\n       <use xlink:href=\"#DejaVuSans-33\"/>\n       <use xlink:href=\"#DejaVuSans-30\" x=\"63.623047\"/>\n      </g>\n     </g>\n    </g>\n    <g id=\"xtick_5\">\n     <g id=\"line2d_5\">\n      <g>\n       <use xlink:href=\"#mc32e7db8b8\" x=\"248.559435\" y=\"200.268125\" style=\"stroke: #000000; stroke-width: 0.8\"/>\n      </g>\n     </g>\n     <g id=\"text_5\">\n      <!-- 40 -->\n      <g transform=\"translate(242.196935 214.866562) scale(0.1 -0.1)\">\n       <defs>\n        <path id=\"DejaVuSans-34\" d=\"M 2419 4116 \nL 825 1625 \nL 2419 1625 \nL 2419 4116 \nz\nM 2253 4666 \nL 3047 4666 \nL 3047 1625 \nL 3713 1625 \nL 3713 1100 \nL 3047 1100 \nL 3047 0 \nL 2419 0 \nL 2419 1100 \nL 313 1100 \nL 313 1709 \nL 2253 4666 \nz\n\" transform=\"scale(0.015625)\"/>\n       </defs>\n       <use xlink:href=\"#DejaVuSans-34\"/>\n       <use xlink:href=\"#DejaVuSans-30\" x=\"63.623047\"/>\n      </g>\n     </g>\n    </g>\n    <g id=\"xtick_6\">\n     <g id=\"line2d_6\">\n      <g>\n       <use xlink:href=\"#mc32e7db8b8\" x=\"296.399663\" y=\"200.268125\" style=\"stroke: #000000; stroke-width: 0.8\"/>\n      </g>\n     </g>\n     <g id=\"text_6\">\n      <!-- 50 -->\n      <g transform=\"translate(290.037163 214.866562) scale(0.1 -0.1)\">\n       <defs>\n        <path id=\"DejaVuSans-35\" d=\"M 691 4666 \nL 3169 4666 \nL 3169 4134 \nL 1269 4134 \nL 1269 2991 \nQ 1406 3038 1543 3061 \nQ 1681 3084 1819 3084 \nQ 2600 3084 3056 2656 \nQ 3513 2228 3513 1497 \nQ 3513 744 3044 326 \nQ 2575 -91 1722 -91 \nQ 1428 -91 1123 -41 \nQ 819 9 494 109 \nL 494 744 \nQ 775 591 1075 516 \nQ 1375 441 1709 441 \nQ 2250 441 2565 725 \nQ 2881 1009 2881 1497 \nQ 2881 1984 2565 2268 \nQ 2250 2553 1709 2553 \nQ 1456 2553 1204 2497 \nQ 953 2441 691 2322 \nL 691 4666 \nz\n\" transform=\"scale(0.015625)\"/>\n       </defs>\n       <use xlink:href=\"#DejaVuSans-35\"/>\n       <use xlink:href=\"#DejaVuSans-30\" x=\"63.623047\"/>\n      </g>\n     </g>\n    </g>\n    <g id=\"text_7\">\n     <!-- cell orientation ($\\arccos{\\hat{r}\\cdot\\hat{x}}$) [deg] -->\n     <g transform=\"translate(107.77125 230.24625) scale(0.1 -0.1)\">\n      <defs>\n       <path id=\"DejaVuSans-63\" d=\"M 3122 3366 \nL 3122 2828 \nQ 2878 2963 2633 3030 \nQ 2388 3097 2138 3097 \nQ 1578 3097 1268 2742 \nQ 959 2388 959 1747 \nQ 959 1106 1268 751 \nQ 1578 397 2138 397 \nQ 2388 397 2633 464 \nQ 2878 531 3122 666 \nL 3122 134 \nQ 2881 22 2623 -34 \nQ 2366 -91 2075 -91 \nQ 1284 -91 818 406 \nQ 353 903 353 1747 \nQ 353 2603 823 3093 \nQ 1294 3584 2113 3584 \nQ 2378 3584 2631 3529 \nQ 2884 3475 3122 3366 \nz\n\" transform=\"scale(0.015625)\"/>\n       <path id=\"DejaVuSans-65\" d=\"M 3597 1894 \nL 3597 1613 \nL 953 1613 \nQ 991 1019 1311 708 \nQ 1631 397 2203 397 \nQ 2534 397 2845 478 \nQ 3156 559 3463 722 \nL 3463 178 \nQ 3153 47 2828 -22 \nQ 2503 -91 2169 -91 \nQ 1331 -91 842 396 \nQ 353 884 353 1716 \nQ 353 2575 817 3079 \nQ 1281 3584 2069 3584 \nQ 2775 3584 3186 3129 \nQ 3597 2675 3597 1894 \nz\nM 3022 2063 \nQ 3016 2534 2758 2815 \nQ 2500 3097 2075 3097 \nQ 1594 3097 1305 2825 \nQ 1016 2553 972 2059 \nL 3022 2063 \nz\n\" transform=\"scale(0.015625)\"/>\n       <path id=\"DejaVuSans-6c\" d=\"M 603 4863 \nL 1178 4863 \nL 1178 0 \nL 603 0 \nL 603 4863 \nz\n\" transform=\"scale(0.015625)\"/>\n       <path id=\"DejaVuSans-20\" transform=\"scale(0.015625)\"/>\n       <path id=\"DejaVuSans-6f\" d=\"M 1959 3097 \nQ 1497 3097 1228 2736 \nQ 959 2375 959 1747 \nQ 959 1119 1226 758 \nQ 1494 397 1959 397 \nQ 2419 397 2687 759 \nQ 2956 1122 2956 1747 \nQ 2956 2369 2687 2733 \nQ 2419 3097 1959 3097 \nz\nM 1959 3584 \nQ 2709 3584 3137 3096 \nQ 3566 2609 3566 1747 \nQ 3566 888 3137 398 \nQ 2709 -91 1959 -91 \nQ 1206 -91 779 398 \nQ 353 888 353 1747 \nQ 353 2609 779 3096 \nQ 1206 3584 1959 3584 \nz\n\" transform=\"scale(0.015625)\"/>\n       <path id=\"DejaVuSans-72\" d=\"M 2631 2963 \nQ 2534 3019 2420 3045 \nQ 2306 3072 2169 3072 \nQ 1681 3072 1420 2755 \nQ 1159 2438 1159 1844 \nL 1159 0 \nL 581 0 \nL 581 3500 \nL 1159 3500 \nL 1159 2956 \nQ 1341 3275 1631 3429 \nQ 1922 3584 2338 3584 \nQ 2397 3584 2469 3576 \nQ 2541 3569 2628 3553 \nL 2631 2963 \nz\n\" transform=\"scale(0.015625)\"/>\n       <path id=\"DejaVuSans-69\" d=\"M 603 3500 \nL 1178 3500 \nL 1178 0 \nL 603 0 \nL 603 3500 \nz\nM 603 4863 \nL 1178 4863 \nL 1178 4134 \nL 603 4134 \nL 603 4863 \nz\n\" transform=\"scale(0.015625)\"/>\n       <path id=\"DejaVuSans-6e\" d=\"M 3513 2113 \nL 3513 0 \nL 2938 0 \nL 2938 2094 \nQ 2938 2591 2744 2837 \nQ 2550 3084 2163 3084 \nQ 1697 3084 1428 2787 \nQ 1159 2491 1159 1978 \nL 1159 0 \nL 581 0 \nL 581 3500 \nL 1159 3500 \nL 1159 2956 \nQ 1366 3272 1645 3428 \nQ 1925 3584 2291 3584 \nQ 2894 3584 3203 3211 \nQ 3513 2838 3513 2113 \nz\n\" transform=\"scale(0.015625)\"/>\n       <path id=\"DejaVuSans-74\" d=\"M 1172 4494 \nL 1172 3500 \nL 2356 3500 \nL 2356 3053 \nL 1172 3053 \nL 1172 1153 \nQ 1172 725 1289 603 \nQ 1406 481 1766 481 \nL 2356 481 \nL 2356 0 \nL 1766 0 \nQ 1100 0 847 248 \nQ 594 497 594 1153 \nL 594 3053 \nL 172 3053 \nL 172 3500 \nL 594 3500 \nL 594 4494 \nL 1172 4494 \nz\n\" transform=\"scale(0.015625)\"/>\n       <path id=\"DejaVuSans-61\" d=\"M 2194 1759 \nQ 1497 1759 1228 1600 \nQ 959 1441 959 1056 \nQ 959 750 1161 570 \nQ 1363 391 1709 391 \nQ 2188 391 2477 730 \nQ 2766 1069 2766 1631 \nL 2766 1759 \nL 2194 1759 \nz\nM 3341 1997 \nL 3341 0 \nL 2766 0 \nL 2766 531 \nQ 2569 213 2275 61 \nQ 1981 -91 1556 -91 \nQ 1019 -91 701 211 \nQ 384 513 384 1019 \nQ 384 1609 779 1909 \nQ 1175 2209 1959 2209 \nL 2766 2209 \nL 2766 2266 \nQ 2766 2663 2505 2880 \nQ 2244 3097 1772 3097 \nQ 1472 3097 1187 3025 \nQ 903 2953 641 2809 \nL 641 3341 \nQ 956 3463 1253 3523 \nQ 1550 3584 1831 3584 \nQ 2591 3584 2966 3190 \nQ 3341 2797 3341 1997 \nz\n\" transform=\"scale(0.015625)\"/>\n       <path id=\"DejaVuSans-28\" d=\"M 1984 4856 \nQ 1566 4138 1362 3434 \nQ 1159 2731 1159 2009 \nQ 1159 1288 1364 580 \nQ 1569 -128 1984 -844 \nL 1484 -844 \nQ 1016 -109 783 600 \nQ 550 1309 550 2009 \nQ 550 2706 781 3412 \nQ 1013 4119 1484 4856 \nL 1984 4856 \nz\n\" transform=\"scale(0.015625)\"/>\n       <path id=\"DejaVuSans-73\" d=\"M 2834 3397 \nL 2834 2853 \nQ 2591 2978 2328 3040 \nQ 2066 3103 1784 3103 \nQ 1356 3103 1142 2972 \nQ 928 2841 928 2578 \nQ 928 2378 1081 2264 \nQ 1234 2150 1697 2047 \nL 1894 2003 \nQ 2506 1872 2764 1633 \nQ 3022 1394 3022 966 \nQ 3022 478 2636 193 \nQ 2250 -91 1575 -91 \nQ 1294 -91 989 -36 \nQ 684 19 347 128 \nL 347 722 \nQ 666 556 975 473 \nQ 1284 391 1588 391 \nQ 1994 391 2212 530 \nQ 2431 669 2431 922 \nQ 2431 1156 2273 1281 \nQ 2116 1406 1581 1522 \nL 1381 1569 \nQ 847 1681 609 1914 \nQ 372 2147 372 2553 \nQ 372 3047 722 3315 \nQ 1072 3584 1716 3584 \nQ 2034 3584 2315 3537 \nQ 2597 3491 2834 3397 \nz\n\" transform=\"scale(0.015625)\"/>\n       <path id=\"DejaVuSans-302\" d=\"M -1831 5119 \nL -1369 5119 \nL -603 3944 \nL -1038 3944 \nL -1600 4709 \nL -2163 3944 \nL -2597 3944 \nL -1831 5119 \nz\nM -1600 3584 \nL -1600 3584 \nz\n\" transform=\"scale(0.015625)\"/>\n       <path id=\"DejaVuSans-Oblique-72\" d=\"M 2853 2969 \nQ 2766 3016 2653 3041 \nQ 2541 3066 2413 3066 \nQ 1953 3066 1609 2717 \nQ 1266 2369 1153 1784 \nL 800 0 \nL 225 0 \nL 909 3500 \nL 1484 3500 \nL 1375 2956 \nQ 1603 3259 1920 3421 \nQ 2238 3584 2597 3584 \nQ 2691 3584 2781 3573 \nQ 2872 3563 2963 3538 \nL 2853 2969 \nz\n\" transform=\"scale(0.015625)\"/>\n       <path id=\"DejaVuSans-22c5\" d=\"M 684 2619 \nL 1344 2619 \nL 1344 1825 \nL 684 1825 \nL 684 2619 \nz\n\" transform=\"scale(0.015625)\"/>\n       <path id=\"DejaVuSans-Oblique-78\" d=\"M 3841 3500 \nL 2234 1784 \nL 3219 0 \nL 2559 0 \nL 1819 1388 \nL 531 0 \nL -166 0 \nL 1556 1844 \nL 641 3500 \nL 1300 3500 \nL 1972 2234 \nL 3144 3500 \nL 3841 3500 \nz\n\" transform=\"scale(0.015625)\"/>\n       <path id=\"DejaVuSans-29\" d=\"M 513 4856 \nL 1013 4856 \nQ 1481 4119 1714 3412 \nQ 1947 2706 1947 2009 \nQ 1947 1309 1714 600 \nQ 1481 -109 1013 -844 \nL 513 -844 \nQ 928 -128 1133 580 \nQ 1338 1288 1338 2009 \nQ 1338 2731 1133 3434 \nQ 928 4138 513 4856 \nz\n\" transform=\"scale(0.015625)\"/>\n       <path id=\"DejaVuSans-5b\" d=\"M 550 4863 \nL 1875 4863 \nL 1875 4416 \nL 1125 4416 \nL 1125 -397 \nL 1875 -397 \nL 1875 -844 \nL 550 -844 \nL 550 4863 \nz\n\" transform=\"scale(0.015625)\"/>\n       <path id=\"DejaVuSans-64\" d=\"M 2906 2969 \nL 2906 4863 \nL 3481 4863 \nL 3481 0 \nL 2906 0 \nL 2906 525 \nQ 2725 213 2448 61 \nQ 2172 -91 1784 -91 \nQ 1150 -91 751 415 \nQ 353 922 353 1747 \nQ 353 2572 751 3078 \nQ 1150 3584 1784 3584 \nQ 2172 3584 2448 3432 \nQ 2725 3281 2906 2969 \nz\nM 947 1747 \nQ 947 1113 1208 752 \nQ 1469 391 1925 391 \nQ 2381 391 2643 752 \nQ 2906 1113 2906 1747 \nQ 2906 2381 2643 2742 \nQ 2381 3103 1925 3103 \nQ 1469 3103 1208 2742 \nQ 947 2381 947 1747 \nz\n\" transform=\"scale(0.015625)\"/>\n       <path id=\"DejaVuSans-67\" d=\"M 2906 1791 \nQ 2906 2416 2648 2759 \nQ 2391 3103 1925 3103 \nQ 1463 3103 1205 2759 \nQ 947 2416 947 1791 \nQ 947 1169 1205 825 \nQ 1463 481 1925 481 \nQ 2391 481 2648 825 \nQ 2906 1169 2906 1791 \nz\nM 3481 434 \nQ 3481 -459 3084 -895 \nQ 2688 -1331 1869 -1331 \nQ 1566 -1331 1297 -1286 \nQ 1028 -1241 775 -1147 \nL 775 -588 \nQ 1028 -725 1275 -790 \nQ 1522 -856 1778 -856 \nQ 2344 -856 2625 -561 \nQ 2906 -266 2906 331 \nL 2906 616 \nQ 2728 306 2450 153 \nQ 2172 0 1784 0 \nQ 1141 0 747 490 \nQ 353 981 353 1791 \nQ 353 2603 747 3093 \nQ 1141 3584 1784 3584 \nQ 2172 3584 2450 3431 \nQ 2728 3278 2906 2969 \nL 2906 3500 \nL 3481 3500 \nL 3481 434 \nz\n\" transform=\"scale(0.015625)\"/>\n       <path id=\"DejaVuSans-5d\" d=\"M 1947 4863 \nL 1947 -844 \nL 622 -844 \nL 622 -397 \nL 1369 -397 \nL 1369 4416 \nL 622 4416 \nL 622 4863 \nL 1947 4863 \nz\n\" transform=\"scale(0.015625)\"/>\n      </defs>\n      <use xlink:href=\"#DejaVuSans-63\" transform=\"translate(0 0.515625)\"/>\n      <use xlink:href=\"#DejaVuSans-65\" transform=\"translate(54.980469 0.515625)\"/>\n      <use xlink:href=\"#DejaVuSans-6c\" transform=\"translate(116.503906 0.515625)\"/>\n      <use xlink:href=\"#DejaVuSans-6c\" transform=\"translate(144.287109 0.515625)\"/>\n      <use xlink:href=\"#DejaVuSans-20\" transform=\"translate(172.070312 0.515625)\"/>\n      <use xlink:href=\"#DejaVuSans-6f\" transform=\"translate(203.857422 0.515625)\"/>\n      <use xlink:href=\"#DejaVuSans-72\" transform=\"translate(265.039062 0.515625)\"/>\n      <use xlink:href=\"#DejaVuSans-69\" transform=\"translate(306.152344 0.515625)\"/>\n      <use xlink:href=\"#DejaVuSans-65\" transform=\"translate(333.935547 0.515625)\"/>\n      <use xlink:href=\"#DejaVuSans-6e\" transform=\"translate(395.458984 0.515625)\"/>\n      <use xlink:href=\"#DejaVuSans-74\" transform=\"translate(458.837891 0.515625)\"/>\n      <use xlink:href=\"#DejaVuSans-61\" transform=\"translate(498.046875 0.515625)\"/>\n      <use xlink:href=\"#DejaVuSans-74\" transform=\"translate(559.326172 0.515625)\"/>\n      <use xlink:href=\"#DejaVuSans-69\" transform=\"translate(598.535156 0.515625)\"/>\n      <use xlink:href=\"#DejaVuSans-6f\" transform=\"translate(626.318359 0.515625)\"/>\n      <use xlink:href=\"#DejaVuSans-6e\" transform=\"translate(687.5 0.515625)\"/>\n      <use xlink:href=\"#DejaVuSans-20\" transform=\"translate(750.878906 0.515625)\"/>\n      <use xlink:href=\"#DejaVuSans-28\" transform=\"translate(782.666016 0.515625)\"/>\n      <use xlink:href=\"#DejaVuSans-61\" transform=\"translate(821.679688 0.515625)\"/>\n      <use xlink:href=\"#DejaVuSans-72\" transform=\"translate(882.958984 0.515625)\"/>\n      <use xlink:href=\"#DejaVuSans-63\" transform=\"translate(924.072266 0.515625)\"/>\n      <use xlink:href=\"#DejaVuSans-63\" transform=\"translate(979.052734 0.515625)\"/>\n      <use xlink:href=\"#DejaVuSans-6f\" transform=\"translate(1034.033203 0.515625)\"/>\n      <use xlink:href=\"#DejaVuSans-73\" transform=\"translate(1095.214844 0.515625)\"/>\n      <use xlink:href=\"#DejaVuSans-302\" transform=\"translate(1214.406575 13.015625)\"/>\n      <use xlink:href=\"#DejaVuSans-Oblique-72\" transform=\"translate(1163.550129 0.515625)\"/>\n      <use xlink:href=\"#DejaVuSans-22c5\" transform=\"translate(1224.145833 0.515625)\"/>\n      <use xlink:href=\"#DejaVuSans-302\" transform=\"translate(1337.788411 11.703125)\"/>\n      <use xlink:href=\"#DejaVuSans-Oblique-78\" transform=\"translate(1275.415364 0.515625)\"/>\n      <use xlink:href=\"#DejaVuSans-29\" transform=\"translate(1334.595051 0.515625)\"/>\n      <use xlink:href=\"#DejaVuSans-20\" transform=\"translate(1373.608723 0.515625)\"/>\n      <use xlink:href=\"#DejaVuSans-5b\" transform=\"translate(1405.395833 0.515625)\"/>\n      <use xlink:href=\"#DejaVuSans-64\" transform=\"translate(1444.409504 0.515625)\"/>\n      <use xlink:href=\"#DejaVuSans-65\" transform=\"translate(1507.886067 0.515625)\"/>\n      <use xlink:href=\"#DejaVuSans-67\" transform=\"translate(1569.409504 0.515625)\"/>\n      <use xlink:href=\"#DejaVuSans-5d\" transform=\"translate(1632.886067 0.515625)\"/>\n     </g>\n    </g>\n   </g>\n   <g id=\"matplotlib.axis_2\">\n    <g id=\"ytick_1\">\n     <g id=\"line2d_7\">\n      <defs>\n       <path id=\"m442163129e\" d=\"M 0 0 \nL -3.5 0 \n\" style=\"stroke: #000000; stroke-width: 0.8\"/>\n      </defs>\n      <g>\n       <use xlink:href=\"#m442163129e\" x=\"43.78125\" y=\"200.268125\" style=\"stroke: #000000; stroke-width: 0.8\"/>\n      </g>\n     </g>\n     <g id=\"text_8\">\n      <!-- 0.0 -->\n      <g transform=\"translate(20.878125 204.067344) scale(0.1 -0.1)\">\n       <defs>\n        <path id=\"DejaVuSans-2e\" d=\"M 684 794 \nL 1344 794 \nL 1344 0 \nL 684 0 \nL 684 794 \nz\n\" transform=\"scale(0.015625)\"/>\n       </defs>\n       <use xlink:href=\"#DejaVuSans-30\"/>\n       <use xlink:href=\"#DejaVuSans-2e\" x=\"63.623047\"/>\n       <use xlink:href=\"#DejaVuSans-30\" x=\"95.410156\"/>\n      </g>\n     </g>\n    </g>\n    <g id=\"ytick_2\">\n     <g id=\"line2d_8\">\n      <g>\n       <use xlink:href=\"#m442163129e\" x=\"43.78125\" y=\"159.926967\" style=\"stroke: #000000; stroke-width: 0.8\"/>\n      </g>\n     </g>\n     <g id=\"text_9\">\n      <!-- 0.1 -->\n      <g transform=\"translate(20.878125 163.726186) scale(0.1 -0.1)\">\n       <use xlink:href=\"#DejaVuSans-30\"/>\n       <use xlink:href=\"#DejaVuSans-2e\" x=\"63.623047\"/>\n       <use xlink:href=\"#DejaVuSans-31\" x=\"95.410156\"/>\n      </g>\n     </g>\n    </g>\n    <g id=\"ytick_3\">\n     <g id=\"line2d_9\">\n      <g>\n       <use xlink:href=\"#m442163129e\" x=\"43.78125\" y=\"119.58581\" style=\"stroke: #000000; stroke-width: 0.8\"/>\n      </g>\n     </g>\n     <g id=\"text_10\">\n      <!-- 0.2 -->\n      <g transform=\"translate(20.878125 123.385029) scale(0.1 -0.1)\">\n       <use xlink:href=\"#DejaVuSans-30\"/>\n       <use xlink:href=\"#DejaVuSans-2e\" x=\"63.623047\"/>\n       <use xlink:href=\"#DejaVuSans-32\" x=\"95.410156\"/>\n      </g>\n     </g>\n    </g>\n    <g id=\"ytick_4\">\n     <g id=\"line2d_10\">\n      <g>\n       <use xlink:href=\"#m442163129e\" x=\"43.78125\" y=\"79.244652\" style=\"stroke: #000000; stroke-width: 0.8\"/>\n      </g>\n     </g>\n     <g id=\"text_11\">\n      <!-- 0.3 -->\n      <g transform=\"translate(20.878125 83.043871) scale(0.1 -0.1)\">\n       <use xlink:href=\"#DejaVuSans-30\"/>\n       <use xlink:href=\"#DejaVuSans-2e\" x=\"63.623047\"/>\n       <use xlink:href=\"#DejaVuSans-33\" x=\"95.410156\"/>\n      </g>\n     </g>\n    </g>\n    <g id=\"ytick_5\">\n     <g id=\"line2d_11\">\n      <g>\n       <use xlink:href=\"#m442163129e\" x=\"43.78125\" y=\"38.903495\" style=\"stroke: #000000; stroke-width: 0.8\"/>\n      </g>\n     </g>\n     <g id=\"text_12\">\n      <!-- 0.4 -->\n      <g transform=\"translate(20.878125 42.702713) scale(0.1 -0.1)\">\n       <use xlink:href=\"#DejaVuSans-30\"/>\n       <use xlink:href=\"#DejaVuSans-2e\" x=\"63.623047\"/>\n       <use xlink:href=\"#DejaVuSans-34\" x=\"95.410156\"/>\n      </g>\n     </g>\n    </g>\n    <g id=\"text_13\">\n     <!-- Density (N=634) -->\n     <g transform=\"translate(14.798438 153.266562) rotate(-90) scale(0.1 -0.1)\">\n      <defs>\n       <path id=\"DejaVuSans-44\" d=\"M 1259 4147 \nL 1259 519 \nL 2022 519 \nQ 2988 519 3436 956 \nQ 3884 1394 3884 2338 \nQ 3884 3275 3436 3711 \nQ 2988 4147 2022 4147 \nL 1259 4147 \nz\nM 628 4666 \nL 1925 4666 \nQ 3281 4666 3915 4102 \nQ 4550 3538 4550 2338 \nQ 4550 1131 3912 565 \nQ 3275 0 1925 0 \nL 628 0 \nL 628 4666 \nz\n\" transform=\"scale(0.015625)\"/>\n       <path id=\"DejaVuSans-79\" d=\"M 2059 -325 \nQ 1816 -950 1584 -1140 \nQ 1353 -1331 966 -1331 \nL 506 -1331 \nL 506 -850 \nL 844 -850 \nQ 1081 -850 1212 -737 \nQ 1344 -625 1503 -206 \nL 1606 56 \nL 191 3500 \nL 800 3500 \nL 1894 763 \nL 2988 3500 \nL 3597 3500 \nL 2059 -325 \nz\n\" transform=\"scale(0.015625)\"/>\n       <path id=\"DejaVuSans-4e\" d=\"M 628 4666 \nL 1478 4666 \nL 3547 763 \nL 3547 4666 \nL 4159 4666 \nL 4159 0 \nL 3309 0 \nL 1241 3903 \nL 1241 0 \nL 628 0 \nL 628 4666 \nz\n\" transform=\"scale(0.015625)\"/>\n       <path id=\"DejaVuSans-3d\" d=\"M 678 2906 \nL 4684 2906 \nL 4684 2381 \nL 678 2381 \nL 678 2906 \nz\nM 678 1631 \nL 4684 1631 \nL 4684 1100 \nL 678 1100 \nL 678 1631 \nz\n\" transform=\"scale(0.015625)\"/>\n       <path id=\"DejaVuSans-36\" d=\"M 2113 2584 \nQ 1688 2584 1439 2293 \nQ 1191 2003 1191 1497 \nQ 1191 994 1439 701 \nQ 1688 409 2113 409 \nQ 2538 409 2786 701 \nQ 3034 994 3034 1497 \nQ 3034 2003 2786 2293 \nQ 2538 2584 2113 2584 \nz\nM 3366 4563 \nL 3366 3988 \nQ 3128 4100 2886 4159 \nQ 2644 4219 2406 4219 \nQ 1781 4219 1451 3797 \nQ 1122 3375 1075 2522 \nQ 1259 2794 1537 2939 \nQ 1816 3084 2150 3084 \nQ 2853 3084 3261 2657 \nQ 3669 2231 3669 1497 \nQ 3669 778 3244 343 \nQ 2819 -91 2113 -91 \nQ 1303 -91 875 529 \nQ 447 1150 447 2328 \nQ 447 3434 972 4092 \nQ 1497 4750 2381 4750 \nQ 2619 4750 2861 4703 \nQ 3103 4656 3366 4563 \nz\n\" transform=\"scale(0.015625)\"/>\n      </defs>\n      <use xlink:href=\"#DejaVuSans-44\"/>\n      <use xlink:href=\"#DejaVuSans-65\" x=\"77.001953\"/>\n      <use xlink:href=\"#DejaVuSans-6e\" x=\"138.525391\"/>\n      <use xlink:href=\"#DejaVuSans-73\" x=\"201.904297\"/>\n      <use xlink:href=\"#DejaVuSans-69\" x=\"254.003906\"/>\n      <use xlink:href=\"#DejaVuSans-74\" x=\"281.787109\"/>\n      <use xlink:href=\"#DejaVuSans-79\" x=\"320.996094\"/>\n      <use xlink:href=\"#DejaVuSans-20\" x=\"380.175781\"/>\n      <use xlink:href=\"#DejaVuSans-28\" x=\"411.962891\"/>\n      <use xlink:href=\"#DejaVuSans-4e\" x=\"450.976562\"/>\n      <use xlink:href=\"#DejaVuSans-3d\" x=\"525.78125\"/>\n      <use xlink:href=\"#DejaVuSans-36\" x=\"609.570312\"/>\n      <use xlink:href=\"#DejaVuSans-33\" x=\"673.193359\"/>\n      <use xlink:href=\"#DejaVuSans-34\" x=\"736.816406\"/>\n      <use xlink:href=\"#DejaVuSans-29\" x=\"800.439453\"/>\n     </g>\n    </g>\n   </g>\n   <g id=\"patch_4\">\n    <path d=\"M 43.78125 200.268125 \nL 43.78125 22.318125 \n\" style=\"fill: none; stroke: #000000; stroke-width: 0.8; stroke-linejoin: miter; stroke-linecap: square\"/>\n   </g>\n   <g id=\"patch_5\">\n    <path d=\"M 338.96125 200.268125 \nL 338.96125 22.318125 \n\" style=\"fill: none; stroke: #000000; stroke-width: 0.8; stroke-linejoin: miter; stroke-linecap: square\"/>\n   </g>\n   <g id=\"patch_6\">\n    <path d=\"M 43.78125 200.268125 \nL 338.96125 200.268125 \n\" style=\"fill: none; stroke: #000000; stroke-width: 0.8; stroke-linejoin: miter; stroke-linecap: square\"/>\n   </g>\n   <g id=\"patch_7\">\n    <path d=\"M 43.78125 22.318125 \nL 338.96125 22.318125 \n\" style=\"fill: none; stroke: #000000; stroke-width: 0.8; stroke-linejoin: miter; stroke-linecap: square\"/>\n   </g>\n   <g id=\"text_14\">\n    <!-- REAL time: 500.0 min -->\n    <g transform=\"translate(73.29925 31.696062) scale(0.1 -0.1)\">\n     <defs>\n      <path id=\"DejaVuSans-52\" d=\"M 2841 2188 \nQ 3044 2119 3236 1894 \nQ 3428 1669 3622 1275 \nL 4263 0 \nL 3584 0 \nL 2988 1197 \nQ 2756 1666 2539 1819 \nQ 2322 1972 1947 1972 \nL 1259 1972 \nL 1259 0 \nL 628 0 \nL 628 4666 \nL 2053 4666 \nQ 2853 4666 3247 4331 \nQ 3641 3997 3641 3322 \nQ 3641 2881 3436 2590 \nQ 3231 2300 2841 2188 \nz\nM 1259 4147 \nL 1259 2491 \nL 2053 2491 \nQ 2509 2491 2742 2702 \nQ 2975 2913 2975 3322 \nQ 2975 3731 2742 3939 \nQ 2509 4147 2053 4147 \nL 1259 4147 \nz\n\" transform=\"scale(0.015625)\"/>\n      <path id=\"DejaVuSans-45\" d=\"M 628 4666 \nL 3578 4666 \nL 3578 4134 \nL 1259 4134 \nL 1259 2753 \nL 3481 2753 \nL 3481 2222 \nL 1259 2222 \nL 1259 531 \nL 3634 531 \nL 3634 0 \nL 628 0 \nL 628 4666 \nz\n\" transform=\"scale(0.015625)\"/>\n      <path id=\"DejaVuSans-41\" d=\"M 2188 4044 \nL 1331 1722 \nL 3047 1722 \nL 2188 4044 \nz\nM 1831 4666 \nL 2547 4666 \nL 4325 0 \nL 3669 0 \nL 3244 1197 \nL 1141 1197 \nL 716 0 \nL 50 0 \nL 1831 4666 \nz\n\" transform=\"scale(0.015625)\"/>\n      <path id=\"DejaVuSans-4c\" d=\"M 628 4666 \nL 1259 4666 \nL 1259 531 \nL 3531 531 \nL 3531 0 \nL 628 0 \nL 628 4666 \nz\n\" transform=\"scale(0.015625)\"/>\n      <path id=\"DejaVuSans-6d\" d=\"M 3328 2828 \nQ 3544 3216 3844 3400 \nQ 4144 3584 4550 3584 \nQ 5097 3584 5394 3201 \nQ 5691 2819 5691 2113 \nL 5691 0 \nL 5113 0 \nL 5113 2094 \nQ 5113 2597 4934 2840 \nQ 4756 3084 4391 3084 \nQ 3944 3084 3684 2787 \nQ 3425 2491 3425 1978 \nL 3425 0 \nL 2847 0 \nL 2847 2094 \nQ 2847 2600 2669 2842 \nQ 2491 3084 2119 3084 \nQ 1678 3084 1418 2786 \nQ 1159 2488 1159 1978 \nL 1159 0 \nL 581 0 \nL 581 3500 \nL 1159 3500 \nL 1159 2956 \nQ 1356 3278 1631 3431 \nQ 1906 3584 2284 3584 \nQ 2666 3584 2933 3390 \nQ 3200 3197 3328 2828 \nz\n\" transform=\"scale(0.015625)\"/>\n      <path id=\"DejaVuSans-3a\" d=\"M 750 794 \nL 1409 794 \nL 1409 0 \nL 750 0 \nL 750 794 \nz\nM 750 3309 \nL 1409 3309 \nL 1409 2516 \nL 750 2516 \nL 750 3309 \nz\n\" transform=\"scale(0.015625)\"/>\n     </defs>\n     <use xlink:href=\"#DejaVuSans-52\"/>\n     <use xlink:href=\"#DejaVuSans-45\" x=\"69.482422\"/>\n     <use xlink:href=\"#DejaVuSans-41\" x=\"132.666016\"/>\n     <use xlink:href=\"#DejaVuSans-4c\" x=\"201.074219\"/>\n     <use xlink:href=\"#DejaVuSans-20\" x=\"256.787109\"/>\n     <use xlink:href=\"#DejaVuSans-74\" x=\"288.574219\"/>\n     <use xlink:href=\"#DejaVuSans-69\" x=\"327.783203\"/>\n     <use xlink:href=\"#DejaVuSans-6d\" x=\"355.566406\"/>\n     <use xlink:href=\"#DejaVuSans-65\" x=\"452.978516\"/>\n     <use xlink:href=\"#DejaVuSans-3a\" x=\"514.501953\"/>\n     <use xlink:href=\"#DejaVuSans-20\" x=\"548.193359\"/>\n     <use xlink:href=\"#DejaVuSans-35\" x=\"579.980469\"/>\n     <use xlink:href=\"#DejaVuSans-30\" x=\"643.603516\"/>\n     <use xlink:href=\"#DejaVuSans-30\" x=\"707.226562\"/>\n     <use xlink:href=\"#DejaVuSans-2e\" x=\"770.849609\"/>\n     <use xlink:href=\"#DejaVuSans-30\" x=\"802.636719\"/>\n     <use xlink:href=\"#DejaVuSans-20\" x=\"866.259766\"/>\n     <use xlink:href=\"#DejaVuSans-6d\" x=\"898.046875\"/>\n     <use xlink:href=\"#DejaVuSans-69\" x=\"995.458984\"/>\n     <use xlink:href=\"#DejaVuSans-6e\" x=\"1023.242188\"/>\n    </g>\n   </g>\n   <g id=\"text_15\">\n    <!-- filename: microch_30x4-22-11-29-09-57 -->\n    <g transform=\"translate(43.78125 16.318125) scale(0.12 -0.12)\">\n     <defs>\n      <path id=\"DejaVuSans-66\" d=\"M 2375 4863 \nL 2375 4384 \nL 1825 4384 \nQ 1516 4384 1395 4259 \nQ 1275 4134 1275 3809 \nL 1275 3500 \nL 2222 3500 \nL 2222 3053 \nL 1275 3053 \nL 1275 0 \nL 697 0 \nL 697 3053 \nL 147 3053 \nL 147 3500 \nL 697 3500 \nL 697 3744 \nQ 697 4328 969 4595 \nQ 1241 4863 1831 4863 \nL 2375 4863 \nz\n\" transform=\"scale(0.015625)\"/>\n      <path id=\"DejaVuSans-68\" d=\"M 3513 2113 \nL 3513 0 \nL 2938 0 \nL 2938 2094 \nQ 2938 2591 2744 2837 \nQ 2550 3084 2163 3084 \nQ 1697 3084 1428 2787 \nQ 1159 2491 1159 1978 \nL 1159 0 \nL 581 0 \nL 581 4863 \nL 1159 4863 \nL 1159 2956 \nQ 1366 3272 1645 3428 \nQ 1925 3584 2291 3584 \nQ 2894 3584 3203 3211 \nQ 3513 2838 3513 2113 \nz\n\" transform=\"scale(0.015625)\"/>\n      <path id=\"DejaVuSans-5f\" d=\"M 3263 -1063 \nL 3263 -1509 \nL -63 -1509 \nL -63 -1063 \nL 3263 -1063 \nz\n\" transform=\"scale(0.015625)\"/>\n      <path id=\"DejaVuSans-78\" d=\"M 3513 3500 \nL 2247 1797 \nL 3578 0 \nL 2900 0 \nL 1881 1375 \nL 863 0 \nL 184 0 \nL 1544 1831 \nL 300 3500 \nL 978 3500 \nL 1906 2253 \nL 2834 3500 \nL 3513 3500 \nz\n\" transform=\"scale(0.015625)\"/>\n      <path id=\"DejaVuSans-2d\" d=\"M 313 2009 \nL 1997 2009 \nL 1997 1497 \nL 313 1497 \nL 313 2009 \nz\n\" transform=\"scale(0.015625)\"/>\n      <path id=\"DejaVuSans-39\" d=\"M 703 97 \nL 703 672 \nQ 941 559 1184 500 \nQ 1428 441 1663 441 \nQ 2288 441 2617 861 \nQ 2947 1281 2994 2138 \nQ 2813 1869 2534 1725 \nQ 2256 1581 1919 1581 \nQ 1219 1581 811 2004 \nQ 403 2428 403 3163 \nQ 403 3881 828 4315 \nQ 1253 4750 1959 4750 \nQ 2769 4750 3195 4129 \nQ 3622 3509 3622 2328 \nQ 3622 1225 3098 567 \nQ 2575 -91 1691 -91 \nQ 1453 -91 1209 -44 \nQ 966 3 703 97 \nz\nM 1959 2075 \nQ 2384 2075 2632 2365 \nQ 2881 2656 2881 3163 \nQ 2881 3666 2632 3958 \nQ 2384 4250 1959 4250 \nQ 1534 4250 1286 3958 \nQ 1038 3666 1038 3163 \nQ 1038 2656 1286 2365 \nQ 1534 2075 1959 2075 \nz\n\" transform=\"scale(0.015625)\"/>\n      <path id=\"DejaVuSans-37\" d=\"M 525 4666 \nL 3525 4666 \nL 3525 4397 \nL 1831 0 \nL 1172 0 \nL 2766 4134 \nL 525 4134 \nL 525 4666 \nz\n\" transform=\"scale(0.015625)\"/>\n     </defs>\n     <use xlink:href=\"#DejaVuSans-66\"/>\n     <use xlink:href=\"#DejaVuSans-69\" x=\"35.205078\"/>\n     <use xlink:href=\"#DejaVuSans-6c\" x=\"62.988281\"/>\n     <use xlink:href=\"#DejaVuSans-65\" x=\"90.771484\"/>\n     <use xlink:href=\"#DejaVuSans-6e\" x=\"152.294922\"/>\n     <use xlink:href=\"#DejaVuSans-61\" x=\"215.673828\"/>\n     <use xlink:href=\"#DejaVuSans-6d\" x=\"276.953125\"/>\n     <use xlink:href=\"#DejaVuSans-65\" x=\"374.365234\"/>\n     <use xlink:href=\"#DejaVuSans-3a\" x=\"435.888672\"/>\n     <use xlink:href=\"#DejaVuSans-20\" x=\"469.580078\"/>\n     <use xlink:href=\"#DejaVuSans-6d\" x=\"501.367188\"/>\n     <use xlink:href=\"#DejaVuSans-69\" x=\"598.779297\"/>\n     <use xlink:href=\"#DejaVuSans-63\" x=\"626.5625\"/>\n     <use xlink:href=\"#DejaVuSans-72\" x=\"681.542969\"/>\n     <use xlink:href=\"#DejaVuSans-6f\" x=\"720.40625\"/>\n     <use xlink:href=\"#DejaVuSans-63\" x=\"781.587891\"/>\n     <use xlink:href=\"#DejaVuSans-68\" x=\"836.568359\"/>\n     <use xlink:href=\"#DejaVuSans-5f\" x=\"899.947266\"/>\n     <use xlink:href=\"#DejaVuSans-33\" x=\"949.947266\"/>\n     <use xlink:href=\"#DejaVuSans-30\" x=\"1013.570312\"/>\n     <use xlink:href=\"#DejaVuSans-78\" x=\"1077.193359\"/>\n     <use xlink:href=\"#DejaVuSans-34\" x=\"1136.373047\"/>\n     <use xlink:href=\"#DejaVuSans-2d\" x=\"1199.996094\"/>\n     <use xlink:href=\"#DejaVuSans-32\" x=\"1236.080078\"/>\n     <use xlink:href=\"#DejaVuSans-32\" x=\"1299.703125\"/>\n     <use xlink:href=\"#DejaVuSans-2d\" x=\"1363.326172\"/>\n     <use xlink:href=\"#DejaVuSans-31\" x=\"1399.410156\"/>\n     <use xlink:href=\"#DejaVuSans-31\" x=\"1463.033203\"/>\n     <use xlink:href=\"#DejaVuSans-2d\" x=\"1526.65625\"/>\n     <use xlink:href=\"#DejaVuSans-32\" x=\"1562.740234\"/>\n     <use xlink:href=\"#DejaVuSans-39\" x=\"1626.363281\"/>\n     <use xlink:href=\"#DejaVuSans-2d\" x=\"1689.986328\"/>\n     <use xlink:href=\"#DejaVuSans-30\" x=\"1726.070312\"/>\n     <use xlink:href=\"#DejaVuSans-39\" x=\"1789.693359\"/>\n     <use xlink:href=\"#DejaVuSans-2d\" x=\"1853.316406\"/>\n     <use xlink:href=\"#DejaVuSans-35\" x=\"1889.400391\"/>\n     <use xlink:href=\"#DejaVuSans-37\" x=\"1953.023438\"/>\n    </g>\n   </g>\n   <g id=\"legend_1\">\n    <g id=\"patch_8\">\n     <path d=\"M 224.890938 38.916562 \nL 244.890938 38.916562 \nL 244.890938 31.916562 \nL 224.890938 31.916562 \nz\n\" style=\"fill: #808080; opacity: 0.3\"/>\n    </g>\n    <g id=\"text_16\">\n     <!-- COMP (90 bins) -->\n     <g transform=\"translate(252.890938 38.916562) scale(0.1 -0.1)\">\n      <defs>\n       <path id=\"DejaVuSans-43\" d=\"M 4122 4306 \nL 4122 3641 \nQ 3803 3938 3442 4084 \nQ 3081 4231 2675 4231 \nQ 1875 4231 1450 3742 \nQ 1025 3253 1025 2328 \nQ 1025 1406 1450 917 \nQ 1875 428 2675 428 \nQ 3081 428 3442 575 \nQ 3803 722 4122 1019 \nL 4122 359 \nQ 3791 134 3420 21 \nQ 3050 -91 2638 -91 \nQ 1578 -91 968 557 \nQ 359 1206 359 2328 \nQ 359 3453 968 4101 \nQ 1578 4750 2638 4750 \nQ 3056 4750 3426 4639 \nQ 3797 4528 4122 4306 \nz\n\" transform=\"scale(0.015625)\"/>\n       <path id=\"DejaVuSans-4f\" d=\"M 2522 4238 \nQ 1834 4238 1429 3725 \nQ 1025 3213 1025 2328 \nQ 1025 1447 1429 934 \nQ 1834 422 2522 422 \nQ 3209 422 3611 934 \nQ 4013 1447 4013 2328 \nQ 4013 3213 3611 3725 \nQ 3209 4238 2522 4238 \nz\nM 2522 4750 \nQ 3503 4750 4090 4092 \nQ 4678 3434 4678 2328 \nQ 4678 1225 4090 567 \nQ 3503 -91 2522 -91 \nQ 1538 -91 948 565 \nQ 359 1222 359 2328 \nQ 359 3434 948 4092 \nQ 1538 4750 2522 4750 \nz\n\" transform=\"scale(0.015625)\"/>\n       <path id=\"DejaVuSans-4d\" d=\"M 628 4666 \nL 1569 4666 \nL 2759 1491 \nL 3956 4666 \nL 4897 4666 \nL 4897 0 \nL 4281 0 \nL 4281 4097 \nL 3078 897 \nL 2444 897 \nL 1241 4097 \nL 1241 0 \nL 628 0 \nL 628 4666 \nz\n\" transform=\"scale(0.015625)\"/>\n       <path id=\"DejaVuSans-50\" d=\"M 1259 4147 \nL 1259 2394 \nL 2053 2394 \nQ 2494 2394 2734 2622 \nQ 2975 2850 2975 3272 \nQ 2975 3691 2734 3919 \nQ 2494 4147 2053 4147 \nL 1259 4147 \nz\nM 628 4666 \nL 2053 4666 \nQ 2838 4666 3239 4311 \nQ 3641 3956 3641 3272 \nQ 3641 2581 3239 2228 \nQ 2838 1875 2053 1875 \nL 1259 1875 \nL 1259 0 \nL 628 0 \nL 628 4666 \nz\n\" transform=\"scale(0.015625)\"/>\n       <path id=\"DejaVuSans-62\" d=\"M 3116 1747 \nQ 3116 2381 2855 2742 \nQ 2594 3103 2138 3103 \nQ 1681 3103 1420 2742 \nQ 1159 2381 1159 1747 \nQ 1159 1113 1420 752 \nQ 1681 391 2138 391 \nQ 2594 391 2855 752 \nQ 3116 1113 3116 1747 \nz\nM 1159 2969 \nQ 1341 3281 1617 3432 \nQ 1894 3584 2278 3584 \nQ 2916 3584 3314 3078 \nQ 3713 2572 3713 1747 \nQ 3713 922 3314 415 \nQ 2916 -91 2278 -91 \nQ 1894 -91 1617 61 \nQ 1341 213 1159 525 \nL 1159 0 \nL 581 0 \nL 581 4863 \nL 1159 4863 \nL 1159 2969 \nz\n\" transform=\"scale(0.015625)\"/>\n      </defs>\n      <use xlink:href=\"#DejaVuSans-43\"/>\n      <use xlink:href=\"#DejaVuSans-4f\" x=\"69.824219\"/>\n      <use xlink:href=\"#DejaVuSans-4d\" x=\"148.535156\"/>\n      <use xlink:href=\"#DejaVuSans-50\" x=\"234.814453\"/>\n      <use xlink:href=\"#DejaVuSans-20\" x=\"295.117188\"/>\n      <use xlink:href=\"#DejaVuSans-28\" x=\"326.904297\"/>\n      <use xlink:href=\"#DejaVuSans-39\" x=\"365.917969\"/>\n      <use xlink:href=\"#DejaVuSans-30\" x=\"429.541016\"/>\n      <use xlink:href=\"#DejaVuSans-20\" x=\"493.164062\"/>\n      <use xlink:href=\"#DejaVuSans-62\" x=\"524.951172\"/>\n      <use xlink:href=\"#DejaVuSans-69\" x=\"588.427734\"/>\n      <use xlink:href=\"#DejaVuSans-6e\" x=\"616.210938\"/>\n      <use xlink:href=\"#DejaVuSans-73\" x=\"679.589844\"/>\n      <use xlink:href=\"#DejaVuSans-29\" x=\"731.689453\"/>\n     </g>\n    </g>\n   </g>\n  </g>\n </g>\n <defs>\n  <clipPath id=\"p474802b01e\">\n   <rect x=\"43.78125\" y=\"22.318125\" width=\"295.18\" height=\"177.95\"/>\n  </clipPath>\n </defs>\n</svg>\n",
      "text/plain": [
       "<Figure size 500x350 with 1 Axes>"
      ]
     },
     "metadata": {},
     "output_type": "display_data"
    }
   ],
   "source": [
    "# Plot histograms of some cell properties\n",
    "\n",
    "# Orientation\n",
    "fig, ax = plt.subplots(figsize=(5,3.5))\n",
    "plt.title(\"filename: {}\".format(get_basename(data_dir_path)), loc='left')\n",
    "bin_num = 90\n",
    "ax.hist(avg_angles, bin_num, fc='gray', histtype='stepfilled', alpha=0.3, \n",
    "    density=True, label='COMP ({:d} bins)'.format(bin_num))\n",
    "# ax.plot(x_grid, angles_kde[key](x_grid), linewidth=2, label='KDE')\n",
    "\n",
    "plt.xlabel(r\"cell orientation ($\\arccos{\\hat{r}\\cdot\\hat{x}}$) [deg]\")\n",
    "plt.ylabel(\"Density (N={:d})\".format(len(avg_angles)))\n",
    "plt.tight_layout()\n",
    "\n",
    "# Convert simualtion time into real time\n",
    "plt.text(.1, .99, \"REAL time: {:.1f} min\".format(500), ha='left', va='top', transform=ax.transAxes)\n",
    "\n",
    "plt.legend(loc='upper right', frameon=False)\n",
    "\n",
    "# Save figure\n",
    "for ext in ['png']:\n",
    "    fig_outname =  \"orient.{ext}\".format(ext=ext)\n",
    "    fig.savefig(join_paths(out_dir_path, fig_outname), dpi=300)\n"
   ]
  },
  {
   "cell_type": "code",
   "execution_count": 27,
   "metadata": {},
   "outputs": [],
   "source": [
    "# Perform Kernel Desity Estimation (KDE)\n",
    "kde = gaussian_kde(avg_angles_double, bw_method='scott', weights=None)\n",
    "x_grid = np.linspace(-90,90,100)"
   ]
  },
  {
   "cell_type": "code",
   "execution_count": 30,
   "metadata": {},
   "outputs": [
    {
     "data": {
      "image/png": "[encoded data removed]",
      "image/svg+xml": "<?xml version=\"1.0\" encoding=\"utf-8\" standalone=\"no\"?>\n<!DOCTYPE svg PUBLIC \"-//W3C//DTD SVG 1.1//EN\"\n  \"http://www.w3.org/Graphics/SVG/1.1/DTD/svg11.dtd\">\n<svg xmlns:xlink=\"http://www.w3.org/1999/xlink\" width=\"336.34375pt\" height=\"255.63625pt\" viewBox=\"0 0 336.34375 255.63625\" xmlns=\"http://www.w3.org/2000/svg\" version=\"1.1\">\n <metadata>\n  <rdf:RDF xmlns:dc=\"http://purl.org/dc/elements/1.1/\" xmlns:cc=\"http://creativecommons.org/ns#\" xmlns:rdf=\"http://www.w3.org/1999/02/22-rdf-syntax-ns#\">\n   <cc:Work>\n    <dc:type rdf:resource=\"http://purl.org/dc/dcmitype/StillImage\"/>\n    <dc:date>2022-12-01T15:46:54.641665</dc:date>\n    <dc:format>image/svg+xml</dc:format>\n    <dc:creator>\n     <cc:Agent>\n      <dc:title>Matplotlib v3.6.1, https://matplotlib.org/</dc:title>\n     </cc:Agent>\n    </dc:creator>\n   </cc:Work>\n  </rdf:RDF>\n </metadata>\n <defs>\n  <style type=\"text/css\">*{stroke-linejoin: round; stroke-linecap: butt}</style>\n </defs>\n <g id=\"figure_1\">\n  <g id=\"patch_1\">\n   <path d=\"M 0 255.63625 \nL 336.34375 255.63625 \nL 336.34375 0 \nL 0 0 \nz\n\" style=\"fill: #ffffff\"/>\n  </g>\n  <g id=\"axes_1\">\n   <g id=\"patch_2\">\n    <path d=\"M 50.14375 216.358125 \nL 329.14375 216.358125 \nL 329.14375 22.318125 \nL 50.14375 22.318125 \nz\n\" style=\"fill: #ffffff\"/>\n   </g>\n   <g id=\"patch_3\">\n    <path d=\"M 110.605009 216.358125 \nL 110.605009 215.578378 \nL 112.361425 215.578378 \nL 112.361425 216.358125 \nL 114.117842 216.358125 \nL 114.117842 216.358125 \nL 115.874258 216.358125 \nL 115.874258 216.358125 \nL 117.630675 216.358125 \nL 117.630675 216.358125 \nL 119.387091 216.358125 \nL 119.387091 216.358125 \nL 121.143507 216.358125 \nL 121.143507 215.578378 \nL 122.899924 215.578378 \nL 122.899924 214.798631 \nL 124.65634 214.798631 \nL 124.65634 216.358125 \nL 126.412757 216.358125 \nL 126.412757 215.578378 \nL 128.169173 215.578378 \nL 128.169173 215.578378 \nL 129.92559 215.578378 \nL 129.92559 216.358125 \nL 131.682006 216.358125 \nL 131.682006 215.578378 \nL 133.438423 215.578378 \nL 133.438423 216.358125 \nL 135.194839 216.358125 \nL 135.194839 215.578378 \nL 136.951256 215.578378 \nL 136.951256 215.578378 \nL 138.707672 215.578378 \nL 138.707672 216.358125 \nL 140.464089 216.358125 \nL 140.464089 214.798631 \nL 142.220505 214.798631 \nL 142.220505 215.578378 \nL 143.976922 215.578378 \nL 143.976922 215.578378 \nL 145.733338 215.578378 \nL 145.733338 216.358125 \nL 147.489755 216.358125 \nL 147.489755 216.358125 \nL 149.246171 216.358125 \nL 149.246171 216.358125 \nL 151.002588 216.358125 \nL 151.002588 216.358125 \nL 152.759004 216.358125 \nL 152.759004 216.358125 \nL 154.515421 216.358125 \nL 154.515421 215.578378 \nL 156.271837 215.578378 \nL 156.271837 214.798631 \nL 158.028253 214.798631 \nL 158.028253 214.798631 \nL 159.78467 214.798631 \nL 159.78467 214.798631 \nL 161.541086 214.798631 \nL 161.541086 212.459391 \nL 163.297503 212.459391 \nL 163.297503 216.358125 \nL 165.053919 216.358125 \nL 165.053919 210.12015 \nL 166.810336 210.12015 \nL 166.810336 213.239138 \nL 168.566752 213.239138 \nL 168.566752 214.018884 \nL 170.323169 214.018884 \nL 170.323169 207.001163 \nL 172.079585 207.001163 \nL 172.079585 201.542935 \nL 173.836002 201.542935 \nL 173.836002 206.221416 \nL 175.592418 206.221416 \nL 175.592418 202.322682 \nL 177.348835 202.322682 \nL 177.348835 201.542935 \nL 179.105251 201.542935 \nL 179.105251 200.763188 \nL 180.861668 200.763188 \nL 180.861668 190.626479 \nL 182.618084 190.626479 \nL 182.618084 174.251796 \nL 184.374501 174.251796 \nL 184.374501 169.573315 \nL 186.130917 169.573315 \nL 186.130917 131.36572 \nL 187.887334 131.36572 \nL 187.887334 34.677112 \nL 189.64375 34.677112 \nL 189.64375 31.558125 \nL 191.400166 31.558125 \nL 191.400166 131.36572 \nL 193.156583 131.36572 \nL 193.156583 169.573315 \nL 194.912999 169.573315 \nL 194.912999 174.251796 \nL 196.669416 174.251796 \nL 196.669416 190.626479 \nL 198.425832 190.626479 \nL 198.425832 200.763188 \nL 200.182249 200.763188 \nL 200.182249 201.542935 \nL 201.938665 201.542935 \nL 201.938665 202.322682 \nL 203.695082 202.322682 \nL 203.695082 206.221416 \nL 205.451498 206.221416 \nL 205.451498 201.542935 \nL 207.207915 201.542935 \nL 207.207915 207.001163 \nL 208.964331 207.001163 \nL 208.964331 214.018884 \nL 210.720748 214.018884 \nL 210.720748 213.239138 \nL 212.477164 213.239138 \nL 212.477164 210.12015 \nL 214.233581 210.12015 \nL 214.233581 216.358125 \nL 215.989997 216.358125 \nL 215.989997 212.459391 \nL 217.746414 212.459391 \nL 217.746414 214.798631 \nL 219.50283 214.798631 \nL 219.50283 214.798631 \nL 221.259247 214.798631 \nL 221.259247 214.798631 \nL 223.015663 214.798631 \nL 223.015663 215.578378 \nL 224.772079 215.578378 \nL 224.772079 216.358125 \nL 226.528496 216.358125 \nL 226.528496 216.358125 \nL 228.284912 216.358125 \nL 228.284912 216.358125 \nL 230.041329 216.358125 \nL 230.041329 216.358125 \nL 231.797745 216.358125 \nL 231.797745 216.358125 \nL 233.554162 216.358125 \nL 233.554162 215.578378 \nL 235.310578 215.578378 \nL 235.310578 215.578378 \nL 237.066995 215.578378 \nL 237.066995 214.798631 \nL 238.823411 214.798631 \nL 238.823411 216.358125 \nL 240.579828 216.358125 \nL 240.579828 215.578378 \nL 242.336244 215.578378 \nL 242.336244 215.578378 \nL 244.092661 215.578378 \nL 244.092661 216.358125 \nL 245.849077 216.358125 \nL 245.849077 215.578378 \nL 247.605494 215.578378 \nL 247.605494 216.358125 \nL 249.36191 216.358125 \nL 249.36191 215.578378 \nL 251.118327 215.578378 \nL 251.118327 215.578378 \nL 252.874743 215.578378 \nL 252.874743 216.358125 \nL 254.63116 216.358125 \nL 254.63116 214.798631 \nL 256.387576 214.798631 \nL 256.387576 215.578378 \nL 258.143993 215.578378 \nL 258.143993 216.358125 \nL 259.900409 216.358125 \nL 259.900409 216.358125 \nL 261.656825 216.358125 \nL 261.656825 216.358125 \nL 263.413242 216.358125 \nL 263.413242 216.358125 \nL 265.169658 216.358125 \nL 265.169658 216.358125 \nL 266.926075 216.358125 \nL 266.926075 215.578378 \nL 268.682491 215.578378 \nL 268.682491 216.358125 \nL 266.926075 216.358125 \nL 266.926075 216.358125 \nL 265.169658 216.358125 \nL 265.169658 216.358125 \nL 263.413242 216.358125 \nL 263.413242 216.358125 \nL 261.656825 216.358125 \nL 261.656825 216.358125 \nL 259.900409 216.358125 \nL 259.900409 216.358125 \nL 258.143993 216.358125 \nL 258.143993 216.358125 \nL 256.387576 216.358125 \nL 256.387576 216.358125 \nL 254.63116 216.358125 \nL 254.63116 216.358125 \nL 252.874743 216.358125 \nL 252.874743 216.358125 \nL 251.118327 216.358125 \nL 251.118327 216.358125 \nL 249.36191 216.358125 \nL 249.36191 216.358125 \nL 247.605494 216.358125 \nL 247.605494 216.358125 \nL 245.849077 216.358125 \nL 245.849077 216.358125 \nL 244.092661 216.358125 \nL 244.092661 216.358125 \nL 242.336244 216.358125 \nL 242.336244 216.358125 \nL 240.579828 216.358125 \nL 240.579828 216.358125 \nL 238.823411 216.358125 \nL 238.823411 216.358125 \nL 237.066995 216.358125 \nL 237.066995 216.358125 \nL 235.310578 216.358125 \nL 235.310578 216.358125 \nL 233.554162 216.358125 \nL 233.554162 216.358125 \nL 231.797745 216.358125 \nL 231.797745 216.358125 \nL 230.041329 216.358125 \nL 230.041329 216.358125 \nL 228.284912 216.358125 \nL 228.284912 216.358125 \nL 226.528496 216.358125 \nL 226.528496 216.358125 \nL 224.772079 216.358125 \nL 224.772079 216.358125 \nL 223.015663 216.358125 \nL 223.015663 216.358125 \nL 221.259247 216.358125 \nL 221.259247 216.358125 \nL 219.50283 216.358125 \nL 219.50283 216.358125 \nL 217.746414 216.358125 \nL 217.746414 216.358125 \nL 215.989997 216.358125 \nL 215.989997 216.358125 \nL 214.233581 216.358125 \nL 214.233581 216.358125 \nL 212.477164 216.358125 \nL 212.477164 216.358125 \nL 210.720748 216.358125 \nL 210.720748 216.358125 \nL 208.964331 216.358125 \nL 208.964331 216.358125 \nL 207.207915 216.358125 \nL 207.207915 216.358125 \nL 205.451498 216.358125 \nL 205.451498 216.358125 \nL 203.695082 216.358125 \nL 203.695082 216.358125 \nL 201.938665 216.358125 \nL 201.938665 216.358125 \nL 200.182249 216.358125 \nL 200.182249 216.358125 \nL 198.425832 216.358125 \nL 198.425832 216.358125 \nL 196.669416 216.358125 \nL 196.669416 216.358125 \nL 194.912999 216.358125 \nL 194.912999 216.358125 \nL 193.156583 216.358125 \nL 193.156583 216.358125 \nL 191.400166 216.358125 \nL 191.400166 216.358125 \nL 189.64375 216.358125 \nL 189.64375 216.358125 \nL 187.887334 216.358125 \nL 187.887334 216.358125 \nL 186.130917 216.358125 \nL 186.130917 216.358125 \nL 184.374501 216.358125 \nL 184.374501 216.358125 \nL 182.618084 216.358125 \nL 182.618084 216.358125 \nL 180.861668 216.358125 \nL 180.861668 216.358125 \nL 179.105251 216.358125 \nL 179.105251 216.358125 \nL 177.348835 216.358125 \nL 177.348835 216.358125 \nL 175.592418 216.358125 \nL 175.592418 216.358125 \nL 173.836002 216.358125 \nL 173.836002 216.358125 \nL 172.079585 216.358125 \nL 172.079585 216.358125 \nL 170.323169 216.358125 \nL 170.323169 216.358125 \nL 168.566752 216.358125 \nL 168.566752 216.358125 \nL 166.810336 216.358125 \nL 166.810336 216.358125 \nL 165.053919 216.358125 \nL 165.053919 216.358125 \nL 163.297503 216.358125 \nL 163.297503 216.358125 \nL 161.541086 216.358125 \nL 161.541086 216.358125 \nL 159.78467 216.358125 \nL 159.78467 216.358125 \nL 158.028253 216.358125 \nL 158.028253 216.358125 \nL 156.271837 216.358125 \nL 156.271837 216.358125 \nL 154.515421 216.358125 \nL 154.515421 216.358125 \nL 152.759004 216.358125 \nL 152.759004 216.358125 \nL 151.002588 216.358125 \nL 151.002588 216.358125 \nL 149.246171 216.358125 \nL 149.246171 216.358125 \nL 147.489755 216.358125 \nL 147.489755 216.358125 \nL 145.733338 216.358125 \nL 145.733338 216.358125 \nL 143.976922 216.358125 \nL 143.976922 216.358125 \nL 142.220505 216.358125 \nL 142.220505 216.358125 \nL 140.464089 216.358125 \nL 140.464089 216.358125 \nL 138.707672 216.358125 \nL 138.707672 216.358125 \nL 136.951256 216.358125 \nL 136.951256 216.358125 \nL 135.194839 216.358125 \nL 135.194839 216.358125 \nL 133.438423 216.358125 \nL 133.438423 216.358125 \nL 131.682006 216.358125 \nL 131.682006 216.358125 \nL 129.92559 216.358125 \nL 129.92559 216.358125 \nL 128.169173 216.358125 \nL 128.169173 216.358125 \nL 126.412757 216.358125 \nL 126.412757 216.358125 \nL 124.65634 216.358125 \nL 124.65634 216.358125 \nL 122.899924 216.358125 \nL 122.899924 216.358125 \nL 121.143507 216.358125 \nL 121.143507 216.358125 \nL 119.387091 216.358125 \nL 119.387091 216.358125 \nL 117.630675 216.358125 \nL 117.630675 216.358125 \nL 115.874258 216.358125 \nL 115.874258 216.358125 \nL 114.117842 216.358125 \nL 114.117842 216.358125 \nL 112.361425 216.358125 \nL 112.361425 216.358125 \nz\n\" clip-path=\"url(#p3be92e1d08)\" style=\"fill: #808080; opacity: 0.3\"/>\n   </g>\n   <g id=\"matplotlib.axis_1\">\n    <g id=\"xtick_1\">\n     <g id=\"line2d_1\">\n      <defs>\n       <path id=\"m3079e3fc90\" d=\"M 0 0 \nL 0 3.5 \n\" style=\"stroke: #000000; stroke-width: 0.8\"/>\n      </defs>\n      <g>\n       <use xlink:href=\"#m3079e3fc90\" x=\"83.961932\" y=\"216.358125\" style=\"stroke: #000000; stroke-width: 0.8\"/>\n      </g>\n     </g>\n     <g id=\"text_1\">\n      <!-- −75 -->\n      <g transform=\"translate(73.409588 230.956562) scale(0.1 -0.1)\">\n       <defs>\n        <path id=\"DejaVuSans-2212\" d=\"M 678 2272 \nL 4684 2272 \nL 4684 1741 \nL 678 1741 \nL 678 2272 \nz\n\" transform=\"scale(0.015625)\"/>\n        <path id=\"DejaVuSans-37\" d=\"M 525 4666 \nL 3525 4666 \nL 3525 4397 \nL 1831 0 \nL 1172 0 \nL 2766 4134 \nL 525 4134 \nL 525 4666 \nz\n\" transform=\"scale(0.015625)\"/>\n        <path id=\"DejaVuSans-35\" d=\"M 691 4666 \nL 3169 4666 \nL 3169 4134 \nL 1269 4134 \nL 1269 2991 \nQ 1406 3038 1543 3061 \nQ 1681 3084 1819 3084 \nQ 2600 3084 3056 2656 \nQ 3513 2228 3513 1497 \nQ 3513 744 3044 326 \nQ 2575 -91 1722 -91 \nQ 1428 -91 1123 -41 \nQ 819 9 494 109 \nL 494 744 \nQ 775 591 1075 516 \nQ 1375 441 1709 441 \nQ 2250 441 2565 725 \nQ 2881 1009 2881 1497 \nQ 2881 1984 2565 2268 \nQ 2250 2553 1709 2553 \nQ 1456 2553 1204 2497 \nQ 953 2441 691 2322 \nL 691 4666 \nz\n\" transform=\"scale(0.015625)\"/>\n       </defs>\n       <use xlink:href=\"#DejaVuSans-2212\"/>\n       <use xlink:href=\"#DejaVuSans-37\" x=\"83.789062\"/>\n       <use xlink:href=\"#DejaVuSans-35\" x=\"147.412109\"/>\n      </g>\n     </g>\n    </g>\n    <g id=\"xtick_2\">\n     <g id=\"line2d_2\">\n      <g>\n       <use xlink:href=\"#m3079e3fc90\" x=\"119.189205\" y=\"216.358125\" style=\"stroke: #000000; stroke-width: 0.8\"/>\n      </g>\n     </g>\n     <g id=\"text_2\">\n      <!-- −50 -->\n      <g transform=\"translate(108.636861 230.956562) scale(0.1 -0.1)\">\n       <defs>\n        <path id=\"DejaVuSans-30\" d=\"M 2034 4250 \nQ 1547 4250 1301 3770 \nQ 1056 3291 1056 2328 \nQ 1056 1369 1301 889 \nQ 1547 409 2034 409 \nQ 2525 409 2770 889 \nQ 3016 1369 3016 2328 \nQ 3016 3291 2770 3770 \nQ 2525 4250 2034 4250 \nz\nM 2034 4750 \nQ 2819 4750 3233 4129 \nQ 3647 3509 3647 2328 \nQ 3647 1150 3233 529 \nQ 2819 -91 2034 -91 \nQ 1250 -91 836 529 \nQ 422 1150 422 2328 \nQ 422 3509 836 4129 \nQ 1250 4750 2034 4750 \nz\n\" transform=\"scale(0.015625)\"/>\n       </defs>\n       <use xlink:href=\"#DejaVuSans-2212\"/>\n       <use xlink:href=\"#DejaVuSans-35\" x=\"83.789062\"/>\n       <use xlink:href=\"#DejaVuSans-30\" x=\"147.412109\"/>\n      </g>\n     </g>\n    </g>\n    <g id=\"xtick_3\">\n     <g id=\"line2d_3\">\n      <g>\n       <use xlink:href=\"#m3079e3fc90\" x=\"154.416477\" y=\"216.358125\" style=\"stroke: #000000; stroke-width: 0.8\"/>\n      </g>\n     </g>\n     <g id=\"text_3\">\n      <!-- −25 -->\n      <g transform=\"translate(143.864134 230.956562) scale(0.1 -0.1)\">\n       <defs>\n        <path id=\"DejaVuSans-32\" d=\"M 1228 531 \nL 3431 531 \nL 3431 0 \nL 469 0 \nL 469 531 \nQ 828 903 1448 1529 \nQ 2069 2156 2228 2338 \nQ 2531 2678 2651 2914 \nQ 2772 3150 2772 3378 \nQ 2772 3750 2511 3984 \nQ 2250 4219 1831 4219 \nQ 1534 4219 1204 4116 \nQ 875 4013 500 3803 \nL 500 4441 \nQ 881 4594 1212 4672 \nQ 1544 4750 1819 4750 \nQ 2544 4750 2975 4387 \nQ 3406 4025 3406 3419 \nQ 3406 3131 3298 2873 \nQ 3191 2616 2906 2266 \nQ 2828 2175 2409 1742 \nQ 1991 1309 1228 531 \nz\n\" transform=\"scale(0.015625)\"/>\n       </defs>\n       <use xlink:href=\"#DejaVuSans-2212\"/>\n       <use xlink:href=\"#DejaVuSans-32\" x=\"83.789062\"/>\n       <use xlink:href=\"#DejaVuSans-35\" x=\"147.412109\"/>\n      </g>\n     </g>\n    </g>\n    <g id=\"xtick_4\">\n     <g id=\"line2d_4\">\n      <g>\n       <use xlink:href=\"#m3079e3fc90\" x=\"189.64375\" y=\"216.358125\" style=\"stroke: #000000; stroke-width: 0.8\"/>\n      </g>\n     </g>\n     <g id=\"text_4\">\n      <!-- 0 -->\n      <g transform=\"translate(186.4625 230.956562) scale(0.1 -0.1)\">\n       <use xlink:href=\"#DejaVuSans-30\"/>\n      </g>\n     </g>\n    </g>\n    <g id=\"xtick_5\">\n     <g id=\"line2d_5\">\n      <g>\n       <use xlink:href=\"#m3079e3fc90\" x=\"224.871023\" y=\"216.358125\" style=\"stroke: #000000; stroke-width: 0.8\"/>\n      </g>\n     </g>\n     <g id=\"text_5\">\n      <!-- 25 -->\n      <g transform=\"translate(218.508523 230.956562) scale(0.1 -0.1)\">\n       <use xlink:href=\"#DejaVuSans-32\"/>\n       <use xlink:href=\"#DejaVuSans-35\" x=\"63.623047\"/>\n      </g>\n     </g>\n    </g>\n    <g id=\"xtick_6\">\n     <g id=\"line2d_6\">\n      <g>\n       <use xlink:href=\"#m3079e3fc90\" x=\"260.098295\" y=\"216.358125\" style=\"stroke: #000000; stroke-width: 0.8\"/>\n      </g>\n     </g>\n     <g id=\"text_6\">\n      <!-- 50 -->\n      <g transform=\"translate(253.735795 230.956562) scale(0.1 -0.1)\">\n       <use xlink:href=\"#DejaVuSans-35\"/>\n       <use xlink:href=\"#DejaVuSans-30\" x=\"63.623047\"/>\n      </g>\n     </g>\n    </g>\n    <g id=\"xtick_7\">\n     <g id=\"line2d_7\">\n      <g>\n       <use xlink:href=\"#m3079e3fc90\" x=\"295.325568\" y=\"216.358125\" style=\"stroke: #000000; stroke-width: 0.8\"/>\n      </g>\n     </g>\n     <g id=\"text_7\">\n      <!-- 75 -->\n      <g transform=\"translate(288.963068 230.956562) scale(0.1 -0.1)\">\n       <use xlink:href=\"#DejaVuSans-37\"/>\n       <use xlink:href=\"#DejaVuSans-35\" x=\"63.623047\"/>\n      </g>\n     </g>\n    </g>\n    <g id=\"text_8\">\n     <!-- $\\arccos{\\hat{r}\\cdot\\hat{x}}$ [deg] -->\n     <g transform=\"translate(149.04375 246.33625) scale(0.1 -0.1)\">\n      <defs>\n       <path id=\"DejaVuSans-61\" d=\"M 2194 1759 \nQ 1497 1759 1228 1600 \nQ 959 1441 959 1056 \nQ 959 750 1161 570 \nQ 1363 391 1709 391 \nQ 2188 391 2477 730 \nQ 2766 1069 2766 1631 \nL 2766 1759 \nL 2194 1759 \nz\nM 3341 1997 \nL 3341 0 \nL 2766 0 \nL 2766 531 \nQ 2569 213 2275 61 \nQ 1981 -91 1556 -91 \nQ 1019 -91 701 211 \nQ 384 513 384 1019 \nQ 384 1609 779 1909 \nQ 1175 2209 1959 2209 \nL 2766 2209 \nL 2766 2266 \nQ 2766 2663 2505 2880 \nQ 2244 3097 1772 3097 \nQ 1472 3097 1187 3025 \nQ 903 2953 641 2809 \nL 641 3341 \nQ 956 3463 1253 3523 \nQ 1550 3584 1831 3584 \nQ 2591 3584 2966 3190 \nQ 3341 2797 3341 1997 \nz\n\" transform=\"scale(0.015625)\"/>\n       <path id=\"DejaVuSans-72\" d=\"M 2631 2963 \nQ 2534 3019 2420 3045 \nQ 2306 3072 2169 3072 \nQ 1681 3072 1420 2755 \nQ 1159 2438 1159 1844 \nL 1159 0 \nL 581 0 \nL 581 3500 \nL 1159 3500 \nL 1159 2956 \nQ 1341 3275 1631 3429 \nQ 1922 3584 2338 3584 \nQ 2397 3584 2469 3576 \nQ 2541 3569 2628 3553 \nL 2631 2963 \nz\n\" transform=\"scale(0.015625)\"/>\n       <path id=\"DejaVuSans-63\" d=\"M 3122 3366 \nL 3122 2828 \nQ 2878 2963 2633 3030 \nQ 2388 3097 2138 3097 \nQ 1578 3097 1268 2742 \nQ 959 2388 959 1747 \nQ 959 1106 1268 751 \nQ 1578 397 2138 397 \nQ 2388 397 2633 464 \nQ 2878 531 3122 666 \nL 3122 134 \nQ 2881 22 2623 -34 \nQ 2366 -91 2075 -91 \nQ 1284 -91 818 406 \nQ 353 903 353 1747 \nQ 353 2603 823 3093 \nQ 1294 3584 2113 3584 \nQ 2378 3584 2631 3529 \nQ 2884 3475 3122 3366 \nz\n\" transform=\"scale(0.015625)\"/>\n       <path id=\"DejaVuSans-6f\" d=\"M 1959 3097 \nQ 1497 3097 1228 2736 \nQ 959 2375 959 1747 \nQ 959 1119 1226 758 \nQ 1494 397 1959 397 \nQ 2419 397 2687 759 \nQ 2956 1122 2956 1747 \nQ 2956 2369 2687 2733 \nQ 2419 3097 1959 3097 \nz\nM 1959 3584 \nQ 2709 3584 3137 3096 \nQ 3566 2609 3566 1747 \nQ 3566 888 3137 398 \nQ 2709 -91 1959 -91 \nQ 1206 -91 779 398 \nQ 353 888 353 1747 \nQ 353 2609 779 3096 \nQ 1206 3584 1959 3584 \nz\n\" transform=\"scale(0.015625)\"/>\n       <path id=\"DejaVuSans-73\" d=\"M 2834 3397 \nL 2834 2853 \nQ 2591 2978 2328 3040 \nQ 2066 3103 1784 3103 \nQ 1356 3103 1142 2972 \nQ 928 2841 928 2578 \nQ 928 2378 1081 2264 \nQ 1234 2150 1697 2047 \nL 1894 2003 \nQ 2506 1872 2764 1633 \nQ 3022 1394 3022 966 \nQ 3022 478 2636 193 \nQ 2250 -91 1575 -91 \nQ 1294 -91 989 -36 \nQ 684 19 347 128 \nL 347 722 \nQ 666 556 975 473 \nQ 1284 391 1588 391 \nQ 1994 391 2212 530 \nQ 2431 669 2431 922 \nQ 2431 1156 2273 1281 \nQ 2116 1406 1581 1522 \nL 1381 1569 \nQ 847 1681 609 1914 \nQ 372 2147 372 2553 \nQ 372 3047 722 3315 \nQ 1072 3584 1716 3584 \nQ 2034 3584 2315 3537 \nQ 2597 3491 2834 3397 \nz\n\" transform=\"scale(0.015625)\"/>\n       <path id=\"DejaVuSans-302\" d=\"M -1831 5119 \nL -1369 5119 \nL -603 3944 \nL -1038 3944 \nL -1600 4709 \nL -2163 3944 \nL -2597 3944 \nL -1831 5119 \nz\nM -1600 3584 \nL -1600 3584 \nz\n\" transform=\"scale(0.015625)\"/>\n       <path id=\"DejaVuSans-Oblique-72\" d=\"M 2853 2969 \nQ 2766 3016 2653 3041 \nQ 2541 3066 2413 3066 \nQ 1953 3066 1609 2717 \nQ 1266 2369 1153 1784 \nL 800 0 \nL 225 0 \nL 909 3500 \nL 1484 3500 \nL 1375 2956 \nQ 1603 3259 1920 3421 \nQ 2238 3584 2597 3584 \nQ 2691 3584 2781 3573 \nQ 2872 3563 2963 3538 \nL 2853 2969 \nz\n\" transform=\"scale(0.015625)\"/>\n       <path id=\"DejaVuSans-22c5\" d=\"M 684 2619 \nL 1344 2619 \nL 1344 1825 \nL 684 1825 \nL 684 2619 \nz\n\" transform=\"scale(0.015625)\"/>\n       <path id=\"DejaVuSans-Oblique-78\" d=\"M 3841 3500 \nL 2234 1784 \nL 3219 0 \nL 2559 0 \nL 1819 1388 \nL 531 0 \nL -166 0 \nL 1556 1844 \nL 641 3500 \nL 1300 3500 \nL 1972 2234 \nL 3144 3500 \nL 3841 3500 \nz\n\" transform=\"scale(0.015625)\"/>\n       <path id=\"DejaVuSans-20\" transform=\"scale(0.015625)\"/>\n       <path id=\"DejaVuSans-5b\" d=\"M 550 4863 \nL 1875 4863 \nL 1875 4416 \nL 1125 4416 \nL 1125 -397 \nL 1875 -397 \nL 1875 -844 \nL 550 -844 \nL 550 4863 \nz\n\" transform=\"scale(0.015625)\"/>\n       <path id=\"DejaVuSans-64\" d=\"M 2906 2969 \nL 2906 4863 \nL 3481 4863 \nL 3481 0 \nL 2906 0 \nL 2906 525 \nQ 2725 213 2448 61 \nQ 2172 -91 1784 -91 \nQ 1150 -91 751 415 \nQ 353 922 353 1747 \nQ 353 2572 751 3078 \nQ 1150 3584 1784 3584 \nQ 2172 3584 2448 3432 \nQ 2725 3281 2906 2969 \nz\nM 947 1747 \nQ 947 1113 1208 752 \nQ 1469 391 1925 391 \nQ 2381 391 2643 752 \nQ 2906 1113 2906 1747 \nQ 2906 2381 2643 2742 \nQ 2381 3103 1925 3103 \nQ 1469 3103 1208 2742 \nQ 947 2381 947 1747 \nz\n\" transform=\"scale(0.015625)\"/>\n       <path id=\"DejaVuSans-65\" d=\"M 3597 1894 \nL 3597 1613 \nL 953 1613 \nQ 991 1019 1311 708 \nQ 1631 397 2203 397 \nQ 2534 397 2845 478 \nQ 3156 559 3463 722 \nL 3463 178 \nQ 3153 47 2828 -22 \nQ 2503 -91 2169 -91 \nQ 1331 -91 842 396 \nQ 353 884 353 1716 \nQ 353 2575 817 3079 \nQ 1281 3584 2069 3584 \nQ 2775 3584 3186 3129 \nQ 3597 2675 3597 1894 \nz\nM 3022 2063 \nQ 3016 2534 2758 2815 \nQ 2500 3097 2075 3097 \nQ 1594 3097 1305 2825 \nQ 1016 2553 972 2059 \nL 3022 2063 \nz\n\" transform=\"scale(0.015625)\"/>\n       <path id=\"DejaVuSans-67\" d=\"M 2906 1791 \nQ 2906 2416 2648 2759 \nQ 2391 3103 1925 3103 \nQ 1463 3103 1205 2759 \nQ 947 2416 947 1791 \nQ 947 1169 1205 825 \nQ 1463 481 1925 481 \nQ 2391 481 2648 825 \nQ 2906 1169 2906 1791 \nz\nM 3481 434 \nQ 3481 -459 3084 -895 \nQ 2688 -1331 1869 -1331 \nQ 1566 -1331 1297 -1286 \nQ 1028 -1241 775 -1147 \nL 775 -588 \nQ 1028 -725 1275 -790 \nQ 1522 -856 1778 -856 \nQ 2344 -856 2625 -561 \nQ 2906 -266 2906 331 \nL 2906 616 \nQ 2728 306 2450 153 \nQ 2172 0 1784 0 \nQ 1141 0 747 490 \nQ 353 981 353 1791 \nQ 353 2603 747 3093 \nQ 1141 3584 1784 3584 \nQ 2172 3584 2450 3431 \nQ 2728 3278 2906 2969 \nL 2906 3500 \nL 3481 3500 \nL 3481 434 \nz\n\" transform=\"scale(0.015625)\"/>\n       <path id=\"DejaVuSans-5d\" d=\"M 1947 4863 \nL 1947 -844 \nL 622 -844 \nL 622 -397 \nL 1369 -397 \nL 1369 4416 \nL 622 4416 \nL 622 4863 \nL 1947 4863 \nz\n\" transform=\"scale(0.015625)\"/>\n      </defs>\n      <use xlink:href=\"#DejaVuSans-61\" transform=\"translate(0 0.515625)\"/>\n      <use xlink:href=\"#DejaVuSans-72\" transform=\"translate(61.279297 0.515625)\"/>\n      <use xlink:href=\"#DejaVuSans-63\" transform=\"translate(102.392578 0.515625)\"/>\n      <use xlink:href=\"#DejaVuSans-63\" transform=\"translate(157.373047 0.515625)\"/>\n      <use xlink:href=\"#DejaVuSans-6f\" transform=\"translate(212.353516 0.515625)\"/>\n      <use xlink:href=\"#DejaVuSans-73\" transform=\"translate(273.535156 0.515625)\"/>\n      <use xlink:href=\"#DejaVuSans-302\" transform=\"translate(392.726887 13.015625)\"/>\n      <use xlink:href=\"#DejaVuSans-Oblique-72\" transform=\"translate(341.870442 0.515625)\"/>\n      <use xlink:href=\"#DejaVuSans-22c5\" transform=\"translate(402.466145 0.515625)\"/>\n      <use xlink:href=\"#DejaVuSans-302\" transform=\"translate(516.108723 11.703125)\"/>\n      <use xlink:href=\"#DejaVuSans-Oblique-78\" transform=\"translate(453.735676 0.515625)\"/>\n      <use xlink:href=\"#DejaVuSans-20\" transform=\"translate(512.915364 0.515625)\"/>\n      <use xlink:href=\"#DejaVuSans-5b\" transform=\"translate(544.702473 0.515625)\"/>\n      <use xlink:href=\"#DejaVuSans-64\" transform=\"translate(583.716145 0.515625)\"/>\n      <use xlink:href=\"#DejaVuSans-65\" transform=\"translate(647.192708 0.515625)\"/>\n      <use xlink:href=\"#DejaVuSans-67\" transform=\"translate(708.716145 0.515625)\"/>\n      <use xlink:href=\"#DejaVuSans-5d\" transform=\"translate(772.192708 0.515625)\"/>\n     </g>\n    </g>\n   </g>\n   <g id=\"matplotlib.axis_2\">\n    <g id=\"ytick_1\">\n     <g id=\"line2d_8\">\n      <defs>\n       <path id=\"mff99bf712b\" d=\"M 0 0 \nL -3.5 0 \n\" style=\"stroke: #000000; stroke-width: 0.8\"/>\n      </defs>\n      <g>\n       <use xlink:href=\"#mff99bf712b\" x=\"50.14375\" y=\"216.358125\" style=\"stroke: #000000; stroke-width: 0.8\"/>\n      </g>\n     </g>\n     <g id=\"text_9\">\n      <!-- 0.00 -->\n      <g transform=\"translate(20.878125 220.157344) scale(0.1 -0.1)\">\n       <defs>\n        <path id=\"DejaVuSans-2e\" d=\"M 684 794 \nL 1344 794 \nL 1344 0 \nL 684 0 \nL 684 794 \nz\n\" transform=\"scale(0.015625)\"/>\n       </defs>\n       <use xlink:href=\"#DejaVuSans-30\"/>\n       <use xlink:href=\"#DejaVuSans-2e\" x=\"63.623047\"/>\n       <use xlink:href=\"#DejaVuSans-30\" x=\"95.410156\"/>\n       <use xlink:href=\"#DejaVuSans-30\" x=\"159.033203\"/>\n      </g>\n     </g>\n    </g>\n    <g id=\"ytick_2\">\n     <g id=\"line2d_9\">\n      <g>\n       <use xlink:href=\"#mff99bf712b\" x=\"50.14375\" y=\"191.787332\" style=\"stroke: #000000; stroke-width: 0.8\"/>\n      </g>\n     </g>\n     <g id=\"text_10\">\n      <!-- 0.02 -->\n      <g transform=\"translate(20.878125 195.58655) scale(0.1 -0.1)\">\n       <use xlink:href=\"#DejaVuSans-30\"/>\n       <use xlink:href=\"#DejaVuSans-2e\" x=\"63.623047\"/>\n       <use xlink:href=\"#DejaVuSans-30\" x=\"95.410156\"/>\n       <use xlink:href=\"#DejaVuSans-32\" x=\"159.033203\"/>\n      </g>\n     </g>\n    </g>\n    <g id=\"ytick_3\">\n     <g id=\"line2d_10\">\n      <g>\n       <use xlink:href=\"#mff99bf712b\" x=\"50.14375\" y=\"167.216538\" style=\"stroke: #000000; stroke-width: 0.8\"/>\n      </g>\n     </g>\n     <g id=\"text_11\">\n      <!-- 0.04 -->\n      <g transform=\"translate(20.878125 171.015757) scale(0.1 -0.1)\">\n       <defs>\n        <path id=\"DejaVuSans-34\" d=\"M 2419 4116 \nL 825 1625 \nL 2419 1625 \nL 2419 4116 \nz\nM 2253 4666 \nL 3047 4666 \nL 3047 1625 \nL 3713 1625 \nL 3713 1100 \nL 3047 1100 \nL 3047 0 \nL 2419 0 \nL 2419 1100 \nL 313 1100 \nL 313 1709 \nL 2253 4666 \nz\n\" transform=\"scale(0.015625)\"/>\n       </defs>\n       <use xlink:href=\"#DejaVuSans-30\"/>\n       <use xlink:href=\"#DejaVuSans-2e\" x=\"63.623047\"/>\n       <use xlink:href=\"#DejaVuSans-30\" x=\"95.410156\"/>\n       <use xlink:href=\"#DejaVuSans-34\" x=\"159.033203\"/>\n      </g>\n     </g>\n    </g>\n    <g id=\"ytick_4\">\n     <g id=\"line2d_11\">\n      <g>\n       <use xlink:href=\"#mff99bf712b\" x=\"50.14375\" y=\"142.645745\" style=\"stroke: #000000; stroke-width: 0.8\"/>\n      </g>\n     </g>\n     <g id=\"text_12\">\n      <!-- 0.06 -->\n      <g transform=\"translate(20.878125 146.444964) scale(0.1 -0.1)\">\n       <defs>\n        <path id=\"DejaVuSans-36\" d=\"M 2113 2584 \nQ 1688 2584 1439 2293 \nQ 1191 2003 1191 1497 \nQ 1191 994 1439 701 \nQ 1688 409 2113 409 \nQ 2538 409 2786 701 \nQ 3034 994 3034 1497 \nQ 3034 2003 2786 2293 \nQ 2538 2584 2113 2584 \nz\nM 3366 4563 \nL 3366 3988 \nQ 3128 4100 2886 4159 \nQ 2644 4219 2406 4219 \nQ 1781 4219 1451 3797 \nQ 1122 3375 1075 2522 \nQ 1259 2794 1537 2939 \nQ 1816 3084 2150 3084 \nQ 2853 3084 3261 2657 \nQ 3669 2231 3669 1497 \nQ 3669 778 3244 343 \nQ 2819 -91 2113 -91 \nQ 1303 -91 875 529 \nQ 447 1150 447 2328 \nQ 447 3434 972 4092 \nQ 1497 4750 2381 4750 \nQ 2619 4750 2861 4703 \nQ 3103 4656 3366 4563 \nz\n\" transform=\"scale(0.015625)\"/>\n       </defs>\n       <use xlink:href=\"#DejaVuSans-30\"/>\n       <use xlink:href=\"#DejaVuSans-2e\" x=\"63.623047\"/>\n       <use xlink:href=\"#DejaVuSans-30\" x=\"95.410156\"/>\n       <use xlink:href=\"#DejaVuSans-36\" x=\"159.033203\"/>\n      </g>\n     </g>\n    </g>\n    <g id=\"ytick_5\">\n     <g id=\"line2d_12\">\n      <g>\n       <use xlink:href=\"#mff99bf712b\" x=\"50.14375\" y=\"118.074952\" style=\"stroke: #000000; stroke-width: 0.8\"/>\n      </g>\n     </g>\n     <g id=\"text_13\">\n      <!-- 0.08 -->\n      <g transform=\"translate(20.878125 121.87417) scale(0.1 -0.1)\">\n       <defs>\n        <path id=\"DejaVuSans-38\" d=\"M 2034 2216 \nQ 1584 2216 1326 1975 \nQ 1069 1734 1069 1313 \nQ 1069 891 1326 650 \nQ 1584 409 2034 409 \nQ 2484 409 2743 651 \nQ 3003 894 3003 1313 \nQ 3003 1734 2745 1975 \nQ 2488 2216 2034 2216 \nz\nM 1403 2484 \nQ 997 2584 770 2862 \nQ 544 3141 544 3541 \nQ 544 4100 942 4425 \nQ 1341 4750 2034 4750 \nQ 2731 4750 3128 4425 \nQ 3525 4100 3525 3541 \nQ 3525 3141 3298 2862 \nQ 3072 2584 2669 2484 \nQ 3125 2378 3379 2068 \nQ 3634 1759 3634 1313 \nQ 3634 634 3220 271 \nQ 2806 -91 2034 -91 \nQ 1263 -91 848 271 \nQ 434 634 434 1313 \nQ 434 1759 690 2068 \nQ 947 2378 1403 2484 \nz\nM 1172 3481 \nQ 1172 3119 1398 2916 \nQ 1625 2713 2034 2713 \nQ 2441 2713 2670 2916 \nQ 2900 3119 2900 3481 \nQ 2900 3844 2670 4047 \nQ 2441 4250 2034 4250 \nQ 1625 4250 1398 4047 \nQ 1172 3844 1172 3481 \nz\n\" transform=\"scale(0.015625)\"/>\n       </defs>\n       <use xlink:href=\"#DejaVuSans-30\"/>\n       <use xlink:href=\"#DejaVuSans-2e\" x=\"63.623047\"/>\n       <use xlink:href=\"#DejaVuSans-30\" x=\"95.410156\"/>\n       <use xlink:href=\"#DejaVuSans-38\" x=\"159.033203\"/>\n      </g>\n     </g>\n    </g>\n    <g id=\"ytick_6\">\n     <g id=\"line2d_13\">\n      <g>\n       <use xlink:href=\"#mff99bf712b\" x=\"50.14375\" y=\"93.504158\" style=\"stroke: #000000; stroke-width: 0.8\"/>\n      </g>\n     </g>\n     <g id=\"text_14\">\n      <!-- 0.10 -->\n      <g transform=\"translate(20.878125 97.303377) scale(0.1 -0.1)\">\n       <defs>\n        <path id=\"DejaVuSans-31\" d=\"M 794 531 \nL 1825 531 \nL 1825 4091 \nL 703 3866 \nL 703 4441 \nL 1819 4666 \nL 2450 4666 \nL 2450 531 \nL 3481 531 \nL 3481 0 \nL 794 0 \nL 794 531 \nz\n\" transform=\"scale(0.015625)\"/>\n       </defs>\n       <use xlink:href=\"#DejaVuSans-30\"/>\n       <use xlink:href=\"#DejaVuSans-2e\" x=\"63.623047\"/>\n       <use xlink:href=\"#DejaVuSans-31\" x=\"95.410156\"/>\n       <use xlink:href=\"#DejaVuSans-30\" x=\"159.033203\"/>\n      </g>\n     </g>\n    </g>\n    <g id=\"ytick_7\">\n     <g id=\"line2d_14\">\n      <g>\n       <use xlink:href=\"#mff99bf712b\" x=\"50.14375\" y=\"68.933365\" style=\"stroke: #000000; stroke-width: 0.8\"/>\n      </g>\n     </g>\n     <g id=\"text_15\">\n      <!-- 0.12 -->\n      <g transform=\"translate(20.878125 72.732584) scale(0.1 -0.1)\">\n       <use xlink:href=\"#DejaVuSans-30\"/>\n       <use xlink:href=\"#DejaVuSans-2e\" x=\"63.623047\"/>\n       <use xlink:href=\"#DejaVuSans-31\" x=\"95.410156\"/>\n       <use xlink:href=\"#DejaVuSans-32\" x=\"159.033203\"/>\n      </g>\n     </g>\n    </g>\n    <g id=\"ytick_8\">\n     <g id=\"line2d_15\">\n      <g>\n       <use xlink:href=\"#mff99bf712b\" x=\"50.14375\" y=\"44.362572\" style=\"stroke: #000000; stroke-width: 0.8\"/>\n      </g>\n     </g>\n     <g id=\"text_16\">\n      <!-- 0.14 -->\n      <g transform=\"translate(20.878125 48.16179) scale(0.1 -0.1)\">\n       <use xlink:href=\"#DejaVuSans-30\"/>\n       <use xlink:href=\"#DejaVuSans-2e\" x=\"63.623047\"/>\n       <use xlink:href=\"#DejaVuSans-31\" x=\"95.410156\"/>\n       <use xlink:href=\"#DejaVuSans-34\" x=\"159.033203\"/>\n      </g>\n     </g>\n    </g>\n    <g id=\"text_17\">\n     <!-- Density (N=1264) -->\n     <g transform=\"translate(14.798438 164.492812) rotate(-90) scale(0.1 -0.1)\">\n      <defs>\n       <path id=\"DejaVuSans-44\" d=\"M 1259 4147 \nL 1259 519 \nL 2022 519 \nQ 2988 519 3436 956 \nQ 3884 1394 3884 2338 \nQ 3884 3275 3436 3711 \nQ 2988 4147 2022 4147 \nL 1259 4147 \nz\nM 628 4666 \nL 1925 4666 \nQ 3281 4666 3915 4102 \nQ 4550 3538 4550 2338 \nQ 4550 1131 3912 565 \nQ 3275 0 1925 0 \nL 628 0 \nL 628 4666 \nz\n\" transform=\"scale(0.015625)\"/>\n       <path id=\"DejaVuSans-6e\" d=\"M 3513 2113 \nL 3513 0 \nL 2938 0 \nL 2938 2094 \nQ 2938 2591 2744 2837 \nQ 2550 3084 2163 3084 \nQ 1697 3084 1428 2787 \nQ 1159 2491 1159 1978 \nL 1159 0 \nL 581 0 \nL 581 3500 \nL 1159 3500 \nL 1159 2956 \nQ 1366 3272 1645 3428 \nQ 1925 3584 2291 3584 \nQ 2894 3584 3203 3211 \nQ 3513 2838 3513 2113 \nz\n\" transform=\"scale(0.015625)\"/>\n       <path id=\"DejaVuSans-69\" d=\"M 603 3500 \nL 1178 3500 \nL 1178 0 \nL 603 0 \nL 603 3500 \nz\nM 603 4863 \nL 1178 4863 \nL 1178 4134 \nL 603 4134 \nL 603 4863 \nz\n\" transform=\"scale(0.015625)\"/>\n       <path id=\"DejaVuSans-74\" d=\"M 1172 4494 \nL 1172 3500 \nL 2356 3500 \nL 2356 3053 \nL 1172 3053 \nL 1172 1153 \nQ 1172 725 1289 603 \nQ 1406 481 1766 481 \nL 2356 481 \nL 2356 0 \nL 1766 0 \nQ 1100 0 847 248 \nQ 594 497 594 1153 \nL 594 3053 \nL 172 3053 \nL 172 3500 \nL 594 3500 \nL 594 4494 \nL 1172 4494 \nz\n\" transform=\"scale(0.015625)\"/>\n       <path id=\"DejaVuSans-79\" d=\"M 2059 -325 \nQ 1816 -950 1584 -1140 \nQ 1353 -1331 966 -1331 \nL 506 -1331 \nL 506 -850 \nL 844 -850 \nQ 1081 -850 1212 -737 \nQ 1344 -625 1503 -206 \nL 1606 56 \nL 191 3500 \nL 800 3500 \nL 1894 763 \nL 2988 3500 \nL 3597 3500 \nL 2059 -325 \nz\n\" transform=\"scale(0.015625)\"/>\n       <path id=\"DejaVuSans-28\" d=\"M 1984 4856 \nQ 1566 4138 1362 3434 \nQ 1159 2731 1159 2009 \nQ 1159 1288 1364 580 \nQ 1569 -128 1984 -844 \nL 1484 -844 \nQ 1016 -109 783 600 \nQ 550 1309 550 2009 \nQ 550 2706 781 3412 \nQ 1013 4119 1484 4856 \nL 1984 4856 \nz\n\" transform=\"scale(0.015625)\"/>\n       <path id=\"DejaVuSans-4e\" d=\"M 628 4666 \nL 1478 4666 \nL 3547 763 \nL 3547 4666 \nL 4159 4666 \nL 4159 0 \nL 3309 0 \nL 1241 3903 \nL 1241 0 \nL 628 0 \nL 628 4666 \nz\n\" transform=\"scale(0.015625)\"/>\n       <path id=\"DejaVuSans-3d\" d=\"M 678 2906 \nL 4684 2906 \nL 4684 2381 \nL 678 2381 \nL 678 2906 \nz\nM 678 1631 \nL 4684 1631 \nL 4684 1100 \nL 678 1100 \nL 678 1631 \nz\n\" transform=\"scale(0.015625)\"/>\n       <path id=\"DejaVuSans-29\" d=\"M 513 4856 \nL 1013 4856 \nQ 1481 4119 1714 3412 \nQ 1947 2706 1947 2009 \nQ 1947 1309 1714 600 \nQ 1481 -109 1013 -844 \nL 513 -844 \nQ 928 -128 1133 580 \nQ 1338 1288 1338 2009 \nQ 1338 2731 1133 3434 \nQ 928 4138 513 4856 \nz\n\" transform=\"scale(0.015625)\"/>\n      </defs>\n      <use xlink:href=\"#DejaVuSans-44\"/>\n      <use xlink:href=\"#DejaVuSans-65\" x=\"77.001953\"/>\n      <use xlink:href=\"#DejaVuSans-6e\" x=\"138.525391\"/>\n      <use xlink:href=\"#DejaVuSans-73\" x=\"201.904297\"/>\n      <use xlink:href=\"#DejaVuSans-69\" x=\"254.003906\"/>\n      <use xlink:href=\"#DejaVuSans-74\" x=\"281.787109\"/>\n      <use xlink:href=\"#DejaVuSans-79\" x=\"320.996094\"/>\n      <use xlink:href=\"#DejaVuSans-20\" x=\"380.175781\"/>\n      <use xlink:href=\"#DejaVuSans-28\" x=\"411.962891\"/>\n      <use xlink:href=\"#DejaVuSans-4e\" x=\"450.976562\"/>\n      <use xlink:href=\"#DejaVuSans-3d\" x=\"525.78125\"/>\n      <use xlink:href=\"#DejaVuSans-31\" x=\"609.570312\"/>\n      <use xlink:href=\"#DejaVuSans-32\" x=\"673.193359\"/>\n      <use xlink:href=\"#DejaVuSans-36\" x=\"736.816406\"/>\n      <use xlink:href=\"#DejaVuSans-34\" x=\"800.439453\"/>\n      <use xlink:href=\"#DejaVuSans-29\" x=\"864.0625\"/>\n     </g>\n    </g>\n   </g>\n   <g id=\"line2d_16\">\n    <path d=\"M 62.825568 216.358125 \nL 65.387552 216.358125 \nL 67.949535 216.358125 \nL 70.511519 216.358125 \nL 73.073502 216.358125 \nL 75.635486 216.358125 \nL 78.197469 216.358125 \nL 80.759452 216.358125 \nL 83.321436 216.358125 \nL 85.883419 216.358125 \nL 88.445403 216.358125 \nL 91.007386 216.358125 \nL 93.56937 216.358125 \nL 96.131353 216.358125 \nL 98.693337 216.358095 \nL 101.25532 216.357258 \nL 103.817304 216.346975 \nL 106.379287 216.294397 \nL 108.941271 216.196255 \nL 111.503254 216.17526 \nL 114.065238 216.262763 \nL 116.627221 216.295772 \nL 119.189205 216.138301 \nL 121.751188 215.822964 \nL 124.313171 215.662361 \nL 126.875155 215.717435 \nL 129.437138 215.808993 \nL 131.999122 215.90693 \nL 134.561105 215.928953 \nL 137.123089 215.825076 \nL 139.685072 215.652168 \nL 142.247056 215.585195 \nL 144.809039 215.800714 \nL 147.371023 216.121649 \nL 149.933006 216.234592 \nL 152.49499 216.022436 \nL 155.056973 215.5347 \nL 157.618957 215.001787 \nL 160.18094 214.48872 \nL 162.742924 213.850599 \nL 165.304907 213.109541 \nL 167.86689 211.860679 \nL 170.428874 209.130338 \nL 172.990857 205.741533 \nL 175.552841 202.993925 \nL 178.114824 199.249244 \nL 180.676808 190.506771 \nL 183.238791 171.546898 \nL 185.800775 136.592962 \nL 188.362758 98.921854 \nL 190.924742 98.921854 \nL 193.486725 136.592962 \nL 196.048709 171.546898 \nL 198.610692 190.506771 \nL 201.172676 199.249244 \nL 203.734659 202.993925 \nL 206.296643 205.741533 \nL 208.858626 209.130338 \nL 211.42061 211.860679 \nL 213.982593 213.109541 \nL 216.544576 213.850599 \nL 219.10656 214.48872 \nL 221.668543 215.001787 \nL 224.230527 215.5347 \nL 226.79251 216.022436 \nL 229.354494 216.234592 \nL 231.916477 216.121649 \nL 234.478461 215.800714 \nL 237.040444 215.585195 \nL 239.602428 215.652168 \nL 242.164411 215.825076 \nL 244.726395 215.928953 \nL 247.288378 215.90693 \nL 249.850362 215.808993 \nL 252.412345 215.717435 \nL 254.974329 215.662361 \nL 257.536312 215.822964 \nL 260.098295 216.138301 \nL 262.660279 216.295772 \nL 265.222262 216.262763 \nL 267.784246 216.17526 \nL 270.346229 216.196255 \nL 272.908213 216.294397 \nL 275.470196 216.346975 \nL 278.03218 216.357258 \nL 280.594163 216.358095 \nL 283.156147 216.358125 \nL 285.71813 216.358125 \nL 288.280114 216.358125 \nL 290.842097 216.358125 \nL 293.404081 216.358125 \nL 295.966064 216.358125 \nL 298.528048 216.358125 \nL 301.090031 216.358125 \nL 303.652014 216.358125 \nL 306.213998 216.358125 \nL 308.775981 216.358125 \nL 311.337965 216.358125 \nL 313.899948 216.358125 \nL 316.461932 216.358125 \n\" clip-path=\"url(#p3be92e1d08)\" style=\"fill: none; stroke: #ff7f0e; stroke-width: 2; stroke-linecap: square\"/>\n   </g>\n   <g id=\"patch_4\">\n    <path d=\"M 50.14375 216.358125 \nL 50.14375 22.318125 \n\" style=\"fill: none; stroke: #000000; stroke-width: 0.8; stroke-linejoin: miter; stroke-linecap: square\"/>\n   </g>\n   <g id=\"patch_5\">\n    <path d=\"M 329.14375 216.358125 \nL 329.14375 22.318125 \n\" style=\"fill: none; stroke: #000000; stroke-width: 0.8; stroke-linejoin: miter; stroke-linecap: square\"/>\n   </g>\n   <g id=\"patch_6\">\n    <path d=\"M 50.14375 216.358125 \nL 329.14375 216.358125 \n\" style=\"fill: none; stroke: #000000; stroke-width: 0.8; stroke-linejoin: miter; stroke-linecap: square\"/>\n   </g>\n   <g id=\"patch_7\">\n    <path d=\"M 50.14375 22.318125 \nL 329.14375 22.318125 \n\" style=\"fill: none; stroke: #000000; stroke-width: 0.8; stroke-linejoin: miter; stroke-linecap: square\"/>\n   </g>\n   <g id=\"text_18\">\n    <!-- Cell orientation along the channel (KDE) -->\n    <g transform=\"translate(68.83 16.318125) scale(0.12 -0.12)\">\n     <defs>\n      <path id=\"DejaVuSans-43\" d=\"M 4122 4306 \nL 4122 3641 \nQ 3803 3938 3442 4084 \nQ 3081 4231 2675 4231 \nQ 1875 4231 1450 3742 \nQ 1025 3253 1025 2328 \nQ 1025 1406 1450 917 \nQ 1875 428 2675 428 \nQ 3081 428 3442 575 \nQ 3803 722 4122 1019 \nL 4122 359 \nQ 3791 134 3420 21 \nQ 3050 -91 2638 -91 \nQ 1578 -91 968 557 \nQ 359 1206 359 2328 \nQ 359 3453 968 4101 \nQ 1578 4750 2638 4750 \nQ 3056 4750 3426 4639 \nQ 3797 4528 4122 4306 \nz\n\" transform=\"scale(0.015625)\"/>\n      <path id=\"DejaVuSans-6c\" d=\"M 603 4863 \nL 1178 4863 \nL 1178 0 \nL 603 0 \nL 603 4863 \nz\n\" transform=\"scale(0.015625)\"/>\n      <path id=\"DejaVuSans-68\" d=\"M 3513 2113 \nL 3513 0 \nL 2938 0 \nL 2938 2094 \nQ 2938 2591 2744 2837 \nQ 2550 3084 2163 3084 \nQ 1697 3084 1428 2787 \nQ 1159 2491 1159 1978 \nL 1159 0 \nL 581 0 \nL 581 4863 \nL 1159 4863 \nL 1159 2956 \nQ 1366 3272 1645 3428 \nQ 1925 3584 2291 3584 \nQ 2894 3584 3203 3211 \nQ 3513 2838 3513 2113 \nz\n\" transform=\"scale(0.015625)\"/>\n      <path id=\"DejaVuSans-4b\" d=\"M 628 4666 \nL 1259 4666 \nL 1259 2694 \nL 3353 4666 \nL 4166 4666 \nL 1850 2491 \nL 4331 0 \nL 3500 0 \nL 1259 2247 \nL 1259 0 \nL 628 0 \nL 628 4666 \nz\n\" transform=\"scale(0.015625)\"/>\n      <path id=\"DejaVuSans-45\" d=\"M 628 4666 \nL 3578 4666 \nL 3578 4134 \nL 1259 4134 \nL 1259 2753 \nL 3481 2753 \nL 3481 2222 \nL 1259 2222 \nL 1259 531 \nL 3634 531 \nL 3634 0 \nL 628 0 \nL 628 4666 \nz\n\" transform=\"scale(0.015625)\"/>\n     </defs>\n     <use xlink:href=\"#DejaVuSans-43\"/>\n     <use xlink:href=\"#DejaVuSans-65\" x=\"69.824219\"/>\n     <use xlink:href=\"#DejaVuSans-6c\" x=\"131.347656\"/>\n     <use xlink:href=\"#DejaVuSans-6c\" x=\"159.130859\"/>\n     <use xlink:href=\"#DejaVuSans-20\" x=\"186.914062\"/>\n     <use xlink:href=\"#DejaVuSans-6f\" x=\"218.701172\"/>\n     <use xlink:href=\"#DejaVuSans-72\" x=\"279.882812\"/>\n     <use xlink:href=\"#DejaVuSans-69\" x=\"320.996094\"/>\n     <use xlink:href=\"#DejaVuSans-65\" x=\"348.779297\"/>\n     <use xlink:href=\"#DejaVuSans-6e\" x=\"410.302734\"/>\n     <use xlink:href=\"#DejaVuSans-74\" x=\"473.681641\"/>\n     <use xlink:href=\"#DejaVuSans-61\" x=\"512.890625\"/>\n     <use xlink:href=\"#DejaVuSans-74\" x=\"574.169922\"/>\n     <use xlink:href=\"#DejaVuSans-69\" x=\"613.378906\"/>\n     <use xlink:href=\"#DejaVuSans-6f\" x=\"641.162109\"/>\n     <use xlink:href=\"#DejaVuSans-6e\" x=\"702.34375\"/>\n     <use xlink:href=\"#DejaVuSans-20\" x=\"765.722656\"/>\n     <use xlink:href=\"#DejaVuSans-61\" x=\"797.509766\"/>\n     <use xlink:href=\"#DejaVuSans-6c\" x=\"858.789062\"/>\n     <use xlink:href=\"#DejaVuSans-6f\" x=\"886.572266\"/>\n     <use xlink:href=\"#DejaVuSans-6e\" x=\"947.753906\"/>\n     <use xlink:href=\"#DejaVuSans-67\" x=\"1011.132812\"/>\n     <use xlink:href=\"#DejaVuSans-20\" x=\"1074.609375\"/>\n     <use xlink:href=\"#DejaVuSans-74\" x=\"1106.396484\"/>\n     <use xlink:href=\"#DejaVuSans-68\" x=\"1145.605469\"/>\n     <use xlink:href=\"#DejaVuSans-65\" x=\"1208.984375\"/>\n     <use xlink:href=\"#DejaVuSans-20\" x=\"1270.507812\"/>\n     <use xlink:href=\"#DejaVuSans-63\" x=\"1302.294922\"/>\n     <use xlink:href=\"#DejaVuSans-68\" x=\"1357.275391\"/>\n     <use xlink:href=\"#DejaVuSans-61\" x=\"1420.654297\"/>\n     <use xlink:href=\"#DejaVuSans-6e\" x=\"1481.933594\"/>\n     <use xlink:href=\"#DejaVuSans-6e\" x=\"1545.3125\"/>\n     <use xlink:href=\"#DejaVuSans-65\" x=\"1608.691406\"/>\n     <use xlink:href=\"#DejaVuSans-6c\" x=\"1670.214844\"/>\n     <use xlink:href=\"#DejaVuSans-20\" x=\"1697.998047\"/>\n     <use xlink:href=\"#DejaVuSans-28\" x=\"1729.785156\"/>\n     <use xlink:href=\"#DejaVuSans-4b\" x=\"1768.798828\"/>\n     <use xlink:href=\"#DejaVuSans-44\" x=\"1834.375\"/>\n     <use xlink:href=\"#DejaVuSans-45\" x=\"1911.376953\"/>\n     <use xlink:href=\"#DejaVuSans-29\" x=\"1974.560547\"/>\n    </g>\n   </g>\n  </g>\n </g>\n <defs>\n  <clipPath id=\"p3be92e1d08\">\n   <rect x=\"50.14375\" y=\"22.318125\" width=\"279\" height=\"194.04\"/>\n  </clipPath>\n </defs>\n</svg>\n",
      "text/plain": [
       "<Figure size 500x350 with 1 Axes>"
      ]
     },
     "metadata": {},
     "output_type": "display_data"
    }
   ],
   "source": [
    "fig, ax = plt.subplots(figsize=(5,3.5))\n",
    "plt.title(\"Cell orientation along the channel (KDE)\")\n",
    "ax.hist(avg_angles_double, 90, fc='gray', histtype='stepfilled', alpha=0.3, density=True)\n",
    "ax.plot(x_grid, kde(x_grid), linewidth=2)\n",
    "\n",
    "plt.xlabel(r\"$\\arccos{\\hat{r}\\cdot\\hat{x}}$ [deg]\")\n",
    "plt.ylabel(\"Density (N={:d})\".format(len(avg_angles_double)))\n",
    "fig.savefig(join_paths(out_dir_path,'oritent_hist.pdf'), dpi=300)\n",
    "# plt.close()"
   ]
  },
  {
   "cell_type": "code",
   "execution_count": null,
   "metadata": {},
   "outputs": [
    {
     "data": {
      "application/vnd.plotly.v1+json": {
       "config": {
        "plotlyServerURL": "https://plot.ly"
       },
       "data": [
        {
         "alignmentgroup": "True",
         "bingroup": "x",
         "hovertemplate": "variable=0<br>value=%{x}<br>count=%{y}<extra></extra>",
         "legendgroup": "0",
         "marker": {
          "color": "#636efa",
          "pattern": {
           "shape": ""
          }
         },
         "name": "0",
         "offsetgroup": "0",
         "orientation": "v",
         "showlegend": true,
         "type": "histogram",
         "x": [
          0.08311283342423637,
          0.002290242570759818,
          0.02626375065869065,
          0.07690503156255402,
          0.03459396180076645,
          0.07989143152768892,
          0.032540902682914395,
          0.0836581491108016,
          0.01266248936060975,
          0.00142357236015881,
          0,
          0.044536429731033306,
          0.07631939948629862,
          0.004070640505899468,
          0.05408360193955583,
          0.0019531253104409915,
          0.020458700219498648,
          0.12271287669398101,
          0.19954516163881036,
          0.15444027174527172,
          0.03364873621651615,
          0.1545611180680815,
          0.040150284555620204,
          0.1618245275554459,
          0.03952470978382859,
          0.1562968477798425,
          0.18314439463996113,
          0.1371610901540055,
          0.19831004747140865,
          0.14168679118467056,
          0.2599908192894983,
          0.03236639424904097,
          0.2875493799663019,
          0.269618845236125,
          0.2689808078643554,
          0.2711180748738897,
          0.28882822741533387,
          0.282578484875989,
          0.011980388196640006,
          0,
          0.13943746605832982,
          0.03963316784768404,
          0.14036884731743823,
          0.0010358009953076478,
          0.144547317199784,
          0.0044484575639624985
         ],
         "xaxis": "x",
         "yaxis": "y"
        }
       ],
       "layout": {
        "bargap": 0.2,
        "barmode": "relative",
        "legend": {
         "title": {
          "text": "variable"
         },
         "tracegroupgap": 0
        },
        "template": {
         "data": {
          "bar": [
           {
            "error_x": {
             "color": "#2a3f5f"
            },
            "error_y": {
             "color": "#2a3f5f"
            },
            "marker": {
             "line": {
              "color": "#E5ECF6",
              "width": 0.5
             },
             "pattern": {
              "fillmode": "overlay",
              "size": 10,
              "solidity": 0.2
             }
            },
            "type": "bar"
           }
          ],
          "barpolar": [
           {
            "marker": {
             "line": {
              "color": "#E5ECF6",
              "width": 0.5
             },
             "pattern": {
              "fillmode": "overlay",
              "size": 10,
              "solidity": 0.2
             }
            },
            "type": "barpolar"
           }
          ],
          "carpet": [
           {
            "aaxis": {
             "endlinecolor": "#2a3f5f",
             "gridcolor": "white",
             "linecolor": "white",
             "minorgridcolor": "white",
             "startlinecolor": "#2a3f5f"
            },
            "baxis": {
             "endlinecolor": "#2a3f5f",
             "gridcolor": "white",
             "linecolor": "white",
             "minorgridcolor": "white",
             "startlinecolor": "#2a3f5f"
            },
            "type": "carpet"
           }
          ],
          "choropleth": [
           {
            "colorbar": {
             "outlinewidth": 0,
             "ticks": ""
            },
            "type": "choropleth"
           }
          ],
          "contour": [
           {
            "colorbar": {
             "outlinewidth": 0,
             "ticks": ""
            },
            "colorscale": [
             [
              0,
              "#0d0887"
             ],
             [
              0.1111111111111111,
              "#46039f"
             ],
             [
              0.2222222222222222,
              "#7201a8"
             ],
             [
              0.3333333333333333,
              "#9c179e"
             ],
             [
              0.4444444444444444,
              "#bd3786"
             ],
             [
              0.5555555555555556,
              "#d8576b"
             ],
             [
              0.6666666666666666,
              "#ed7953"
             ],
             [
              0.7777777777777778,
              "#fb9f3a"
             ],
             [
              0.8888888888888888,
              "#fdca26"
             ],
             [
              1,
              "#f0f921"
             ]
            ],
            "type": "contour"
           }
          ],
          "contourcarpet": [
           {
            "colorbar": {
             "outlinewidth": 0,
             "ticks": ""
            },
            "type": "contourcarpet"
           }
          ],
          "heatmap": [
           {
            "colorbar": {
             "outlinewidth": 0,
             "ticks": ""
            },
            "colorscale": [
             [
              0,
              "#0d0887"
             ],
             [
              0.1111111111111111,
              "#46039f"
             ],
             [
              0.2222222222222222,
              "#7201a8"
             ],
             [
              0.3333333333333333,
              "#9c179e"
             ],
             [
              0.4444444444444444,
              "#bd3786"
             ],
             [
              0.5555555555555556,
              "#d8576b"
             ],
             [
              0.6666666666666666,
              "#ed7953"
             ],
             [
              0.7777777777777778,
              "#fb9f3a"
             ],
             [
              0.8888888888888888,
              "#fdca26"
             ],
             [
              1,
              "#f0f921"
             ]
            ],
            "type": "heatmap"
           }
          ],
          "heatmapgl": [
           {
            "colorbar": {
             "outlinewidth": 0,
             "ticks": ""
            },
            "colorscale": [
             [
              0,
              "#0d0887"
             ],
             [
              0.1111111111111111,
              "#46039f"
             ],
             [
              0.2222222222222222,
              "#7201a8"
             ],
             [
              0.3333333333333333,
              "#9c179e"
             ],
             [
              0.4444444444444444,
              "#bd3786"
             ],
             [
              0.5555555555555556,
              "#d8576b"
             ],
             [
              0.6666666666666666,
              "#ed7953"
             ],
             [
              0.7777777777777778,
              "#fb9f3a"
             ],
             [
              0.8888888888888888,
              "#fdca26"
             ],
             [
              1,
              "#f0f921"
             ]
            ],
            "type": "heatmapgl"
           }
          ],
          "histogram": [
           {
            "marker": {
             "pattern": {
              "fillmode": "overlay",
              "size": 10,
              "solidity": 0.2
             }
            },
            "type": "histogram"
           }
          ],
          "histogram2d": [
           {
            "colorbar": {
             "outlinewidth": 0,
             "ticks": ""
            },
            "colorscale": [
             [
              0,
              "#0d0887"
             ],
             [
              0.1111111111111111,
              "#46039f"
             ],
             [
              0.2222222222222222,
              "#7201a8"
             ],
             [
              0.3333333333333333,
              "#9c179e"
             ],
             [
              0.4444444444444444,
              "#bd3786"
             ],
             [
              0.5555555555555556,
              "#d8576b"
             ],
             [
              0.6666666666666666,
              "#ed7953"
             ],
             [
              0.7777777777777778,
              "#fb9f3a"
             ],
             [
              0.8888888888888888,
              "#fdca26"
             ],
             [
              1,
              "#f0f921"
             ]
            ],
            "type": "histogram2d"
           }
          ],
          "histogram2dcontour": [
           {
            "colorbar": {
             "outlinewidth": 0,
             "ticks": ""
            },
            "colorscale": [
             [
              0,
              "#0d0887"
             ],
             [
              0.1111111111111111,
              "#46039f"
             ],
             [
              0.2222222222222222,
              "#7201a8"
             ],
             [
              0.3333333333333333,
              "#9c179e"
             ],
             [
              0.4444444444444444,
              "#bd3786"
             ],
             [
              0.5555555555555556,
              "#d8576b"
             ],
             [
              0.6666666666666666,
              "#ed7953"
             ],
             [
              0.7777777777777778,
              "#fb9f3a"
             ],
             [
              0.8888888888888888,
              "#fdca26"
             ],
             [
              1,
              "#f0f921"
             ]
            ],
            "type": "histogram2dcontour"
           }
          ],
          "mesh3d": [
           {
            "colorbar": {
             "outlinewidth": 0,
             "ticks": ""
            },
            "type": "mesh3d"
           }
          ],
          "parcoords": [
           {
            "line": {
             "colorbar": {
              "outlinewidth": 0,
              "ticks": ""
             }
            },
            "type": "parcoords"
           }
          ],
          "pie": [
           {
            "automargin": true,
            "type": "pie"
           }
          ],
          "scatter": [
           {
            "fillpattern": {
             "fillmode": "overlay",
             "size": 10,
             "solidity": 0.2
            },
            "type": "scatter"
           }
          ],
          "scatter3d": [
           {
            "line": {
             "colorbar": {
              "outlinewidth": 0,
              "ticks": ""
             }
            },
            "marker": {
             "colorbar": {
              "outlinewidth": 0,
              "ticks": ""
             }
            },
            "type": "scatter3d"
           }
          ],
          "scattercarpet": [
           {
            "marker": {
             "colorbar": {
              "outlinewidth": 0,
              "ticks": ""
             }
            },
            "type": "scattercarpet"
           }
          ],
          "scattergeo": [
           {
            "marker": {
             "colorbar": {
              "outlinewidth": 0,
              "ticks": ""
             }
            },
            "type": "scattergeo"
           }
          ],
          "scattergl": [
           {
            "marker": {
             "colorbar": {
              "outlinewidth": 0,
              "ticks": ""
             }
            },
            "type": "scattergl"
           }
          ],
          "scattermapbox": [
           {
            "marker": {
             "colorbar": {
              "outlinewidth": 0,
              "ticks": ""
             }
            },
            "type": "scattermapbox"
           }
          ],
          "scatterpolar": [
           {
            "marker": {
             "colorbar": {
              "outlinewidth": 0,
              "ticks": ""
             }
            },
            "type": "scatterpolar"
           }
          ],
          "scatterpolargl": [
           {
            "marker": {
             "colorbar": {
              "outlinewidth": 0,
              "ticks": ""
             }
            },
            "type": "scatterpolargl"
           }
          ],
          "scatterternary": [
           {
            "marker": {
             "colorbar": {
              "outlinewidth": 0,
              "ticks": ""
             }
            },
            "type": "scatterternary"
           }
          ],
          "surface": [
           {
            "colorbar": {
             "outlinewidth": 0,
             "ticks": ""
            },
            "colorscale": [
             [
              0,
              "#0d0887"
             ],
             [
              0.1111111111111111,
              "#46039f"
             ],
             [
              0.2222222222222222,
              "#7201a8"
             ],
             [
              0.3333333333333333,
              "#9c179e"
             ],
             [
              0.4444444444444444,
              "#bd3786"
             ],
             [
              0.5555555555555556,
              "#d8576b"
             ],
             [
              0.6666666666666666,
              "#ed7953"
             ],
             [
              0.7777777777777778,
              "#fb9f3a"
             ],
             [
              0.8888888888888888,
              "#fdca26"
             ],
             [
              1,
              "#f0f921"
             ]
            ],
            "type": "surface"
           }
          ],
          "table": [
           {
            "cells": {
             "fill": {
              "color": "#EBF0F8"
             },
             "line": {
              "color": "white"
             }
            },
            "header": {
             "fill": {
              "color": "#C8D4E3"
             },
             "line": {
              "color": "white"
             }
            },
            "type": "table"
           }
          ]
         },
         "layout": {
          "annotationdefaults": {
           "arrowcolor": "#2a3f5f",
           "arrowhead": 0,
           "arrowwidth": 1
          },
          "autotypenumbers": "strict",
          "coloraxis": {
           "colorbar": {
            "outlinewidth": 0,
            "ticks": ""
           }
          },
          "colorscale": {
           "diverging": [
            [
             0,
             "#8e0152"
            ],
            [
             0.1,
             "#c51b7d"
            ],
            [
             0.2,
             "#de77ae"
            ],
            [
             0.3,
             "#f1b6da"
            ],
            [
             0.4,
             "#fde0ef"
            ],
            [
             0.5,
             "#f7f7f7"
            ],
            [
             0.6,
             "#e6f5d0"
            ],
            [
             0.7,
             "#b8e186"
            ],
            [
             0.8,
             "#7fbc41"
            ],
            [
             0.9,
             "#4d9221"
            ],
            [
             1,
             "#276419"
            ]
           ],
           "sequential": [
            [
             0,
             "#0d0887"
            ],
            [
             0.1111111111111111,
             "#46039f"
            ],
            [
             0.2222222222222222,
             "#7201a8"
            ],
            [
             0.3333333333333333,
             "#9c179e"
            ],
            [
             0.4444444444444444,
             "#bd3786"
            ],
            [
             0.5555555555555556,
             "#d8576b"
            ],
            [
             0.6666666666666666,
             "#ed7953"
            ],
            [
             0.7777777777777778,
             "#fb9f3a"
            ],
            [
             0.8888888888888888,
             "#fdca26"
            ],
            [
             1,
             "#f0f921"
            ]
           ],
           "sequentialminus": [
            [
             0,
             "#0d0887"
            ],
            [
             0.1111111111111111,
             "#46039f"
            ],
            [
             0.2222222222222222,
             "#7201a8"
            ],
            [
             0.3333333333333333,
             "#9c179e"
            ],
            [
             0.4444444444444444,
             "#bd3786"
            ],
            [
             0.5555555555555556,
             "#d8576b"
            ],
            [
             0.6666666666666666,
             "#ed7953"
            ],
            [
             0.7777777777777778,
             "#fb9f3a"
            ],
            [
             0.8888888888888888,
             "#fdca26"
            ],
            [
             1,
             "#f0f921"
            ]
           ]
          },
          "colorway": [
           "#636efa",
           "#EF553B",
           "#00cc96",
           "#ab63fa",
           "#FFA15A",
           "#19d3f3",
           "#FF6692",
           "#B6E880",
           "#FF97FF",
           "#FECB52"
          ],
          "font": {
           "color": "#2a3f5f"
          },
          "geo": {
           "bgcolor": "white",
           "lakecolor": "white",
           "landcolor": "#E5ECF6",
           "showlakes": true,
           "showland": true,
           "subunitcolor": "white"
          },
          "hoverlabel": {
           "align": "left"
          },
          "hovermode": "closest",
          "mapbox": {
           "style": "light"
          },
          "paper_bgcolor": "white",
          "plot_bgcolor": "#E5ECF6",
          "polar": {
           "angularaxis": {
            "gridcolor": "white",
            "linecolor": "white",
            "ticks": ""
           },
           "bgcolor": "#E5ECF6",
           "radialaxis": {
            "gridcolor": "white",
            "linecolor": "white",
            "ticks": ""
           }
          },
          "scene": {
           "xaxis": {
            "backgroundcolor": "#E5ECF6",
            "gridcolor": "white",
            "gridwidth": 2,
            "linecolor": "white",
            "showbackground": true,
            "ticks": "",
            "zerolinecolor": "white"
           },
           "yaxis": {
            "backgroundcolor": "#E5ECF6",
            "gridcolor": "white",
            "gridwidth": 2,
            "linecolor": "white",
            "showbackground": true,
            "ticks": "",
            "zerolinecolor": "white"
           },
           "zaxis": {
            "backgroundcolor": "#E5ECF6",
            "gridcolor": "white",
            "gridwidth": 2,
            "linecolor": "white",
            "showbackground": true,
            "ticks": "",
            "zerolinecolor": "white"
           }
          },
          "shapedefaults": {
           "line": {
            "color": "#2a3f5f"
           }
          },
          "ternary": {
           "aaxis": {
            "gridcolor": "white",
            "linecolor": "white",
            "ticks": ""
           },
           "baxis": {
            "gridcolor": "white",
            "linecolor": "white",
            "ticks": ""
           },
           "bgcolor": "#E5ECF6",
           "caxis": {
            "gridcolor": "white",
            "linecolor": "white",
            "ticks": ""
           }
          },
          "title": {
           "x": 0.05
          },
          "xaxis": {
           "automargin": true,
           "gridcolor": "white",
           "linecolor": "white",
           "ticks": "",
           "title": {
            "standoff": 15
           },
           "zerolinecolor": "white",
           "zerolinewidth": 2
          },
          "yaxis": {
           "automargin": true,
           "gridcolor": "white",
           "linecolor": "white",
           "ticks": "",
           "title": {
            "standoff": 15
           },
           "zerolinecolor": "white",
           "zerolinewidth": 2
          }
         }
        },
        "title": {
         "text": "Cell orientation along x-axis"
        },
        "xaxis": {
         "anchor": "y",
         "domain": [
          0,
          1
         ],
         "title": {
          "text": "Orientation [rad]"
         }
        },
        "yaxis": {
         "anchor": "x",
         "domain": [
          0,
          1
         ],
         "title": {
          "text": "Count (N=46)"
         }
        }
       }
      },
      "text/html": [
       "<div>                            <div id=\"d13c7b85-e320-4d38-a613-65e94f835cbb\" class=\"plotly-graph-div\" style=\"height:525px; width:100%;\"></div>            <script type=\"text/javascript\">                require([\"plotly\"], function(Plotly) {                    window.PLOTLYENV=window.PLOTLYENV || {};                                    if (document.getElementById(\"d13c7b85-e320-4d38-a613-65e94f835cbb\")) {                    Plotly.newPlot(                        \"d13c7b85-e320-4d38-a613-65e94f835cbb\",                        [{\"alignmentgroup\":\"True\",\"bingroup\":\"x\",\"hovertemplate\":\"variable=0<br>value=%{x}<br>count=%{y}<extra></extra>\",\"legendgroup\":\"0\",\"marker\":{\"color\":\"#636efa\",\"pattern\":{\"shape\":\"\"}},\"name\":\"0\",\"offsetgroup\":\"0\",\"orientation\":\"v\",\"showlegend\":true,\"x\":[0.08311283342423637,0.002290242570759818,0.02626375065869065,0.07690503156255402,0.03459396180076645,0.07989143152768892,0.032540902682914395,0.0836581491108016,0.01266248936060975,0.00142357236015881,0.0,0.044536429731033306,0.07631939948629862,0.004070640505899468,0.05408360193955583,0.0019531253104409915,0.020458700219498648,0.12271287669398101,0.19954516163881036,0.15444027174527172,0.03364873621651615,0.1545611180680815,0.040150284555620204,0.1618245275554459,0.03952470978382859,0.1562968477798425,0.18314439463996113,0.1371610901540055,0.19831004747140865,0.14168679118467056,0.2599908192894983,0.03236639424904097,0.2875493799663019,0.269618845236125,0.2689808078643554,0.2711180748738897,0.28882822741533387,0.282578484875989,0.011980388196640006,0.0,0.13943746605832982,0.03963316784768404,0.14036884731743823,0.0010358009953076478,0.144547317199784,0.0044484575639624985],\"xaxis\":\"x\",\"yaxis\":\"y\",\"type\":\"histogram\"}],                        {\"template\":{\"data\":{\"histogram2dcontour\":[{\"type\":\"histogram2dcontour\",\"colorbar\":{\"outlinewidth\":0,\"ticks\":\"\"},\"colorscale\":[[0.0,\"#0d0887\"],[0.1111111111111111,\"#46039f\"],[0.2222222222222222,\"#7201a8\"],[0.3333333333333333,\"#9c179e\"],[0.4444444444444444,\"#bd3786\"],[0.5555555555555556,\"#d8576b\"],[0.6666666666666666,\"#ed7953\"],[0.7777777777777778,\"#fb9f3a\"],[0.8888888888888888,\"#fdca26\"],[1.0,\"#f0f921\"]]}],\"choropleth\":[{\"type\":\"choropleth\",\"colorbar\":{\"outlinewidth\":0,\"ticks\":\"\"}}],\"histogram2d\":[{\"type\":\"histogram2d\",\"colorbar\":{\"outlinewidth\":0,\"ticks\":\"\"},\"colorscale\":[[0.0,\"#0d0887\"],[0.1111111111111111,\"#46039f\"],[0.2222222222222222,\"#7201a8\"],[0.3333333333333333,\"#9c179e\"],[0.4444444444444444,\"#bd3786\"],[0.5555555555555556,\"#d8576b\"],[0.6666666666666666,\"#ed7953\"],[0.7777777777777778,\"#fb9f3a\"],[0.8888888888888888,\"#fdca26\"],[1.0,\"#f0f921\"]]}],\"heatmap\":[{\"type\":\"heatmap\",\"colorbar\":{\"outlinewidth\":0,\"ticks\":\"\"},\"colorscale\":[[0.0,\"#0d0887\"],[0.1111111111111111,\"#46039f\"],[0.2222222222222222,\"#7201a8\"],[0.3333333333333333,\"#9c179e\"],[0.4444444444444444,\"#bd3786\"],[0.5555555555555556,\"#d8576b\"],[0.6666666666666666,\"#ed7953\"],[0.7777777777777778,\"#fb9f3a\"],[0.8888888888888888,\"#fdca26\"],[1.0,\"#f0f921\"]]}],\"heatmapgl\":[{\"type\":\"heatmapgl\",\"colorbar\":{\"outlinewidth\":0,\"ticks\":\"\"},\"colorscale\":[[0.0,\"#0d0887\"],[0.1111111111111111,\"#46039f\"],[0.2222222222222222,\"#7201a8\"],[0.3333333333333333,\"#9c179e\"],[0.4444444444444444,\"#bd3786\"],[0.5555555555555556,\"#d8576b\"],[0.6666666666666666,\"#ed7953\"],[0.7777777777777778,\"#fb9f3a\"],[0.8888888888888888,\"#fdca26\"],[1.0,\"#f0f921\"]]}],\"contourcarpet\":[{\"type\":\"contourcarpet\",\"colorbar\":{\"outlinewidth\":0,\"ticks\":\"\"}}],\"contour\":[{\"type\":\"contour\",\"colorbar\":{\"outlinewidth\":0,\"ticks\":\"\"},\"colorscale\":[[0.0,\"#0d0887\"],[0.1111111111111111,\"#46039f\"],[0.2222222222222222,\"#7201a8\"],[0.3333333333333333,\"#9c179e\"],[0.4444444444444444,\"#bd3786\"],[0.5555555555555556,\"#d8576b\"],[0.6666666666666666,\"#ed7953\"],[0.7777777777777778,\"#fb9f3a\"],[0.8888888888888888,\"#fdca26\"],[1.0,\"#f0f921\"]]}],\"surface\":[{\"type\":\"surface\",\"colorbar\":{\"outlinewidth\":0,\"ticks\":\"\"},\"colorscale\":[[0.0,\"#0d0887\"],[0.1111111111111111,\"#46039f\"],[0.2222222222222222,\"#7201a8\"],[0.3333333333333333,\"#9c179e\"],[0.4444444444444444,\"#bd3786\"],[0.5555555555555556,\"#d8576b\"],[0.6666666666666666,\"#ed7953\"],[0.7777777777777778,\"#fb9f3a\"],[0.8888888888888888,\"#fdca26\"],[1.0,\"#f0f921\"]]}],\"mesh3d\":[{\"type\":\"mesh3d\",\"colorbar\":{\"outlinewidth\":0,\"ticks\":\"\"}}],\"scatter\":[{\"fillpattern\":{\"fillmode\":\"overlay\",\"size\":10,\"solidity\":0.2},\"type\":\"scatter\"}],\"parcoords\":[{\"type\":\"parcoords\",\"line\":{\"colorbar\":{\"outlinewidth\":0,\"ticks\":\"\"}}}],\"scatterpolargl\":[{\"type\":\"scatterpolargl\",\"marker\":{\"colorbar\":{\"outlinewidth\":0,\"ticks\":\"\"}}}],\"bar\":[{\"error_x\":{\"color\":\"#2a3f5f\"},\"error_y\":{\"color\":\"#2a3f5f\"},\"marker\":{\"line\":{\"color\":\"#E5ECF6\",\"width\":0.5},\"pattern\":{\"fillmode\":\"overlay\",\"size\":10,\"solidity\":0.2}},\"type\":\"bar\"}],\"scattergeo\":[{\"type\":\"scattergeo\",\"marker\":{\"colorbar\":{\"outlinewidth\":0,\"ticks\":\"\"}}}],\"scatterpolar\":[{\"type\":\"scatterpolar\",\"marker\":{\"colorbar\":{\"outlinewidth\":0,\"ticks\":\"\"}}}],\"histogram\":[{\"marker\":{\"pattern\":{\"fillmode\":\"overlay\",\"size\":10,\"solidity\":0.2}},\"type\":\"histogram\"}],\"scattergl\":[{\"type\":\"scattergl\",\"marker\":{\"colorbar\":{\"outlinewidth\":0,\"ticks\":\"\"}}}],\"scatter3d\":[{\"type\":\"scatter3d\",\"line\":{\"colorbar\":{\"outlinewidth\":0,\"ticks\":\"\"}},\"marker\":{\"colorbar\":{\"outlinewidth\":0,\"ticks\":\"\"}}}],\"scattermapbox\":[{\"type\":\"scattermapbox\",\"marker\":{\"colorbar\":{\"outlinewidth\":0,\"ticks\":\"\"}}}],\"scatterternary\":[{\"type\":\"scatterternary\",\"marker\":{\"colorbar\":{\"outlinewidth\":0,\"ticks\":\"\"}}}],\"scattercarpet\":[{\"type\":\"scattercarpet\",\"marker\":{\"colorbar\":{\"outlinewidth\":0,\"ticks\":\"\"}}}],\"carpet\":[{\"aaxis\":{\"endlinecolor\":\"#2a3f5f\",\"gridcolor\":\"white\",\"linecolor\":\"white\",\"minorgridcolor\":\"white\",\"startlinecolor\":\"#2a3f5f\"},\"baxis\":{\"endlinecolor\":\"#2a3f5f\",\"gridcolor\":\"white\",\"linecolor\":\"white\",\"minorgridcolor\":\"white\",\"startlinecolor\":\"#2a3f5f\"},\"type\":\"carpet\"}],\"table\":[{\"cells\":{\"fill\":{\"color\":\"#EBF0F8\"},\"line\":{\"color\":\"white\"}},\"header\":{\"fill\":{\"color\":\"#C8D4E3\"},\"line\":{\"color\":\"white\"}},\"type\":\"table\"}],\"barpolar\":[{\"marker\":{\"line\":{\"color\":\"#E5ECF6\",\"width\":0.5},\"pattern\":{\"fillmode\":\"overlay\",\"size\":10,\"solidity\":0.2}},\"type\":\"barpolar\"}],\"pie\":[{\"automargin\":true,\"type\":\"pie\"}]},\"layout\":{\"autotypenumbers\":\"strict\",\"colorway\":[\"#636efa\",\"#EF553B\",\"#00cc96\",\"#ab63fa\",\"#FFA15A\",\"#19d3f3\",\"#FF6692\",\"#B6E880\",\"#FF97FF\",\"#FECB52\"],\"font\":{\"color\":\"#2a3f5f\"},\"hovermode\":\"closest\",\"hoverlabel\":{\"align\":\"left\"},\"paper_bgcolor\":\"white\",\"plot_bgcolor\":\"#E5ECF6\",\"polar\":{\"bgcolor\":\"#E5ECF6\",\"angularaxis\":{\"gridcolor\":\"white\",\"linecolor\":\"white\",\"ticks\":\"\"},\"radialaxis\":{\"gridcolor\":\"white\",\"linecolor\":\"white\",\"ticks\":\"\"}},\"ternary\":{\"bgcolor\":\"#E5ECF6\",\"aaxis\":{\"gridcolor\":\"white\",\"linecolor\":\"white\",\"ticks\":\"\"},\"baxis\":{\"gridcolor\":\"white\",\"linecolor\":\"white\",\"ticks\":\"\"},\"caxis\":{\"gridcolor\":\"white\",\"linecolor\":\"white\",\"ticks\":\"\"}},\"coloraxis\":{\"colorbar\":{\"outlinewidth\":0,\"ticks\":\"\"}},\"colorscale\":{\"sequential\":[[0.0,\"#0d0887\"],[0.1111111111111111,\"#46039f\"],[0.2222222222222222,\"#7201a8\"],[0.3333333333333333,\"#9c179e\"],[0.4444444444444444,\"#bd3786\"],[0.5555555555555556,\"#d8576b\"],[0.6666666666666666,\"#ed7953\"],[0.7777777777777778,\"#fb9f3a\"],[0.8888888888888888,\"#fdca26\"],[1.0,\"#f0f921\"]],\"sequentialminus\":[[0.0,\"#0d0887\"],[0.1111111111111111,\"#46039f\"],[0.2222222222222222,\"#7201a8\"],[0.3333333333333333,\"#9c179e\"],[0.4444444444444444,\"#bd3786\"],[0.5555555555555556,\"#d8576b\"],[0.6666666666666666,\"#ed7953\"],[0.7777777777777778,\"#fb9f3a\"],[0.8888888888888888,\"#fdca26\"],[1.0,\"#f0f921\"]],\"diverging\":[[0,\"#8e0152\"],[0.1,\"#c51b7d\"],[0.2,\"#de77ae\"],[0.3,\"#f1b6da\"],[0.4,\"#fde0ef\"],[0.5,\"#f7f7f7\"],[0.6,\"#e6f5d0\"],[0.7,\"#b8e186\"],[0.8,\"#7fbc41\"],[0.9,\"#4d9221\"],[1,\"#276419\"]]},\"xaxis\":{\"gridcolor\":\"white\",\"linecolor\":\"white\",\"ticks\":\"\",\"title\":{\"standoff\":15},\"zerolinecolor\":\"white\",\"automargin\":true,\"zerolinewidth\":2},\"yaxis\":{\"gridcolor\":\"white\",\"linecolor\":\"white\",\"ticks\":\"\",\"title\":{\"standoff\":15},\"zerolinecolor\":\"white\",\"automargin\":true,\"zerolinewidth\":2},\"scene\":{\"xaxis\":{\"backgroundcolor\":\"#E5ECF6\",\"gridcolor\":\"white\",\"linecolor\":\"white\",\"showbackground\":true,\"ticks\":\"\",\"zerolinecolor\":\"white\",\"gridwidth\":2},\"yaxis\":{\"backgroundcolor\":\"#E5ECF6\",\"gridcolor\":\"white\",\"linecolor\":\"white\",\"showbackground\":true,\"ticks\":\"\",\"zerolinecolor\":\"white\",\"gridwidth\":2},\"zaxis\":{\"backgroundcolor\":\"#E5ECF6\",\"gridcolor\":\"white\",\"linecolor\":\"white\",\"showbackground\":true,\"ticks\":\"\",\"zerolinecolor\":\"white\",\"gridwidth\":2}},\"shapedefaults\":{\"line\":{\"color\":\"#2a3f5f\"}},\"annotationdefaults\":{\"arrowcolor\":\"#2a3f5f\",\"arrowhead\":0,\"arrowwidth\":1},\"geo\":{\"bgcolor\":\"white\",\"landcolor\":\"#E5ECF6\",\"subunitcolor\":\"white\",\"showland\":true,\"showlakes\":true,\"lakecolor\":\"white\"},\"title\":{\"x\":0.05},\"mapbox\":{\"style\":\"light\"}}},\"xaxis\":{\"anchor\":\"y\",\"domain\":[0.0,1.0],\"title\":{\"text\":\"Orientation [rad]\"}},\"yaxis\":{\"anchor\":\"x\",\"domain\":[0.0,1.0],\"title\":{\"text\":\"Count (N=46)\"}},\"legend\":{\"title\":{\"text\":\"variable\"},\"tracegroupgap\":0},\"title\":{\"text\":\"Cell orientation along x-axis\"},\"barmode\":\"relative\",\"bargap\":0.2},                        {\"responsive\": true}                    ).then(function(){\n",
       "                            \n",
       "var gd = document.getElementById('d13c7b85-e320-4d38-a613-65e94f835cbb');\n",
       "var x = new MutationObserver(function (mutations, observer) {{\n",
       "        var display = window.getComputedStyle(gd).display;\n",
       "        if (!display || display === 'none') {{\n",
       "            console.log([gd, 'removed!']);\n",
       "            Plotly.purge(gd);\n",
       "            observer.disconnect();\n",
       "        }}\n",
       "}});\n",
       "\n",
       "// Listen for the removal of the full notebook cells\n",
       "var notebookContainer = gd.closest('#notebook-container');\n",
       "if (notebookContainer) {{\n",
       "    x.observe(notebookContainer, {childList: true});\n",
       "}}\n",
       "\n",
       "// Listen for the clearing of the current output cell\n",
       "var outputEl = gd.closest('.output');\n",
       "if (outputEl) {{\n",
       "    x.observe(outputEl, {childList: true});\n",
       "}}\n",
       "\n",
       "                        })                };                });            </script>        </div>"
      ]
     },
     "metadata": {},
     "output_type": "display_data"
    }
   ],
   "source": [
    "# Plot histograms of some cell properties\n",
    "fig = px.histogram(angles[990], \n",
    "    title=\"Cell orientation along x-axis\")\n",
    "fig.update_layout(bargap=0.2,\n",
    "    xaxis={\"title\":  \"Orientation [rad]\"},\n",
    "    yaxis={\"title\":  \"Count (N=%d)\"%(len(angles[990]))})\n",
    "fig.show()"
   ]
  },
  {
   "cell_type": "code",
   "execution_count": null,
   "metadata": {},
   "outputs": [],
   "source": [
    "# Plot histograms of some cell properties\n",
    "\n",
    "# Length\n",
    "plt.figure(figsize=(5,3.5))\n",
    "plt.title('Cell length')\n",
    "plt.hist(lengths, edgecolor='black', color='gray')\n",
    "plt.xlabel('$\\mu m$')\n",
    "plt.ylabel('Count (N=%d)'%(len(cs)))\n",
    "plt.savefig(join_paths(out_dir_path, 'length_hist.pdf'), dpi=300)\n",
    "\n",
    "# Distance from origin\n",
    "plt.figure(figsize=(5,3.5))\n",
    "plt.title('Distance from origin')\n",
    "plt.hist(np.sqrt(pos[:,0]**2+pos[:,1]**2), edgecolor='black', color='gray')\n",
    "plt.xlabel('$\\mu m$')\n",
    "plt.ylabel('Count (N=%d)'%(len(cs)))\n",
    "plt.savefig(join_paths(out_dir_path, 'pos_hist.pdf'), dpi=300)"
   ]
  },
  {
   "cell_type": "markdown",
   "metadata": {},
   "source": [
    "## References\n",
    "We report here relevant references:\n",
    "1. https://github.com/cellmodeller/CellModeller\n",
    "2. "
   ]
  }
 ],
 "metadata": {
  "kernelspec": {
   "display_name": "Python 3.10.6 ('cellmodeller': conda)",
   "language": "python",
   "name": "python3"
  },
  "language_info": {
   "codemirror_mode": {
    "name": "ipython",
    "version": 3
   },
   "file_extension": ".py",
   "mimetype": "text/x-python",
   "name": "python",
   "nbconvert_exporter": "python",
   "pygments_lexer": "ipython3",
   "version": "3.10.6"
  },
  "vscode": {
   "interpreter": {
    "hash": "0a70ad87fbfe2d5edb3b77ada29a78667d32ffdf01d6d3ad8a40b9cb449f924a"
   }
  }
 },
 "nbformat": 4,
 "nbformat_minor": 2
}
