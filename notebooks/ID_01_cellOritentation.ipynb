{
 "cells": [
  {
   "cell_type": "markdown",
   "metadata": {},
   "source": [
    "# Analysis of bacterial cell oritetation in microchannels\n",
    "Analyse cell oritentation distribution in microchannels simulated with `CellModeller` [1].\n",
    "\n",
    "## Purpose\n",
    "Compare simualtion and experimental cell oritentation data to calibrate simulation parameters.\n",
    "\n",
    "## Methodology\n",
    "1. Read `.pickle` file into dictionary with `pickle` module.\n",
    "2. Plot cell oritentation histogram for each simulation step.\n",
    "3. Coallete all histograms into one interactive figure.\n",
    "\n",
    "## WIP - improvements\n",
    "Use this section only if the notebook is not final.\n",
    "\n",
    "## Notable TODOs:\n",
    "\n",
    "- Load multiple `.pickle` files. Store in a dictionary `{simulation_step: cell_state}`\n",
    "- Plot oritentation histogram for each simulation step.\n",
    "- Use `plotly` to visualize multiple steps in one figure.\n",
    "\n",
    "## Results\n",
    "`norm` - cell orientation vector. **Note** Already normalized. \n",
    "\n",
    "## Suggested next steps\n",
    "- Load, process and analyse experimetal data\n",
    "- Compare experimetal and simualtion data plots"
   ]
  },
  {
   "cell_type": "markdown",
   "metadata": {},
   "source": [
    "# Setup\n",
    "## Library import"
   ]
  },
  {
   "cell_type": "code",
   "execution_count": null,
   "metadata": {},
   "outputs": [],
   "source": [
    "import os\n",
    "from os.path import join as join_paths, basename as get_basename\n",
    "import glob\n",
    "\n",
    "import pickle\n",
    "import numpy as np"
   ]
  },
  {
   "cell_type": "code",
   "execution_count": null,
   "metadata": {},
   "outputs": [],
   "source": [
    "os.chdir(\"/home/i/igors-dubanevics/projects/bacteria-microchannel/cellmodeller\")\n",
    "os.getcwd()"
   ]
  },
  {
   "cell_type": "markdown",
   "metadata": {},
   "source": [
    "## Parameter definition"
   ]
  },
  {
   "cell_type": "code",
   "execution_count": null,
   "metadata": {},
   "outputs": [],
   "source": [
    "data_dir_path = \"data/simpleGrowth2D_microchannel-22-11-10-16-20\"\n",
    "\n",
    "out_dir_path = join_paths(\"scratch\", get_basename(data_dir_path))\n",
    "os.makedirs(out_dir_path, exist_ok=True)"
   ]
  },
  {
   "cell_type": "markdown",
   "metadata": {},
   "source": [
    "## Data import"
   ]
  },
  {
   "cell_type": "code",
   "execution_count": null,
   "metadata": {},
   "outputs": [],
   "source": [
    "# Store data in a dictionary of form {step_number: cell_state}\n",
    "cell_states = {}\n",
    "\n",
    "# Get data from saved pickle files\n",
    "for filename in glob.glob(join_paths(data_dir_path, 'step-00*.pickle')):\n",
    "    # Extract simualtion step number from a filename\n",
    "    step_num = int(get_basename(filename).replace(\".pickle\",\"\").replace(\"step-\",\"\"))\n",
    "    data = pickle.load(open(filename,'rb'))\n",
    "    cs = data['cellStates']\n",
    "    cell_states[step_num] = cs"
   ]
  },
  {
   "cell_type": "markdown",
   "metadata": {},
   "source": [
    "## Data processing"
   ]
  },
  {
   "cell_type": "code",
   "execution_count": null,
   "metadata": {},
   "outputs": [],
   "source": [
    "lengths = {}\n",
    "postions = {}\n",
    "oritents = {}\n",
    "\n",
    "for step_num, cell_state in cell_states.items():\n",
    "    # Make some convenient data arrays from cell properties\n",
    "    length = np.array([cell.length for (id,cell) in cell_state.items()])\n",
    "    pos = np.array([cell.pos for (id,cell) in cell_state.items()])\n",
    "    orient = np.array([cell.dir for (id,cell) in cell_state.items()])\n",
    "\n",
    "    lengths[step_num] = length\n",
    "    postions[step_num] = pos\n",
    "    oritents[step_num] = orient\n"
   ]
  },
  {
   "cell_type": "code",
   "execution_count": null,
   "metadata": {},
   "outputs": [],
   "source": [
    "x_norm = np.array((1,0,0), dtype=float)\n",
    "inner_prods = np.inner(x_norm,norm)\n",
    "angles = np.arccos(inner_prods)"
   ]
  },
  {
   "cell_type": "code",
   "execution_count": null,
   "metadata": {},
   "outputs": [],
   "source": [
    "angles"
   ]
  },
  {
   "cell_type": "code",
   "execution_count": null,
   "metadata": {},
   "outputs": [],
   "source": [
    "import matplotlib\n",
    "from matplotlib import pyplot as plt\n",
    "%matplotlib inline\n",
    "import numpy as np\n",
    "\n",
    "# Plot the position and orientation of each cell\n",
    "plt.figure(figsize=(7,1.2))\n",
    "plt.plot(pos[:,0], pos[:,1], 'o')\n",
    "plt.quiver(pos[:,0], pos[:,1], norm[:,0], norm[:,1])"
   ]
  },
  {
   "cell_type": "code",
   "execution_count": null,
   "metadata": {},
   "outputs": [],
   "source": [
    "# Plot histograms of some cell properties\n",
    "\n",
    "# Length\n",
    "plt.figure(figsize=(5,3.5))\n",
    "plt.title('Cell orientation')\n",
    "plt.hist(angles, edgecolor='black', color='gray')\n",
    "plt.xlabel('radians')\n",
    "plt.ylabel('Count (N=%d)'%(len(cs)))\n",
    "plt.savefig(join_paths(out_dir_path,'oritent_hist.pdf'), dpi=300)"
   ]
  },
  {
   "cell_type": "code",
   "execution_count": null,
   "metadata": {},
   "outputs": [],
   "source": [
    "# Plot histograms of some cell properties\n",
    "\n",
    "# Length\n",
    "plt.figure(figsize=(5,3.5))\n",
    "plt.title('Cell length')\n",
    "plt.hist(lengths, edgecolor='black', color='gray')\n",
    "plt.xlabel('$\\mu m$')\n",
    "plt.ylabel('Count (N=%d)'%(len(cs)))\n",
    "plt.savefig(join_paths(out_dir_path, 'length_hist.pdf'), dpi=300)\n",
    "\n",
    "# Distance from origin\n",
    "plt.figure(figsize=(5,3.5))\n",
    "plt.title('Distance from origin')\n",
    "plt.hist(np.sqrt(pos[:,0]**2+pos[:,1]**2), edgecolor='black', color='gray')\n",
    "plt.xlabel('$\\mu m$')\n",
    "plt.ylabel('Count (N=%d)'%(len(cs)))\n",
    "plt.savefig(join_paths(out_dir_path, 'pos_hist.pdf'), dpi=300)"
   ]
  },
  {
   "cell_type": "markdown",
   "metadata": {},
   "source": [
    "## References\n",
    "We report here relevant references:\n",
    "1. https://github.com/cellmodeller/CellModeller\n",
    "2. "
   ]
  }
 ],
 "metadata": {
  "kernelspec": {
   "display_name": "Python 3.10.6 ('cellmodeller': conda)",
   "language": "python",
   "name": "python3"
  },
  "language_info": {
   "codemirror_mode": {
    "name": "ipython",
    "version": 3
   },
   "file_extension": ".py",
   "mimetype": "text/x-python",
   "name": "python",
   "nbconvert_exporter": "python",
   "pygments_lexer": "ipython3",
   "version": "3.10.6"
  },
  "vscode": {
   "interpreter": {
    "hash": "0a70ad87fbfe2d5edb3b77ada29a78667d32ffdf01d6d3ad8a40b9cb449f924a"
   }
  }
 },
 "nbformat": 4,
 "nbformat_minor": 2
}
